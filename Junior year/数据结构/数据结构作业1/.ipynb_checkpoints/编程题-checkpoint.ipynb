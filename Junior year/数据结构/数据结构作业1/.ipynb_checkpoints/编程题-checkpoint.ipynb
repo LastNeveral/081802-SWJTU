{
 "cells": [
  {
   "cell_type": "code",
   "execution_count": 17,
   "id": "d532716c",
   "metadata": {
    "execution": {
     "iopub.execute_input": "2022-11-27T08:25:31.443472Z",
     "iopub.status.busy": "2022-11-27T08:25:31.443472Z",
     "iopub.status.idle": "2022-11-27T08:25:31.456822Z",
     "shell.execute_reply": "2022-11-27T08:25:31.455874Z",
     "shell.execute_reply.started": "2022-11-27T08:25:31.443472Z"
    }
   },
   "outputs": [
    {
     "name": "stdout",
     "output_type": "stream",
     "text": [
      "算例Ⅰ：\n",
      "9 5 5 4 6 5 1 2 \n",
      "max = 9\n",
      "5 5 4 6 5 1 2 \n",
      "算例Ⅱ：\n",
      "1 2 4 5 1 2 4 5 9 \n",
      "max = 9\n",
      "1 2 4 5 1 2 4 5 \n",
      "算例Ⅲ：\n",
      "2 5 4 1 4 2 5 3 \n",
      "max = 5\n",
      "2 5 4 1 4 2 3 \n"
     ]
    }
   ],
   "source": [
    "class Node:\n",
    "    def __init__(self,value):\n",
    "        self.value = value\n",
    "        self.next = None\n",
    "\n",
    "class List:\n",
    "    def __init__(self):\n",
    "        self.head = None\n",
    "    \n",
    "    # 建立一个循环链表，头节点为-1，其后节点为随机得到，n为数量\n",
    "    def create(self,data):\n",
    "        if len(data)<=0:\n",
    "            return\n",
    "        self.head = Node(-1)\n",
    "        t = self.head\n",
    "        for i in data:\n",
    "            t.next = Node(i) # 由1到10的随机\n",
    "            t = t.next\n",
    "        t.next = self.head # 将链表尾部与头部链接\n",
    "            \n",
    "    def show(self):\n",
    "        if self.head.next == None:\n",
    "            print('empty!')\n",
    "            return\n",
    "        p = self.head\n",
    "        while(p.next!=self.head):\n",
    "            p = p.next\n",
    "            print(p.value,end=' ')\n",
    "        print(end='\\n')\n",
    "    \n",
    "    def fun1(self):   \n",
    "        if self.head == None:\n",
    "            print('empty!')\n",
    "            return\n",
    "        p = self.head.next\n",
    "        mmax_p = self.head\n",
    "        while(p.next!=self.head):\n",
    "            if mmax_p.next.value<=p.next.value:\n",
    "                mmax_p = p\n",
    "            p = p.next\n",
    "        print('max = %d'%mmax_p.next.value)\n",
    "        mmax_p.next = mmax_p.next.next\n",
    "\n",
    "\n",
    "if __name__ == \"__main__\":\n",
    "\n",
    "    test_data1 = [9,5,5,4,6,5,1,2]\n",
    "    test_data2 = [1,2,4,5,1,2,4,5,9]\n",
    "    test_data3 = [2,5,4,1,4,2,5,3]\n",
    "    print('算例Ⅰ：')\n",
    "    L1 = List()\n",
    "    L1.create(test_data1)\n",
    "    L1.show()\n",
    "    L1.fun1()\n",
    "    L1.show()\n",
    "    print('算例Ⅱ：')\n",
    "    L2 = List()\n",
    "    L2.create(test_data2)\n",
    "    L2.show()\n",
    "    L2.fun1()\n",
    "    L2.show()\n",
    "    print('算例Ⅲ：')\n",
    "    L3 = List()\n",
    "    L3.create(test_data3)\n",
    "    L3.show()\n",
    "    L3.fun1()\n",
    "    L3.show()"
   ]
  },
  {
   "cell_type": "code",
   "execution_count": null,
   "id": "dfff67a7",
   "metadata": {},
   "outputs": [],
   "source": []
  },
  {
   "cell_type": "code",
   "execution_count": 16,
   "id": "cae5f76f",
   "metadata": {
    "execution": {
     "iopub.execute_input": "2022-11-27T08:23:06.230103Z",
     "iopub.status.busy": "2022-11-27T08:23:06.229105Z",
     "iopub.status.idle": "2022-11-27T08:23:06.240136Z",
     "shell.execute_reply": "2022-11-27T08:23:06.239134Z",
     "shell.execute_reply.started": "2022-11-27T08:23:06.230103Z"
    }
   },
   "outputs": [
    {
     "name": "stdout",
     "output_type": "stream",
     "text": [
      "TRUE\n"
     ]
    }
   ],
   "source": [
    "class Stack:\n",
    "    def __init__(self):\n",
    "        self.data = []\n",
    "        \n",
    "    def empty(self):                \n",
    "        if len(self.data)==0:\n",
    "            return True\n",
    "        return False\n",
    "        \n",
    "    def push(self,e):\n",
    "        self.data.append(e)\n",
    "        \n",
    "    def create(self,data):\n",
    "        if type(data)!=str:\n",
    "            print('typeERROR')\n",
    "            return\n",
    "        for i in data:\n",
    "            self.push(i)\n",
    "    def pop(self):                  #元素出栈\n",
    "        assert not self.empty()     #检测栈为空\n",
    "        return self.data.pop()\n",
    "\n",
    "    def gettop(self):               #取栈顶元素\n",
    "        assert not self.empty()     #检测栈为空\n",
    "        return self.data[len(self.data)-1]\n",
    "    \n",
    "    def fun1(self):\n",
    "        assert not self.empty()     #检测栈为空\n",
    "        p = self\n",
    "        j = []\n",
    "        while p.gettop()!='@':\n",
    "            j.append(p.pop())\n",
    "        p.pop()\n",
    "        if j==p.data:\n",
    "            print('TRUE')\n",
    "        else:\n",
    "            print('FALSE')\n",
    "\n",
    "if __name__ ==\"__main__\":\n",
    "    S1 = Stack()\n",
    "    str1 = 'abc@cba'\n",
    "    S1.create(str1)\n",
    "    S1.fun1()\n",
    "    str2 = 'abc@cba'"
   ]
  },
  {
   "cell_type": "code",
   "execution_count": 13,
   "id": "f0fba4e9",
   "metadata": {
    "execution": {
     "iopub.execute_input": "2022-11-27T08:21:51.875115Z",
     "iopub.status.busy": "2022-11-27T08:21:51.874088Z",
     "iopub.status.idle": "2022-11-27T08:21:51.891084Z",
     "shell.execute_reply": "2022-11-27T08:21:51.891084Z",
     "shell.execute_reply.started": "2022-11-27T08:21:51.875115Z"
    }
   },
   "outputs": [
    {
     "data": {
      "text/plain": [
       "True"
      ]
     },
     "execution_count": 13,
     "metadata": {},
     "output_type": "execute_result"
    }
   ],
   "source": []
  },
  {
   "cell_type": "code",
   "execution_count": null,
   "id": "294ce506",
   "metadata": {},
   "outputs": [],
   "source": []
  }
 ],
 "metadata": {
  "kernelspec": {
   "display_name": "Geoox",
   "language": "python",
   "name": "geoox"
  },
  "language_info": {
   "codemirror_mode": {
    "name": "ipython",
    "version": 3
   },
   "file_extension": ".py",
   "mimetype": "text/x-python",
   "name": "python",
   "nbconvert_exporter": "python",
   "pygments_lexer": "ipython3",
   "version": "3.10.4"
  }
 },
 "nbformat": 4,
 "nbformat_minor": 5
}
