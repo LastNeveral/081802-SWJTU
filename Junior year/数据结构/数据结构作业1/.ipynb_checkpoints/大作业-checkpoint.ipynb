{
 "cells": [
  {
   "cell_type": "code",
   "execution_count": null,
   "id": "c0872b6f",
   "metadata": {},
   "outputs": [],
   "source": []
  },
  {
   "cell_type": "code",
   "execution_count": 18,
   "id": "8dc8b987",
   "metadata": {
    "execution": {
     "iopub.execute_input": "2022-10-15T07:13:41.270760Z",
     "iopub.status.busy": "2022-10-15T07:13:41.270760Z",
     "iopub.status.idle": "2022-10-15T07:13:41.285732Z",
     "shell.execute_reply": "2022-10-15T07:13:41.283727Z",
     "shell.execute_reply.started": "2022-10-15T07:13:41.270760Z"
    }
   },
   "outputs": [],
   "source": [
    "class Stack:\n",
    "    def __init__(self):\n",
    "        self.data=[]\n",
    "        \n",
    "    def empty(self):                \n",
    "        if len(self.data)==0:\n",
    "            return True\n",
    "        return False\n",
    "    \n",
    "    def push(self,c):\n",
    "        self.data.append(c)\n",
    "    \n",
    "    def pop(self):\n",
    "        assert not self.empty()\n",
    "        return self.data.pop()\n",
    "    \n",
    "    def gettop(self):\n",
    "        assert not self.empty()\n",
    "        return self.data[len(self.data)-1]"
   ]
  },
  {
   "cell_type": "code",
   "execution_count": 19,
   "id": "96c3a14f",
   "metadata": {
    "execution": {
     "iopub.execute_input": "2022-10-15T07:13:41.701607Z",
     "iopub.status.busy": "2022-10-15T07:13:41.700642Z",
     "iopub.status.idle": "2022-10-15T07:13:41.726547Z",
     "shell.execute_reply": "2022-10-15T07:13:41.725606Z",
     "shell.execute_reply.started": "2022-10-15T07:13:41.701607Z"
    }
   },
   "outputs": [],
   "source": [
    "def match(txt):\n",
    "    s = Stack()\n",
    "    values = []\n",
    "    st = txt.find('<',0)\n",
    "    en = txt.find('>',0)\n",
    "    while st!=-1 and en!=-1:\n",
    "        temp = txt[st+1:en]\n",
    "        if temp.find('/')==-1 and len(temp)!=0:\n",
    "            s.push(temp)\n",
    "        elif temp.find('/')!=-1:\n",
    "            if s.gettop()==temp.strip('/'):\n",
    "                values.append(s.pop())\n",
    "            else:\n",
    "                print('not match')\n",
    "                return\n",
    "        st = txt.find('<',st+1)\n",
    "        en = txt.find('>',en+1)\n",
    "    if s.empty:\n",
    "        print('match succesful')\n",
    "        print(values)"
   ]
  },
  {
   "cell_type": "code",
   "execution_count": 20,
   "id": "fc6a72cc",
   "metadata": {
    "execution": {
     "iopub.execute_input": "2022-10-15T07:13:42.298022Z",
     "iopub.status.busy": "2022-10-15T07:13:42.297015Z",
     "iopub.status.idle": "2022-10-15T07:13:42.312973Z",
     "shell.execute_reply": "2022-10-15T07:13:42.311976Z",
     "shell.execute_reply.started": "2022-10-15T07:13:42.298022Z"
    }
   },
   "outputs": [],
   "source": [
    "with open('data.txt','r') as f:\n",
    "    txt = f.read()\n",
    "    f.close()"
   ]
  },
  {
   "cell_type": "code",
   "execution_count": 21,
   "id": "025b6cfb",
   "metadata": {
    "execution": {
     "iopub.execute_input": "2022-10-15T07:13:42.632153Z",
     "iopub.status.busy": "2022-10-15T07:13:42.631155Z",
     "iopub.status.idle": "2022-10-15T07:13:42.647079Z",
     "shell.execute_reply": "2022-10-15T07:13:42.646113Z",
     "shell.execute_reply.started": "2022-10-15T07:13:42.632153Z"
    }
   },
   "outputs": [
    {
     "name": "stdout",
     "output_type": "stream",
     "text": [
      "match succesful\n",
      "['h1', 'center', 'p', 'li', 'li', 'li', 'ol', 'body']\n"
     ]
    }
   ],
   "source": [
    "if __name__ == '__main__':\n",
    "    \n",
    "    match(txt)"
   ]
  },
  {
   "cell_type": "code",
   "execution_count": null,
   "id": "bc8d2ec2",
   "metadata": {},
   "outputs": [],
   "source": []
  }
 ],
 "metadata": {
  "kernelspec": {
   "display_name": "Geoox",
   "language": "python",
   "name": "geoox"
  },
  "language_info": {
   "codemirror_mode": {
    "name": "ipython",
    "version": 3
   },
   "file_extension": ".py",
   "mimetype": "text/x-python",
   "name": "python",
   "nbconvert_exporter": "python",
   "pygments_lexer": "ipython3",
   "version": "3.10.4"
  }
 },
 "nbformat": 4,
 "nbformat_minor": 5
}
