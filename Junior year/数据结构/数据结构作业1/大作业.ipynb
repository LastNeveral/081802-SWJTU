{
 "cells": [
  {
   "cell_type": "code",
   "execution_count": null,
   "id": "b94adec6",
   "metadata": {},
   "outputs": [],
   "source": []
  },
  {
   "cell_type": "code",
   "execution_count": 1,
   "id": "d3893d86",
   "metadata": {
    "execution": {
     "iopub.execute_input": "2022-12-16T03:09:51.075715Z",
     "iopub.status.busy": "2022-12-16T03:09:51.075715Z",
     "iopub.status.idle": "2022-12-16T03:09:51.095662Z",
     "shell.execute_reply": "2022-12-16T03:09:51.094666Z",
     "shell.execute_reply.started": "2022-12-16T03:09:51.075715Z"
    }
   },
   "outputs": [],
   "source": [
    "class Stack:\n",
    "    def __init__(self):\n",
    "        self.data=[]\n",
    "        \n",
    "    def empty(self):                \n",
    "        if len(self.data)==0:\n",
    "            return True\n",
    "        return False\n",
    "    \n",
    "    def push(self,c):\n",
    "        self.data.append(c)\n",
    "    \n",
    "    def pop(self):\n",
    "        assert not self.empty()\n",
    "        return self.data.pop()\n",
    "    \n",
    "    def gettop(self):\n",
    "        assert not self.empty()\n",
    "        return self.data[len(self.data)-1]"
   ]
  },
  {
   "cell_type": "code",
   "execution_count": 2,
   "id": "4a48563b",
   "metadata": {
    "execution": {
     "iopub.execute_input": "2022-12-16T03:09:51.310160Z",
     "iopub.status.busy": "2022-12-16T03:09:51.310160Z",
     "iopub.status.idle": "2022-12-16T03:09:51.330109Z",
     "shell.execute_reply": "2022-12-16T03:09:51.330109Z",
     "shell.execute_reply.started": "2022-12-16T03:09:51.310160Z"
    }
   },
   "outputs": [],
   "source": [
    "def match(txt):\n",
    "    s = Stack()\n",
    "    values = []\n",
    "    st = txt.find('<',0)\n",
    "    en = txt.find('>',0)\n",
    "    while st!=-1 and en!=-1:\n",
    "        temp = txt[st+1:en]\n",
    "        if temp.find('/')==-1 and len(temp)!=0:\n",
    "            s.push(temp)\n",
    "        elif temp.find('/')!=-1:\n",
    "            if s.gettop()==temp.strip('/'):\n",
    "                values.append(s.pop())\n",
    "            else:\n",
    "                print('not match')\n",
    "                return\n",
    "        st = txt.find('<',st+1)\n",
    "        en = txt.find('>',en+1)\n",
    "    if s.empty:\n",
    "        print('match succesful')\n",
    "        print(values)"
   ]
  },
  {
   "cell_type": "code",
   "execution_count": null,
   "id": "e6d2aa84",
   "metadata": {},
   "outputs": [],
   "source": []
  },
  {
   "cell_type": "code",
   "execution_count": 6,
   "id": "319fab2d",
   "metadata": {
    "execution": {
     "iopub.execute_input": "2022-11-27T08:37:26.235465Z",
     "iopub.status.busy": "2022-11-27T08:37:26.235465Z",
     "iopub.status.idle": "2022-11-27T08:37:26.253417Z",
     "shell.execute_reply": "2022-11-27T08:37:26.252489Z",
     "shell.execute_reply.started": "2022-11-27T08:37:26.235465Z"
    }
   },
   "outputs": [
    {
     "name": "stdout",
     "output_type": "stream",
     "text": [
      "match succesful\n",
      "['h1', 'center', 'p', 'li', 'li', 'li', 'ol', 'body']\n"
     ]
    }
   ],
   "source": [
    "if __name__ == '__main__':\n",
    "    with open('data.txt','r') as f:\n",
    "        txt = f.read()\n",
    "        f.close()\n",
    "    match(txt)"
   ]
  },
  {
   "cell_type": "code",
   "execution_count": null,
   "id": "62245e75",
   "metadata": {},
   "outputs": [],
   "source": []
  }
 ],
 "metadata": {
  "kernelspec": {
   "display_name": "Geoox",
   "language": "python",
   "name": "geoox"
  },
  "language_info": {
   "codemirror_mode": {
    "name": "ipython",
    "version": 3
   },
   "file_extension": ".py",
   "mimetype": "text/x-python",
   "name": "python",
   "nbconvert_exporter": "python",
   "pygments_lexer": "ipython3",
   "version": "3.10.4"
  }
 },
 "nbformat": 4,
 "nbformat_minor": 5
}
