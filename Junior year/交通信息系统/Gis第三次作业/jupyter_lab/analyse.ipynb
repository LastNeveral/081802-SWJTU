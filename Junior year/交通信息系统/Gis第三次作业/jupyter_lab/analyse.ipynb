{
 "cells": [
  {
   "cell_type": "code",
   "execution_count": 1,
   "id": "87a2bc74",
   "metadata": {
    "execution": {
     "iopub.execute_input": "2022-12-05T16:53:22.883938Z",
     "iopub.status.busy": "2022-12-05T16:53:22.882938Z",
     "iopub.status.idle": "2022-12-05T16:53:31.609519Z",
     "shell.execute_reply": "2022-12-05T16:53:31.606885Z",
     "shell.execute_reply.started": "2022-12-05T16:53:22.883938Z"
    }
   },
   "outputs": [],
   "source": [
    "import networkx as nx  # pip install networkx\n",
    "import matplotlib.pyplot as plt  # pip install matplotlib\n",
    "import pandas as pd"
   ]
  },
  {
   "cell_type": "code",
   "execution_count": 2,
   "id": "2a8f48d8",
   "metadata": {
    "execution": {
     "iopub.execute_input": "2022-12-05T16:53:31.613985Z",
     "iopub.status.busy": "2022-12-05T16:53:31.612628Z",
     "iopub.status.idle": "2022-12-05T16:53:38.278258Z",
     "shell.execute_reply": "2022-12-05T16:53:38.276345Z",
     "shell.execute_reply.started": "2022-12-05T16:53:31.613985Z"
    }
   },
   "outputs": [
    {
     "name": "stderr",
     "output_type": "stream",
     "text": [
      "C:\\Users\\Mr.Liu\\AppData\\Local\\Temp\\ipykernel_4452\\292642097.py:1: DeprecationWarning: read_shp is deprecated and will be removed in 3.0.See https://networkx.org/documentation/latest/auto_examples/index.html#geospatial.\n",
      "  G=nx.read_shp('../郫都数据/edges_pidu.shp')\n"
     ]
    },
    {
     "ename": "RuntimeError",
     "evalue": "Unable to open ../郫都数据/edges_pidu.shp",
     "output_type": "error",
     "traceback": [
      "\u001b[1;31m---------------------------------------------------------------------------\u001b[0m",
      "\u001b[1;31mRuntimeError\u001b[0m                              Traceback (most recent call last)",
      "Input \u001b[1;32mIn [2]\u001b[0m, in \u001b[0;36m<cell line: 1>\u001b[1;34m()\u001b[0m\n\u001b[1;32m----> 1\u001b[0m G\u001b[38;5;241m=\u001b[39m\u001b[43mnx\u001b[49m\u001b[38;5;241;43m.\u001b[39;49m\u001b[43mread_shp\u001b[49m\u001b[43m(\u001b[49m\u001b[38;5;124;43m'\u001b[39;49m\u001b[38;5;124;43m../郫都数据/edges_pidu.shp\u001b[39;49m\u001b[38;5;124;43m'\u001b[39;49m\u001b[43m)\u001b[49m\n",
      "File \u001b[1;32mE:\\anaconda\\envs\\ox\\lib\\site-packages\\networkx\\readwrite\\nx_shp.py:102\u001b[0m, in \u001b[0;36mread_shp\u001b[1;34m(path, simplify, geom_attrs, strict)\u001b[0m\n\u001b[0;32m    100\u001b[0m shp \u001b[38;5;241m=\u001b[39m ogr\u001b[38;5;241m.\u001b[39mOpen(path)\n\u001b[0;32m    101\u001b[0m \u001b[38;5;28;01mif\u001b[39;00m shp \u001b[38;5;129;01mis\u001b[39;00m \u001b[38;5;28;01mNone\u001b[39;00m:\n\u001b[1;32m--> 102\u001b[0m     \u001b[38;5;28;01mraise\u001b[39;00m \u001b[38;5;167;01mRuntimeError\u001b[39;00m(\u001b[38;5;124mf\u001b[39m\u001b[38;5;124m\"\u001b[39m\u001b[38;5;124mUnable to open \u001b[39m\u001b[38;5;132;01m{\u001b[39;00mpath\u001b[38;5;132;01m}\u001b[39;00m\u001b[38;5;124m\"\u001b[39m)\n\u001b[0;32m    103\u001b[0m \u001b[38;5;28;01mfor\u001b[39;00m lyr \u001b[38;5;129;01min\u001b[39;00m shp:\n\u001b[0;32m    104\u001b[0m     fields \u001b[38;5;241m=\u001b[39m [x\u001b[38;5;241m.\u001b[39mGetName() \u001b[38;5;28;01mfor\u001b[39;00m x \u001b[38;5;129;01min\u001b[39;00m lyr\u001b[38;5;241m.\u001b[39mschema]\n",
      "\u001b[1;31mRuntimeError\u001b[0m: Unable to open ../郫都数据/edges_pidu.shp"
     ]
    }
   ],
   "source": [
    "G=nx.read_shp('../郫都数据/edges_pidu.shp')"
   ]
  },
  {
   "cell_type": "code",
   "execution_count": null,
   "id": "38cfcf60",
   "metadata": {
    "execution": {
     "iopub.status.busy": "2022-12-05T16:53:38.279254Z",
     "iopub.status.idle": "2022-12-05T16:53:38.280281Z",
     "shell.execute_reply": "2022-12-05T16:53:38.279254Z",
     "shell.execute_reply.started": "2022-12-05T16:53:38.279254Z"
    }
   },
   "outputs": [],
   "source": [
    "pos = {k: v for k,v in enumerate(G.nodes())}"
   ]
  },
  {
   "cell_type": "code",
   "execution_count": null,
   "id": "dcb713e0",
   "metadata": {
    "execution": {
     "iopub.status.busy": "2022-12-05T16:53:38.281249Z",
     "iopub.status.idle": "2022-12-05T16:53:38.282387Z",
     "shell.execute_reply": "2022-12-05T16:53:38.282387Z",
     "shell.execute_reply.started": "2022-12-05T16:53:38.282387Z"
    }
   },
   "outputs": [],
   "source": [
    "X=nx.Graph() #Empty graph\n",
    "X.add_nodes_from(pos.keys())"
   ]
  },
  {
   "cell_type": "code",
   "execution_count": null,
   "id": "7d893b7b",
   "metadata": {
    "execution": {
     "iopub.status.busy": "2022-12-05T16:53:38.285411Z",
     "iopub.status.idle": "2022-12-05T16:53:38.285411Z",
     "shell.execute_reply": "2022-12-05T16:53:38.285411Z",
     "shell.execute_reply.started": "2022-12-05T16:53:38.285411Z"
    }
   },
   "outputs": [],
   "source": [
    "l=[set(x) for x in G.edges()]"
   ]
  },
  {
   "cell_type": "code",
   "execution_count": null,
   "id": "7479ed38",
   "metadata": {
    "execution": {
     "iopub.status.busy": "2022-12-05T16:53:38.288804Z",
     "iopub.status.idle": "2022-12-05T16:53:38.289803Z",
     "shell.execute_reply": "2022-12-05T16:53:38.289803Z",
     "shell.execute_reply.started": "2022-12-05T16:53:38.289803Z"
    }
   },
   "outputs": [],
   "source": [
    "edg=[tuple(k for k,v in pos.items() if v in sl) for sl in l]"
   ]
  },
  {
   "cell_type": "code",
   "execution_count": null,
   "id": "6421dbcb",
   "metadata": {
    "execution": {
     "iopub.status.busy": "2022-12-05T16:53:38.291795Z",
     "iopub.status.idle": "2022-12-05T16:53:38.292792Z",
     "shell.execute_reply": "2022-12-05T16:53:38.291795Z",
     "shell.execute_reply.started": "2022-12-05T16:53:38.291795Z"
    }
   },
   "outputs": [],
   "source": [
    "for i in edg:\n",
    "    if len(i)==1:\n",
    "        edg.remove(i)"
   ]
  },
  {
   "cell_type": "code",
   "execution_count": null,
   "id": "13389c77",
   "metadata": {
    "execution": {
     "iopub.status.busy": "2022-12-05T16:53:38.294785Z",
     "iopub.status.idle": "2022-12-05T16:53:38.295783Z",
     "shell.execute_reply": "2022-12-05T16:53:38.294785Z",
     "shell.execute_reply.started": "2022-12-05T16:53:38.294785Z"
    }
   },
   "outputs": [],
   "source": [
    "nx.draw_networkx_nodes(X,pos,node_size=10,node_color='b')\n",
    "X.add_edges_from(edg)\n",
    "nx.draw_networkx_edges(X,pos)"
   ]
  },
  {
   "cell_type": "code",
   "execution_count": null,
   "id": "7710e646",
   "metadata": {},
   "outputs": [],
   "source": [
    "nx.draw_networkx_edges(X,pos)\n",
    "plt.title('From shapefiles to NetworkX')\n",
    "plt.show()"
   ]
  },
  {
   "cell_type": "code",
   "execution_count": null,
   "id": "b2713ed1",
   "metadata": {},
   "outputs": [],
   "source": [
    "dict_info = dict(nx.degree(X))"
   ]
  },
  {
   "cell_type": "code",
   "execution_count": null,
   "id": "8ccc4297",
   "metadata": {},
   "outputs": [],
   "source": [
    "new_list=[[key,values] for key,values in dict_info.items()]"
   ]
  },
  {
   "cell_type": "code",
   "execution_count": null,
   "id": "4aac050b",
   "metadata": {},
   "outputs": [],
   "source": [
    "new_pos = [[key,values] for key,values in pos.items()]\n",
    "ps=pd.DataFrame(new_pos)\n",
    "ps.to_csv(\"pos.csv\",index=False,header=False)"
   ]
  },
  {
   "cell_type": "code",
   "execution_count": null,
   "id": "30cde266",
   "metadata": {},
   "outputs": [],
   "source": [
    "pf=pd.DataFrame(new_list)\n",
    "pf.to_csv(\"node.csv\",index=False,header=False)"
   ]
  },
  {
   "cell_type": "code",
   "execution_count": null,
   "id": "637af70e",
   "metadata": {},
   "outputs": [],
   "source": [
    "print(nx.density(X)) "
   ]
  },
  {
   "cell_type": "code",
   "execution_count": null,
   "id": "1e67d285",
   "metadata": {},
   "outputs": [],
   "source": [
    "print(nx.clustering(nx.Graph(G)))"
   ]
  },
  {
   "cell_type": "code",
   "execution_count": null,
   "id": "4c43f67b",
   "metadata": {},
   "outputs": [],
   "source": [
    "import networkx as nx\n",
    "print(nx.clustering(nx.Graph(G)))  #聚类系数"
   ]
  },
  {
   "cell_type": "code",
   "execution_count": null,
   "id": "8ca0f6c4",
   "metadata": {},
   "outputs": [],
   "source": []
  },
  {
   "cell_type": "code",
   "execution_count": null,
   "id": "770ba27b",
   "metadata": {},
   "outputs": [],
   "source": []
  },
  {
   "cell_type": "code",
   "execution_count": null,
   "id": "daf61822",
   "metadata": {},
   "outputs": [],
   "source": [
    "\n",
    "\n"
   ]
  },
  {
   "cell_type": "code",
   "execution_count": null,
   "id": "c73baf6d",
   "metadata": {},
   "outputs": [],
   "source": []
  }
 ],
 "metadata": {
  "kernelspec": {
   "display_name": "Geoox",
   "language": "python",
   "name": "geoox"
  },
  "language_info": {
   "codemirror_mode": {
    "name": "ipython",
    "version": 3
   },
   "file_extension": ".py",
   "mimetype": "text/x-python",
   "name": "python",
   "nbconvert_exporter": "python",
   "pygments_lexer": "ipython3",
   "version": "3.10.4"
  }
 },
 "nbformat": 4,
 "nbformat_minor": 5
}
