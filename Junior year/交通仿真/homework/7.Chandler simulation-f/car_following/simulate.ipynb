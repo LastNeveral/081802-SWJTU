{
 "cells": [
  {
   "cell_type": "code",
   "execution_count": 1,
   "id": "1c4cb4c0",
   "metadata": {
    "execution": {
     "iopub.execute_input": "2023-05-02T14:02:38.722675Z",
     "iopub.status.busy": "2023-05-02T14:02:38.721677Z",
     "iopub.status.idle": "2023-05-02T14:02:39.444349Z",
     "shell.execute_reply": "2023-05-02T14:02:39.443551Z",
     "shell.execute_reply.started": "2023-05-02T14:02:38.722675Z"
    }
   },
   "outputs": [],
   "source": [
    "import pandas as pd\n",
    "import numpy as np"
   ]
  },
  {
   "cell_type": "code",
   "execution_count": 2,
   "id": "54f9c9ed",
   "metadata": {
    "execution": {
     "iopub.execute_input": "2023-05-02T14:02:39.446342Z",
     "iopub.status.busy": "2023-05-02T14:02:39.446342Z",
     "iopub.status.idle": "2023-05-02T14:02:41.791947Z",
     "shell.execute_reply": "2023-05-02T14:02:41.791310Z",
     "shell.execute_reply.started": "2023-05-02T14:02:39.446342Z"
    }
   },
   "outputs": [],
   "source": [
    "datas = pd.read_excel('Lead+car+data.xlsx')"
   ]
  },
  {
   "cell_type": "code",
   "execution_count": 3,
   "id": "b7f4fd09",
   "metadata": {
    "execution": {
     "iopub.execute_input": "2023-05-02T14:02:41.793943Z",
     "iopub.status.busy": "2023-05-02T14:02:41.792946Z",
     "iopub.status.idle": "2023-05-02T14:02:41.822750Z",
     "shell.execute_reply": "2023-05-02T14:02:41.821869Z",
     "shell.execute_reply.started": "2023-05-02T14:02:41.793943Z"
    }
   },
   "outputs": [
    {
     "data": {
      "text/html": [
       "<div>\n",
       "<style scoped>\n",
       "    .dataframe tbody tr th:only-of-type {\n",
       "        vertical-align: middle;\n",
       "    }\n",
       "\n",
       "    .dataframe tbody tr th {\n",
       "        vertical-align: top;\n",
       "    }\n",
       "\n",
       "    .dataframe thead th {\n",
       "        text-align: right;\n",
       "    }\n",
       "</style>\n",
       "<table border=\"1\" class=\"dataframe\">\n",
       "  <thead>\n",
       "    <tr style=\"text-align: right;\">\n",
       "      <th></th>\n",
       "      <th>Time (second)</th>\n",
       "      <th>Position (meter) of lead car</th>\n",
       "      <th>speed of lead car</th>\n",
       "      <th>Position (meter) of follow car</th>\n",
       "      <th>speed of follow car</th>\n",
       "      <th>acceleration</th>\n",
       "    </tr>\n",
       "  </thead>\n",
       "  <tbody>\n",
       "    <tr>\n",
       "      <th>0</th>\n",
       "      <td>0</td>\n",
       "      <td>2000</td>\n",
       "      <td>0</td>\n",
       "      <td>-102.0</td>\n",
       "      <td>0.0</td>\n",
       "      <td>NaN</td>\n",
       "    </tr>\n",
       "    <tr>\n",
       "      <th>1</th>\n",
       "      <td>1</td>\n",
       "      <td>2000</td>\n",
       "      <td>0</td>\n",
       "      <td>NaN</td>\n",
       "      <td>NaN</td>\n",
       "      <td>NaN</td>\n",
       "    </tr>\n",
       "    <tr>\n",
       "      <th>2</th>\n",
       "      <td>2</td>\n",
       "      <td>2000</td>\n",
       "      <td>0</td>\n",
       "      <td>NaN</td>\n",
       "      <td>NaN</td>\n",
       "      <td>NaN</td>\n",
       "    </tr>\n",
       "    <tr>\n",
       "      <th>3</th>\n",
       "      <td>3</td>\n",
       "      <td>2000</td>\n",
       "      <td>0</td>\n",
       "      <td>NaN</td>\n",
       "      <td>NaN</td>\n",
       "      <td>NaN</td>\n",
       "    </tr>\n",
       "    <tr>\n",
       "      <th>4</th>\n",
       "      <td>4</td>\n",
       "      <td>2000</td>\n",
       "      <td>0</td>\n",
       "      <td>NaN</td>\n",
       "      <td>NaN</td>\n",
       "      <td>NaN</td>\n",
       "    </tr>\n",
       "    <tr>\n",
       "      <th>...</th>\n",
       "      <td>...</td>\n",
       "      <td>...</td>\n",
       "      <td>...</td>\n",
       "      <td>...</td>\n",
       "      <td>...</td>\n",
       "      <td>...</td>\n",
       "    </tr>\n",
       "    <tr>\n",
       "      <th>496</th>\n",
       "      <td>496</td>\n",
       "      <td>9300</td>\n",
       "      <td>0</td>\n",
       "      <td>NaN</td>\n",
       "      <td>NaN</td>\n",
       "      <td>NaN</td>\n",
       "    </tr>\n",
       "    <tr>\n",
       "      <th>497</th>\n",
       "      <td>497</td>\n",
       "      <td>9300</td>\n",
       "      <td>0</td>\n",
       "      <td>NaN</td>\n",
       "      <td>NaN</td>\n",
       "      <td>NaN</td>\n",
       "    </tr>\n",
       "    <tr>\n",
       "      <th>498</th>\n",
       "      <td>498</td>\n",
       "      <td>9300</td>\n",
       "      <td>0</td>\n",
       "      <td>NaN</td>\n",
       "      <td>NaN</td>\n",
       "      <td>NaN</td>\n",
       "    </tr>\n",
       "    <tr>\n",
       "      <th>499</th>\n",
       "      <td>499</td>\n",
       "      <td>9300</td>\n",
       "      <td>0</td>\n",
       "      <td>NaN</td>\n",
       "      <td>NaN</td>\n",
       "      <td>NaN</td>\n",
       "    </tr>\n",
       "    <tr>\n",
       "      <th>500</th>\n",
       "      <td>500</td>\n",
       "      <td>9300</td>\n",
       "      <td>0</td>\n",
       "      <td>NaN</td>\n",
       "      <td>NaN</td>\n",
       "      <td>NaN</td>\n",
       "    </tr>\n",
       "  </tbody>\n",
       "</table>\n",
       "<p>501 rows × 6 columns</p>\n",
       "</div>"
      ],
      "text/plain": [
       "     Time (second)  Position (meter) of lead car  speed of lead car  \\\n",
       "0                0                          2000                  0   \n",
       "1                1                          2000                  0   \n",
       "2                2                          2000                  0   \n",
       "3                3                          2000                  0   \n",
       "4                4                          2000                  0   \n",
       "..             ...                           ...                ...   \n",
       "496            496                          9300                  0   \n",
       "497            497                          9300                  0   \n",
       "498            498                          9300                  0   \n",
       "499            499                          9300                  0   \n",
       "500            500                          9300                  0   \n",
       "\n",
       "     Position (meter) of follow car  speed of follow car  acceleration  \n",
       "0                            -102.0                  0.0           NaN  \n",
       "1                               NaN                  NaN           NaN  \n",
       "2                               NaN                  NaN           NaN  \n",
       "3                               NaN                  NaN           NaN  \n",
       "4                               NaN                  NaN           NaN  \n",
       "..                              ...                  ...           ...  \n",
       "496                             NaN                  NaN           NaN  \n",
       "497                             NaN                  NaN           NaN  \n",
       "498                             NaN                  NaN           NaN  \n",
       "499                             NaN                  NaN           NaN  \n",
       "500                             NaN                  NaN           NaN  \n",
       "\n",
       "[501 rows x 6 columns]"
      ]
     },
     "execution_count": 3,
     "metadata": {},
     "output_type": "execute_result"
    }
   ],
   "source": [
    "datas"
   ]
  },
  {
   "cell_type": "code",
   "execution_count": 4,
   "id": "9ca509f9",
   "metadata": {
    "execution": {
     "iopub.execute_input": "2023-05-02T14:02:41.823744Z",
     "iopub.status.busy": "2023-05-02T14:02:41.823744Z",
     "iopub.status.idle": "2023-05-02T14:02:42.178893Z",
     "shell.execute_reply": "2023-05-02T14:02:42.177919Z",
     "shell.execute_reply.started": "2023-05-02T14:02:41.823744Z"
    }
   },
   "outputs": [],
   "source": [
    "for i in range(0,500):\n",
    "\n",
    "\n",
    "    datas.iloc[i,5] = datas.iloc[i,2] - datas.iloc[i,4]\n",
    "    datas.iloc[i+1,4] = datas.iloc[i,4]+datas.iloc[i,5]\n",
    "\n",
    "    datas.iloc[i+1,3] = datas.iloc[i,3]+datas.iloc[i+1,4]\n"
   ]
  },
  {
   "cell_type": "code",
   "execution_count": 5,
   "id": "4a8419b8",
   "metadata": {
    "execution": {
     "iopub.execute_input": "2023-05-02T14:02:43.953504Z",
     "iopub.status.busy": "2023-05-02T14:02:43.952504Z",
     "iopub.status.idle": "2023-05-02T14:02:44.112812Z",
     "shell.execute_reply": "2023-05-02T14:02:44.111490Z",
     "shell.execute_reply.started": "2023-05-02T14:02:43.953504Z"
    }
   },
   "outputs": [],
   "source": [
    "datas.to_excel('output.xlsx',index  =False)"
   ]
  },
  {
   "cell_type": "code",
   "execution_count": null,
   "id": "0a4b2a2d",
   "metadata": {},
   "outputs": [],
   "source": []
  },
  {
   "cell_type": "code",
   "execution_count": null,
   "id": "2dbd0948",
   "metadata": {},
   "outputs": [],
   "source": []
  },
  {
   "cell_type": "code",
   "execution_count": null,
   "id": "3b9470d1",
   "metadata": {},
   "outputs": [],
   "source": []
  }
 ],
 "metadata": {
  "kernelspec": {
   "display_name": "Python 3 (ipykernel)",
   "language": "python",
   "name": "python3"
  },
  "language_info": {
   "codemirror_mode": {
    "name": "ipython",
    "version": 3
   },
   "file_extension": ".py",
   "mimetype": "text/x-python",
   "name": "python",
   "nbconvert_exporter": "python",
   "pygments_lexer": "ipython3",
   "version": "3.9.7"
  }
 },
 "nbformat": 4,
 "nbformat_minor": 5
}
