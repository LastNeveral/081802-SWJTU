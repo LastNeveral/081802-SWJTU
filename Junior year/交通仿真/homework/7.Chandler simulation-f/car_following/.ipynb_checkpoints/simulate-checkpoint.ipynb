{
 "cells": [
  {
   "cell_type": "code",
   "execution_count": 2,
   "id": "8b51a74b",
   "metadata": {
    "execution": {
     "iopub.execute_input": "2023-04-01T03:06:55.928349Z",
     "iopub.status.busy": "2023-04-01T03:06:55.927352Z",
     "iopub.status.idle": "2023-04-01T03:06:55.940630Z",
     "shell.execute_reply": "2023-04-01T03:06:55.939502Z",
     "shell.execute_reply.started": "2023-04-01T03:06:55.928349Z"
    }
   },
   "outputs": [],
   "source": [
    "import pandas as pd\n",
    "import numpy as np"
   ]
  },
  {
   "cell_type": "code",
   "execution_count": 8,
   "id": "5b0bebe5",
   "metadata": {
    "execution": {
     "iopub.execute_input": "2023-04-01T03:07:47.855420Z",
     "iopub.status.busy": "2023-04-01T03:07:47.854372Z",
     "iopub.status.idle": "2023-04-01T03:07:47.860909Z",
     "shell.execute_reply": "2023-04-01T03:07:47.859911Z",
     "shell.execute_reply.started": "2023-04-01T03:07:47.855420Z"
    }
   },
   "outputs": [],
   "source": [
    "time = list(range(0,1000,1))"
   ]
  },
  {
   "cell_type": "code",
   "execution_count": null,
   "id": "2a25d84f",
   "metadata": {},
   "outputs": [],
   "source": []
  },
  {
   "cell_type": "code",
   "execution_count": null,
   "id": "79a165c7",
   "metadata": {},
   "outputs": [],
   "source": [
    "# "
   ]
  },
  {
   "cell_type": "code",
   "execution_count": null,
   "id": "db098e6b",
   "metadata": {},
   "outputs": [],
   "source": [
    "for i in range(len(time)):\n",
    "    s[i] = data.iloc[i-1,2]-data.iloc[i-1,1]\n",
    "    smin[i] = car_lenth * (v[i-1]/4.47+1)\n",
    "    if s[i]<smin[i]:\n",
    "        v[i] = max(0,)"
   ]
  },
  {
   "cell_type": "code",
   "execution_count": null,
   "id": "48ea016c",
   "metadata": {},
   "outputs": [],
   "source": []
  },
  {
   "cell_type": "code",
   "execution_count": null,
   "id": "0b3f8be7",
   "metadata": {},
   "outputs": [],
   "source": []
  },
  {
   "cell_type": "code",
   "execution_count": null,
   "id": "0133ea1a",
   "metadata": {},
   "outputs": [],
   "source": []
  },
  {
   "cell_type": "code",
   "execution_count": null,
   "id": "08994c8d",
   "metadata": {},
   "outputs": [],
   "source": []
  },
  {
   "cell_type": "code",
   "execution_count": null,
   "id": "4f3e47a3",
   "metadata": {},
   "outputs": [],
   "source": []
  }
 ],
 "metadata": {
  "kernelspec": {
   "display_name": "Python 3 (ipykernel)",
   "language": "python",
   "name": "python3"
  },
  "language_info": {
   "codemirror_mode": {
    "name": "ipython",
    "version": 3
   },
   "file_extension": ".py",
   "mimetype": "text/x-python",
   "name": "python",
   "nbconvert_exporter": "python",
   "pygments_lexer": "ipython3",
   "version": "3.9.7"
  }
 },
 "nbformat": 4,
 "nbformat_minor": 5
}
