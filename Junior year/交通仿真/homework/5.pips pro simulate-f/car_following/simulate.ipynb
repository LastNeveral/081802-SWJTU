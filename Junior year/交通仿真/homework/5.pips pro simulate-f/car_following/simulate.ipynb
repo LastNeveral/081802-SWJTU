{
 "cells": [
  {
   "cell_type": "code",
   "execution_count": 13,
   "id": "c0f854c5",
   "metadata": {
    "execution": {
     "iopub.execute_input": "2023-05-02T13:23:56.238940Z",
     "iopub.status.busy": "2023-05-02T13:23:56.237942Z",
     "iopub.status.idle": "2023-05-02T13:23:56.242991Z",
     "shell.execute_reply": "2023-05-02T13:23:56.242991Z",
     "shell.execute_reply.started": "2023-05-02T13:23:56.238940Z"
    }
   },
   "outputs": [],
   "source": [
    "import pandas as pd\n",
    "import numpy as np"
   ]
  },
  {
   "cell_type": "code",
   "execution_count": 14,
   "id": "810eff0e",
   "metadata": {
    "execution": {
     "iopub.execute_input": "2023-05-02T13:23:56.563833Z",
     "iopub.status.busy": "2023-05-02T13:23:56.563833Z",
     "iopub.status.idle": "2023-05-02T13:23:56.629997Z",
     "shell.execute_reply": "2023-05-02T13:23:56.629052Z",
     "shell.execute_reply.started": "2023-05-02T13:23:56.563833Z"
    }
   },
   "outputs": [],
   "source": [
    "datas = pd.read_excel('Lead+car+data.xlsx')"
   ]
  },
  {
   "cell_type": "code",
   "execution_count": 15,
   "id": "3496f420",
   "metadata": {
    "execution": {
     "iopub.execute_input": "2023-05-02T13:23:57.297786Z",
     "iopub.status.busy": "2023-05-02T13:23:57.297786Z",
     "iopub.status.idle": "2023-05-02T13:23:57.311014Z",
     "shell.execute_reply": "2023-05-02T13:23:57.311014Z",
     "shell.execute_reply.started": "2023-05-02T13:23:57.297786Z"
    }
   },
   "outputs": [
    {
     "data": {
      "text/html": [
       "<div>\n",
       "<style scoped>\n",
       "    .dataframe tbody tr th:only-of-type {\n",
       "        vertical-align: middle;\n",
       "    }\n",
       "\n",
       "    .dataframe tbody tr th {\n",
       "        vertical-align: top;\n",
       "    }\n",
       "\n",
       "    .dataframe thead th {\n",
       "        text-align: right;\n",
       "    }\n",
       "</style>\n",
       "<table border=\"1\" class=\"dataframe\">\n",
       "  <thead>\n",
       "    <tr style=\"text-align: right;\">\n",
       "      <th></th>\n",
       "      <th>Time (second)</th>\n",
       "      <th>Position (meter) of lead car</th>\n",
       "      <th>speed of lead car</th>\n",
       "      <th>Position (meter) of follow car</th>\n",
       "      <th>speed of follow car</th>\n",
       "      <th>acceleration</th>\n",
       "    </tr>\n",
       "  </thead>\n",
       "  <tbody>\n",
       "    <tr>\n",
       "      <th>0</th>\n",
       "      <td>0</td>\n",
       "      <td>2000</td>\n",
       "      <td>0</td>\n",
       "      <td>-102.0</td>\n",
       "      <td>0.0</td>\n",
       "      <td>NaN</td>\n",
       "    </tr>\n",
       "    <tr>\n",
       "      <th>1</th>\n",
       "      <td>1</td>\n",
       "      <td>2000</td>\n",
       "      <td>0</td>\n",
       "      <td>NaN</td>\n",
       "      <td>NaN</td>\n",
       "      <td>NaN</td>\n",
       "    </tr>\n",
       "    <tr>\n",
       "      <th>2</th>\n",
       "      <td>2</td>\n",
       "      <td>2000</td>\n",
       "      <td>0</td>\n",
       "      <td>NaN</td>\n",
       "      <td>NaN</td>\n",
       "      <td>NaN</td>\n",
       "    </tr>\n",
       "    <tr>\n",
       "      <th>3</th>\n",
       "      <td>3</td>\n",
       "      <td>2000</td>\n",
       "      <td>0</td>\n",
       "      <td>NaN</td>\n",
       "      <td>NaN</td>\n",
       "      <td>NaN</td>\n",
       "    </tr>\n",
       "    <tr>\n",
       "      <th>4</th>\n",
       "      <td>4</td>\n",
       "      <td>2000</td>\n",
       "      <td>0</td>\n",
       "      <td>NaN</td>\n",
       "      <td>NaN</td>\n",
       "      <td>NaN</td>\n",
       "    </tr>\n",
       "    <tr>\n",
       "      <th>...</th>\n",
       "      <td>...</td>\n",
       "      <td>...</td>\n",
       "      <td>...</td>\n",
       "      <td>...</td>\n",
       "      <td>...</td>\n",
       "      <td>...</td>\n",
       "    </tr>\n",
       "    <tr>\n",
       "      <th>496</th>\n",
       "      <td>496</td>\n",
       "      <td>9300</td>\n",
       "      <td>0</td>\n",
       "      <td>NaN</td>\n",
       "      <td>NaN</td>\n",
       "      <td>NaN</td>\n",
       "    </tr>\n",
       "    <tr>\n",
       "      <th>497</th>\n",
       "      <td>497</td>\n",
       "      <td>9300</td>\n",
       "      <td>0</td>\n",
       "      <td>NaN</td>\n",
       "      <td>NaN</td>\n",
       "      <td>NaN</td>\n",
       "    </tr>\n",
       "    <tr>\n",
       "      <th>498</th>\n",
       "      <td>498</td>\n",
       "      <td>9300</td>\n",
       "      <td>0</td>\n",
       "      <td>NaN</td>\n",
       "      <td>NaN</td>\n",
       "      <td>NaN</td>\n",
       "    </tr>\n",
       "    <tr>\n",
       "      <th>499</th>\n",
       "      <td>499</td>\n",
       "      <td>9300</td>\n",
       "      <td>0</td>\n",
       "      <td>NaN</td>\n",
       "      <td>NaN</td>\n",
       "      <td>NaN</td>\n",
       "    </tr>\n",
       "    <tr>\n",
       "      <th>500</th>\n",
       "      <td>500</td>\n",
       "      <td>9300</td>\n",
       "      <td>0</td>\n",
       "      <td>NaN</td>\n",
       "      <td>NaN</td>\n",
       "      <td>NaN</td>\n",
       "    </tr>\n",
       "  </tbody>\n",
       "</table>\n",
       "<p>501 rows × 6 columns</p>\n",
       "</div>"
      ],
      "text/plain": [
       "     Time (second)  Position (meter) of lead car  speed of lead car  \\\n",
       "0                0                          2000                  0   \n",
       "1                1                          2000                  0   \n",
       "2                2                          2000                  0   \n",
       "3                3                          2000                  0   \n",
       "4                4                          2000                  0   \n",
       "..             ...                           ...                ...   \n",
       "496            496                          9300                  0   \n",
       "497            497                          9300                  0   \n",
       "498            498                          9300                  0   \n",
       "499            499                          9300                  0   \n",
       "500            500                          9300                  0   \n",
       "\n",
       "     Position (meter) of follow car  speed of follow car  acceleration  \n",
       "0                            -102.0                  0.0           NaN  \n",
       "1                               NaN                  NaN           NaN  \n",
       "2                               NaN                  NaN           NaN  \n",
       "3                               NaN                  NaN           NaN  \n",
       "4                               NaN                  NaN           NaN  \n",
       "..                              ...                  ...           ...  \n",
       "496                             NaN                  NaN           NaN  \n",
       "497                             NaN                  NaN           NaN  \n",
       "498                             NaN                  NaN           NaN  \n",
       "499                             NaN                  NaN           NaN  \n",
       "500                             NaN                  NaN           NaN  \n",
       "\n",
       "[501 rows x 6 columns]"
      ]
     },
     "execution_count": 15,
     "metadata": {},
     "output_type": "execute_result"
    }
   ],
   "source": [
    "datas"
   ]
  },
  {
   "cell_type": "code",
   "execution_count": 19,
   "id": "42ac8735",
   "metadata": {
    "execution": {
     "iopub.execute_input": "2023-05-02T13:25:47.910727Z",
     "iopub.status.busy": "2023-05-02T13:25:47.910727Z",
     "iopub.status.idle": "2023-05-02T13:25:48.194634Z",
     "shell.execute_reply": "2023-05-02T13:25:48.194634Z",
     "shell.execute_reply.started": "2023-05-02T13:25:47.910727Z"
    }
   },
   "outputs": [],
   "source": [
    "for i in range(0,500):\n",
    "    s = datas.iloc[i,1]-datas.iloc[i,3]\n",
    "    v = datas.iloc[i,4]\n",
    "    smin = 6 * (v/4.47 + 1)\n",
    "#     print(smin)\n",
    "    if s<smin:\n",
    "        datas.iloc[i+1,4] = max(0,v-6)\n",
    "        datas.iloc[i,5] = -6\n",
    "    else:\n",
    "        datas.iloc[i+1,4] = min(30,v+4)\n",
    "        datas.iloc[i,5] = 4\n",
    "    datas.iloc[i+1,3] = datas.iloc[i,3]+datas.iloc[i+1,4]\n"
   ]
  },
  {
   "cell_type": "code",
   "execution_count": 20,
   "id": "ea1ad581",
   "metadata": {
    "execution": {
     "iopub.execute_input": "2023-05-02T13:26:19.576004Z",
     "iopub.status.busy": "2023-05-02T13:26:19.576004Z",
     "iopub.status.idle": "2023-05-02T13:26:20.630013Z",
     "shell.execute_reply": "2023-05-02T13:26:20.629286Z",
     "shell.execute_reply.started": "2023-05-02T13:26:19.576004Z"
    }
   },
   "outputs": [],
   "source": [
    "datas.to_excel('output.xlsx',index  =False)"
   ]
  },
  {
   "cell_type": "code",
   "execution_count": null,
   "id": "08618c0c",
   "metadata": {},
   "outputs": [],
   "source": []
  },
  {
   "cell_type": "code",
   "execution_count": null,
   "id": "57e623b9",
   "metadata": {},
   "outputs": [],
   "source": []
  },
  {
   "cell_type": "code",
   "execution_count": null,
   "id": "406db742",
   "metadata": {},
   "outputs": [],
   "source": []
  }
 ],
 "metadata": {
  "kernelspec": {
   "display_name": "Python 3 (ipykernel)",
   "language": "python",
   "name": "python3"
  },
  "language_info": {
   "codemirror_mode": {
    "name": "ipython",
    "version": 3
   },
   "file_extension": ".py",
   "mimetype": "text/x-python",
   "name": "python",
   "nbconvert_exporter": "python",
   "pygments_lexer": "ipython3",
   "version": "3.9.7"
  }
 },
 "nbformat": 4,
 "nbformat_minor": 5
}
