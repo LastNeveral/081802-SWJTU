{
 "cells": [
  {
   "cell_type": "code",
   "execution_count": 10,
   "id": "8755aefc",
   "metadata": {
    "execution": {
     "iopub.execute_input": "2023-05-03T01:05:57.887290Z",
     "iopub.status.busy": "2023-05-03T01:05:57.887290Z",
     "iopub.status.idle": "2023-05-03T01:05:57.891975Z",
     "shell.execute_reply": "2023-05-03T01:05:57.891278Z",
     "shell.execute_reply.started": "2023-05-03T01:05:57.887290Z"
    }
   },
   "outputs": [],
   "source": [
    "import pandas as pd\n",
    "import numpy as np"
   ]
  },
  {
   "cell_type": "code",
   "execution_count": 15,
   "id": "1e052262",
   "metadata": {
    "execution": {
     "iopub.execute_input": "2023-05-03T01:07:49.972738Z",
     "iopub.status.busy": "2023-05-03T01:07:49.972738Z",
     "iopub.status.idle": "2023-05-03T01:07:50.033811Z",
     "shell.execute_reply": "2023-05-03T01:07:50.033108Z",
     "shell.execute_reply.started": "2023-05-03T01:07:49.972738Z"
    }
   },
   "outputs": [],
   "source": [
    "datas = pd.read_excel('Lead+car+data.xlsx')"
   ]
  },
  {
   "cell_type": "code",
   "execution_count": 16,
   "id": "738c1113",
   "metadata": {
    "execution": {
     "iopub.execute_input": "2023-05-03T01:07:50.182245Z",
     "iopub.status.busy": "2023-05-03T01:07:50.182245Z",
     "iopub.status.idle": "2023-05-03T01:07:50.213879Z",
     "shell.execute_reply": "2023-05-03T01:07:50.212881Z",
     "shell.execute_reply.started": "2023-05-03T01:07:50.182245Z"
    }
   },
   "outputs": [
    {
     "data": {
      "text/html": [
       "<div>\n",
       "<style scoped>\n",
       "    .dataframe tbody tr th:only-of-type {\n",
       "        vertical-align: middle;\n",
       "    }\n",
       "\n",
       "    .dataframe tbody tr th {\n",
       "        vertical-align: top;\n",
       "    }\n",
       "\n",
       "    .dataframe thead th {\n",
       "        text-align: right;\n",
       "    }\n",
       "</style>\n",
       "<table border=\"1\" class=\"dataframe\">\n",
       "  <thead>\n",
       "    <tr style=\"text-align: right;\">\n",
       "      <th></th>\n",
       "      <th>Time (second)</th>\n",
       "      <th>Position (meter) of lead car</th>\n",
       "      <th>speed of lead car</th>\n",
       "      <th>Position (meter) of follow car</th>\n",
       "      <th>speed of follow car</th>\n",
       "      <th>acceleration</th>\n",
       "    </tr>\n",
       "  </thead>\n",
       "  <tbody>\n",
       "    <tr>\n",
       "      <th>0</th>\n",
       "      <td>0</td>\n",
       "      <td>2000</td>\n",
       "      <td>0</td>\n",
       "      <td>467.0</td>\n",
       "      <td>30</td>\n",
       "      <td>NaN</td>\n",
       "    </tr>\n",
       "    <tr>\n",
       "      <th>1</th>\n",
       "      <td>1</td>\n",
       "      <td>2000</td>\n",
       "      <td>0</td>\n",
       "      <td>NaN</td>\n",
       "      <td></td>\n",
       "      <td>NaN</td>\n",
       "    </tr>\n",
       "    <tr>\n",
       "      <th>2</th>\n",
       "      <td>2</td>\n",
       "      <td>2000</td>\n",
       "      <td>0</td>\n",
       "      <td>NaN</td>\n",
       "      <td>NaN</td>\n",
       "      <td>NaN</td>\n",
       "    </tr>\n",
       "    <tr>\n",
       "      <th>3</th>\n",
       "      <td>3</td>\n",
       "      <td>2000</td>\n",
       "      <td>0</td>\n",
       "      <td>NaN</td>\n",
       "      <td>NaN</td>\n",
       "      <td>NaN</td>\n",
       "    </tr>\n",
       "    <tr>\n",
       "      <th>4</th>\n",
       "      <td>4</td>\n",
       "      <td>2000</td>\n",
       "      <td>0</td>\n",
       "      <td>NaN</td>\n",
       "      <td>NaN</td>\n",
       "      <td>NaN</td>\n",
       "    </tr>\n",
       "    <tr>\n",
       "      <th>...</th>\n",
       "      <td>...</td>\n",
       "      <td>...</td>\n",
       "      <td>...</td>\n",
       "      <td>...</td>\n",
       "      <td>...</td>\n",
       "      <td>...</td>\n",
       "    </tr>\n",
       "    <tr>\n",
       "      <th>496</th>\n",
       "      <td>496</td>\n",
       "      <td>9300</td>\n",
       "      <td>0</td>\n",
       "      <td>NaN</td>\n",
       "      <td>NaN</td>\n",
       "      <td>NaN</td>\n",
       "    </tr>\n",
       "    <tr>\n",
       "      <th>497</th>\n",
       "      <td>497</td>\n",
       "      <td>9300</td>\n",
       "      <td>0</td>\n",
       "      <td>NaN</td>\n",
       "      <td>NaN</td>\n",
       "      <td>NaN</td>\n",
       "    </tr>\n",
       "    <tr>\n",
       "      <th>498</th>\n",
       "      <td>498</td>\n",
       "      <td>9300</td>\n",
       "      <td>0</td>\n",
       "      <td>NaN</td>\n",
       "      <td>NaN</td>\n",
       "      <td>NaN</td>\n",
       "    </tr>\n",
       "    <tr>\n",
       "      <th>499</th>\n",
       "      <td>499</td>\n",
       "      <td>9300</td>\n",
       "      <td>0</td>\n",
       "      <td>NaN</td>\n",
       "      <td>NaN</td>\n",
       "      <td>NaN</td>\n",
       "    </tr>\n",
       "    <tr>\n",
       "      <th>500</th>\n",
       "      <td>500</td>\n",
       "      <td>9300</td>\n",
       "      <td>0</td>\n",
       "      <td>NaN</td>\n",
       "      <td>NaN</td>\n",
       "      <td>NaN</td>\n",
       "    </tr>\n",
       "  </tbody>\n",
       "</table>\n",
       "<p>501 rows × 6 columns</p>\n",
       "</div>"
      ],
      "text/plain": [
       "     Time (second)  Position (meter) of lead car  speed of lead car  \\\n",
       "0                0                          2000                  0   \n",
       "1                1                          2000                  0   \n",
       "2                2                          2000                  0   \n",
       "3                3                          2000                  0   \n",
       "4                4                          2000                  0   \n",
       "..             ...                           ...                ...   \n",
       "496            496                          9300                  0   \n",
       "497            497                          9300                  0   \n",
       "498            498                          9300                  0   \n",
       "499            499                          9300                  0   \n",
       "500            500                          9300                  0   \n",
       "\n",
       "     Position (meter) of follow car speed of follow car  acceleration  \n",
       "0                             467.0                  30           NaN  \n",
       "1                               NaN                               NaN  \n",
       "2                               NaN                 NaN           NaN  \n",
       "3                               NaN                 NaN           NaN  \n",
       "4                               NaN                 NaN           NaN  \n",
       "..                              ...                 ...           ...  \n",
       "496                             NaN                 NaN           NaN  \n",
       "497                             NaN                 NaN           NaN  \n",
       "498                             NaN                 NaN           NaN  \n",
       "499                             NaN                 NaN           NaN  \n",
       "500                             NaN                 NaN           NaN  \n",
       "\n",
       "[501 rows x 6 columns]"
      ]
     },
     "execution_count": 16,
     "metadata": {},
     "output_type": "execute_result"
    }
   ],
   "source": [
    "datas"
   ]
  },
  {
   "cell_type": "code",
   "execution_count": 17,
   "id": "40992a3e",
   "metadata": {
    "execution": {
     "iopub.execute_input": "2023-05-03T01:07:50.582474Z",
     "iopub.status.busy": "2023-05-03T01:07:50.582474Z",
     "iopub.status.idle": "2023-05-03T01:07:50.914806Z",
     "shell.execute_reply": "2023-05-03T01:07:50.913713Z",
     "shell.execute_reply.started": "2023-05-03T01:07:50.582474Z"
    }
   },
   "outputs": [],
   "source": [
    "for i in range(0,500):\n",
    "\n",
    "    dv = datas.iloc[i,2]-datas.iloc[i,4]\n",
    "    dx = datas.iloc[i,1]-datas.iloc[i,3]\n",
    "    datas.iloc[i+1,5] = 0.8*datas.iloc[i,4]*dv/dx\n",
    "#     datas.iloc[i+1,5] = 0.8*dv/dx\n",
    "    \n",
    "    datas.iloc[i+1,4] = max(0,datas.iloc[i,4]+datas.iloc[i+1,5])\n",
    "\n",
    "    datas.iloc[i+1,3] = datas.iloc[i,3]+datas.iloc[i+1,4]\n"
   ]
  },
  {
   "cell_type": "code",
   "execution_count": 18,
   "id": "c8d7d8c5",
   "metadata": {
    "execution": {
     "iopub.execute_input": "2023-05-03T01:07:51.715455Z",
     "iopub.status.busy": "2023-05-03T01:07:51.715455Z",
     "iopub.status.idle": "2023-05-03T01:07:51.830789Z",
     "shell.execute_reply": "2023-05-03T01:07:51.829899Z",
     "shell.execute_reply.started": "2023-05-03T01:07:51.715455Z"
    }
   },
   "outputs": [],
   "source": [
    "datas.to_excel('output.xlsx',index  =False)"
   ]
  },
  {
   "cell_type": "code",
   "execution_count": null,
   "id": "84c377e4",
   "metadata": {},
   "outputs": [],
   "source": []
  },
  {
   "cell_type": "code",
   "execution_count": null,
   "id": "3d50a1ea",
   "metadata": {},
   "outputs": [],
   "source": []
  },
  {
   "cell_type": "code",
   "execution_count": null,
   "id": "7bee5b3f",
   "metadata": {},
   "outputs": [],
   "source": []
  }
 ],
 "metadata": {
  "kernelspec": {
   "display_name": "Python 3 (ipykernel)",
   "language": "python",
   "name": "python3"
  },
  "language_info": {
   "codemirror_mode": {
    "name": "ipython",
    "version": 3
   },
   "file_extension": ".py",
   "mimetype": "text/x-python",
   "name": "python",
   "nbconvert_exporter": "python",
   "pygments_lexer": "ipython3",
   "version": "3.9.7"
  }
 },
 "nbformat": 4,
 "nbformat_minor": 5
}
