{
 "cells": [
  {
   "cell_type": "code",
   "execution_count": 12,
   "id": "e5879f6a",
   "metadata": {
    "execution": {
     "iopub.execute_input": "2023-04-06T07:54:52.223772Z",
     "iopub.status.busy": "2023-04-06T07:54:52.222777Z",
     "iopub.status.idle": "2023-04-06T07:54:52.235423Z",
     "shell.execute_reply": "2023-04-06T07:54:52.234426Z",
     "shell.execute_reply.started": "2023-04-06T07:54:52.223772Z"
    }
   },
   "outputs": [],
   "source": [
    "import pandas as pd\n",
    "from random import *"
   ]
  },
  {
   "cell_type": "code",
   "execution_count": 42,
   "id": "f820b763",
   "metadata": {
    "execution": {
     "iopub.execute_input": "2023-04-06T07:55:47.898487Z",
     "iopub.status.busy": "2023-04-06T07:55:47.897460Z",
     "iopub.status.idle": "2023-04-06T07:55:47.933452Z",
     "shell.execute_reply": "2023-04-06T07:55:47.931454Z",
     "shell.execute_reply.started": "2023-04-06T07:55:47.898487Z"
    }
   },
   "outputs": [],
   "source": [
    "data = pd.read_excel('test.xlsx')"
   ]
  },
  {
   "cell_type": "code",
   "execution_count": 43,
   "id": "8efb7d21",
   "metadata": {
    "execution": {
     "iopub.execute_input": "2023-04-06T07:55:56.896155Z",
     "iopub.status.busy": "2023-04-06T07:55:56.896155Z",
     "iopub.status.idle": "2023-04-06T07:55:56.905429Z",
     "shell.execute_reply": "2023-04-06T07:55:56.905429Z",
     "shell.execute_reply.started": "2023-04-06T07:55:56.896155Z"
    }
   },
   "outputs": [
    {
     "data": {
      "text/html": [
       "<div>\n",
       "<style scoped>\n",
       "    .dataframe tbody tr th:only-of-type {\n",
       "        vertical-align: middle;\n",
       "    }\n",
       "\n",
       "    .dataframe tbody tr th {\n",
       "        vertical-align: top;\n",
       "    }\n",
       "\n",
       "    .dataframe thead th {\n",
       "        text-align: right;\n",
       "    }\n",
       "</style>\n",
       "<table border=\"1\" class=\"dataframe\">\n",
       "  <thead>\n",
       "    <tr style=\"text-align: right;\">\n",
       "      <th></th>\n",
       "      <th>Unnamed: 0</th>\n",
       "      <th>Unnamed: 1</th>\n",
       "    </tr>\n",
       "  </thead>\n",
       "  <tbody>\n",
       "    <tr>\n",
       "      <th>0</th>\n",
       "      <td>0</td>\n",
       "      <td>0.049787</td>\n",
       "    </tr>\n",
       "    <tr>\n",
       "      <th>1</th>\n",
       "      <td>1</td>\n",
       "      <td>0.199148</td>\n",
       "    </tr>\n",
       "    <tr>\n",
       "      <th>2</th>\n",
       "      <td>2</td>\n",
       "      <td>0.423190</td>\n",
       "    </tr>\n",
       "    <tr>\n",
       "      <th>3</th>\n",
       "      <td>3</td>\n",
       "      <td>0.647232</td>\n",
       "    </tr>\n",
       "    <tr>\n",
       "      <th>4</th>\n",
       "      <td>4</td>\n",
       "      <td>0.815263</td>\n",
       "    </tr>\n",
       "  </tbody>\n",
       "</table>\n",
       "</div>"
      ],
      "text/plain": [
       "   Unnamed: 0  Unnamed: 1\n",
       "0           0    0.049787\n",
       "1           1    0.199148\n",
       "2           2    0.423190\n",
       "3           3    0.647232\n",
       "4           4    0.815263"
      ]
     },
     "execution_count": 43,
     "metadata": {},
     "output_type": "execute_result"
    }
   ],
   "source": [
    "data.head()"
   ]
  },
  {
   "cell_type": "code",
   "execution_count": 52,
   "id": "3ebba60f",
   "metadata": {
    "execution": {
     "iopub.execute_input": "2023-04-06T07:58:05.501698Z",
     "iopub.status.busy": "2023-04-06T07:58:05.500700Z",
     "iopub.status.idle": "2023-04-06T07:58:05.517880Z",
     "shell.execute_reply": "2023-04-06T07:58:05.515885Z",
     "shell.execute_reply.started": "2023-04-06T07:58:05.501698Z"
    }
   },
   "outputs": [
    {
     "name": "stdout",
     "output_type": "stream",
     "text": [
      "0\n",
      "1\n",
      "2\n",
      "3\n",
      "4\n",
      "5\n",
      "6\n",
      "7\n",
      "8\n",
      "9\n",
      "10\n"
     ]
    }
   ],
   "source": [
    "for index,s in data.iterrows():\n",
    "    print(index)"
   ]
  },
  {
   "cell_type": "code",
   "execution_count": 70,
   "id": "0fcb46c0",
   "metadata": {
    "execution": {
     "iopub.execute_input": "2023-04-06T08:04:02.454321Z",
     "iopub.status.busy": "2023-04-06T08:04:02.453295Z",
     "iopub.status.idle": "2023-04-06T08:04:03.934721Z",
     "shell.execute_reply": "2023-04-06T08:04:03.932342Z",
     "shell.execute_reply.started": "2023-04-06T08:04:02.454321Z"
    }
   },
   "outputs": [],
   "source": [
    "ans = []\n",
    "for i in range(1000):\n",
    "    x = random()\n",
    "    for index,s in data.iterrows():\n",
    "        if x<s.iloc[1]:\n",
    "            ans.append(index)\n",
    "            break\n"
   ]
  },
  {
   "cell_type": "code",
   "execution_count": 71,
   "id": "2af3bd06",
   "metadata": {
    "execution": {
     "iopub.execute_input": "2023-04-06T08:04:05.671744Z",
     "iopub.status.busy": "2023-04-06T08:04:05.670744Z",
     "iopub.status.idle": "2023-04-06T08:04:05.688506Z",
     "shell.execute_reply": "2023-04-06T08:04:05.686048Z",
     "shell.execute_reply.started": "2023-04-06T08:04:05.671744Z"
    }
   },
   "outputs": [],
   "source": [
    "output = pd.DataFrame(ans,)"
   ]
  },
  {
   "cell_type": "code",
   "execution_count": 73,
   "id": "00587adb",
   "metadata": {
    "execution": {
     "iopub.execute_input": "2023-04-06T08:04:11.126201Z",
     "iopub.status.busy": "2023-04-06T08:04:11.125231Z",
     "iopub.status.idle": "2023-04-06T08:04:11.149675Z",
     "shell.execute_reply": "2023-04-06T08:04:11.147678Z",
     "shell.execute_reply.started": "2023-04-06T08:04:11.126201Z"
    }
   },
   "outputs": [
    {
     "data": {
      "text/plain": [
       "2    245\n",
       "3    210\n",
       "4    178\n",
       "1    133\n",
       "5     92\n",
       "6     56\n",
       "0     51\n",
       "7     20\n",
       "9      8\n",
       "8      7\n",
       "dtype: int64"
      ]
     },
     "execution_count": 73,
     "metadata": {},
     "output_type": "execute_result"
    }
   ],
   "source": [
    "output.value_counts()"
   ]
  },
  {
   "cell_type": "code",
   "execution_count": null,
   "id": "f7de3fee",
   "metadata": {},
   "outputs": [],
   "source": []
  },
  {
   "cell_type": "code",
   "execution_count": null,
   "id": "7fd94807",
   "metadata": {},
   "outputs": [],
   "source": []
  },
  {
   "cell_type": "code",
   "execution_count": null,
   "id": "666296c0",
   "metadata": {},
   "outputs": [],
   "source": []
  },
  {
   "cell_type": "code",
   "execution_count": null,
   "id": "82d2d3b6",
   "metadata": {},
   "outputs": [],
   "source": []
  },
  {
   "cell_type": "code",
   "execution_count": null,
   "id": "8ee6319a",
   "metadata": {},
   "outputs": [],
   "source": []
  }
 ],
 "metadata": {
  "kernelspec": {
   "display_name": "Python 3 (ipykernel)",
   "language": "python",
   "name": "python3"
  },
  "language_info": {
   "codemirror_mode": {
    "name": "ipython",
    "version": 3
   },
   "file_extension": ".py",
   "mimetype": "text/x-python",
   "name": "python",
   "nbconvert_exporter": "python",
   "pygments_lexer": "ipython3",
   "version": "3.9.7"
  }
 },
 "nbformat": 4,
 "nbformat_minor": 5
}
