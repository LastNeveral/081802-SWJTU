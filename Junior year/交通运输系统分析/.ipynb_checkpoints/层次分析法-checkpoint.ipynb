{
 "cells": [
  {
   "cell_type": "code",
   "execution_count": 2,
   "id": "a817524c",
   "metadata": {
    "execution": {
     "iopub.execute_input": "2022-10-12T12:19:58.875993Z",
     "iopub.status.busy": "2022-10-12T12:19:58.874995Z",
     "iopub.status.idle": "2022-10-12T12:20:04.397254Z",
     "shell.execute_reply": "2022-10-12T12:20:04.396291Z",
     "shell.execute_reply.started": "2022-10-12T12:19:58.875993Z"
    }
   },
   "outputs": [],
   "source": [
    "import numpy as np\n",
    "import pandas as pd"
   ]
  },
  {
   "cell_type": "code",
   "execution_count": 5,
   "id": "43ecae33",
   "metadata": {
    "execution": {
     "iopub.execute_input": "2022-10-12T12:23:32.367271Z",
     "iopub.status.busy": "2022-10-12T12:23:32.366275Z",
     "iopub.status.idle": "2022-10-12T12:23:32.413163Z",
     "shell.execute_reply": "2022-10-12T12:23:32.411497Z",
     "shell.execute_reply.started": "2022-10-12T12:23:32.367271Z"
    }
   },
   "outputs": [
    {
     "name": "stdout",
     "output_type": "stream",
     "text": [
      "准则层：最大特征值5.072084,CR=0.014533,检验通过\n",
      "准则层权重=[0.47583538 0.26360349 0.0538146  0.09806829 0.10867824]\n",
      "\n",
      "方案层\n",
      "          方案0       方案1       方案2     最大特征值            CR  一致性检验\n",
      "准则0  0.081935  0.236341  0.681725  3.001542  8.564584e-04   True\n",
      "准则1  0.595379  0.276350  0.128271  3.005535  3.075062e-03   True\n",
      "准则2  0.428571  0.428571  0.142857  3.000000 -1.480297e-15   True\n",
      "准则3  0.633708  0.191921  0.174371  3.009203  5.112618e-03   True\n",
      "准则4  0.344545  0.108525  0.546931  3.053622  2.978976e-02   True\n",
      "\n",
      "目标层 [[0.318586   0.23898522 0.44242878]]\n",
      "最优选择是方案2\n"
     ]
    }
   ],
   "source": [
    "class AHP:\n",
    "    def __init__(self, A, b):\n",
    "        self.RI = (0, 0, 0.58, 0.9, 1.12, 1.24, 1.32, 1.41, 1.45, 1.49, 1.51)\n",
    "        self.A = A\n",
    "        self.b = b\n",
    "        self.len_A = len(A)\n",
    "        self.len_b = len(b[0])\n",
    "\n",
    "    def cal_weights(self, input_matrix):\n",
    "        input_matrix = np.array(input_matrix)\n",
    "        n, n1 = input_matrix.shape\n",
    "        assert n == n1, '不是一个方阵'\n",
    "        \n",
    "        eigenvalues, eigenvectors = np.linalg.eig(input_matrix)\n",
    "\n",
    "        max_idx = np.argmax(eigenvalues)\n",
    "        max_eigen = eigenvalues[max_idx].real\n",
    "        eigen = eigenvectors[:, max_idx].real\n",
    "        eigen = eigen / eigen.sum()\n",
    "\n",
    "        CI = (max_eigen - n) / (n - 1)\n",
    "        CR = CI / self.RI[n]\n",
    "        return max_eigen, CR, eigen\n",
    "\n",
    "    def run(self):\n",
    "        k, CR, w0 = self.cal_weights(self.A)\n",
    "        print('准则层：最大特征值{:<5f},CR={:<5f},'.format(k, CR),end='')\n",
    "        if CR < 0.1:\n",
    "            print('检验通过')\n",
    "        else:\n",
    "            print('检验不通过')\n",
    "        print('准则层权重={}\\n'.format(w0))\n",
    "\n",
    "        klist, CR_list, wlist = [], [], []\n",
    "        for i in self.b:\n",
    "            k, CR, w = self.cal_weights(i)\n",
    "            klist.append(k)\n",
    "            CR_list.append(CR)\n",
    "            wlist.append(w)\n",
    "\n",
    "        pd_print = pd.DataFrame(wlist,\n",
    "                                index=['准则' + str(i) for i in range(self.len_A)],\n",
    "                                columns=['方案' + str(i) for i in range(self.len_b)],\n",
    "                                )\n",
    "        pd_print.loc[:, '最大特征值'] = klist\n",
    "        pd_print.loc[:, 'CR'] = CR_list\n",
    "        pd_print.loc[:, '一致性检验'] = pd_print.loc[:, 'CR'] < 0.1\n",
    "        print('方案层')\n",
    "        print(pd_print)\n",
    "\n",
    "        # 目标层\n",
    "        obj = np.dot(w0.reshape(1, -1), np.array(wlist))\n",
    "        print('\\n目标层', obj)\n",
    "        print('最优选择是方案{}'.format(np.argmax(obj)))\n",
    "        return obj\n",
    "\n",
    "\n",
    "if __name__ == '__main__':\n",
    "\n",
    "# 输入数据A与b\n",
    "\n",
    "#     A = np.array([[1, 2, 7, 5, 5],\n",
    "#                          [1 / 2, 1, 4, 3, 3],\n",
    "#                          [1 / 7, 1 / 4, 1, 1 / 2, 1 / 3],\n",
    "#                          [1 / 5, 1 / 3, 2, 1, 1],\n",
    "#                          [1 / 5, 1 / 3, 3, 1, 1]])\n",
    "\n",
    "#     b1 = np.array([[1, 1 / 3, 1 / 8], [3, 1, 1 / 3], [8, 3, 1]])\n",
    "#     b2 = np.array([[1, 2, 5], [1 / 2, 1, 2], [1 / 5, 1 / 2, 1]])\n",
    "#     b3 = np.array([[1, 1, 3], [1, 1, 3], [1 / 3, 1 / 3, 1]])\n",
    "#     b4 = np.array([[1, 3, 4], [1 / 3, 1, 1], [1 / 4, 1, 1]])\n",
    "#     b5 = np.array([[1, 4, 1 / 2], [1 / 4, 1, 1 / 4], [2, 4, 1]])\n",
    "\n",
    "    b = [b1, b2, b3, b4, b5]\n",
    "    a = AHP(A, b)\n",
    "    a.run()"
   ]
  }
 ],
 "metadata": {
  "kernelspec": {
   "display_name": "Geoox",
   "language": "python",
   "name": "geoox"
  },
  "language_info": {
   "codemirror_mode": {
    "name": "ipython",
    "version": 3
   },
   "file_extension": ".py",
   "mimetype": "text/x-python",
   "name": "python",
   "nbconvert_exporter": "python",
   "pygments_lexer": "ipython3",
   "version": "3.10.4"
  }
 },
 "nbformat": 4,
 "nbformat_minor": 5
}
