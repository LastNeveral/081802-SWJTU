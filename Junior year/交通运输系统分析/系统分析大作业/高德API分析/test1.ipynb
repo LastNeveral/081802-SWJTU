{
 "cells": [
  {
   "cell_type": "code",
   "execution_count": 1,
   "id": "2dc540a1",
   "metadata": {
    "execution": {
     "iopub.execute_input": "2022-11-30T07:26:55.226968Z",
     "iopub.status.busy": "2022-11-30T07:26:55.226065Z",
     "iopub.status.idle": "2022-11-30T07:27:04.406292Z",
     "shell.execute_reply": "2022-11-30T07:27:04.404436Z",
     "shell.execute_reply.started": "2022-11-30T07:26:55.226968Z"
    }
   },
   "outputs": [],
   "source": [
    "import requests\n",
    "import json\n",
    "import pandas as pd"
   ]
  },
  {
   "cell_type": "code",
   "execution_count": 47,
   "id": "16e64475",
   "metadata": {
    "execution": {
     "iopub.execute_input": "2022-11-30T03:28:33.185022Z",
     "iopub.status.busy": "2022-11-30T03:28:33.185022Z",
     "iopub.status.idle": "2022-11-30T03:28:33.245656Z",
     "shell.execute_reply": "2022-11-30T03:28:33.244657Z",
     "shell.execute_reply.started": "2022-11-30T03:28:33.185022Z"
    }
   },
   "outputs": [
    {
     "data": {
      "text/html": [
       "<div>\n",
       "<style scoped>\n",
       "    .dataframe tbody tr th:only-of-type {\n",
       "        vertical-align: middle;\n",
       "    }\n",
       "\n",
       "    .dataframe tbody tr th {\n",
       "        vertical-align: top;\n",
       "    }\n",
       "\n",
       "    .dataframe thead th {\n",
       "        text-align: right;\n",
       "    }\n",
       "</style>\n",
       "<table border=\"1\" class=\"dataframe\">\n",
       "  <thead>\n",
       "    <tr style=\"text-align: right;\">\n",
       "      <th></th>\n",
       "      <th>id</th>\n",
       "      <th>x</th>\n",
       "      <th>y</th>\n",
       "    </tr>\n",
       "  </thead>\n",
       "  <tbody>\n",
       "    <tr>\n",
       "      <th>0</th>\n",
       "      <td>0</td>\n",
       "      <td>116.250477</td>\n",
       "      <td>39.858049</td>\n",
       "    </tr>\n",
       "    <tr>\n",
       "      <th>1</th>\n",
       "      <td>1</td>\n",
       "      <td>116.479124</td>\n",
       "      <td>40.022752</td>\n",
       "    </tr>\n",
       "    <tr>\n",
       "      <th>2</th>\n",
       "      <td>2</td>\n",
       "      <td>116.421770</td>\n",
       "      <td>39.787453</td>\n",
       "    </tr>\n",
       "    <tr>\n",
       "      <th>3</th>\n",
       "      <td>3</td>\n",
       "      <td>116.352454</td>\n",
       "      <td>39.884982</td>\n",
       "    </tr>\n",
       "    <tr>\n",
       "      <th>4</th>\n",
       "      <td>4</td>\n",
       "      <td>116.462390</td>\n",
       "      <td>39.922632</td>\n",
       "    </tr>\n",
       "    <tr>\n",
       "      <th>...</th>\n",
       "      <td>...</td>\n",
       "      <td>...</td>\n",
       "      <td>...</td>\n",
       "    </tr>\n",
       "    <tr>\n",
       "      <th>95</th>\n",
       "      <td>95</td>\n",
       "      <td>116.445243</td>\n",
       "      <td>39.759413</td>\n",
       "    </tr>\n",
       "    <tr>\n",
       "      <th>96</th>\n",
       "      <td>96</td>\n",
       "      <td>116.218084</td>\n",
       "      <td>39.972427</td>\n",
       "    </tr>\n",
       "    <tr>\n",
       "      <th>97</th>\n",
       "      <td>97</td>\n",
       "      <td>116.481806</td>\n",
       "      <td>39.813219</td>\n",
       "    </tr>\n",
       "    <tr>\n",
       "      <th>98</th>\n",
       "      <td>98</td>\n",
       "      <td>116.327319</td>\n",
       "      <td>39.865851</td>\n",
       "    </tr>\n",
       "    <tr>\n",
       "      <th>99</th>\n",
       "      <td>99</td>\n",
       "      <td>116.391536</td>\n",
       "      <td>40.016153</td>\n",
       "    </tr>\n",
       "  </tbody>\n",
       "</table>\n",
       "<p>100 rows × 3 columns</p>\n",
       "</div>"
      ],
      "text/plain": [
       "    id           x          y\n",
       "0    0  116.250477  39.858049\n",
       "1    1  116.479124  40.022752\n",
       "2    2  116.421770  39.787453\n",
       "3    3  116.352454  39.884982\n",
       "4    4  116.462390  39.922632\n",
       "..  ..         ...        ...\n",
       "95  95  116.445243  39.759413\n",
       "96  96  116.218084  39.972427\n",
       "97  97  116.481806  39.813219\n",
       "98  98  116.327319  39.865851\n",
       "99  99  116.391536  40.016153\n",
       "\n",
       "[100 rows x 3 columns]"
      ]
     },
     "execution_count": 47,
     "metadata": {},
     "output_type": "execute_result"
    }
   ],
   "source": [
    "o = pd.read_csv('data/o.csv')\n",
    "o"
   ]
  },
  {
   "cell_type": "code",
   "execution_count": 48,
   "id": "385bafe9",
   "metadata": {
    "execution": {
     "iopub.execute_input": "2022-11-30T03:28:36.321913Z",
     "iopub.status.busy": "2022-11-30T03:28:36.321913Z",
     "iopub.status.idle": "2022-11-30T03:28:36.342865Z",
     "shell.execute_reply": "2022-11-30T03:28:36.341862Z",
     "shell.execute_reply.started": "2022-11-30T03:28:36.321913Z"
    }
   },
   "outputs": [],
   "source": [
    "key = '0ecba51612cda8eaf3ec74db79c96ec0'\n",
    "header = {'User-Agent': \"Mozilla/5.0 (Windows; U; Windows NT 6.1; en-us) AppleWebKit/534.50 (KHTML, like Gecko) Version/5.1 Safari/534.50\"}"
   ]
  },
  {
   "cell_type": "code",
   "execution_count": 60,
   "id": "e989aacb",
   "metadata": {
    "execution": {
     "iopub.execute_input": "2022-11-30T03:37:48.693612Z",
     "iopub.status.busy": "2022-11-30T03:37:48.693612Z",
     "iopub.status.idle": "2022-11-30T03:37:48.717674Z",
     "shell.execute_reply": "2022-11-30T03:37:48.715704Z",
     "shell.execute_reply.started": "2022-11-30T03:37:48.693612Z"
    }
   },
   "outputs": [],
   "source": [
    "def busway(o_x,o_y):\n",
    "    url = 'https://restapi.amap.com/v3/direction/transit/integrated?origin={},{}&destination=116.409213,39.499307&city=010&output=json&strategy=0&key={}'.format(o_x,o_y,key)\n",
    "    r = requests.get(url, headers=header)\n",
    "    r.encoding = 'utf-8'\n",
    "    # 将请求得到的数据按照'utf-8'编码成字符串\n",
    "    data = r.text\n",
    "    content = json.loads(data)\n",
    "    return content\n",
    "def driveway(o_x,o_y):\n",
    "    url = 'https://restapi.amap.com/v3/direction/driving?origin={},{}&destination=116.409213,39.499307&extensions=all&strategy=1&output=json&key={}'.format(o_x,o_y,key)\n",
    "    r2 = requests.get(url, headers=header)\n",
    "    r2.encoding = 'utf-8'\n",
    "    # 将请求得到的数据按照'utf-8'编码成字符串\n",
    "    data = r2.text\n",
    "    content = json.loads(data)\n",
    "    return content"
   ]
  },
  {
   "cell_type": "code",
   "execution_count": 53,
   "id": "f914d5f1",
   "metadata": {
    "execution": {
     "iopub.execute_input": "2022-11-30T03:30:53.775782Z",
     "iopub.status.busy": "2022-11-30T03:30:53.775782Z",
     "iopub.status.idle": "2022-11-30T03:31:20.471120Z",
     "shell.execute_reply": "2022-11-30T03:31:20.470119Z",
     "shell.execute_reply.started": "2022-11-30T03:30:53.775782Z"
    }
   },
   "outputs": [],
   "source": [
    "cost_taxi = []\n",
    "cost_bus = []\n",
    "time_bus = []\n",
    "\n",
    "for i in o.values:\n",
    "    x = i[1]\n",
    "    y = i[2]\n",
    "    content1 = busway(x,y)\n",
    "    if content1['status'] =='1':\n",
    "        cost_taxi_i = int(content1['route']['taxi_cost'])\n",
    "        cost_taxi.append(cost_taxi_i)\n",
    "        cost_bus_i = content1['route']['transits'][0]['cost']\n",
    "        cost_bus.append(cost_bus_i)\n",
    "        time_bus_i =  int(content1['route']['transits'][0]['duration'])/60\n",
    "        time_bus.append(time_bus_i)\n",
    "\n",
    "        "
   ]
  },
  {
   "cell_type": "code",
   "execution_count": 61,
   "id": "a23d0b14",
   "metadata": {
    "execution": {
     "iopub.execute_input": "2022-11-30T03:47:21.143260Z",
     "iopub.status.busy": "2022-11-30T03:47:21.143260Z",
     "iopub.status.idle": "2022-11-30T03:47:45.148448Z",
     "shell.execute_reply": "2022-11-30T03:47:45.147446Z",
     "shell.execute_reply.started": "2022-11-30T03:47:21.143260Z"
    }
   },
   "outputs": [],
   "source": [
    "time_taxi = []\n",
    "for i in o.values:\n",
    "    x = i[1]\n",
    "    y = i[2]\n",
    "    content2 = driveway(x,y)\n",
    "    if content2['status'] == '1':\n",
    "        time_taxi_i = int(content2['route']['paths'][0]['duration'])/60\n",
    "        time_taxi.append(time_taxi_i)"
   ]
  },
  {
   "cell_type": "code",
   "execution_count": 67,
   "id": "2fe99b0a",
   "metadata": {
    "execution": {
     "iopub.execute_input": "2022-11-30T03:52:14.171694Z",
     "iopub.status.busy": "2022-11-30T03:52:14.170666Z",
     "iopub.status.idle": "2022-11-30T03:52:14.191728Z",
     "shell.execute_reply": "2022-11-30T03:52:14.189731Z",
     "shell.execute_reply.started": "2022-11-30T03:52:14.171694Z"
    }
   },
   "outputs": [],
   "source": [
    "output = pd.DataFrame()\n",
    "output['Longitude'] = o.x\n",
    "output['Latitude'] = o.y\n",
    "output['time_taxi'] = time_taxi\n",
    "output['time_bus'] = time_bus\n",
    "output['cost_taxi'] = cost_taxi\n",
    "output['cost_bus'] = cost_bus"
   ]
  },
  {
   "cell_type": "code",
   "execution_count": 69,
   "id": "d4fe391f",
   "metadata": {
    "execution": {
     "iopub.execute_input": "2022-11-30T03:53:23.148073Z",
     "iopub.status.busy": "2022-11-30T03:53:23.147076Z",
     "iopub.status.idle": "2022-11-30T03:53:23.285067Z",
     "shell.execute_reply": "2022-11-30T03:53:23.285067Z",
     "shell.execute_reply.started": "2022-11-30T03:53:23.148073Z"
    }
   },
   "outputs": [],
   "source": [
    "output.to_csv('outcome.csv')"
   ]
  }
 ],
 "metadata": {
  "kernelspec": {
   "display_name": "Geoox",
   "language": "python",
   "name": "geoox"
  },
  "language_info": {
   "codemirror_mode": {
    "name": "ipython",
    "version": 3
   },
   "file_extension": ".py",
   "mimetype": "text/x-python",
   "name": "python",
   "nbconvert_exporter": "python",
   "pygments_lexer": "ipython3",
   "version": "3.10.4"
  }
 },
 "nbformat": 4,
 "nbformat_minor": 5
}
