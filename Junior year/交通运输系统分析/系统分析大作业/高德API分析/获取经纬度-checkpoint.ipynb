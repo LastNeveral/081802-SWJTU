{
 "cells": [
  {
   "cell_type": "code",
   "execution_count": 5,
   "id": "c556f097",
   "metadata": {
    "execution": {
     "iopub.execute_input": "2022-10-29T11:15:15.536794Z",
     "iopub.status.busy": "2022-10-29T11:15:15.535797Z",
     "iopub.status.idle": "2022-10-29T11:15:15.844202Z",
     "shell.execute_reply": "2022-10-29T11:15:15.843350Z",
     "shell.execute_reply.started": "2022-10-29T11:15:15.536794Z"
    }
   },
   "outputs": [
    {
     "name": "stdout",
     "output_type": "stream",
     "text": [
      "['成都市高新区盛邦街394号']\n",
      "{'status': '1', 'info': 'OK', 'infocode': '10000', 'count': '1', 'geocodes': [{'formatted_address': '四川省成都市武侯区成都市高新区盛邦街394号', 'country': '中国', 'province': '四川省', 'citycode': '028', 'city': '成都市', 'district': '武侯区', 'township': [], 'neighborhood': {'name': [], 'type': []}, 'building': {'name': [], 'type': []}, 'adcode': '510107', 'street': '盛邦街', 'number': '394号', 'location': '104.047430,30.555892', 'level': '门牌号'}]}\n",
      "四川省成都市武侯区成都市高新区盛邦街394号\n",
      "104.047430,30.555892\n"
     ]
    }
   ],
   "source": [
    "import requests\n",
    "import pandas as pd\n",
    "import csv\n",
    "# data = pd.read_excel('D:\\成都街道.xlsx')#导入地址的csv文件\n",
    "# data = data['地址']#选择地址列\n",
    "data=['成都市高新区盛邦街394号']\n",
    "print(data)\n",
    "lis = []\n",
    "def gaode():\n",
    "    for i in data:\n",
    "        para = {\n",
    "            'key':'a140f834d564c450615be418fac88e9e',\n",
    "            'address':i,\n",
    "            'city':'成都'\n",
    "            }\n",
    "        url = 'https://restapi.amap.com/v3/geocode/geo?'\n",
    "        req = requests.get(url,para)\n",
    "        req = req.json()\n",
    "        print(req)\n",
    "        if req['infocode']=='10000':\n",
    "            w = req['geocodes'][0]['formatted_address']\n",
    "            z = req['geocodes'][0]['location']\n",
    "            print(w)\n",
    "            print(z)\n",
    "            d = (w,z)\n",
    "        else:\n",
    "            print('查询不到')\n",
    "        lis.append(d)\n",
    "    t = ['位置','经纬度']\n",
    "#     with open('D:\\经纬度.csv', 'w', newline='')as f:\n",
    "#         writer = csv.writer(f)\n",
    "#         writer.writerow(t)\n",
    "#         writer.writerows(lis)\n",
    "if __name__ == '__main__':\n",
    "    gaode()\n",
    "\n"
   ]
  },
  {
   "cell_type": "code",
   "execution_count": 25,
   "id": "ba0fc939",
   "metadata": {
    "execution": {
     "iopub.execute_input": "2022-10-30T07:41:29.275433Z",
     "iopub.status.busy": "2022-10-30T07:41:29.274440Z",
     "iopub.status.idle": "2022-10-30T07:41:29.669753Z",
     "shell.execute_reply": "2022-10-30T07:41:29.668895Z",
     "shell.execute_reply.started": "2022-10-30T07:41:29.275433Z"
    }
   },
   "outputs": [
    {
     "name": "stdout",
     "output_type": "stream",
     "text": [
      "当前城市：512022, 总的有0条数据\n",
      "**************************************************分类：写入成功**************************************************\n",
      "====爬取完成====\n"
     ]
    }
   ],
   "source": [
    "import requests\n",
    "import json\n",
    "from urllib.parse import quote\n",
    "import xlwt\n",
    "\n",
    "def Get_poi(key, city, s1, page):\n",
    "    '''\n",
    "    这是一个能够从高德地图获取poi数据的函数\n",
    "    key：为用户申请的高德密钥\n",
    "    city：目标城市\n",
    "    types：POI数据的类型\n",
    "    page：当前页数\n",
    "    '''\n",
    "\n",
    "    # 设置header\n",
    "    header = {\n",
    "        'User-Agent': \"Mozilla/5.0 (Windows; U; Windows NT 6.1; en-us) AppleWebKit/534.50 (KHTML, like Gecko) Version/5.1 Safari/534.50\"}\n",
    "\n",
    "    # 构建url\n",
    "    # {}在链接里表示占位符，也就是占住位置先不填写，.format()里就是往刚刚占位符的地方填写变量，按照顺序一一对应，第一个{}里是key，第二个{}里是types\n",
    "    url = 'https://restapi.amap.com/v3/place/text?key={}&keywords={}&adcode={}&offset=100&page={}&output=josn'.format(key,s1,city, page)\n",
    "\n",
    "    # 用get函数请求数据\n",
    "    r = requests.get(url, headers=header)\n",
    "    # 设置数据的编码为'utf-8'\n",
    "    r.encoding = 'utf-8'\n",
    "    # 将请求得到的数据按照'utf-8'编码成字符串\n",
    "    data = r.text\n",
    "    return data\n",
    "\n",
    "def Get_times(key, city, s1):\n",
    "    '''\n",
    "    这是一个控制申请次数的函数\n",
    "    '''\n",
    "    page = 1\n",
    "    # 创建一个poilist的空列表\n",
    "    poilist = []\n",
    "    # 执行以下代码，直到count为0的时候跳出循环\n",
    "    while True:\n",
    "        # 调用第一个函数来获取数据\n",
    "        result = Get_poi(key, city, s1, page)\n",
    "\n",
    "        # json.loads可以对获取回来JSON格式的数据进行解码\n",
    "        content = json.loads(result)\n",
    "\n",
    "        # content的样子其实跟返回结果参数是一样的，可以想象成有很多个字段的excel表格，下面这个语句就是提取出pois那个字段\n",
    "        pois = content['pois']\n",
    "\n",
    "        # pois的信息写入空列表里，这里由于不知道返回的数据长什么样子，所以会难以理解些\n",
    "        for i in range(len(pois)):\n",
    "            poilist.append(pois[i])\n",
    "\n",
    "        # 递增page\n",
    "        page = page + 1\n",
    "\n",
    "        # 判断当前页下的count是否等于0\n",
    "        if content['count'] == '0':\n",
    "            break\n",
    "    # 将写好poi信息的列表返回\n",
    "    return poilist\n",
    "\n",
    "def write_to_excel(poilist, city):\n",
    "    '''\n",
    "    这是一个可以将列表写入excel的函数\n",
    "    poilist -- 上面得到的poilist\n",
    "    city -- 城市名，这个参数是保存excel文件的名字用的\n",
    "    types -- poi类别，这个也是为了保存excel文件，可直接看代码最后一行\n",
    "    '''\n",
    "    #我们可以把这两行代码理解成新建一个excel表，第一句是新建excel文件\n",
    "    book = xlwt.Workbook(encoding='utf-8', style_compression=0)\n",
    "    #往这个excel文件新建一个sheet表格\n",
    "    sheet = book.add_sheet('1', cell_overwrite_ok=True)\n",
    "\n",
    "    # 第一行(列标题)\n",
    "    sheet.write(0, 0, 'x')\n",
    "    sheet.write(0, 1, 'y')\n",
    "    sheet.write(0, 2, 'count')\n",
    "    sheet.write(0, 3, 'name')\n",
    "    sheet.write(0, 4, 'address')\n",
    "    sheet.write(0, 5, 'adname')\n",
    "\n",
    "    #最难理解的地方应该是这里了，放到代码后面讲解\n",
    "    for i in range(len(poilist)):\n",
    "        name = poilist[i]['name']\n",
    "        location = poilist[i]['location']\n",
    "        address = poilist[i]['address']\n",
    "        adname = poilist[i]['adname']\n",
    "        lng = str(location).split(\",\")[0]\n",
    "        lat = str(location).split(\",\")[1]\n",
    "\n",
    "#         #这里是坐标系转换，也放到代码后面详解\n",
    "#         result = gcj02towgs84(location)\n",
    "#         lng = result[0]\n",
    "#         lat = result[1]\n",
    "\n",
    "        # 每一行写入\n",
    "        sheet.write(i + 1, 0, lng)\n",
    "        sheet.write(i + 1, 1, lat)\n",
    "        sheet.write(i + 1, 2, 1)\n",
    "        sheet.write(i + 1, 3, name)\n",
    "        sheet.write(i + 1, 4, address)\n",
    "        sheet.write(i + 1, 5, adname)\n",
    "    # 最后，将以上操作保存到指定的Excel文件中\n",
    "    book.save(city + \"_\" + city + data + '.xls')\n",
    "\n",
    "\n",
    "#这里修改为自己的高德密钥\n",
    "key = '0ecba51612cda8eaf3ec74db79c96ec0'\n",
    "\n",
    "#这里修改自己的poi类型\n",
    "data = '菜鸟驿站'\n",
    "\n",
    "#建议将大区域切分成几个小区域来获取，保证获取的数据齐全\n",
    "city_list = ['512022']\n",
    "\n",
    "#先遍历city_list里面的每个区域\n",
    "for city in city_list:\n",
    "    #再遍历types里的每个类别\n",
    "#     for type in types:\n",
    "    poi = Get_times(key,city,data)\n",
    "    print('当前城市：' + str(city) + \", 总的有\" + str(len(poi)) + \"条数据\")\n",
    "    write_to_excel(poi,city)\n",
    "    print('*'*50+'分类：' + \"写入成功\"+'*'*50)\n",
    "print('====爬取完成====')\n"
   ]
  },
  {
   "cell_type": "code",
   "execution_count": null,
   "id": "b08f83f9",
   "metadata": {},
   "outputs": [],
   "source": []
  },
  {
   "cell_type": "code",
   "execution_count": 2,
   "id": "a5a2fe88",
   "metadata": {
    "execution": {
     "iopub.execute_input": "2022-10-30T07:25:50.401398Z",
     "iopub.status.busy": "2022-10-30T07:25:50.401398Z",
     "iopub.status.idle": "2022-10-30T07:25:50.411373Z",
     "shell.execute_reply": "2022-10-30T07:25:50.410373Z",
     "shell.execute_reply.started": "2022-10-30T07:25:50.401398Z"
    }
   },
   "outputs": [],
   "source": [
    "import requests\n",
    "import json\n",
    "from urllib.parse import quote\n",
    "import xlwt"
   ]
  },
  {
   "cell_type": "code",
   "execution_count": 10,
   "id": "1d0966d8",
   "metadata": {
    "execution": {
     "iopub.execute_input": "2022-10-30T07:29:24.177187Z",
     "iopub.status.busy": "2022-10-30T07:29:24.177187Z",
     "iopub.status.idle": "2022-10-30T07:29:24.419331Z",
     "shell.execute_reply": "2022-10-30T07:29:24.418394Z",
     "shell.execute_reply.started": "2022-10-30T07:29:24.177187Z"
    }
   },
   "outputs": [],
   "source": [
    "key = '0ecba51612cda8eaf3ec74db79c96ec0'\n",
    "city = '乐至'\n",
    "header = {'User-Agent': \"Mozilla/5.0 (Windows; U; Windows NT 6.1; en-us) AppleWebKit/534.50 (KHTML, like Gecko) Version/5.1 Safari/534.50\"}\n",
    "\n",
    "# 构建url\n",
    "# {}在链接里表示占位符，也就是占住位置先不填写，.format()里就是往刚刚占位符的地方填写变量，按照顺序一一对应，第一个{}里是key，第二个{}里是types\n",
    "url = 'https://restapi.amap.com/v3/config/district?keywords={}&subdistrict=2&key={}'.format(city,key)\n",
    "r = requests.get(url, headers=header)"
   ]
  },
  {
   "cell_type": "code",
   "execution_count": 11,
   "id": "f05bf0e5",
   "metadata": {
    "execution": {
     "iopub.execute_input": "2022-10-30T07:29:25.823710Z",
     "iopub.status.busy": "2022-10-30T07:29:25.823710Z",
     "iopub.status.idle": "2022-10-30T07:29:25.836675Z",
     "shell.execute_reply": "2022-10-30T07:29:25.835678Z",
     "shell.execute_reply.started": "2022-10-30T07:29:25.823710Z"
    }
   },
   "outputs": [],
   "source": [
    "# 设置数据的编码为'utf-8'\n",
    "r.encoding = 'utf-8'\n",
    "# 将请求得到的数据按照'utf-8'编码成字符串\n",
    "data = r.text"
   ]
  },
  {
   "cell_type": "code",
   "execution_count": 12,
   "id": "aece3eff",
   "metadata": {
    "execution": {
     "iopub.execute_input": "2022-10-30T07:29:27.665781Z",
     "iopub.status.busy": "2022-10-30T07:29:27.664781Z",
     "iopub.status.idle": "2022-10-30T07:29:27.674726Z",
     "shell.execute_reply": "2022-10-30T07:29:27.673725Z",
     "shell.execute_reply.started": "2022-10-30T07:29:27.665781Z"
    }
   },
   "outputs": [],
   "source": [
    "content = json.loads(data)"
   ]
  },
  {
   "cell_type": "code",
   "execution_count": 15,
   "id": "98a26a4b",
   "metadata": {
    "execution": {
     "iopub.execute_input": "2022-10-30T07:30:18.491567Z",
     "iopub.status.busy": "2022-10-30T07:30:18.490570Z",
     "iopub.status.idle": "2022-10-30T07:30:18.513182Z",
     "shell.execute_reply": "2022-10-30T07:30:18.512216Z",
     "shell.execute_reply.started": "2022-10-30T07:30:18.491567Z"
    }
   },
   "outputs": [
    {
     "data": {
      "text/plain": [
       "[{'citycode': '0832',\n",
       "  'adcode': '512022',\n",
       "  'name': '乐至县',\n",
       "  'center': '105.019823,30.275418',\n",
       "  'level': 'district',\n",
       "  'districts': [{'citycode': '0832',\n",
       "    'adcode': '512022',\n",
       "    'name': '中天镇',\n",
       "    'center': '104.834418,30.257969',\n",
       "    'level': 'street',\n",
       "    'districts': []},\n",
       "   {'citycode': '0832',\n",
       "    'adcode': '512022',\n",
       "    'name': '双河场乡',\n",
       "    'center': '105.148637,30.121509',\n",
       "    'level': 'street',\n",
       "    'districts': []},\n",
       "   {'citycode': '0832',\n",
       "    'adcode': '512022',\n",
       "    'name': '宝林镇',\n",
       "    'center': '105.101098,30.385379',\n",
       "    'level': 'street',\n",
       "    'districts': []},\n",
       "   {'citycode': '0832',\n",
       "    'adcode': '512022',\n",
       "    'name': '佛星镇',\n",
       "    'center': '104.932145,30.187134',\n",
       "    'level': 'street',\n",
       "    'districts': []},\n",
       "   {'citycode': '0832',\n",
       "    'adcode': '512022',\n",
       "    'name': '通旅镇',\n",
       "    'center': '105.055186,30.076271',\n",
       "    'level': 'street',\n",
       "    'districts': []},\n",
       "   {'citycode': '0832',\n",
       "    'adcode': '512022',\n",
       "    'name': '石佛镇',\n",
       "    'center': '105.080263,30.312495',\n",
       "    'level': 'street',\n",
       "    'districts': []},\n",
       "   {'citycode': '0832',\n",
       "    'adcode': '512022',\n",
       "    'name': '中和场镇',\n",
       "    'center': '105.057036,30.532314',\n",
       "    'level': 'street',\n",
       "    'districts': []},\n",
       "   {'citycode': '0832',\n",
       "    'adcode': '512022',\n",
       "    'name': '蟠龙镇',\n",
       "    'center': '105.219953,30.241809',\n",
       "    'level': 'street',\n",
       "    'districts': []},\n",
       "   {'citycode': '0832',\n",
       "    'adcode': '512022',\n",
       "    'name': '龙门镇',\n",
       "    'center': '105.088820,30.369821',\n",
       "    'level': 'street',\n",
       "    'districts': []},\n",
       "   {'citycode': '0832',\n",
       "    'adcode': '512022',\n",
       "    'name': '劳动镇',\n",
       "    'center': '104.978115,30.442901',\n",
       "    'level': 'street',\n",
       "    'districts': []},\n",
       "   {'citycode': '0832',\n",
       "    'adcode': '512022',\n",
       "    'name': '石湍镇',\n",
       "    'center': '105.053496,30.181772',\n",
       "    'level': 'street',\n",
       "    'districts': []},\n",
       "   {'citycode': '0832',\n",
       "    'adcode': '512022',\n",
       "    'name': '盛池镇',\n",
       "    'center': '105.037571,30.477649',\n",
       "    'level': 'street',\n",
       "    'districts': []},\n",
       "   {'citycode': '0832',\n",
       "    'adcode': '512022',\n",
       "    'name': '回澜镇',\n",
       "    'center': '105.247287,30.136991',\n",
       "    'level': 'street',\n",
       "    'districts': []},\n",
       "   {'citycode': '0832',\n",
       "    'adcode': '512022',\n",
       "    'name': '天池街道',\n",
       "    'center': '104.973835,30.257941',\n",
       "    'level': 'street',\n",
       "    'districts': []},\n",
       "   {'citycode': '0832',\n",
       "    'adcode': '512022',\n",
       "    'name': '南塔街道',\n",
       "    'center': '105.058307,30.263721',\n",
       "    'level': 'street',\n",
       "    'districts': []},\n",
       "   {'citycode': '0832',\n",
       "    'adcode': '512022',\n",
       "    'name': '东山镇',\n",
       "    'center': '105.063670,30.249636',\n",
       "    'level': 'street',\n",
       "    'districts': []},\n",
       "   {'citycode': '0832',\n",
       "    'adcode': '512022',\n",
       "    'name': '童家镇',\n",
       "    'center': '104.896388,30.317773',\n",
       "    'level': 'street',\n",
       "    'districts': []},\n",
       "   {'citycode': '0832',\n",
       "    'adcode': '512022',\n",
       "    'name': '良安镇',\n",
       "    'center': '105.004311,30.452721',\n",
       "    'level': 'street',\n",
       "    'districts': []},\n",
       "   {'citycode': '0832',\n",
       "    'adcode': '512022',\n",
       "    'name': '大佛镇',\n",
       "    'center': '104.946103,30.417817',\n",
       "    'level': 'street',\n",
       "    'districts': []},\n",
       "   {'citycode': '0832',\n",
       "    'adcode': '512022',\n",
       "    'name': '金顺镇',\n",
       "    'center': '104.943420,30.567035',\n",
       "    'level': 'street',\n",
       "    'districts': []},\n",
       "   {'citycode': '0832',\n",
       "    'adcode': '512022',\n",
       "    'name': '高寺镇',\n",
       "    'center': '104.824525,30.256116',\n",
       "    'level': 'street',\n",
       "    'districts': []}]}]"
      ]
     },
     "execution_count": 15,
     "metadata": {},
     "output_type": "execute_result"
    }
   ],
   "source": [
    "districts = content['districts']\n",
    "districts"
   ]
  },
  {
   "cell_type": "code",
   "execution_count": 22,
   "id": "da736bd4",
   "metadata": {
    "execution": {
     "iopub.execute_input": "2022-10-30T07:36:11.198233Z",
     "iopub.status.busy": "2022-10-30T07:36:11.198233Z",
     "iopub.status.idle": "2022-10-30T07:36:11.213192Z",
     "shell.execute_reply": "2022-10-30T07:36:11.212193Z",
     "shell.execute_reply.started": "2022-10-30T07:36:11.198233Z"
    }
   },
   "outputs": [
    {
     "data": {
      "text/plain": [
       "[['乐至县', '105.019823,30.275418'],\n",
       " ['中天镇', '104.834418,30.257969'],\n",
       " ['双河场乡', '105.148637,30.121509'],\n",
       " ['宝林镇', '105.101098,30.385379'],\n",
       " ['佛星镇', '104.932145,30.187134'],\n",
       " ['通旅镇', '105.055186,30.076271'],\n",
       " ['石佛镇', '105.080263,30.312495'],\n",
       " ['中和场镇', '105.057036,30.532314'],\n",
       " ['蟠龙镇', '105.219953,30.241809'],\n",
       " ['龙门镇', '105.088820,30.369821'],\n",
       " ['劳动镇', '104.978115,30.442901'],\n",
       " ['石湍镇', '105.053496,30.181772'],\n",
       " ['盛池镇', '105.037571,30.477649'],\n",
       " ['回澜镇', '105.247287,30.136991'],\n",
       " ['天池街道', '104.973835,30.257941'],\n",
       " ['南塔街道', '105.058307,30.263721'],\n",
       " ['东山镇', '105.063670,30.249636'],\n",
       " ['童家镇', '104.896388,30.317773'],\n",
       " ['良安镇', '105.004311,30.452721'],\n",
       " ['大佛镇', '104.946103,30.417817'],\n",
       " ['金顺镇', '104.943420,30.567035'],\n",
       " ['高寺镇', '104.824525,30.256116']]"
      ]
     },
     "execution_count": 22,
     "metadata": {},
     "output_type": "execute_result"
    }
   ],
   "source": [
    "slist=[]\n",
    "for i in range(len(districts)):\n",
    "    name = districts[i]['name']\n",
    "    center = districts[i]['center']\n",
    "    slist.append([name,center])\n",
    "for i in districts[0]['districts']:\n",
    "    name = i['name']\n",
    "    center = i['center']\n",
    "    slist.append([name,center])\n",
    "slist"
   ]
  },
  {
   "cell_type": "code",
   "execution_count": 23,
   "id": "914e4521",
   "metadata": {
    "execution": {
     "iopub.execute_input": "2022-10-30T07:36:30.562984Z",
     "iopub.status.busy": "2022-10-30T07:36:30.562984Z",
     "iopub.status.idle": "2022-10-30T07:36:31.142861Z",
     "shell.execute_reply": "2022-10-30T07:36:31.141860Z",
     "shell.execute_reply.started": "2022-10-30T07:36:30.562984Z"
    }
   },
   "outputs": [],
   "source": [
    "import pandas as pd"
   ]
  },
  {
   "cell_type": "code",
   "execution_count": 24,
   "id": "8eb344fc",
   "metadata": {
    "execution": {
     "iopub.execute_input": "2022-10-30T07:37:17.892941Z",
     "iopub.status.busy": "2022-10-30T07:37:17.892941Z",
     "iopub.status.idle": "2022-10-30T07:37:18.085865Z",
     "shell.execute_reply": "2022-10-30T07:37:18.085001Z",
     "shell.execute_reply.started": "2022-10-30T07:37:17.892941Z"
    }
   },
   "outputs": [],
   "source": [
    "pd.DataFrame(slist).to_csv('lezhi_pos.csv')"
   ]
  }
 ],
 "metadata": {
  "kernelspec": {
   "display_name": "Geoox",
   "language": "python",
   "name": "geoox"
  },
  "language_info": {
   "codemirror_mode": {
    "name": "ipython",
    "version": 3
   },
   "file_extension": ".py",
   "mimetype": "text/x-python",
   "name": "python",
   "nbconvert_exporter": "python",
   "pygments_lexer": "ipython3",
   "version": "3.10.4"
  }
 },
 "nbformat": 4,
 "nbformat_minor": 5
}
