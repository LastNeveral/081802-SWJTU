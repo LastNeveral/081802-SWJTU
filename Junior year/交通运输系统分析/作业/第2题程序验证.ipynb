{
 "cells": [
  {
   "cell_type": "code",
   "execution_count": 1,
   "id": "3e6a7020",
   "metadata": {
    "execution": {
     "iopub.execute_input": "2022-10-12T11:47:48.906620Z",
     "iopub.status.busy": "2022-10-12T11:47:48.905624Z",
     "iopub.status.idle": "2022-10-12T11:47:49.068412Z",
     "shell.execute_reply": "2022-10-12T11:47:49.067501Z",
     "shell.execute_reply.started": "2022-10-12T11:47:48.905624Z"
    }
   },
   "outputs": [],
   "source": [
    "import numpy as np"
   ]
  },
  {
   "cell_type": "code",
   "execution_count": 4,
   "id": "5272825c",
   "metadata": {
    "execution": {
     "iopub.execute_input": "2022-10-12T11:47:53.288613Z",
     "iopub.status.busy": "2022-10-12T11:47:53.287639Z",
     "iopub.status.idle": "2022-10-12T11:47:53.294598Z",
     "shell.execute_reply": "2022-10-12T11:47:53.293600Z",
     "shell.execute_reply.started": "2022-10-12T11:47:53.288613Z"
    }
   },
   "outputs": [],
   "source": [
    "# 输入数据\n",
    "A=[[1,1/2,4,3,3],[2,1,7,5,5],[0.25,1/7,1,1/2,1/3],[1/3,1/5,2,1,1],[1/3,1/5,3,1,1]]\n",
    "A=np.array(A)"
   ]
  },
  {
   "cell_type": "code",
   "execution_count": 5,
   "id": "96ced930",
   "metadata": {
    "execution": {
     "iopub.execute_input": "2022-10-12T11:47:53.846188Z",
     "iopub.status.busy": "2022-10-12T11:47:53.846188Z",
     "iopub.status.idle": "2022-10-12T11:47:53.861414Z",
     "shell.execute_reply": "2022-10-12T11:47:53.860197Z",
     "shell.execute_reply.started": "2022-10-12T11:47:53.846188Z"
    }
   },
   "outputs": [
    {
     "data": {
      "text/plain": [
       "array([[1.        , 0.5       , 4.        , 3.        , 3.        ],\n",
       "       [2.        , 1.        , 7.        , 5.        , 5.        ],\n",
       "       [0.25      , 0.14285714, 1.        , 0.5       , 0.33333333],\n",
       "       [0.33333333, 0.2       , 2.        , 1.        , 1.        ],\n",
       "       [0.33333333, 0.2       , 3.        , 1.        , 1.        ]])"
      ]
     },
     "execution_count": 5,
     "metadata": {},
     "output_type": "execute_result"
    }
   ],
   "source": [
    "A"
   ]
  },
  {
   "cell_type": "code",
   "execution_count": 6,
   "id": "3b431f5c",
   "metadata": {
    "execution": {
     "iopub.execute_input": "2022-10-12T11:47:54.585985Z",
     "iopub.status.busy": "2022-10-12T11:47:54.585985Z",
     "iopub.status.idle": "2022-10-12T11:47:54.601064Z",
     "shell.execute_reply": "2022-10-12T11:47:54.600146Z",
     "shell.execute_reply.started": "2022-10-12T11:47:54.585985Z"
    }
   },
   "outputs": [],
   "source": [
    "# 列求和归一化\n",
    "a1 =A/A.sum(axis=0)"
   ]
  },
  {
   "cell_type": "code",
   "execution_count": 7,
   "id": "fa909a3b",
   "metadata": {
    "execution": {
     "iopub.execute_input": "2022-10-12T11:47:55.367626Z",
     "iopub.status.busy": "2022-10-12T11:47:55.367626Z",
     "iopub.status.idle": "2022-10-12T11:47:55.373608Z",
     "shell.execute_reply": "2022-10-12T11:47:55.373608Z",
     "shell.execute_reply.started": "2022-10-12T11:47:55.367626Z"
    }
   },
   "outputs": [
    {
     "data": {
      "text/plain": [
       "array([[0.25531915, 0.24475524, 0.23529412, 0.28571429, 0.29032258],\n",
       "       [0.5106383 , 0.48951049, 0.41176471, 0.47619048, 0.48387097],\n",
       "       [0.06382979, 0.06993007, 0.05882353, 0.04761905, 0.03225806],\n",
       "       [0.08510638, 0.0979021 , 0.11764706, 0.0952381 , 0.09677419],\n",
       "       [0.08510638, 0.0979021 , 0.17647059, 0.0952381 , 0.09677419]])"
      ]
     },
     "execution_count": 7,
     "metadata": {},
     "output_type": "execute_result"
    }
   ],
   "source": [
    "a1"
   ]
  },
  {
   "cell_type": "code",
   "execution_count": 8,
   "id": "7495b400",
   "metadata": {
    "execution": {
     "iopub.execute_input": "2022-10-12T11:47:55.955506Z",
     "iopub.status.busy": "2022-10-12T11:47:55.955506Z",
     "iopub.status.idle": "2022-10-12T11:47:55.976548Z",
     "shell.execute_reply": "2022-10-12T11:47:55.975712Z",
     "shell.execute_reply.started": "2022-10-12T11:47:55.955506Z"
    }
   },
   "outputs": [
    {
     "data": {
      "text/plain": [
       "array([1.31140538, 2.37197494, 0.2724605 , 0.49266783, 0.55149136])"
      ]
     },
     "execution_count": 8,
     "metadata": {},
     "output_type": "execute_result"
    }
   ],
   "source": [
    "# 行求和\n",
    "a2 = a1.sum(axis=1)\n",
    "a2"
   ]
  },
  {
   "cell_type": "code",
   "execution_count": 9,
   "id": "110eea77",
   "metadata": {
    "execution": {
     "iopub.execute_input": "2022-10-12T11:47:57.455537Z",
     "iopub.status.busy": "2022-10-12T11:47:57.455537Z",
     "iopub.status.idle": "2022-10-12T11:47:57.475502Z",
     "shell.execute_reply": "2022-10-12T11:47:57.474505Z",
     "shell.execute_reply.started": "2022-10-12T11:47:57.455537Z"
    }
   },
   "outputs": [
    {
     "data": {
      "text/plain": [
       "array([0.26228108, 0.47439499, 0.0544921 , 0.09853357, 0.11029827])"
      ]
     },
     "execution_count": 9,
     "metadata": {},
     "output_type": "execute_result"
    }
   ],
   "source": [
    "# 行结果归一化\n",
    "w = a2/a2.sum()\n",
    "w"
   ]
  },
  {
   "cell_type": "code",
   "execution_count": 10,
   "id": "28a447db",
   "metadata": {
    "execution": {
     "iopub.execute_input": "2022-10-12T11:47:59.384109Z",
     "iopub.status.busy": "2022-10-12T11:47:59.384109Z",
     "iopub.status.idle": "2022-10-12T11:47:59.392082Z",
     "shell.execute_reply": "2022-10-12T11:47:59.391131Z",
     "shell.execute_reply.started": "2022-10-12T11:47:59.384109Z"
    }
   },
   "outputs": [
    {
     "data": {
      "text/plain": [
       "5.07293180152562"
      ]
     },
     "execution_count": 10,
     "metadata": {},
     "output_type": "execute_result"
    }
   ],
   "source": [
    "# 最大特征根\n",
    "k = (np.dot(A,w)/w/5).sum()\n",
    "k"
   ]
  },
  {
   "cell_type": "code",
   "execution_count": 15,
   "id": "ca2399bc",
   "metadata": {
    "execution": {
     "iopub.execute_input": "2022-10-12T11:49:04.037754Z",
     "iopub.status.busy": "2022-10-12T11:49:04.037754Z",
     "iopub.status.idle": "2022-10-12T11:49:04.054066Z",
     "shell.execute_reply": "2022-10-12T11:49:04.054066Z",
     "shell.execute_reply.started": "2022-10-12T11:49:04.037754Z"
    }
   },
   "outputs": [
    {
     "data": {
      "text/plain": [
       "0.017906462734853867"
      ]
     },
     "execution_count": 15,
     "metadata": {},
     "output_type": "execute_result"
    }
   ],
   "source": [
    "# 进行一致性检验\n",
    "CI = (k-len(A))/(k-1)\n",
    "CI"
   ]
  },
  {
   "cell_type": "code",
   "execution_count": 16,
   "id": "2d831d58",
   "metadata": {
    "execution": {
     "iopub.execute_input": "2022-10-12T11:50:00.371617Z",
     "iopub.status.busy": "2022-10-12T11:50:00.371617Z",
     "iopub.status.idle": "2022-10-12T11:50:00.388372Z",
     "shell.execute_reply": "2022-10-12T11:50:00.387326Z",
     "shell.execute_reply.started": "2022-10-12T11:50:00.371617Z"
    }
   },
   "outputs": [
    {
     "data": {
      "text/plain": [
       "0.015987913156119523"
      ]
     },
     "execution_count": 16,
     "metadata": {},
     "output_type": "execute_result"
    }
   ],
   "source": [
    "RI = 1.12\n",
    "CR = CI/RI\n",
    "CR"
   ]
  },
  {
   "cell_type": "code",
   "execution_count": 18,
   "id": "eccd9b2c",
   "metadata": {
    "execution": {
     "iopub.execute_input": "2022-10-12T11:51:14.162845Z",
     "iopub.status.busy": "2022-10-12T11:51:14.162845Z",
     "iopub.status.idle": "2022-10-12T11:51:14.170118Z",
     "shell.execute_reply": "2022-10-12T11:51:14.169207Z",
     "shell.execute_reply.started": "2022-10-12T11:51:14.162845Z"
    }
   },
   "outputs": [
    {
     "name": "stdout",
     "output_type": "stream",
     "text": [
      "通过,CR=0.015988\n",
      "w = [0.26228108 0.47439499 0.0544921  0.09853357 0.11029827]\n"
     ]
    }
   ],
   "source": [
    "if CR>0.1:\n",
    "    print('未通过一致性检验')\n",
    "else:\n",
    "    print('通过,CR=%f'%CR)\n",
    "    print('w =',w)"
   ]
  },
  {
   "cell_type": "code",
   "execution_count": null,
   "id": "3d6f7dad",
   "metadata": {},
   "outputs": [],
   "source": []
  }
 ],
 "metadata": {
  "kernelspec": {
   "display_name": "Python 3 (ipykernel)",
   "language": "python",
   "name": "python3"
  },
  "language_info": {
   "codemirror_mode": {
    "name": "ipython",
    "version": 3
   },
   "file_extension": ".py",
   "mimetype": "text/x-python",
   "name": "python",
   "nbconvert_exporter": "python",
   "pygments_lexer": "ipython3",
   "version": "3.9.7"
  }
 },
 "nbformat": 4,
 "nbformat_minor": 5
}
