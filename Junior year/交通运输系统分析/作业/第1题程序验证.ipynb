{
 "cells": [
  {
   "cell_type": "code",
   "execution_count": 9,
   "id": "a4d5b729",
   "metadata": {
    "execution": {
     "iopub.execute_input": "2022-10-12T11:44:35.269158Z",
     "iopub.status.busy": "2022-10-12T11:44:35.269158Z",
     "iopub.status.idle": "2022-10-12T11:44:35.286224Z",
     "shell.execute_reply": "2022-10-12T11:44:35.285285Z",
     "shell.execute_reply.started": "2022-10-12T11:44:35.269158Z"
    }
   },
   "outputs": [],
   "source": [
    "import numpy as np"
   ]
  },
  {
   "cell_type": "code",
   "execution_count": 10,
   "id": "8479df4a",
   "metadata": {
    "execution": {
     "iopub.execute_input": "2022-10-12T11:44:38.003924Z",
     "iopub.status.busy": "2022-10-12T11:44:38.002961Z",
     "iopub.status.idle": "2022-10-12T11:44:38.185436Z",
     "shell.execute_reply": "2022-10-12T11:44:38.184440Z",
     "shell.execute_reply.started": "2022-10-12T11:44:38.003924Z"
    }
   },
   "outputs": [
    {
     "data": {
      "text/plain": [
       "array([[1.        , 0.2       , 0.33333333],\n",
       "       [5.        , 1.        , 3.        ],\n",
       "       [3.        , 0.33333333, 1.        ]])"
      ]
     },
     "execution_count": 10,
     "metadata": {},
     "output_type": "execute_result"
    }
   ],
   "source": [
    "# 读入数据\n",
    "A = [[1,1/5,1/3],[5,1,3],[3,1/3,1]]\n",
    "A = np.array(A)\n",
    "A"
   ]
  },
  {
   "cell_type": "code",
   "execution_count": 11,
   "id": "5f11a1a3",
   "metadata": {
    "execution": {
     "iopub.execute_input": "2022-10-12T11:44:40.216512Z",
     "iopub.status.busy": "2022-10-12T11:44:40.215515Z",
     "iopub.status.idle": "2022-10-12T11:44:40.224490Z",
     "shell.execute_reply": "2022-10-12T11:44:40.223539Z",
     "shell.execute_reply.started": "2022-10-12T11:44:40.216512Z"
    }
   },
   "outputs": [
    {
     "data": {
      "text/plain": [
       "array([9.        , 1.53333333, 4.33333333])"
      ]
     },
     "execution_count": 11,
     "metadata": {},
     "output_type": "execute_result"
    }
   ],
   "source": [
    "# 求列和\n",
    "a1 = A.sum(axis=0)\n",
    "a1"
   ]
  },
  {
   "cell_type": "code",
   "execution_count": 12,
   "id": "f31cce4f",
   "metadata": {
    "execution": {
     "iopub.execute_input": "2022-10-12T11:44:41.592784Z",
     "iopub.status.busy": "2022-10-12T11:44:41.592784Z",
     "iopub.status.idle": "2022-10-12T11:44:41.711550Z",
     "shell.execute_reply": "2022-10-12T11:44:41.711550Z",
     "shell.execute_reply.started": "2022-10-12T11:44:41.592784Z"
    }
   },
   "outputs": [
    {
     "data": {
      "text/plain": [
       "array([[0.11111111, 0.13043478, 0.07692308],\n",
       "       [0.55555556, 0.65217391, 0.69230769],\n",
       "       [0.33333333, 0.2173913 , 0.23076923]])"
      ]
     },
     "execution_count": 12,
     "metadata": {},
     "output_type": "execute_result"
    }
   ],
   "source": [
    "# 列归一化\n",
    "a2 = A/a1\n",
    "a2"
   ]
  },
  {
   "cell_type": "code",
   "execution_count": 13,
   "id": "73bceada",
   "metadata": {
    "execution": {
     "iopub.execute_input": "2022-10-12T11:44:42.242916Z",
     "iopub.status.busy": "2022-10-12T11:44:42.241925Z",
     "iopub.status.idle": "2022-10-12T11:44:42.362489Z",
     "shell.execute_reply": "2022-10-12T11:44:42.361632Z",
     "shell.execute_reply.started": "2022-10-12T11:44:42.242916Z"
    }
   },
   "outputs": [
    {
     "data": {
      "text/plain": [
       "array([0.31846897, 1.90003716, 0.78149387])"
      ]
     },
     "execution_count": 13,
     "metadata": {},
     "output_type": "execute_result"
    }
   ],
   "source": [
    "# 行求和\n",
    "a3 = a2.sum(axis=1)\n",
    "a3"
   ]
  },
  {
   "cell_type": "code",
   "execution_count": 14,
   "id": "554f7d93",
   "metadata": {
    "execution": {
     "iopub.execute_input": "2022-10-12T11:44:42.801651Z",
     "iopub.status.busy": "2022-10-12T11:44:42.800655Z",
     "iopub.status.idle": "2022-10-12T11:44:42.822244Z",
     "shell.execute_reply": "2022-10-12T11:44:42.820967Z",
     "shell.execute_reply.started": "2022-10-12T11:44:42.801651Z"
    }
   },
   "outputs": [
    {
     "data": {
      "text/plain": [
       "array([0.10615632, 0.63334572, 0.26049796])"
      ]
     },
     "execution_count": 14,
     "metadata": {},
     "output_type": "execute_result"
    }
   ],
   "source": [
    "# 归一化求权重w\n",
    "w = a3/a3.sum()\n",
    "w"
   ]
  },
  {
   "cell_type": "code",
   "execution_count": 15,
   "id": "afa88571",
   "metadata": {
    "execution": {
     "iopub.execute_input": "2022-10-12T11:44:43.419671Z",
     "iopub.status.busy": "2022-10-12T11:44:43.419671Z",
     "iopub.status.idle": "2022-10-12T11:44:43.614658Z",
     "shell.execute_reply": "2022-10-12T11:44:43.613746Z",
     "shell.execute_reply.started": "2022-10-12T11:44:43.419671Z"
    }
   },
   "outputs": [
    {
     "data": {
      "text/plain": [
       "3.0387146809594667"
      ]
     },
     "execution_count": 15,
     "metadata": {},
     "output_type": "execute_result"
    }
   ],
   "source": [
    "# 求特征根值\n",
    "k = (np.dot(A,w)/w).mean()\n",
    "k"
   ]
  },
  {
   "cell_type": "code",
   "execution_count": 16,
   "id": "e36fcd6f",
   "metadata": {
    "execution": {
     "iopub.execute_input": "2022-10-12T11:44:44.827240Z",
     "iopub.status.busy": "2022-10-12T11:44:44.827240Z",
     "iopub.status.idle": "2022-10-12T11:44:44.834301Z",
     "shell.execute_reply": "2022-10-12T11:44:44.834301Z",
     "shell.execute_reply.started": "2022-10-12T11:44:44.827240Z"
    }
   },
   "outputs": [
    {
     "data": {
      "text/plain": [
       "0.018989749434308627"
      ]
     },
     "execution_count": 16,
     "metadata": {},
     "output_type": "execute_result"
    }
   ],
   "source": [
    "# 一致性检验\n",
    "CI = (k-len(A))/(k-1)\n",
    "CI"
   ]
  },
  {
   "cell_type": "code",
   "execution_count": 17,
   "id": "89a70c30",
   "metadata": {
    "execution": {
     "iopub.execute_input": "2022-10-12T11:44:45.396587Z",
     "iopub.status.busy": "2022-10-12T11:44:45.395590Z",
     "iopub.status.idle": "2022-10-12T11:44:45.418529Z",
     "shell.execute_reply": "2022-10-12T11:44:45.417754Z",
     "shell.execute_reply.started": "2022-10-12T11:44:45.396587Z"
    }
   },
   "outputs": [
    {
     "name": "stdout",
     "output_type": "stream",
     "text": [
      "满足,CR=0.036519\n"
     ]
    }
   ],
   "source": [
    "RI = 0.52\n",
    "CR = CI/RI\n",
    "if CR>0.1:\n",
    "    print('不满足一致性检验')\n",
    "else:\n",
    "    print('满足,CR=%f'%CR)"
   ]
  },
  {
   "cell_type": "code",
   "execution_count": 18,
   "id": "187b05a2",
   "metadata": {
    "execution": {
     "iopub.execute_input": "2022-10-12T11:44:46.865831Z",
     "iopub.status.busy": "2022-10-12T11:44:46.865831Z",
     "iopub.status.idle": "2022-10-12T11:44:46.871847Z",
     "shell.execute_reply": "2022-10-12T11:44:46.871847Z",
     "shell.execute_reply.started": "2022-10-12T11:44:46.865831Z"
    }
   },
   "outputs": [],
   "source": [
    "# 求得分\n",
    "c1 = np.array([0.64,0.25,0.11])\n",
    "c2 = np.array([0.24,0.55,0.21])\n",
    "c3 = np.array([0.34,0.25,0.41])\n"
   ]
  },
  {
   "cell_type": "code",
   "execution_count": 23,
   "id": "2b3213db",
   "metadata": {
    "execution": {
     "iopub.execute_input": "2022-10-12T11:47:43.714469Z",
     "iopub.status.busy": "2022-10-12T11:47:43.714469Z",
     "iopub.status.idle": "2022-10-12T11:47:43.727263Z",
     "shell.execute_reply": "2022-10-12T11:47:43.726310Z",
     "shell.execute_reply.started": "2022-10-12T11:47:43.714469Z"
    }
   },
   "outputs": [
    {
     "name": "stdout",
     "output_type": "stream",
     "text": [
      "score1=0.255\n",
      "score2=0.429\n",
      "score3=0.301\n"
     ]
    }
   ],
   "source": [
    "score1 = (c1*w).sum()\n",
    "score2 = (c2*w).sum()\n",
    "score3 = (c3*w).sum()\n",
    "print('score1=%0.3f'%score1)\n",
    "print('score2=%0.3f'%score2)\n",
    "print('score3=%0.3f'%score3)"
   ]
  },
  {
   "cell_type": "code",
   "execution_count": null,
   "id": "0e0987c9",
   "metadata": {},
   "outputs": [],
   "source": []
  },
  {
   "cell_type": "code",
   "execution_count": 24,
   "id": "bb4a4b39",
   "metadata": {
    "execution": {
     "iopub.execute_input": "2022-10-12T12:35:37.332641Z",
     "iopub.status.busy": "2022-10-12T12:35:37.330378Z",
     "iopub.status.idle": "2022-10-12T12:35:37.365300Z",
     "shell.execute_reply": "2022-10-12T12:35:37.363306Z",
     "shell.execute_reply.started": "2022-10-12T12:35:37.332516Z"
    }
   },
   "outputs": [],
   "source": [
    "w=np.array([0.106,0.633,0.261])"
   ]
  },
  {
   "cell_type": "code",
   "execution_count": 25,
   "id": "242492e5",
   "metadata": {
    "execution": {
     "iopub.execute_input": "2022-10-12T12:35:59.170465Z",
     "iopub.status.busy": "2022-10-12T12:35:59.169450Z",
     "iopub.status.idle": "2022-10-12T12:35:59.185406Z",
     "shell.execute_reply": "2022-10-12T12:35:59.184423Z",
     "shell.execute_reply.started": "2022-10-12T12:35:59.170465Z"
    }
   },
   "outputs": [
    {
     "data": {
      "text/plain": [
       "array([0.3196, 1.946 , 0.79  ])"
      ]
     },
     "execution_count": 25,
     "metadata": {},
     "output_type": "execute_result"
    }
   ],
   "source": [
    "np.dot(A,w)"
   ]
  }
 ],
 "metadata": {
  "kernelspec": {
   "display_name": "Python 3 (ipykernel)",
   "language": "python",
   "name": "python3"
  },
  "language_info": {
   "codemirror_mode": {
    "name": "ipython",
    "version": 3
   },
   "file_extension": ".py",
   "mimetype": "text/x-python",
   "name": "python",
   "nbconvert_exporter": "python",
   "pygments_lexer": "ipython3",
   "version": "3.9.7"
  }
 },
 "nbformat": 4,
 "nbformat_minor": 5
}
