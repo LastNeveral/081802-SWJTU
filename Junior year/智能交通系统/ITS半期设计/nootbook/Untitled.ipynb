{
 "cells": [
  {
   "cell_type": "code",
   "execution_count": 1,
   "id": "955a6bfc",
   "metadata": {
    "execution": {
     "iopub.execute_input": "2023-04-26T04:56:19.972414Z",
     "iopub.status.busy": "2023-04-26T04:56:19.971438Z",
     "iopub.status.idle": "2023-04-26T04:56:20.086607Z",
     "shell.execute_reply": "2023-04-26T04:56:20.086607Z",
     "shell.execute_reply.started": "2023-04-26T04:56:19.972414Z"
    }
   },
   "outputs": [],
   "source": [
    "import sys\n",
    "import PyQt5"
   ]
  },
  {
   "cell_type": "code",
   "execution_count": 2,
   "id": "d6415b67",
   "metadata": {
    "execution": {
     "iopub.execute_input": "2023-04-26T04:56:48.436442Z",
     "iopub.status.busy": "2023-04-26T04:56:48.436442Z",
     "iopub.status.idle": "2023-04-26T04:56:48.834395Z",
     "shell.execute_reply": "2023-04-26T04:56:48.834395Z",
     "shell.execute_reply.started": "2023-04-26T04:56:48.436442Z"
    }
   },
   "outputs": [
    {
     "ename": "ModuleNotFoundError",
     "evalue": "No module named 'simulate'",
     "output_type": "error",
     "traceback": [
      "\u001b[1;31m---------------------------------------------------------------------------\u001b[0m",
      "\u001b[1;31mModuleNotFoundError\u001b[0m                       Traceback (most recent call last)",
      "\u001b[1;32m~\\AppData\\Local\\Temp/ipykernel_8884/470176577.py\u001b[0m in \u001b[0;36m<module>\u001b[1;34m\u001b[0m\n\u001b[1;32m----> 1\u001b[1;33m \u001b[1;32mimport\u001b[0m \u001b[0msimulate\u001b[0m\u001b[1;33m\u001b[0m\u001b[1;33m\u001b[0m\u001b[0m\n\u001b[0m",
      "\u001b[1;31mModuleNotFoundError\u001b[0m: No module named 'simulate'"
     ]
    }
   ],
   "source": [
    "import simulate"
   ]
  }
 ],
 "metadata": {
  "kernelspec": {
   "display_name": "Python 3 (ipykernel)",
   "language": "python",
   "name": "python3"
  },
  "language_info": {
   "codemirror_mode": {
    "name": "ipython",
    "version": 3
   },
   "file_extension": ".py",
   "mimetype": "text/x-python",
   "name": "python",
   "nbconvert_exporter": "python",
   "pygments_lexer": "ipython3",
   "version": "3.9.7"
  }
 },
 "nbformat": 4,
 "nbformat_minor": 5
}
