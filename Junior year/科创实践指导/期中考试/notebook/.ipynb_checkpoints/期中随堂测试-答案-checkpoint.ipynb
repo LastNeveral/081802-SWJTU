{
 "cells": [
  {
   "cell_type": "markdown",
   "id": "8424d76c-ef13-4282-bf65-00ea5efa27dd",
   "metadata": {
    "execution": {
     "iopub.execute_input": "2022-10-16T09:16:34.262036Z",
     "iopub.status.busy": "2022-10-16T09:16:34.261039Z",
     "iopub.status.idle": "2022-10-16T09:16:34.272272Z",
     "shell.execute_reply": "2022-10-16T09:16:34.272272Z",
     "shell.execute_reply.started": "2022-10-16T09:16:34.262036Z"
    },
    "tags": []
   },
   "source": [
    "# 科研创新实践期中随堂测验（Pandas数据分析）"
   ]
  },
  {
   "cell_type": "markdown",
   "id": "8aa2439b-5d2b-4020-a6a9-919941f37129",
   "metadata": {},
   "source": [
    "## Customer Personality Analysis (市场营销与用户数据)\n",
    "### Context （背景介绍）\n",
    "Problem Statement\n",
    "\n",
    "Customer Personality Analysis is a detailed analysis of a company’s ideal customers. It helps a business to better understand its customers and makes it easier for them to modify products according to the specific needs, behaviors and concerns of different types of customers.\n",
    "\n",
    "Customer personality analysis helps a business to modify its product based on its target customers from different types of customer segments. For example, instead of spending money to market a new product to every customer in the company’s database, a company can analyze which customer segment is most likely to buy the product and then market the product only on that particular segment.\n",
    "\n",
    "### Data Attributes （数据字段介绍）\n",
    "\n",
    "#### People\n",
    "\n",
    "* ID: Customer's unique identifier，用户ID\n",
    "* Year_Birth: Customer's birth year，出生年月\n",
    "* Education: Customer's education level，教育程度\n",
    "* Marital_Status: Customer's marital status，婚姻状态\n",
    "* Income: Customer's yearly household income，收入\n",
    "* Kidhome: Number of children in customer's household，家庭小孩数量\n",
    "* Teenhome: Number of teenagers in customer's household，家庭青少年数量\n",
    "* Dt_Customer: Date of customer's enrollment with the company，用户注册时间\n",
    "* Recency: Number of days since customer's last purchase，至上次购物时间\n",
    "* Complain: 1 if the customer complained in the last 2 years, 0 otherwise，过去两年是否投诉过\n",
    "#### Products\n",
    "\n",
    "* MntWines: Amount spent on wine in last 2 years，酒类花费\n",
    "* MntFruits: Amount spent on fruits in last 2 years，水果花费\n",
    "* MntMeatProducts: Amount spent on meat in last 2 years，肉类花费\n",
    "* MntFishProducts: Amount spent on fish in last 2 years，鱼类花费\n",
    "* MntSweetProducts: Amount spent on sweets in last 2 years，甜品花费\n",
    "* MntGoldProds: Amount spent on gold in last 2 years，金属花费\n",
    "#### Promotion\n",
    "\n",
    "* NumDealsPurchases: Number of purchases made with a discount，使用折扣次数\n",
    "* AcceptedCmp1: 1 if customer accepted the offer in the 1st campaign, 0 otherwise，首次促销时使用折扣\n",
    "* AcceptedCmp2: 1 if customer accepted the offer in the 2nd campaign, 0 otherwise，第2次促销时使用折扣\n",
    "* AcceptedCmp3: 1 if customer accepted the offer in the 3rd campaign, 0 otherwise，第3次促销时使用折扣，第2次促销时使用折扣\n",
    "* AcceptedCmp4: 1 if customer accepted the offer in the 4th campaign, 0 otherwise，第4次促销时使用折扣\n",
    "* AcceptedCmp5: 1 if customer accepted the offer in the 5th campaign, 0 otherwise，第5次促销时使用折扣\n",
    "* Response: 1 if customer accepted the offer in the last campaign, 0 otherwise，最后促销时使用折扣\n",
    "#### Place\n",
    "\n",
    "* NumWebPurchases: Number of purchases made through the company’s website，网站购物次数\n",
    "* NumCatalogPurchases: Number of purchases made using a catalogue，第三方购买次数\n",
    "* NumStorePurchases: Number of purchases made directly in stores，商店购物次数\n",
    "* NumWebVisitsMonth: Number of visits to company’s website in the last month，上月网站访问次数"
   ]
  },
  {
   "cell_type": "markdown",
   "id": "aa8a4719-f7d7-4f90-a6ba-926addaf1400",
   "metadata": {},
   "source": [
    "### 问题1：导入Pandas包，读取数据文件(../data/marketing_campaign.csv)，打印数据行列数大小\n",
    "\n",
    "<div style='color: red;'>注意：文件分隔符为\\t，pandas读取数据时需指定参数sep='\\t'</div>"
   ]
  },
  {
   "cell_type": "code",
   "execution_count": 1,
   "id": "770d25e1-f7dc-4e1f-a785-cd0af627f53d",
   "metadata": {
    "execution": {
     "iopub.execute_input": "2022-10-16T12:42:40.505293Z",
     "iopub.status.busy": "2022-10-16T12:42:40.505293Z",
     "iopub.status.idle": "2022-10-16T12:42:40.764770Z",
     "shell.execute_reply": "2022-10-16T12:42:40.764770Z",
     "shell.execute_reply.started": "2022-10-16T12:42:40.505293Z"
    },
    "tags": []
   },
   "outputs": [],
   "source": [
    "import pandas as pd"
   ]
  },
  {
   "cell_type": "code",
   "execution_count": null,
   "id": "f8a64e3b-e284-4ee1-944e-99d61a333949",
   "metadata": {},
   "outputs": [],
   "source": []
  },
  {
   "cell_type": "code",
   "execution_count": 8,
   "id": "ee6f7945-33fa-491f-8c44-385691b2250f",
   "metadata": {
    "execution": {
     "iopub.execute_input": "2022-10-16T09:21:53.670834Z",
     "iopub.status.busy": "2022-10-16T09:21:53.670834Z",
     "iopub.status.idle": "2022-10-16T09:21:53.698792Z",
     "shell.execute_reply": "2022-10-16T09:21:53.698792Z",
     "shell.execute_reply.started": "2022-10-16T09:21:53.670834Z"
    },
    "tags": []
   },
   "outputs": [
    {
     "data": {
      "text/html": [
       "<div>\n",
       "<style scoped>\n",
       "    .dataframe tbody tr th:only-of-type {\n",
       "        vertical-align: middle;\n",
       "    }\n",
       "\n",
       "    .dataframe tbody tr th {\n",
       "        vertical-align: top;\n",
       "    }\n",
       "\n",
       "    .dataframe thead th {\n",
       "        text-align: right;\n",
       "    }\n",
       "</style>\n",
       "<table border=\"1\" class=\"dataframe\">\n",
       "  <thead>\n",
       "    <tr style=\"text-align: right;\">\n",
       "      <th></th>\n",
       "      <th>ID</th>\n",
       "      <th>Year_Birth</th>\n",
       "      <th>Education</th>\n",
       "      <th>Marital_Status</th>\n",
       "      <th>Income</th>\n",
       "      <th>Kidhome</th>\n",
       "      <th>Teenhome</th>\n",
       "      <th>Dt_Customer</th>\n",
       "      <th>Recency</th>\n",
       "      <th>MntWines</th>\n",
       "      <th>...</th>\n",
       "      <th>NumWebVisitsMonth</th>\n",
       "      <th>AcceptedCmp3</th>\n",
       "      <th>AcceptedCmp4</th>\n",
       "      <th>AcceptedCmp5</th>\n",
       "      <th>AcceptedCmp1</th>\n",
       "      <th>AcceptedCmp2</th>\n",
       "      <th>Complain</th>\n",
       "      <th>Z_CostContact</th>\n",
       "      <th>Z_Revenue</th>\n",
       "      <th>Response</th>\n",
       "    </tr>\n",
       "  </thead>\n",
       "  <tbody>\n",
       "    <tr>\n",
       "      <th>0</th>\n",
       "      <td>5524</td>\n",
       "      <td>1957</td>\n",
       "      <td>Graduation</td>\n",
       "      <td>Single</td>\n",
       "      <td>58138.0</td>\n",
       "      <td>0</td>\n",
       "      <td>0</td>\n",
       "      <td>04-09-2012</td>\n",
       "      <td>58</td>\n",
       "      <td>635</td>\n",
       "      <td>...</td>\n",
       "      <td>7</td>\n",
       "      <td>0</td>\n",
       "      <td>0</td>\n",
       "      <td>0</td>\n",
       "      <td>0</td>\n",
       "      <td>0</td>\n",
       "      <td>0</td>\n",
       "      <td>3</td>\n",
       "      <td>11</td>\n",
       "      <td>1</td>\n",
       "    </tr>\n",
       "    <tr>\n",
       "      <th>1</th>\n",
       "      <td>2174</td>\n",
       "      <td>1954</td>\n",
       "      <td>Graduation</td>\n",
       "      <td>Single</td>\n",
       "      <td>46344.0</td>\n",
       "      <td>1</td>\n",
       "      <td>1</td>\n",
       "      <td>08-03-2014</td>\n",
       "      <td>38</td>\n",
       "      <td>11</td>\n",
       "      <td>...</td>\n",
       "      <td>5</td>\n",
       "      <td>0</td>\n",
       "      <td>0</td>\n",
       "      <td>0</td>\n",
       "      <td>0</td>\n",
       "      <td>0</td>\n",
       "      <td>0</td>\n",
       "      <td>3</td>\n",
       "      <td>11</td>\n",
       "      <td>0</td>\n",
       "    </tr>\n",
       "    <tr>\n",
       "      <th>2</th>\n",
       "      <td>4141</td>\n",
       "      <td>1965</td>\n",
       "      <td>Graduation</td>\n",
       "      <td>Together</td>\n",
       "      <td>71613.0</td>\n",
       "      <td>0</td>\n",
       "      <td>0</td>\n",
       "      <td>21-08-2013</td>\n",
       "      <td>26</td>\n",
       "      <td>426</td>\n",
       "      <td>...</td>\n",
       "      <td>4</td>\n",
       "      <td>0</td>\n",
       "      <td>0</td>\n",
       "      <td>0</td>\n",
       "      <td>0</td>\n",
       "      <td>0</td>\n",
       "      <td>0</td>\n",
       "      <td>3</td>\n",
       "      <td>11</td>\n",
       "      <td>0</td>\n",
       "    </tr>\n",
       "    <tr>\n",
       "      <th>3</th>\n",
       "      <td>6182</td>\n",
       "      <td>1984</td>\n",
       "      <td>Graduation</td>\n",
       "      <td>Together</td>\n",
       "      <td>26646.0</td>\n",
       "      <td>1</td>\n",
       "      <td>0</td>\n",
       "      <td>10-02-2014</td>\n",
       "      <td>26</td>\n",
       "      <td>11</td>\n",
       "      <td>...</td>\n",
       "      <td>6</td>\n",
       "      <td>0</td>\n",
       "      <td>0</td>\n",
       "      <td>0</td>\n",
       "      <td>0</td>\n",
       "      <td>0</td>\n",
       "      <td>0</td>\n",
       "      <td>3</td>\n",
       "      <td>11</td>\n",
       "      <td>0</td>\n",
       "    </tr>\n",
       "    <tr>\n",
       "      <th>4</th>\n",
       "      <td>5324</td>\n",
       "      <td>1981</td>\n",
       "      <td>PhD</td>\n",
       "      <td>Married</td>\n",
       "      <td>58293.0</td>\n",
       "      <td>1</td>\n",
       "      <td>0</td>\n",
       "      <td>19-01-2014</td>\n",
       "      <td>94</td>\n",
       "      <td>173</td>\n",
       "      <td>...</td>\n",
       "      <td>5</td>\n",
       "      <td>0</td>\n",
       "      <td>0</td>\n",
       "      <td>0</td>\n",
       "      <td>0</td>\n",
       "      <td>0</td>\n",
       "      <td>0</td>\n",
       "      <td>3</td>\n",
       "      <td>11</td>\n",
       "      <td>0</td>\n",
       "    </tr>\n",
       "  </tbody>\n",
       "</table>\n",
       "<p>5 rows × 29 columns</p>\n",
       "</div>"
      ],
      "text/plain": [
       "     ID  Year_Birth   Education Marital_Status   Income  Kidhome  Teenhome  \\\n",
       "0  5524        1957  Graduation         Single  58138.0        0         0   \n",
       "1  2174        1954  Graduation         Single  46344.0        1         1   \n",
       "2  4141        1965  Graduation       Together  71613.0        0         0   \n",
       "3  6182        1984  Graduation       Together  26646.0        1         0   \n",
       "4  5324        1981         PhD        Married  58293.0        1         0   \n",
       "\n",
       "  Dt_Customer  Recency  MntWines  ...  NumWebVisitsMonth  AcceptedCmp3  \\\n",
       "0  04-09-2012       58       635  ...                  7             0   \n",
       "1  08-03-2014       38        11  ...                  5             0   \n",
       "2  21-08-2013       26       426  ...                  4             0   \n",
       "3  10-02-2014       26        11  ...                  6             0   \n",
       "4  19-01-2014       94       173  ...                  5             0   \n",
       "\n",
       "   AcceptedCmp4  AcceptedCmp5  AcceptedCmp1  AcceptedCmp2  Complain  \\\n",
       "0             0             0             0             0         0   \n",
       "1             0             0             0             0         0   \n",
       "2             0             0             0             0         0   \n",
       "3             0             0             0             0         0   \n",
       "4             0             0             0             0         0   \n",
       "\n",
       "   Z_CostContact  Z_Revenue  Response  \n",
       "0              3         11         1  \n",
       "1              3         11         0  \n",
       "2              3         11         0  \n",
       "3              3         11         0  \n",
       "4              3         11         0  \n",
       "\n",
       "[5 rows x 29 columns]"
      ]
     },
     "execution_count": 8,
     "metadata": {},
     "output_type": "execute_result"
    }
   ],
   "source": [
    "w = pd.read_csv('../data/marketing_campaign.csv', sep='\\t')\n",
    "w.head()"
   ]
  },
  {
   "cell_type": "code",
   "execution_count": null,
   "id": "eb963f31-c6f7-4dae-90bc-d2829615ab62",
   "metadata": {},
   "outputs": [],
   "source": []
  },
  {
   "cell_type": "markdown",
   "id": "76426578-7cb1-4b8d-9300-002c50bcd34d",
   "metadata": {},
   "source": [
    "### 问题2：增加一列表示用户年龄，列名为age，统计用户平均年龄，统计年龄段为$age \\leq 30$，$30 < age \\leq 40$和$age \\geq 40$的用户人数"
   ]
  },
  {
   "cell_type": "code",
   "execution_count": 14,
   "id": "89d6dcf5-b3af-4d96-b3a8-b8e1213900b1",
   "metadata": {
    "execution": {
     "iopub.execute_input": "2022-10-16T09:26:49.261630Z",
     "iopub.status.busy": "2022-10-16T09:26:49.261630Z",
     "iopub.status.idle": "2022-10-16T09:26:49.268775Z",
     "shell.execute_reply": "2022-10-16T09:26:49.268775Z",
     "shell.execute_reply.started": "2022-10-16T09:26:49.261630Z"
    },
    "tags": []
   },
   "outputs": [
    {
     "data": {
      "text/plain": [
       "53.19419642857143"
      ]
     },
     "execution_count": 14,
     "metadata": {},
     "output_type": "execute_result"
    }
   ],
   "source": [
    "w['age'] = 2022-w.Year_Birth\n",
    "w.age.mean()"
   ]
  },
  {
   "cell_type": "code",
   "execution_count": 17,
   "id": "212f3f09-51b4-4e87-903b-f0e685fdfe5d",
   "metadata": {
    "execution": {
     "iopub.execute_input": "2022-10-16T09:30:18.542113Z",
     "iopub.status.busy": "2022-10-16T09:30:18.542113Z",
     "iopub.status.idle": "2022-10-16T09:30:18.561162Z",
     "shell.execute_reply": "2022-10-16T09:30:18.561162Z",
     "shell.execute_reply.started": "2022-10-16T09:30:18.542113Z"
    },
    "tags": []
   },
   "outputs": [
    {
     "data": {
      "text/plain": [
       "28"
      ]
     },
     "execution_count": 17,
     "metadata": {},
     "output_type": "execute_result"
    }
   ],
   "source": [
    "len(w[w.age<=30])"
   ]
  },
  {
   "cell_type": "code",
   "execution_count": null,
   "id": "4a877d35-4bae-4ecb-a51f-23df92333d6c",
   "metadata": {},
   "outputs": [],
   "source": []
  },
  {
   "cell_type": "markdown",
   "id": "f2fb76aa-7a70-4876-b3ae-4130e1f333d8",
   "metadata": {},
   "source": [
    "### 问题3：用户学历分布"
   ]
  },
  {
   "cell_type": "code",
   "execution_count": 26,
   "id": "fca97e64-8357-44c3-b3b9-87992d3b6d8b",
   "metadata": {
    "execution": {
     "iopub.execute_input": "2022-10-16T09:44:28.637274Z",
     "iopub.status.busy": "2022-10-16T09:44:28.637274Z",
     "iopub.status.idle": "2022-10-16T09:44:28.641569Z",
     "shell.execute_reply": "2022-10-16T09:44:28.641569Z",
     "shell.execute_reply.started": "2022-10-16T09:44:28.637274Z"
    },
    "tags": []
   },
   "outputs": [
    {
     "data": {
      "text/plain": [
       "Graduation    1127\n",
       "PhD            486\n",
       "Master         370\n",
       "2n Cycle       203\n",
       "Basic           54\n",
       "Name: Education, dtype: int64"
      ]
     },
     "execution_count": 26,
     "metadata": {},
     "output_type": "execute_result"
    }
   ],
   "source": [
    "w.Education.value_counts()"
   ]
  },
  {
   "cell_type": "code",
   "execution_count": null,
   "id": "fe1e97d7-20a5-4caf-86db-32c32039f7af",
   "metadata": {},
   "outputs": [],
   "source": []
  },
  {
   "cell_type": "code",
   "execution_count": null,
   "id": "cb5c0700-8267-4d39-8c10-b414d1818a1b",
   "metadata": {},
   "outputs": [],
   "source": []
  },
  {
   "cell_type": "code",
   "execution_count": null,
   "id": "bb0d6b39-3d55-4a54-b0f6-a4fafbe66ec1",
   "metadata": {},
   "outputs": [],
   "source": []
  },
  {
   "cell_type": "markdown",
   "id": "fa3b5597-a31d-4a52-86b4-dc01b2b52c40",
   "metadata": {},
   "source": [
    "### 问题4：统计不同小孩（Kidhome）和青少年（Teenhome）数量情形下的家庭水果（MntFruits）、肉类（MntMeatProducts）、鱼类（MntFishProducts）消费总额；整理成dataframe表格，并按照消费总额大小排序。"
   ]
  },
  {
   "cell_type": "code",
   "execution_count": 25,
   "id": "242827b1-bb51-4fd4-85d5-451efc61a077",
   "metadata": {
    "execution": {
     "iopub.execute_input": "2022-10-16T09:43:47.319746Z",
     "iopub.status.busy": "2022-10-16T09:43:47.319746Z",
     "iopub.status.idle": "2022-10-16T09:43:47.332878Z",
     "shell.execute_reply": "2022-10-16T09:43:47.332878Z",
     "shell.execute_reply.started": "2022-10-16T09:43:47.319746Z"
    },
    "tags": []
   },
   "outputs": [
    {
     "data": {
      "text/html": [
       "<div>\n",
       "<style scoped>\n",
       "    .dataframe tbody tr th:only-of-type {\n",
       "        vertical-align: middle;\n",
       "    }\n",
       "\n",
       "    .dataframe tbody tr th {\n",
       "        vertical-align: top;\n",
       "    }\n",
       "\n",
       "    .dataframe thead th {\n",
       "        text-align: right;\n",
       "    }\n",
       "</style>\n",
       "<table border=\"1\" class=\"dataframe\">\n",
       "  <thead>\n",
       "    <tr style=\"text-align: right;\">\n",
       "      <th></th>\n",
       "      <th>Kidhome</th>\n",
       "      <th>Teenhome</th>\n",
       "      <th>m</th>\n",
       "    </tr>\n",
       "  </thead>\n",
       "  <tbody>\n",
       "    <tr>\n",
       "      <th>0</th>\n",
       "      <td>0</td>\n",
       "      <td>0</td>\n",
       "      <td>319966</td>\n",
       "    </tr>\n",
       "    <tr>\n",
       "      <th>1</th>\n",
       "      <td>0</td>\n",
       "      <td>1</td>\n",
       "      <td>126368</td>\n",
       "    </tr>\n",
       "    <tr>\n",
       "      <th>2</th>\n",
       "      <td>0</td>\n",
       "      <td>2</td>\n",
       "      <td>5636</td>\n",
       "    </tr>\n",
       "    <tr>\n",
       "      <th>3</th>\n",
       "      <td>1</td>\n",
       "      <td>0</td>\n",
       "      <td>36766</td>\n",
       "    </tr>\n",
       "    <tr>\n",
       "      <th>4</th>\n",
       "      <td>1</td>\n",
       "      <td>1</td>\n",
       "      <td>22880</td>\n",
       "    </tr>\n",
       "    <tr>\n",
       "      <th>5</th>\n",
       "      <td>1</td>\n",
       "      <td>2</td>\n",
       "      <td>3006</td>\n",
       "    </tr>\n",
       "    <tr>\n",
       "      <th>6</th>\n",
       "      <td>2</td>\n",
       "      <td>0</td>\n",
       "      <td>1192</td>\n",
       "    </tr>\n",
       "    <tr>\n",
       "      <th>7</th>\n",
       "      <td>2</td>\n",
       "      <td>1</td>\n",
       "      <td>1128</td>\n",
       "    </tr>\n",
       "  </tbody>\n",
       "</table>\n",
       "</div>"
      ],
      "text/plain": [
       "   Kidhome  Teenhome       m\n",
       "0        0         0  319966\n",
       "1        0         1  126368\n",
       "2        0         2    5636\n",
       "3        1         0   36766\n",
       "4        1         1   22880\n",
       "5        1         2    3006\n",
       "6        2         0    1192\n",
       "7        2         1    1128"
      ]
     },
     "execution_count": 25,
     "metadata": {},
     "output_type": "execute_result"
    }
   ],
   "source": [
    "t = w.groupby(['Kidhome', 'Teenhome']).apply(lambda d: d.MntFruits.sum()+d.MntMeatProducts.sum()+d.MntFishProducts.sum())\n",
    "t.to_frame('m').reset_index()"
   ]
  },
  {
   "cell_type": "code",
   "execution_count": null,
   "id": "3d0666c3-7232-432a-92d8-bb42f35e58e6",
   "metadata": {},
   "outputs": [],
   "source": []
  },
  {
   "cell_type": "markdown",
   "id": "dc0f83f2-a507-4904-b153-30fa2986b92e",
   "metadata": {},
   "source": [
    "### 问题5：不同教育水平（Education）用户使用折扣（NumDealsPurchases）的平均次数？"
   ]
  },
  {
   "cell_type": "code",
   "execution_count": 40,
   "id": "9657021b-9bbd-4742-8070-77e30a173f5a",
   "metadata": {
    "execution": {
     "iopub.execute_input": "2022-10-16T10:02:16.184492Z",
     "iopub.status.busy": "2022-10-16T10:02:16.184492Z",
     "iopub.status.idle": "2022-10-16T10:02:16.202350Z",
     "shell.execute_reply": "2022-10-16T10:02:16.202350Z",
     "shell.execute_reply.started": "2022-10-16T10:02:16.184492Z"
    },
    "tags": []
   },
   "outputs": [
    {
     "data": {
      "text/plain": [
       "Education\n",
       "Basic         1.796296\n",
       "2n Cycle      2.246305\n",
       "Graduation    2.309672\n",
       "PhD           2.374486\n",
       "Master        2.427027\n",
       "dtype: float64"
      ]
     },
     "execution_count": 40,
     "metadata": {},
     "output_type": "execute_result"
    }
   ],
   "source": [
    "w.groupby('Education').apply(lambda d: d.NumDealsPurchases.mean()).sort_values()"
   ]
  },
  {
   "cell_type": "code",
   "execution_count": null,
   "id": "bc16279a-4f9a-4925-b7f1-826abcb92c22",
   "metadata": {},
   "outputs": [],
   "source": []
  },
  {
   "cell_type": "markdown",
   "id": "04408a89-44b2-4da9-bc6e-1fa299f8c536",
   "metadata": {
    "execution": {
     "iopub.execute_input": "2022-10-16T09:46:25.547075Z",
     "iopub.status.busy": "2022-10-16T09:46:25.547075Z",
     "iopub.status.idle": "2022-10-16T09:46:25.554040Z",
     "shell.execute_reply": "2022-10-16T09:46:25.554040Z",
     "shell.execute_reply.started": "2022-10-16T09:46:25.547075Z"
    },
    "tags": []
   },
   "source": [
    "### 问题6：所有用户在网站（NumWebPurchases）、第三方（NumCatalogPurchases）和商店（NumStorePurchases）购买的次数占比？\n",
    "<div style='color: red;'>注意：此问题考察表格迭代，把上述数据整理为Python列表，再统计</div>"
   ]
  },
  {
   "cell_type": "code",
   "execution_count": 38,
   "id": "b5531a5a-d5a0-4d22-8056-8a9dce04ca3b",
   "metadata": {
    "execution": {
     "iopub.execute_input": "2022-10-16T09:54:41.392624Z",
     "iopub.status.busy": "2022-10-16T09:54:41.391627Z",
     "iopub.status.idle": "2022-10-16T09:54:41.500667Z",
     "shell.execute_reply": "2022-10-16T09:54:41.500667Z",
     "shell.execute_reply.started": "2022-10-16T09:54:41.392624Z"
    },
    "tags": []
   },
   "outputs": [
    {
     "data": {
      "text/plain": [
       "[('web', 0.3258198910372823),\n",
       " ('catalog', 0.21233486450877756),\n",
       " ('store', 0.4618452444539401)]"
      ]
     },
     "execution_count": 38,
     "metadata": {},
     "output_type": "execute_result"
    }
   ],
   "source": [
    "result = {'web':0, 'catalog':0, 'store':0}\n",
    "for _, r in w.iterrows():\n",
    "    result['web'] += r.NumWebPurchases\n",
    "    result['catalog'] += r.NumCatalogPurchases    \n",
    "    result['store'] += r.NumStorePurchases\n",
    "    \n",
    "total = sum(result.values())\n",
    "[(k, result[k]/total) for k in result]"
   ]
  },
  {
   "cell_type": "code",
   "execution_count": null,
   "id": "960ea23c-ebf5-4855-b534-19f3fc1dbc0f",
   "metadata": {
    "tags": []
   },
   "outputs": [],
   "source": []
  },
  {
   "cell_type": "code",
   "execution_count": null,
   "id": "7d71b9a4-c78b-4f53-987f-dfd227472d65",
   "metadata": {},
   "outputs": [],
   "source": []
  },
  {
   "cell_type": "code",
   "execution_count": null,
   "id": "2df797d9-2d87-4c1f-b0cd-c25ffd6dfe7f",
   "metadata": {},
   "outputs": [],
   "source": []
  },
  {
   "cell_type": "code",
   "execution_count": null,
   "id": "ae26d810-5cd1-455e-9512-c3807487e367",
   "metadata": {},
   "outputs": [],
   "source": []
  },
  {
   "cell_type": "code",
   "execution_count": null,
   "id": "ccbc5add-9022-4b1d-841a-371aefab2f52",
   "metadata": {},
   "outputs": [],
   "source": []
  },
  {
   "cell_type": "code",
   "execution_count": null,
   "id": "4b88fe63-e55c-418d-8280-cdaa008e57fe",
   "metadata": {},
   "outputs": [],
   "source": []
  },
  {
   "cell_type": "code",
   "execution_count": null,
   "id": "ede44995-7418-431b-9170-a91bed7f3cac",
   "metadata": {},
   "outputs": [],
   "source": []
  },
  {
   "cell_type": "code",
   "execution_count": null,
   "id": "1cbd1d43-a7d0-4b65-a21f-8189ecb1ecf8",
   "metadata": {},
   "outputs": [],
   "source": []
  },
  {
   "cell_type": "code",
   "execution_count": null,
   "id": "73cad61f-078e-4b01-bf58-d1498e059c46",
   "metadata": {},
   "outputs": [],
   "source": []
  },
  {
   "cell_type": "code",
   "execution_count": null,
   "id": "574ab9d1-37a6-4dc9-8942-615f52c71839",
   "metadata": {},
   "outputs": [],
   "source": []
  },
  {
   "cell_type": "code",
   "execution_count": null,
   "id": "a36d3bca-adb3-42a0-a303-00db97667d40",
   "metadata": {},
   "outputs": [],
   "source": []
  },
  {
   "cell_type": "code",
   "execution_count": null,
   "id": "f32ce9f9-ee36-4d79-b4c6-110e2ea6ae27",
   "metadata": {},
   "outputs": [],
   "source": []
  }
 ],
 "metadata": {
  "kernelspec": {
   "display_name": "Python 3 (ipykernel)",
   "language": "python",
   "name": "python3"
  },
  "language_info": {
   "codemirror_mode": {
    "name": "ipython",
    "version": 3
   },
   "file_extension": ".py",
   "mimetype": "text/x-python",
   "name": "python",
   "nbconvert_exporter": "python",
   "pygments_lexer": "ipython3",
   "version": "3.9.12"
  },
  "widgets": {
   "application/vnd.jupyter.widget-state+json": {
    "state": {},
    "version_major": 2,
    "version_minor": 0
   }
  }
 },
 "nbformat": 4,
 "nbformat_minor": 5
}
