{
 "cells": [
  {
   "cell_type": "markdown",
   "id": "8424d76c-ef13-4282-bf65-00ea5efa27dd",
   "metadata": {
    "execution": {
     "iopub.execute_input": "2022-10-16T09:16:34.262036Z",
     "iopub.status.busy": "2022-10-16T09:16:34.261039Z",
     "iopub.status.idle": "2022-10-16T09:16:34.272272Z",
     "shell.execute_reply": "2022-10-16T09:16:34.272272Z",
     "shell.execute_reply.started": "2022-10-16T09:16:34.262036Z"
    },
    "tags": []
   },
   "source": [
    "# 科研创新实践期中随堂测验（Pandas数据分析）"
   ]
  },
  {
   "cell_type": "markdown",
   "id": "8aa2439b-5d2b-4020-a6a9-919941f37129",
   "metadata": {},
   "source": [
    "## Customer Personality Analysis (市场营销与用户数据)\n",
    "### Context （背景介绍）\n",
    "Problem Statement\n",
    "\n",
    "Customer Personality Analysis is a detailed analysis of a company’s ideal customers. It helps a business to better understand its customers and makes it easier for them to modify products according to the specific needs, behaviors and concerns of different types of customers.\n",
    "\n",
    "Customer personality analysis helps a business to modify its product based on its target customers from different types of customer segments. For example, instead of spending money to market a new product to every customer in the company’s database, a company can analyze which customer segment is most likely to buy the product and then market the product only on that particular segment.\n",
    "\n",
    "### Data Attributes （数据字段介绍）\n",
    "\n",
    "#### People\n",
    "\n",
    "* ID: Customer's unique identifier，用户ID\n",
    "* Year_Birth: Customer's birth year，出生年月\n",
    "* Education: Customer's education level，教育程度\n",
    "* Marital_Status: Customer's marital status，婚姻状态\n",
    "* Income: Customer's yearly household income，收入\n",
    "* Kidhome: Number of children in customer's household，家庭小孩数量\n",
    "* Teenhome: Number of teenagers in customer's household，家庭青少年数量\n",
    "* Dt_Customer: Date of customer's enrollment with the company，用户注册时间\n",
    "* Recency: Number of days since customer's last purchase，至上次购物时间\n",
    "* Complain: 1 if the customer complained in the last 2 years, 0 otherwise，过去两年是否投诉过\n",
    "#### Products\n",
    "\n",
    "* MntWines: Amount spent on wine in last 2 years，酒类花费\n",
    "* MntFruits: Amount spent on fruits in last 2 years，水果花费\n",
    "* MntMeatProducts: Amount spent on meat in last 2 years，肉类花费\n",
    "* MntFishProducts: Amount spent on fish in last 2 years，鱼类花费\n",
    "* MntSweetProducts: Amount spent on sweets in last 2 years，甜品花费\n",
    "* MntGoldProds: Amount spent on gold in last 2 years，金属花费\n",
    "#### Promotion\n",
    "\n",
    "* NumDealsPurchases: Number of purchases made with a discount，使用折扣次数\n",
    "* AcceptedCmp1: 1 if customer accepted the offer in the 1st campaign, 0 otherwise，首次促销时使用折扣\n",
    "* AcceptedCmp2: 1 if customer accepted the offer in the 2nd campaign, 0 otherwise，第2次促销时使用折扣\n",
    "* AcceptedCmp3: 1 if customer accepted the offer in the 3rd campaign, 0 otherwise，第3次促销时使用折扣，第2次促销时使用折扣\n",
    "* AcceptedCmp4: 1 if customer accepted the offer in the 4th campaign, 0 otherwise，第4次促销时使用折扣\n",
    "* AcceptedCmp5: 1 if customer accepted the offer in the 5th campaign, 0 otherwise，第5次促销时使用折扣\n",
    "* Response: 1 if customer accepted the offer in the last campaign, 0 otherwise，最后促销时使用折扣\n",
    "#### Place\n",
    "\n",
    "* NumWebPurchases: Number of purchases made through the company’s website，网站购物次数\n",
    "* NumCatalogPurchases: Number of purchases made using a catalogue，第三方购买次数\n",
    "* NumStorePurchases: Number of purchases made directly in stores，商店购物次数\n",
    "* NumWebVisitsMonth: Number of visits to company’s website in the last month，上月网站访问次数"
   ]
  },
  {
   "cell_type": "markdown",
   "id": "aa8a4719-f7d7-4f90-a6ba-926addaf1400",
   "metadata": {},
   "source": [
    "### 问题1：导入Pandas包，读取数据文件(../data/marketing_campaign.csv)，打印数据行列数大小\n",
    "\n",
    "<div style='color: red;'>注意：文件分隔符为\\t，pandas读取数据时需指定参数sep='\\t'</div>"
   ]
  },
  {
   "cell_type": "code",
   "execution_count": null,
   "id": "eb963f31-c6f7-4dae-90bc-d2829615ab62",
   "metadata": {},
   "outputs": [],
   "source": []
  },
  {
   "cell_type": "code",
   "execution_count": null,
   "id": "128590c9-bf40-4e50-a3d1-6c6b00ca3b53",
   "metadata": {},
   "outputs": [],
   "source": []
  },
  {
   "cell_type": "code",
   "execution_count": null,
   "id": "bba01232-cf5a-4bba-bdc0-1f13dd45d4f1",
   "metadata": {},
   "outputs": [],
   "source": []
  },
  {
   "cell_type": "code",
   "execution_count": null,
   "id": "c71bbd84-7aba-4b13-af4e-809f852e3adc",
   "metadata": {},
   "outputs": [],
   "source": []
  },
  {
   "cell_type": "markdown",
   "id": "76426578-7cb1-4b8d-9300-002c50bcd34d",
   "metadata": {},
   "source": [
    "### 问题2：增加一列表示用户年龄，列名为age，统计用户平均年龄，统计年龄段为$age \\leq 30$，$30 < age \\leq 40$和$age \\geq 40$的用户人数"
   ]
  },
  {
   "cell_type": "code",
   "execution_count": null,
   "id": "4a877d35-4bae-4ecb-a51f-23df92333d6c",
   "metadata": {},
   "outputs": [],
   "source": []
  },
  {
   "cell_type": "code",
   "execution_count": null,
   "id": "1fa26489-036d-46ad-b1ee-32daf1183e9d",
   "metadata": {},
   "outputs": [],
   "source": []
  },
  {
   "cell_type": "code",
   "execution_count": null,
   "id": "162010d2-1e63-46f3-973d-3f5181e32aee",
   "metadata": {},
   "outputs": [],
   "source": []
  },
  {
   "cell_type": "markdown",
   "id": "f2fb76aa-7a70-4876-b3ae-4130e1f333d8",
   "metadata": {},
   "source": [
    "### 问题3：用户学历分布"
   ]
  },
  {
   "cell_type": "code",
   "execution_count": null,
   "id": "fe1e97d7-20a5-4caf-86db-32c32039f7af",
   "metadata": {},
   "outputs": [],
   "source": []
  },
  {
   "cell_type": "code",
   "execution_count": null,
   "id": "cb5c0700-8267-4d39-8c10-b414d1818a1b",
   "metadata": {},
   "outputs": [],
   "source": []
  },
  {
   "cell_type": "code",
   "execution_count": null,
   "id": "bb0d6b39-3d55-4a54-b0f6-a4fafbe66ec1",
   "metadata": {},
   "outputs": [],
   "source": []
  },
  {
   "cell_type": "markdown",
   "id": "fa3b5597-a31d-4a52-86b4-dc01b2b52c40",
   "metadata": {},
   "source": [
    "### 问题4：统计不同小孩（Kidhome）和青少年（Teenhome）数量情形下的家庭水果（MntFruits）、肉类（MntMeatProducts）、鱼类（MntFishProducts）消费总额；整理成dataframe表格，并按照消费总额大小排序。"
   ]
  },
  {
   "cell_type": "code",
   "execution_count": null,
   "id": "3d0666c3-7232-432a-92d8-bb42f35e58e6",
   "metadata": {},
   "outputs": [],
   "source": []
  },
  {
   "cell_type": "code",
   "execution_count": null,
   "id": "c5e52d8d-9692-4a2d-997e-bc347bc196df",
   "metadata": {},
   "outputs": [],
   "source": []
  },
  {
   "cell_type": "markdown",
   "id": "dc0f83f2-a507-4904-b153-30fa2986b92e",
   "metadata": {},
   "source": [
    "### 问题5：不同教育水平（Education）用户使用折扣（NumDealsPurchases）的平均次数？"
   ]
  },
  {
   "cell_type": "code",
   "execution_count": null,
   "id": "bc16279a-4f9a-4925-b7f1-826abcb92c22",
   "metadata": {},
   "outputs": [],
   "source": []
  },
  {
   "cell_type": "code",
   "execution_count": null,
   "id": "fd823389-b601-43e4-8006-208aac54015f",
   "metadata": {},
   "outputs": [],
   "source": []
  },
  {
   "cell_type": "markdown",
   "id": "04408a89-44b2-4da9-bc6e-1fa299f8c536",
   "metadata": {
    "execution": {
     "iopub.execute_input": "2022-10-16T09:46:25.547075Z",
     "iopub.status.busy": "2022-10-16T09:46:25.547075Z",
     "iopub.status.idle": "2022-10-16T09:46:25.554040Z",
     "shell.execute_reply": "2022-10-16T09:46:25.554040Z",
     "shell.execute_reply.started": "2022-10-16T09:46:25.547075Z"
    },
    "tags": []
   },
   "source": [
    "### 问题6：所有用户在网站（NumWebPurchases）、第三方（NumCatalogPurchases）和商店（NumStorePurchases）购买的次数占比？\n",
    "<div style='color: red;'>注意：此问题考察表格迭代，把上述数据整理为Python列表，再统计</div>"
   ]
  },
  {
   "cell_type": "code",
   "execution_count": null,
   "id": "ae26d810-5cd1-455e-9512-c3807487e367",
   "metadata": {},
   "outputs": [],
   "source": []
  },
  {
   "cell_type": "code",
   "execution_count": null,
   "id": "ccbc5add-9022-4b1d-841a-371aefab2f52",
   "metadata": {},
   "outputs": [],
   "source": []
  },
  {
   "cell_type": "code",
   "execution_count": null,
   "id": "4b88fe63-e55c-418d-8280-cdaa008e57fe",
   "metadata": {},
   "outputs": [],
   "source": []
  },
  {
   "cell_type": "code",
   "execution_count": null,
   "id": "ede44995-7418-431b-9170-a91bed7f3cac",
   "metadata": {},
   "outputs": [],
   "source": []
  },
  {
   "cell_type": "code",
   "execution_count": null,
   "id": "1cbd1d43-a7d0-4b65-a21f-8189ecb1ecf8",
   "metadata": {},
   "outputs": [],
   "source": []
  },
  {
   "cell_type": "code",
   "execution_count": null,
   "id": "73cad61f-078e-4b01-bf58-d1498e059c46",
   "metadata": {},
   "outputs": [],
   "source": []
  },
  {
   "cell_type": "code",
   "execution_count": null,
   "id": "574ab9d1-37a6-4dc9-8942-615f52c71839",
   "metadata": {},
   "outputs": [],
   "source": []
  },
  {
   "cell_type": "code",
   "execution_count": null,
   "id": "a36d3bca-adb3-42a0-a303-00db97667d40",
   "metadata": {},
   "outputs": [],
   "source": []
  },
  {
   "cell_type": "code",
   "execution_count": null,
   "id": "f32ce9f9-ee36-4d79-b4c6-110e2ea6ae27",
   "metadata": {},
   "outputs": [],
   "source": []
  }
 ],
 "metadata": {
  "kernelspec": {
   "display_name": "Python 3 (ipykernel)",
   "language": "python",
   "name": "python3"
  },
  "language_info": {
   "codemirror_mode": {
    "name": "ipython",
    "version": 3
   },
   "file_extension": ".py",
   "mimetype": "text/x-python",
   "name": "python",
   "nbconvert_exporter": "python",
   "pygments_lexer": "ipython3",
   "version": "3.9.12"
  },
  "widgets": {
   "application/vnd.jupyter.widget-state+json": {
    "state": {},
    "version_major": 2,
    "version_minor": 0
   }
  }
 },
 "nbformat": 4,
 "nbformat_minor": 5
}
