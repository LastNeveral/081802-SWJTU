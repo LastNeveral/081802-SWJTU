{
 "cells": [
  {
   "cell_type": "markdown",
   "id": "e9b76956",
   "metadata": {
    "execution": {
     "iopub.execute_input": "2022-10-16T09:16:34.262036Z",
     "iopub.status.busy": "2022-10-16T09:16:34.261039Z",
     "iopub.status.idle": "2022-10-16T09:16:34.272272Z",
     "shell.execute_reply": "2022-10-16T09:16:34.272272Z",
     "shell.execute_reply.started": "2022-10-16T09:16:34.262036Z"
    },
    "tags": []
   },
   "source": [
    "# 科研创新实践期中随堂测验（Pandas数据分析）"
   ]
  },
  {
   "cell_type": "markdown",
   "id": "8bcf7b74",
   "metadata": {},
   "source": [
    "## Customer Personality Analysis (市场营销与用户数据)\n",
    "### Context （背景介绍）\n",
    "Problem Statement\n",
    "\n",
    "Customer Personality Analysis is a detailed analysis of a company’s ideal customers. It helps a business to better understand its customers and makes it easier for them to modify products according to the specific needs, behaviors and concerns of different types of customers.\n",
    "\n",
    "Customer personality analysis helps a business to modify its product based on its target customers from different types of customer segments. For example, instead of spending money to market a new product to every customer in the company’s database, a company can analyze which customer segment is most likely to buy the product and then market the product only on that particular segment.\n",
    "\n",
    "### Data Attributes （数据字段介绍）\n",
    "\n",
    "#### People\n",
    "\n",
    "* ID: Customer's unique identifier，用户ID\n",
    "* Year_Birth: Customer's birth year，出生年月\n",
    "* Education: Customer's education level，教育程度\n",
    "* Marital_Status: Customer's marital status，婚姻状态\n",
    "* Income: Customer's yearly household income，收入\n",
    "* Kidhome: Number of children in customer's household，家庭小孩数量\n",
    "* Teenhome: Number of teenagers in customer's household，家庭青少年数量\n",
    "* Dt_Customer: Date of customer's enrollment with the company，用户注册时间\n",
    "* Recency: Number of days since customer's last purchase，至上次购物时间\n",
    "* Complain: 1 if the customer complained in the last 2 years, 0 otherwise，过去两年是否投诉过\n",
    "#### Products\n",
    "\n",
    "* MntWines: Amount spent on wine in last 2 years，酒类花费\n",
    "* MntFruits: Amount spent on fruits in last 2 years，水果花费\n",
    "* MntMeatProducts: Amount spent on meat in last 2 years，肉类花费\n",
    "* MntFishProducts: Amount spent on fish in last 2 years，鱼类花费\n",
    "* MntSweetProducts: Amount spent on sweets in last 2 years，甜品花费\n",
    "* MntGoldProds: Amount spent on gold in last 2 years，金属花费\n",
    "#### Promotion\n",
    "\n",
    "* NumDealsPurchases: Number of purchases made with a discount，使用折扣次数\n",
    "* AcceptedCmp1: 1 if customer accepted the offer in the 1st campaign, 0 otherwise，首次促销时使用折扣\n",
    "* AcceptedCmp2: 1 if customer accepted the offer in the 2nd campaign, 0 otherwise，第2次促销时使用折扣\n",
    "* AcceptedCmp3: 1 if customer accepted the offer in the 3rd campaign, 0 otherwise，第3次促销时使用折扣，第2次促销时使用折扣\n",
    "* AcceptedCmp4: 1 if customer accepted the offer in the 4th campaign, 0 otherwise，第4次促销时使用折扣\n",
    "* AcceptedCmp5: 1 if customer accepted the offer in the 5th campaign, 0 otherwise，第5次促销时使用折扣\n",
    "* Response: 1 if customer accepted the offer in the last campaign, 0 otherwise，最后促销时使用折扣\n",
    "#### Place\n",
    "\n",
    "* NumWebPurchases: Number of purchases made through the company’s website，网站购物次数\n",
    "* NumCatalogPurchases: Number of purchases made using a catalogue，第三方购买次数\n",
    "* NumStorePurchases: Number of purchases made directly in stores，商店购物次数\n",
    "* NumWebVisitsMonth: Number of visits to company’s website in the last month，上月网站访问次数"
   ]
  },
  {
   "cell_type": "markdown",
   "id": "645ff8c5",
   "metadata": {},
   "source": [
    "### 问题1：导入Pandas包，读取数据文件(../data/marketing_campaign.csv)，打印数据行列数大小\n",
    "\n",
    "<div style='color: red;'>注意：文件分隔符为\\t，pandas读取数据时需指定参数sep='\\t'</div>"
   ]
  },
  {
   "cell_type": "code",
   "execution_count": 1,
   "id": "26fe6d72",
   "metadata": {
    "execution": {
     "iopub.execute_input": "2022-10-17T07:56:38.933949Z",
     "iopub.status.busy": "2022-10-17T07:56:38.933949Z",
     "iopub.status.idle": "2022-10-17T07:56:46.496471Z",
     "shell.execute_reply": "2022-10-17T07:56:46.494611Z",
     "shell.execute_reply.started": "2022-10-17T07:56:38.933949Z"
    }
   },
   "outputs": [],
   "source": [
    "import pandas as pd"
   ]
  },
  {
   "cell_type": "code",
   "execution_count": 5,
   "id": "3db304fd",
   "metadata": {
    "execution": {
     "iopub.execute_input": "2022-10-17T07:58:05.531717Z",
     "iopub.status.busy": "2022-10-17T07:58:05.530579Z",
     "iopub.status.idle": "2022-10-17T07:58:05.908940Z",
     "shell.execute_reply": "2022-10-17T07:58:05.905943Z",
     "shell.execute_reply.started": "2022-10-17T07:58:05.531577Z"
    }
   },
   "outputs": [],
   "source": [
    "path = '../data/marketing_campaign.csv'\n",
    "data = pd.read_csv(path,sep='\\t')"
   ]
  },
  {
   "cell_type": "code",
   "execution_count": 7,
   "id": "dce924df",
   "metadata": {
    "execution": {
     "iopub.execute_input": "2022-10-17T07:58:11.347922Z",
     "iopub.status.busy": "2022-10-17T07:58:11.347163Z",
     "iopub.status.idle": "2022-10-17T07:58:11.376815Z",
     "shell.execute_reply": "2022-10-17T07:58:11.374821Z",
     "shell.execute_reply.started": "2022-10-17T07:58:11.347922Z"
    }
   },
   "outputs": [
    {
     "data": {
      "text/html": [
       "<div>\n",
       "<style scoped>\n",
       "    .dataframe tbody tr th:only-of-type {\n",
       "        vertical-align: middle;\n",
       "    }\n",
       "\n",
       "    .dataframe tbody tr th {\n",
       "        vertical-align: top;\n",
       "    }\n",
       "\n",
       "    .dataframe thead th {\n",
       "        text-align: right;\n",
       "    }\n",
       "</style>\n",
       "<table border=\"1\" class=\"dataframe\">\n",
       "  <thead>\n",
       "    <tr style=\"text-align: right;\">\n",
       "      <th></th>\n",
       "      <th>ID</th>\n",
       "      <th>Year_Birth</th>\n",
       "      <th>Education</th>\n",
       "      <th>Marital_Status</th>\n",
       "      <th>Income</th>\n",
       "      <th>Kidhome</th>\n",
       "      <th>Teenhome</th>\n",
       "      <th>Dt_Customer</th>\n",
       "      <th>Recency</th>\n",
       "      <th>MntWines</th>\n",
       "      <th>...</th>\n",
       "      <th>NumWebVisitsMonth</th>\n",
       "      <th>AcceptedCmp3</th>\n",
       "      <th>AcceptedCmp4</th>\n",
       "      <th>AcceptedCmp5</th>\n",
       "      <th>AcceptedCmp1</th>\n",
       "      <th>AcceptedCmp2</th>\n",
       "      <th>Complain</th>\n",
       "      <th>Z_CostContact</th>\n",
       "      <th>Z_Revenue</th>\n",
       "      <th>Response</th>\n",
       "    </tr>\n",
       "  </thead>\n",
       "  <tbody>\n",
       "    <tr>\n",
       "      <th>0</th>\n",
       "      <td>5524</td>\n",
       "      <td>1957</td>\n",
       "      <td>Graduation</td>\n",
       "      <td>Single</td>\n",
       "      <td>58138.0</td>\n",
       "      <td>0</td>\n",
       "      <td>0</td>\n",
       "      <td>04-09-2012</td>\n",
       "      <td>58</td>\n",
       "      <td>635</td>\n",
       "      <td>...</td>\n",
       "      <td>7</td>\n",
       "      <td>0</td>\n",
       "      <td>0</td>\n",
       "      <td>0</td>\n",
       "      <td>0</td>\n",
       "      <td>0</td>\n",
       "      <td>0</td>\n",
       "      <td>3</td>\n",
       "      <td>11</td>\n",
       "      <td>1</td>\n",
       "    </tr>\n",
       "    <tr>\n",
       "      <th>1</th>\n",
       "      <td>2174</td>\n",
       "      <td>1954</td>\n",
       "      <td>Graduation</td>\n",
       "      <td>Single</td>\n",
       "      <td>46344.0</td>\n",
       "      <td>1</td>\n",
       "      <td>1</td>\n",
       "      <td>08-03-2014</td>\n",
       "      <td>38</td>\n",
       "      <td>11</td>\n",
       "      <td>...</td>\n",
       "      <td>5</td>\n",
       "      <td>0</td>\n",
       "      <td>0</td>\n",
       "      <td>0</td>\n",
       "      <td>0</td>\n",
       "      <td>0</td>\n",
       "      <td>0</td>\n",
       "      <td>3</td>\n",
       "      <td>11</td>\n",
       "      <td>0</td>\n",
       "    </tr>\n",
       "    <tr>\n",
       "      <th>2</th>\n",
       "      <td>4141</td>\n",
       "      <td>1965</td>\n",
       "      <td>Graduation</td>\n",
       "      <td>Together</td>\n",
       "      <td>71613.0</td>\n",
       "      <td>0</td>\n",
       "      <td>0</td>\n",
       "      <td>21-08-2013</td>\n",
       "      <td>26</td>\n",
       "      <td>426</td>\n",
       "      <td>...</td>\n",
       "      <td>4</td>\n",
       "      <td>0</td>\n",
       "      <td>0</td>\n",
       "      <td>0</td>\n",
       "      <td>0</td>\n",
       "      <td>0</td>\n",
       "      <td>0</td>\n",
       "      <td>3</td>\n",
       "      <td>11</td>\n",
       "      <td>0</td>\n",
       "    </tr>\n",
       "    <tr>\n",
       "      <th>3</th>\n",
       "      <td>6182</td>\n",
       "      <td>1984</td>\n",
       "      <td>Graduation</td>\n",
       "      <td>Together</td>\n",
       "      <td>26646.0</td>\n",
       "      <td>1</td>\n",
       "      <td>0</td>\n",
       "      <td>10-02-2014</td>\n",
       "      <td>26</td>\n",
       "      <td>11</td>\n",
       "      <td>...</td>\n",
       "      <td>6</td>\n",
       "      <td>0</td>\n",
       "      <td>0</td>\n",
       "      <td>0</td>\n",
       "      <td>0</td>\n",
       "      <td>0</td>\n",
       "      <td>0</td>\n",
       "      <td>3</td>\n",
       "      <td>11</td>\n",
       "      <td>0</td>\n",
       "    </tr>\n",
       "    <tr>\n",
       "      <th>4</th>\n",
       "      <td>5324</td>\n",
       "      <td>1981</td>\n",
       "      <td>PhD</td>\n",
       "      <td>Married</td>\n",
       "      <td>58293.0</td>\n",
       "      <td>1</td>\n",
       "      <td>0</td>\n",
       "      <td>19-01-2014</td>\n",
       "      <td>94</td>\n",
       "      <td>173</td>\n",
       "      <td>...</td>\n",
       "      <td>5</td>\n",
       "      <td>0</td>\n",
       "      <td>0</td>\n",
       "      <td>0</td>\n",
       "      <td>0</td>\n",
       "      <td>0</td>\n",
       "      <td>0</td>\n",
       "      <td>3</td>\n",
       "      <td>11</td>\n",
       "      <td>0</td>\n",
       "    </tr>\n",
       "  </tbody>\n",
       "</table>\n",
       "<p>5 rows × 29 columns</p>\n",
       "</div>"
      ],
      "text/plain": [
       "     ID  Year_Birth   Education Marital_Status   Income  Kidhome  Teenhome  \\\n",
       "0  5524        1957  Graduation         Single  58138.0        0         0   \n",
       "1  2174        1954  Graduation         Single  46344.0        1         1   \n",
       "2  4141        1965  Graduation       Together  71613.0        0         0   \n",
       "3  6182        1984  Graduation       Together  26646.0        1         0   \n",
       "4  5324        1981         PhD        Married  58293.0        1         0   \n",
       "\n",
       "  Dt_Customer  Recency  MntWines  ...  NumWebVisitsMonth  AcceptedCmp3  \\\n",
       "0  04-09-2012       58       635  ...                  7             0   \n",
       "1  08-03-2014       38        11  ...                  5             0   \n",
       "2  21-08-2013       26       426  ...                  4             0   \n",
       "3  10-02-2014       26        11  ...                  6             0   \n",
       "4  19-01-2014       94       173  ...                  5             0   \n",
       "\n",
       "   AcceptedCmp4  AcceptedCmp5  AcceptedCmp1  AcceptedCmp2  Complain  \\\n",
       "0             0             0             0             0         0   \n",
       "1             0             0             0             0         0   \n",
       "2             0             0             0             0         0   \n",
       "3             0             0             0             0         0   \n",
       "4             0             0             0             0         0   \n",
       "\n",
       "   Z_CostContact  Z_Revenue  Response  \n",
       "0              3         11         1  \n",
       "1              3         11         0  \n",
       "2              3         11         0  \n",
       "3              3         11         0  \n",
       "4              3         11         0  \n",
       "\n",
       "[5 rows x 29 columns]"
      ]
     },
     "execution_count": 7,
     "metadata": {},
     "output_type": "execute_result"
    }
   ],
   "source": [
    "data.head()"
   ]
  },
  {
   "cell_type": "code",
   "execution_count": 8,
   "id": "5f93a708",
   "metadata": {
    "execution": {
     "iopub.execute_input": "2022-10-17T07:58:13.117705Z",
     "iopub.status.busy": "2022-10-17T07:58:13.116968Z",
     "iopub.status.idle": "2022-10-17T07:58:13.123638Z",
     "shell.execute_reply": "2022-10-17T07:58:13.122637Z",
     "shell.execute_reply.started": "2022-10-17T07:58:13.117705Z"
    }
   },
   "outputs": [
    {
     "name": "stdout",
     "output_type": "stream",
     "text": [
      "(2240, 29)\n"
     ]
    }
   ],
   "source": [
    "print(data.shape)"
   ]
  },
  {
   "cell_type": "code",
   "execution_count": null,
   "id": "94a5e848",
   "metadata": {},
   "outputs": [],
   "source": []
  },
  {
   "cell_type": "markdown",
   "id": "ebd15689",
   "metadata": {},
   "source": [
    "### 问题2：增加一列表示用户年龄，列名为age，统计用户平均年龄，统计年龄段为$age \\leq 30$，$30 < age \\leq 40$和$age \\geq 40$的用户人数"
   ]
  },
  {
   "cell_type": "code",
   "execution_count": 15,
   "id": "d5d1de6a",
   "metadata": {
    "execution": {
     "iopub.execute_input": "2022-10-17T08:03:02.329142Z",
     "iopub.status.busy": "2022-10-17T08:03:02.328145Z",
     "iopub.status.idle": "2022-10-17T08:03:02.347096Z",
     "shell.execute_reply": "2022-10-17T08:03:02.346099Z",
     "shell.execute_reply.started": "2022-10-17T08:03:02.329142Z"
    }
   },
   "outputs": [
    {
     "data": {
      "text/plain": [
       "53.19419642857143"
      ]
     },
     "execution_count": 15,
     "metadata": {},
     "output_type": "execute_result"
    }
   ],
   "source": [
    "data['age'] = 2022-data['Year_Birth']\n",
    "data['age'].mean()"
   ]
  },
  {
   "cell_type": "code",
   "execution_count": 11,
   "id": "666baed7",
   "metadata": {
    "execution": {
     "iopub.execute_input": "2022-10-17T08:00:36.656105Z",
     "iopub.status.busy": "2022-10-17T08:00:36.656105Z",
     "iopub.status.idle": "2022-10-17T08:00:36.668445Z",
     "shell.execute_reply": "2022-10-17T08:00:36.667342Z",
     "shell.execute_reply.started": "2022-10-17T08:00:36.656105Z"
    }
   },
   "outputs": [
    {
     "data": {
      "text/plain": [
       "28"
      ]
     },
     "execution_count": 11,
     "metadata": {},
     "output_type": "execute_result"
    }
   ],
   "source": [
    "len(data[data['age']<=30])"
   ]
  },
  {
   "cell_type": "code",
   "execution_count": 12,
   "id": "b3c78014",
   "metadata": {
    "execution": {
     "iopub.execute_input": "2022-10-17T08:00:49.311117Z",
     "iopub.status.busy": "2022-10-17T08:00:49.310116Z",
     "iopub.status.idle": "2022-10-17T08:00:49.328482Z",
     "shell.execute_reply": "2022-10-17T08:00:49.327513Z",
     "shell.execute_reply.started": "2022-10-17T08:00:49.311117Z"
    }
   },
   "outputs": [
    {
     "data": {
      "text/plain": [
       "1939"
      ]
     },
     "execution_count": 12,
     "metadata": {},
     "output_type": "execute_result"
    }
   ],
   "source": [
    "len(data[data['age']>=40])"
   ]
  },
  {
   "cell_type": "code",
   "execution_count": 14,
   "id": "e39ad179",
   "metadata": {
    "execution": {
     "iopub.execute_input": "2022-10-17T08:02:44.487364Z",
     "iopub.status.busy": "2022-10-17T08:02:44.486571Z",
     "iopub.status.idle": "2022-10-17T08:02:44.502404Z",
     "shell.execute_reply": "2022-10-17T08:02:44.501117Z",
     "shell.execute_reply.started": "2022-10-17T08:02:44.487364Z"
    }
   },
   "outputs": [
    {
     "data": {
      "text/plain": [
       "331"
      ]
     },
     "execution_count": 14,
     "metadata": {},
     "output_type": "execute_result"
    }
   ],
   "source": [
    "len(data)-len(data[data['age']<30])-len(data[data['age']>40])"
   ]
  },
  {
   "cell_type": "markdown",
   "id": "896e89cb",
   "metadata": {},
   "source": [
    "### 问题3：用户学历分布"
   ]
  },
  {
   "cell_type": "code",
   "execution_count": 16,
   "id": "02bf7259",
   "metadata": {
    "execution": {
     "iopub.execute_input": "2022-10-17T08:03:50.423463Z",
     "iopub.status.busy": "2022-10-17T08:03:50.423463Z",
     "iopub.status.idle": "2022-10-17T08:03:50.444462Z",
     "shell.execute_reply": "2022-10-17T08:03:50.443454Z",
     "shell.execute_reply.started": "2022-10-17T08:03:50.423463Z"
    }
   },
   "outputs": [
    {
     "data": {
      "text/plain": [
       "Graduation    1127\n",
       "PhD            486\n",
       "Master         370\n",
       "2n Cycle       203\n",
       "Basic           54\n",
       "Name: Education, dtype: int64"
      ]
     },
     "execution_count": 16,
     "metadata": {},
     "output_type": "execute_result"
    }
   ],
   "source": [
    "data['Education'].value_counts()"
   ]
  },
  {
   "cell_type": "code",
   "execution_count": null,
   "id": "e6c325ca",
   "metadata": {},
   "outputs": [],
   "source": []
  },
  {
   "cell_type": "code",
   "execution_count": null,
   "id": "08012952",
   "metadata": {},
   "outputs": [],
   "source": []
  },
  {
   "cell_type": "markdown",
   "id": "1ebb1560",
   "metadata": {},
   "source": [
    "### 问题4：统计不同小孩（Kidhome）和青少年（Teenhome）数量情形下的家庭水果（MntFruits）、肉类（MntMeatProducts）、鱼类（MntFishProducts）消费总额；整理成dataframe表格，并按照消费总额大小排序。"
   ]
  },
  {
   "cell_type": "code",
   "execution_count": 46,
   "id": "d20c2c84",
   "metadata": {
    "execution": {
     "iopub.execute_input": "2022-10-17T08:16:42.347823Z",
     "iopub.status.busy": "2022-10-17T08:16:42.346825Z",
     "iopub.status.idle": "2022-10-17T08:16:42.370760Z",
     "shell.execute_reply": "2022-10-17T08:16:42.369993Z",
     "shell.execute_reply.started": "2022-10-17T08:16:42.347823Z"
    }
   },
   "outputs": [],
   "source": [
    "a1 = data.groupby(['Kidhome','Teenhome']).apply(lambda x: x['MntFruits'].sum()+x['MntMeatProducts'].sum()+x['MntFishProducts'].sum())"
   ]
  },
  {
   "cell_type": "code",
   "execution_count": 47,
   "id": "d4bf719b",
   "metadata": {
    "execution": {
     "iopub.execute_input": "2022-10-17T08:16:44.029656Z",
     "iopub.status.busy": "2022-10-17T08:16:44.028657Z",
     "iopub.status.idle": "2022-10-17T08:16:44.048640Z",
     "shell.execute_reply": "2022-10-17T08:16:44.047606Z",
     "shell.execute_reply.started": "2022-10-17T08:16:44.029656Z"
    }
   },
   "outputs": [
    {
     "data": {
      "text/html": [
       "<div>\n",
       "<style scoped>\n",
       "    .dataframe tbody tr th:only-of-type {\n",
       "        vertical-align: middle;\n",
       "    }\n",
       "\n",
       "    .dataframe tbody tr th {\n",
       "        vertical-align: top;\n",
       "    }\n",
       "\n",
       "    .dataframe thead th {\n",
       "        text-align: right;\n",
       "    }\n",
       "</style>\n",
       "<table border=\"1\" class=\"dataframe\">\n",
       "  <thead>\n",
       "    <tr style=\"text-align: right;\">\n",
       "      <th></th>\n",
       "      <th>Kidhome</th>\n",
       "      <th>Teenhome</th>\n",
       "      <th>SUM</th>\n",
       "    </tr>\n",
       "  </thead>\n",
       "  <tbody>\n",
       "    <tr>\n",
       "      <th>0</th>\n",
       "      <td>0</td>\n",
       "      <td>0</td>\n",
       "      <td>319966</td>\n",
       "    </tr>\n",
       "    <tr>\n",
       "      <th>1</th>\n",
       "      <td>0</td>\n",
       "      <td>1</td>\n",
       "      <td>126368</td>\n",
       "    </tr>\n",
       "    <tr>\n",
       "      <th>2</th>\n",
       "      <td>0</td>\n",
       "      <td>2</td>\n",
       "      <td>5636</td>\n",
       "    </tr>\n",
       "    <tr>\n",
       "      <th>3</th>\n",
       "      <td>1</td>\n",
       "      <td>0</td>\n",
       "      <td>36766</td>\n",
       "    </tr>\n",
       "    <tr>\n",
       "      <th>4</th>\n",
       "      <td>1</td>\n",
       "      <td>1</td>\n",
       "      <td>22880</td>\n",
       "    </tr>\n",
       "  </tbody>\n",
       "</table>\n",
       "</div>"
      ],
      "text/plain": [
       "   Kidhome  Teenhome     SUM\n",
       "0        0         0  319966\n",
       "1        0         1  126368\n",
       "2        0         2    5636\n",
       "3        1         0   36766\n",
       "4        1         1   22880"
      ]
     },
     "execution_count": 47,
     "metadata": {},
     "output_type": "execute_result"
    }
   ],
   "source": [
    "a2 = a1.to_frame('SUM').reset_index()\n",
    "a2.head()"
   ]
  },
  {
   "cell_type": "code",
   "execution_count": 48,
   "id": "802706fe",
   "metadata": {
    "execution": {
     "iopub.execute_input": "2022-10-17T08:16:46.443467Z",
     "iopub.status.busy": "2022-10-17T08:16:46.443467Z",
     "iopub.status.idle": "2022-10-17T08:16:46.461879Z",
     "shell.execute_reply": "2022-10-17T08:16:46.460840Z",
     "shell.execute_reply.started": "2022-10-17T08:16:46.443467Z"
    }
   },
   "outputs": [
    {
     "data": {
      "text/html": [
       "<div>\n",
       "<style scoped>\n",
       "    .dataframe tbody tr th:only-of-type {\n",
       "        vertical-align: middle;\n",
       "    }\n",
       "\n",
       "    .dataframe tbody tr th {\n",
       "        vertical-align: top;\n",
       "    }\n",
       "\n",
       "    .dataframe thead th {\n",
       "        text-align: right;\n",
       "    }\n",
       "</style>\n",
       "<table border=\"1\" class=\"dataframe\">\n",
       "  <thead>\n",
       "    <tr style=\"text-align: right;\">\n",
       "      <th></th>\n",
       "      <th>Kidhome</th>\n",
       "      <th>Teenhome</th>\n",
       "      <th>SUM</th>\n",
       "    </tr>\n",
       "  </thead>\n",
       "  <tbody>\n",
       "    <tr>\n",
       "      <th>0</th>\n",
       "      <td>0</td>\n",
       "      <td>0</td>\n",
       "      <td>319966</td>\n",
       "    </tr>\n",
       "    <tr>\n",
       "      <th>1</th>\n",
       "      <td>0</td>\n",
       "      <td>1</td>\n",
       "      <td>126368</td>\n",
       "    </tr>\n",
       "    <tr>\n",
       "      <th>3</th>\n",
       "      <td>1</td>\n",
       "      <td>0</td>\n",
       "      <td>36766</td>\n",
       "    </tr>\n",
       "    <tr>\n",
       "      <th>4</th>\n",
       "      <td>1</td>\n",
       "      <td>1</td>\n",
       "      <td>22880</td>\n",
       "    </tr>\n",
       "    <tr>\n",
       "      <th>2</th>\n",
       "      <td>0</td>\n",
       "      <td>2</td>\n",
       "      <td>5636</td>\n",
       "    </tr>\n",
       "    <tr>\n",
       "      <th>5</th>\n",
       "      <td>1</td>\n",
       "      <td>2</td>\n",
       "      <td>3006</td>\n",
       "    </tr>\n",
       "    <tr>\n",
       "      <th>6</th>\n",
       "      <td>2</td>\n",
       "      <td>0</td>\n",
       "      <td>1192</td>\n",
       "    </tr>\n",
       "    <tr>\n",
       "      <th>7</th>\n",
       "      <td>2</td>\n",
       "      <td>1</td>\n",
       "      <td>1128</td>\n",
       "    </tr>\n",
       "  </tbody>\n",
       "</table>\n",
       "</div>"
      ],
      "text/plain": [
       "   Kidhome  Teenhome     SUM\n",
       "0        0         0  319966\n",
       "1        0         1  126368\n",
       "3        1         0   36766\n",
       "4        1         1   22880\n",
       "2        0         2    5636\n",
       "5        1         2    3006\n",
       "6        2         0    1192\n",
       "7        2         1    1128"
      ]
     },
     "execution_count": 48,
     "metadata": {},
     "output_type": "execute_result"
    }
   ],
   "source": [
    "a2.sort_values('SUM',ascending=False)"
   ]
  },
  {
   "cell_type": "markdown",
   "id": "d1ce6f70",
   "metadata": {},
   "source": [
    "### 问题5：不同教育水平（Education）用户使用折扣（NumDealsPurchases）的平均次数？"
   ]
  },
  {
   "cell_type": "code",
   "execution_count": 36,
   "id": "fb6479a5",
   "metadata": {
    "execution": {
     "iopub.execute_input": "2022-10-17T08:11:34.012975Z",
     "iopub.status.busy": "2022-10-17T08:11:34.011977Z",
     "iopub.status.idle": "2022-10-17T08:11:34.030929Z",
     "shell.execute_reply": "2022-10-17T08:11:34.029929Z",
     "shell.execute_reply.started": "2022-10-17T08:11:34.012975Z"
    }
   },
   "outputs": [],
   "source": [
    "s1 = data.groupby(['Education']).apply(lambda x: x.NumDealsPurchases.mean())"
   ]
  },
  {
   "cell_type": "code",
   "execution_count": 38,
   "id": "bad23377",
   "metadata": {
    "execution": {
     "iopub.execute_input": "2022-10-17T08:12:32.127771Z",
     "iopub.status.busy": "2022-10-17T08:12:32.126612Z",
     "iopub.status.idle": "2022-10-17T08:12:32.138606Z",
     "shell.execute_reply": "2022-10-17T08:12:32.137583Z",
     "shell.execute_reply.started": "2022-10-17T08:12:32.127771Z"
    }
   },
   "outputs": [
    {
     "data": {
      "text/plain": [
       "Education\n",
       "Basic         1.796296\n",
       "2n Cycle      2.246305\n",
       "Graduation    2.309672\n",
       "PhD           2.374486\n",
       "Master        2.427027\n",
       "dtype: float64"
      ]
     },
     "execution_count": 38,
     "metadata": {},
     "output_type": "execute_result"
    }
   ],
   "source": [
    "s1.sort_values()"
   ]
  },
  {
   "cell_type": "markdown",
   "id": "8be05db2",
   "metadata": {
    "execution": {
     "iopub.execute_input": "2022-10-16T09:46:25.547075Z",
     "iopub.status.busy": "2022-10-16T09:46:25.547075Z",
     "iopub.status.idle": "2022-10-16T09:46:25.554040Z",
     "shell.execute_reply": "2022-10-16T09:46:25.554040Z",
     "shell.execute_reply.started": "2022-10-16T09:46:25.547075Z"
    },
    "tags": []
   },
   "source": [
    "### 问题6：所有用户在网站（NumWebPurchases）、第三方（NumCatalogPurchases）和商店（NumStorePurchases）购买的次数占比？\n",
    "<div style='color: red;'>注意：此问题考察表格迭代，把上述数据整理为Python列表，再统计</div>"
   ]
  },
  {
   "cell_type": "code",
   "execution_count": 44,
   "id": "3dd6ac26",
   "metadata": {
    "execution": {
     "iopub.execute_input": "2022-10-17T08:14:52.866111Z",
     "iopub.status.busy": "2022-10-17T08:14:52.865729Z",
     "iopub.status.idle": "2022-10-17T08:14:53.106087Z",
     "shell.execute_reply": "2022-10-17T08:14:53.105261Z",
     "shell.execute_reply.started": "2022-10-17T08:14:52.865729Z"
    }
   },
   "outputs": [
    {
     "data": {
      "text/plain": [
       "[('Web', 0.3258198910372823),\n",
       " ('Catalog', 0.21233486450877756),\n",
       " ('Store', 0.4618452444539401)]"
      ]
     },
     "execution_count": 44,
     "metadata": {},
     "output_type": "execute_result"
    }
   ],
   "source": [
    "result6 = {'Web':0, 'Catalog':0, 'Store':0}\n",
    "for _, r in data.iterrows():\n",
    "    result6['Web'] += r.NumWebPurchases\n",
    "    result6['Catalog'] += r.NumCatalogPurchases    \n",
    "    result6['Store'] += r.NumStorePurchases\n",
    "    \n",
    "total = sum(result6.values())\n",
    "[(k, result6[k]/total) for k in result6]"
   ]
  },
  {
   "cell_type": "code",
   "execution_count": null,
   "id": "0ef1894a",
   "metadata": {},
   "outputs": [],
   "source": []
  },
  {
   "cell_type": "code",
   "execution_count": null,
   "id": "004b90e4",
   "metadata": {},
   "outputs": [],
   "source": []
  },
  {
   "cell_type": "code",
   "execution_count": null,
   "id": "bd031d44",
   "metadata": {},
   "outputs": [],
   "source": []
  },
  {
   "cell_type": "code",
   "execution_count": null,
   "id": "6304f9a5",
   "metadata": {},
   "outputs": [],
   "source": []
  },
  {
   "cell_type": "code",
   "execution_count": null,
   "id": "3469ea2c",
   "metadata": {},
   "outputs": [],
   "source": []
  },
  {
   "cell_type": "code",
   "execution_count": null,
   "id": "3e0b27af",
   "metadata": {},
   "outputs": [],
   "source": []
  },
  {
   "cell_type": "code",
   "execution_count": null,
   "id": "6e2ffc0c",
   "metadata": {},
   "outputs": [],
   "source": []
  },
  {
   "cell_type": "code",
   "execution_count": null,
   "id": "4096a5cb",
   "metadata": {},
   "outputs": [],
   "source": []
  }
 ],
 "metadata": {
  "kernelspec": {
   "display_name": "Python 3 (ipykernel)",
   "language": "python",
   "name": "python3"
  },
  "language_info": {
   "codemirror_mode": {
    "name": "ipython",
    "version": 3
   },
   "file_extension": ".py",
   "mimetype": "text/x-python",
   "name": "python",
   "nbconvert_exporter": "python",
   "pygments_lexer": "ipython3",
   "version": "3.9.7"
  },
  "widgets": {
   "application/vnd.jupyter.widget-state+json": {
    "state": {},
    "version_major": 2,
    "version_minor": 0
   }
  }
 },
 "nbformat": 4,
 "nbformat_minor": 5
}
