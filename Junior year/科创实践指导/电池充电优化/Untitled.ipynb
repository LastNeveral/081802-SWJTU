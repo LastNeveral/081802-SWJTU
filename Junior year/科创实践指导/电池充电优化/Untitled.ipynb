{
 "cells": [
  {
   "cell_type": "code",
   "execution_count": 4,
   "id": "c7b7770a",
   "metadata": {
    "execution": {
     "iopub.execute_input": "2022-11-28T09:03:34.965601Z",
     "iopub.status.busy": "2022-11-28T09:03:34.964627Z",
     "iopub.status.idle": "2022-11-28T09:03:35.448394Z",
     "shell.execute_reply": "2022-11-28T09:03:35.447598Z",
     "shell.execute_reply.started": "2022-11-28T09:03:34.965601Z"
    }
   },
   "outputs": [],
   "source": [
    "import gurobipy"
   ]
  },
  {
   "cell_type": "code",
   "execution_count": 7,
   "id": "229d2950",
   "metadata": {
    "execution": {
     "iopub.execute_input": "2022-11-28T09:05:14.371615Z",
     "iopub.status.busy": "2022-11-28T09:05:14.370619Z",
     "iopub.status.idle": "2022-11-28T09:05:26.899891Z",
     "shell.execute_reply": "2022-11-28T09:05:26.898865Z",
     "shell.execute_reply.started": "2022-11-28T09:05:14.371615Z"
    }
   },
   "outputs": [],
   "source": [
    "from gurobipy import Model\n",
    "import pandas as pd"
   ]
  },
  {
   "cell_type": "code",
   "execution_count": 8,
   "id": "de1c3e50",
   "metadata": {
    "execution": {
     "iopub.execute_input": "2022-11-28T09:05:42.176583Z",
     "iopub.status.busy": "2022-11-28T09:05:42.176583Z",
     "iopub.status.idle": "2022-11-28T09:05:42.355109Z",
     "shell.execute_reply": "2022-11-28T09:05:42.352114Z",
     "shell.execute_reply.started": "2022-11-28T09:05:42.176583Z"
    }
   },
   "outputs": [
    {
     "data": {
      "text/html": [
       "<div>\n",
       "<style scoped>\n",
       "    .dataframe tbody tr th:only-of-type {\n",
       "        vertical-align: middle;\n",
       "    }\n",
       "\n",
       "    .dataframe tbody tr th {\n",
       "        vertical-align: top;\n",
       "    }\n",
       "\n",
       "    .dataframe thead th {\n",
       "        text-align: right;\n",
       "    }\n",
       "</style>\n",
       "<table border=\"1\" class=\"dataframe\">\n",
       "  <thead>\n",
       "    <tr style=\"text-align: right;\">\n",
       "      <th></th>\n",
       "      <th>line</th>\n",
       "      <th>bus</th>\n",
       "      <th>bus_y</th>\n",
       "      <th>start_time</th>\n",
       "      <th>start</th>\n",
       "      <th>end_time</th>\n",
       "      <th>end</th>\n",
       "      <th>duration</th>\n",
       "      <th>status</th>\n",
       "    </tr>\n",
       "  </thead>\n",
       "  <tbody>\n",
       "    <tr>\n",
       "      <th>0</th>\n",
       "      <td>37</td>\n",
       "      <td>21022107</td>\n",
       "      <td>1</td>\n",
       "      <td>2022-06-01 06:15:00</td>\n",
       "      <td>375</td>\n",
       "      <td>2022-06-01 06:21:00</td>\n",
       "      <td>381</td>\n",
       "      <td>375</td>\n",
       "      <td>o</td>\n",
       "    </tr>\n",
       "    <tr>\n",
       "      <th>1</th>\n",
       "      <td>37</td>\n",
       "      <td>21022107</td>\n",
       "      <td>1</td>\n",
       "      <td>2022-06-01 06:21:00</td>\n",
       "      <td>381</td>\n",
       "      <td>2022-06-01 07:18:00</td>\n",
       "      <td>438</td>\n",
       "      <td>3403</td>\n",
       "      <td>other</td>\n",
       "    </tr>\n",
       "    <tr>\n",
       "      <th>2</th>\n",
       "      <td>37</td>\n",
       "      <td>21022107</td>\n",
       "      <td>1</td>\n",
       "      <td>2022-06-01 07:18:00</td>\n",
       "      <td>438</td>\n",
       "      <td>2022-06-01 07:27:00</td>\n",
       "      <td>447</td>\n",
       "      <td>582</td>\n",
       "      <td>d</td>\n",
       "    </tr>\n",
       "    <tr>\n",
       "      <th>3</th>\n",
       "      <td>37</td>\n",
       "      <td>21022107</td>\n",
       "      <td>1</td>\n",
       "      <td>2022-06-01 07:27:00</td>\n",
       "      <td>447</td>\n",
       "      <td>2022-06-01 08:37:00</td>\n",
       "      <td>517</td>\n",
       "      <td>4164</td>\n",
       "      <td>other</td>\n",
       "    </tr>\n",
       "    <tr>\n",
       "      <th>4</th>\n",
       "      <td>37</td>\n",
       "      <td>21022107</td>\n",
       "      <td>1</td>\n",
       "      <td>2022-06-01 08:37:00</td>\n",
       "      <td>517</td>\n",
       "      <td>2022-06-01 08:58:00</td>\n",
       "      <td>538</td>\n",
       "      <td>1274</td>\n",
       "      <td>o</td>\n",
       "    </tr>\n",
       "  </tbody>\n",
       "</table>\n",
       "</div>"
      ],
      "text/plain": [
       "   line       bus  bus_y           start_time  start             end_time  \\\n",
       "0    37  21022107      1  2022-06-01 06:15:00    375  2022-06-01 06:21:00   \n",
       "1    37  21022107      1  2022-06-01 06:21:00    381  2022-06-01 07:18:00   \n",
       "2    37  21022107      1  2022-06-01 07:18:00    438  2022-06-01 07:27:00   \n",
       "3    37  21022107      1  2022-06-01 07:27:00    447  2022-06-01 08:37:00   \n",
       "4    37  21022107      1  2022-06-01 08:37:00    517  2022-06-01 08:58:00   \n",
       "\n",
       "   end  duration status  \n",
       "0  381       375      o  \n",
       "1  438      3403  other  \n",
       "2  447       582      d  \n",
       "3  517      4164  other  \n",
       "4  538      1274      o  "
      ]
     },
     "execution_count": 8,
     "metadata": {},
     "output_type": "execute_result"
    }
   ],
   "source": [
    "data = pd.read_csv('bus_activity.csv')\n",
    "data.head()"
   ]
  },
  {
   "cell_type": "code",
   "execution_count": 24,
   "id": "4500b12f",
   "metadata": {
    "execution": {
     "iopub.execute_input": "2022-11-28T09:20:31.430837Z",
     "iopub.status.busy": "2022-11-28T09:20:31.430225Z",
     "iopub.status.idle": "2022-11-28T09:20:31.449173Z",
     "shell.execute_reply": "2022-11-28T09:20:31.448257Z",
     "shell.execute_reply.started": "2022-11-28T09:20:31.430837Z"
    }
   },
   "outputs": [],
   "source": [
    "n = list(data['bus_y'].value_counts().index.sort_values())"
   ]
  },
  {
   "cell_type": "code",
   "execution_count": 26,
   "id": "af4cc0cb",
   "metadata": {
    "execution": {
     "iopub.execute_input": "2022-11-28T09:20:52.771489Z",
     "iopub.status.busy": "2022-11-28T09:20:52.771489Z",
     "iopub.status.idle": "2022-11-28T09:20:52.783626Z",
     "shell.execute_reply": "2022-11-28T09:20:52.782630Z",
     "shell.execute_reply.started": "2022-11-28T09:20:52.771489Z"
    }
   },
   "outputs": [
    {
     "data": {
      "text/plain": [
       "446     350\n",
       "432     376\n",
       "0       381\n",
       "490     386\n",
       "374     391\n",
       "       ... \n",
       "568    1384\n",
       "336    1386\n",
       "302    1391\n",
       "321    1408\n",
       "283    1421\n",
       "Name: end, Length: 1131, dtype: int64"
      ]
     },
     "execution_count": 26,
     "metadata": {},
     "output_type": "execute_result"
    }
   ],
   "source": [
    "data['end'].sort_values()"
   ]
  },
  {
   "cell_type": "code",
   "execution_count": 27,
   "id": "38af7e76",
   "metadata": {
    "execution": {
     "iopub.execute_input": "2022-11-28T09:21:05.171439Z",
     "iopub.status.busy": "2022-11-28T09:21:05.170440Z",
     "iopub.status.idle": "2022-11-28T09:21:05.181691Z",
     "shell.execute_reply": "2022-11-28T09:21:05.180694Z",
     "shell.execute_reply.started": "2022-11-28T09:21:05.171439Z"
    }
   },
   "outputs": [
    {
     "data": {
      "text/plain": [
       "1440"
      ]
     },
     "execution_count": 27,
     "metadata": {},
     "output_type": "execute_result"
    }
   ],
   "source": [
    "24*60"
   ]
  },
  {
   "cell_type": "code",
   "execution_count": 9,
   "id": "ab165389",
   "metadata": {
    "execution": {
     "iopub.execute_input": "2022-11-28T09:15:20.212244Z",
     "iopub.status.busy": "2022-11-28T09:15:20.212244Z",
     "iopub.status.idle": "2022-11-28T09:15:20.232423Z",
     "shell.execute_reply": "2022-11-28T09:15:20.231426Z",
     "shell.execute_reply.started": "2022-11-28T09:15:20.212244Z"
    }
   },
   "outputs": [],
   "source": [
    "m = Model()"
   ]
  },
  {
   "cell_type": "code",
   "execution_count": null,
   "id": "7bb41b56",
   "metadata": {},
   "outputs": [],
   "source": [
    "m.addwars()"
   ]
  }
 ],
 "metadata": {
  "kernelspec": {
   "display_name": "Python 3 (ipykernel)",
   "language": "python",
   "name": "python3"
  },
  "language_info": {
   "codemirror_mode": {
    "name": "ipython",
    "version": 3
   },
   "file_extension": ".py",
   "mimetype": "text/x-python",
   "name": "python",
   "nbconvert_exporter": "python",
   "pygments_lexer": "ipython3",
   "version": "3.9.7"
  }
 },
 "nbformat": 4,
 "nbformat_minor": 5
}
