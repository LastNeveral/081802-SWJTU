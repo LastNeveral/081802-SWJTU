{
 "cells": [
  {
   "cell_type": "code",
   "execution_count": 1,
   "id": "8961189f",
   "metadata": {
    "execution": {
     "iopub.execute_input": "2022-10-16T13:35:05.294250Z",
     "iopub.status.busy": "2022-10-16T13:35:05.293252Z",
     "iopub.status.idle": "2022-10-16T13:35:06.632039Z",
     "shell.execute_reply": "2022-10-16T13:35:06.631130Z",
     "shell.execute_reply.started": "2022-10-16T13:35:05.294250Z"
    }
   },
   "outputs": [],
   "source": [
    "import pandas as pd\n",
    "import numpy as np\n",
    "import matplotlib.pyplot as plt"
   ]
  },
  {
   "cell_type": "markdown",
   "id": "3afe6fa7",
   "metadata": {},
   "source": [
    "## 创建数据"
   ]
  },
  {
   "cell_type": "code",
   "execution_count": 3,
   "id": "3a1c029c",
   "metadata": {
    "execution": {
     "iopub.execute_input": "2022-10-16T13:35:23.756385Z",
     "iopub.status.busy": "2022-10-16T13:35:23.756385Z",
     "iopub.status.idle": "2022-10-16T13:35:23.775335Z",
     "shell.execute_reply": "2022-10-16T13:35:23.775335Z",
     "shell.execute_reply.started": "2022-10-16T13:35:23.756385Z"
    },
    "tags": []
   },
   "outputs": [
    {
     "data": {
      "text/html": [
       "<div>\n",
       "<style scoped>\n",
       "    .dataframe tbody tr th:only-of-type {\n",
       "        vertical-align: middle;\n",
       "    }\n",
       "\n",
       "    .dataframe tbody tr th {\n",
       "        vertical-align: top;\n",
       "    }\n",
       "\n",
       "    .dataframe thead th {\n",
       "        text-align: right;\n",
       "    }\n",
       "</style>\n",
       "<table border=\"1\" class=\"dataframe\">\n",
       "  <thead>\n",
       "    <tr style=\"text-align: right;\">\n",
       "      <th></th>\n",
       "      <th>name</th>\n",
       "      <th>age</th>\n",
       "      <th>memo</th>\n",
       "    </tr>\n",
       "  </thead>\n",
       "  <tbody>\n",
       "    <tr>\n",
       "      <th>0</th>\n",
       "      <td>Verne Raymond</td>\n",
       "      <td>18</td>\n",
       "      <td>成绩88</td>\n",
       "    </tr>\n",
       "    <tr>\n",
       "      <th>1</th>\n",
       "      <td>Chapman Becher</td>\n",
       "      <td>22</td>\n",
       "      <td>成绩为：86.5</td>\n",
       "    </tr>\n",
       "    <tr>\n",
       "      <th>2</th>\n",
       "      <td>Patrick George</td>\n",
       "      <td>21</td>\n",
       "      <td>成绩为：92</td>\n",
       "    </tr>\n",
       "    <tr>\n",
       "      <th>3</th>\n",
       "      <td>Saxon MacArthur</td>\n",
       "      <td>16</td>\n",
       "      <td>成绩为：98</td>\n",
       "    </tr>\n",
       "  </tbody>\n",
       "</table>\n",
       "</div>"
      ],
      "text/plain": [
       "              name  age      memo\n",
       "0    Verne Raymond   18      成绩88\n",
       "1   Chapman Becher   22  成绩为：86.5\n",
       "2   Patrick George   21    成绩为：92\n",
       "3  Saxon MacArthur   16    成绩为：98"
      ]
     },
     "execution_count": 3,
     "metadata": {},
     "output_type": "execute_result"
    }
   ],
   "source": [
    "w = pd.DataFrame({'name':['Verne Raymond','Chapman Becher','Patrick George','Saxon MacArthur'],\n",
    "                         'age':[18,22,21,16],\n",
    "                 'memo': ['成绩88', '成绩为：86.5', '成绩为：92', '成绩为：98']})\n",
    "w"
   ]
  },
  {
   "cell_type": "markdown",
   "id": "f6724066",
   "metadata": {},
   "source": [
    "## 字符串处理方法\n",
    "\n",
    "类似Python处理字符串的方法\n",
    "\n",
    "与Python内置的字符串处理方法类似，包含以下函数：\n",
    "\n",
    "<img src=\"../data/pandas-str-basic.png\" alt=\"drawing\" width=\"600px\"/>"
   ]
  },
  {
   "cell_type": "code",
   "execution_count": 7,
   "id": "d682e426",
   "metadata": {
    "execution": {
     "iopub.execute_input": "2022-10-16T13:35:41.641544Z",
     "iopub.status.busy": "2022-10-16T13:35:41.641544Z",
     "iopub.status.idle": "2022-10-16T13:35:41.658499Z",
     "shell.execute_reply": "2022-10-16T13:35:41.658499Z",
     "shell.execute_reply.started": "2022-10-16T13:35:41.641544Z"
    },
    "tags": []
   },
   "outputs": [
    {
     "data": {
      "text/plain": [
       "0    13\n",
       "1    14\n",
       "2    14\n",
       "3    15\n",
       "Name: name, dtype: int64"
      ]
     },
     "execution_count": 7,
     "metadata": {},
     "output_type": "execute_result"
    }
   ],
   "source": [
    "w.name.str.len()"
   ]
  },
  {
   "cell_type": "code",
   "execution_count": 8,
   "id": "0eefae45",
   "metadata": {
    "execution": {
     "iopub.execute_input": "2022-10-16T13:36:06.624415Z",
     "iopub.status.busy": "2022-10-16T13:36:06.624415Z",
     "iopub.status.idle": "2022-10-16T13:36:06.643575Z",
     "shell.execute_reply": "2022-10-16T13:36:06.643575Z",
     "shell.execute_reply.started": "2022-10-16T13:36:06.624415Z"
    },
    "tags": []
   },
   "outputs": [
    {
     "data": {
      "text/plain": [
       "0     True\n",
       "1    False\n",
       "2    False\n",
       "3    False\n",
       "Name: name, dtype: bool"
      ]
     },
     "execution_count": 8,
     "metadata": {},
     "output_type": "execute_result"
    }
   ],
   "source": [
    "w.name.str.startswith('V')"
   ]
  },
  {
   "cell_type": "code",
   "execution_count": 9,
   "id": "42e03e1b",
   "metadata": {
    "execution": {
     "iopub.execute_input": "2022-10-16T13:36:10.806743Z",
     "iopub.status.busy": "2022-10-16T13:36:10.806743Z",
     "iopub.status.idle": "2022-10-16T13:36:10.825675Z",
     "shell.execute_reply": "2022-10-16T13:36:10.825675Z",
     "shell.execute_reply.started": "2022-10-16T13:36:10.806743Z"
    },
    "tags": []
   },
   "outputs": [
    {
     "data": {
      "text/html": [
       "<div>\n",
       "<style scoped>\n",
       "    .dataframe tbody tr th:only-of-type {\n",
       "        vertical-align: middle;\n",
       "    }\n",
       "\n",
       "    .dataframe tbody tr th {\n",
       "        vertical-align: top;\n",
       "    }\n",
       "\n",
       "    .dataframe thead th {\n",
       "        text-align: right;\n",
       "    }\n",
       "</style>\n",
       "<table border=\"1\" class=\"dataframe\">\n",
       "  <thead>\n",
       "    <tr style=\"text-align: right;\">\n",
       "      <th></th>\n",
       "      <th>name</th>\n",
       "      <th>age</th>\n",
       "      <th>memo</th>\n",
       "    </tr>\n",
       "  </thead>\n",
       "  <tbody>\n",
       "    <tr>\n",
       "      <th>0</th>\n",
       "      <td>Verne Raymond</td>\n",
       "      <td>18</td>\n",
       "      <td>成绩88</td>\n",
       "    </tr>\n",
       "  </tbody>\n",
       "</table>\n",
       "</div>"
      ],
      "text/plain": [
       "            name  age  memo\n",
       "0  Verne Raymond   18  成绩88"
      ]
     },
     "execution_count": 9,
     "metadata": {},
     "output_type": "execute_result"
    }
   ],
   "source": [
    "w[w.name.str.startswith('V')]"
   ]
  },
  {
   "cell_type": "code",
   "execution_count": 11,
   "id": "7f741463",
   "metadata": {
    "execution": {
     "iopub.execute_input": "2022-10-16T13:36:24.427108Z",
     "iopub.status.busy": "2022-10-16T13:36:24.427108Z",
     "iopub.status.idle": "2022-10-16T13:36:24.436911Z",
     "shell.execute_reply": "2022-10-16T13:36:24.436911Z",
     "shell.execute_reply.started": "2022-10-16T13:36:24.427108Z"
    },
    "tags": []
   },
   "outputs": [
    {
     "data": {
      "text/plain": [
       "0    Verne\n",
       "1    Chapm\n",
       "2    Patri\n",
       "3    Saxon\n",
       "Name: name, dtype: object"
      ]
     },
     "execution_count": 11,
     "metadata": {},
     "output_type": "execute_result"
    }
   ],
   "source": [
    "# 字符串切片\n",
    "w.name.str[0:5]"
   ]
  },
  {
   "cell_type": "code",
   "execution_count": null,
   "id": "9a5fbd42",
   "metadata": {},
   "outputs": [],
   "source": []
  },
  {
   "cell_type": "code",
   "execution_count": null,
   "id": "19d19442",
   "metadata": {},
   "outputs": [],
   "source": []
  },
  {
   "cell_type": "markdown",
   "id": "f92e33b1",
   "metadata": {},
   "source": [
    "## 使用正则表达式方法\n",
    "\n",
    "<img src=\"../data/pandas-str-regrex.png\" alt=\"drawing\" width=\"600px\"/>"
   ]
  },
  {
   "cell_type": "code",
   "execution_count": 12,
   "id": "ea8833f8",
   "metadata": {
    "execution": {
     "iopub.execute_input": "2022-10-16T13:37:07.603104Z",
     "iopub.status.busy": "2022-10-16T13:37:07.603104Z",
     "iopub.status.idle": "2022-10-16T13:37:07.612081Z",
     "shell.execute_reply": "2022-10-16T13:37:07.611083Z",
     "shell.execute_reply.started": "2022-10-16T13:37:07.603104Z"
    },
    "tags": []
   },
   "outputs": [
    {
     "data": {
      "text/plain": [
       "0      Verne-Raymond\n",
       "1     Chapman-Becher\n",
       "2     Patrick-George\n",
       "3    Saxon-MacArthur\n",
       "Name: name, dtype: object"
      ]
     },
     "execution_count": 12,
     "metadata": {},
     "output_type": "execute_result"
    }
   ],
   "source": [
    "w['name'].str.replace(' ','-')"
   ]
  },
  {
   "cell_type": "code",
   "execution_count": 13,
   "id": "944ca597",
   "metadata": {
    "execution": {
     "iopub.execute_input": "2022-10-16T13:37:09.830717Z",
     "iopub.status.busy": "2022-10-16T13:37:09.829719Z",
     "iopub.status.idle": "2022-10-16T13:37:09.842684Z",
     "shell.execute_reply": "2022-10-16T13:37:09.842684Z",
     "shell.execute_reply.started": "2022-10-16T13:37:09.830717Z"
    },
    "tags": []
   },
   "outputs": [
    {
     "data": {
      "text/plain": [
       "0     True\n",
       "1    False\n",
       "2    False\n",
       "3     True\n",
       "Name: name, dtype: bool"
      ]
     },
     "execution_count": 13,
     "metadata": {},
     "output_type": "execute_result"
    }
   ],
   "source": [
    "w['name'].str.contains('on')"
   ]
  },
  {
   "cell_type": "code",
   "execution_count": 14,
   "id": "a98ce417",
   "metadata": {
    "execution": {
     "iopub.execute_input": "2022-10-16T13:38:16.032186Z",
     "iopub.status.busy": "2022-10-16T13:38:16.032186Z",
     "iopub.status.idle": "2022-10-16T13:38:16.043369Z",
     "shell.execute_reply": "2022-10-16T13:38:16.043369Z",
     "shell.execute_reply.started": "2022-10-16T13:38:16.032186Z"
    },
    "tags": []
   },
   "outputs": [
    {
     "data": {
      "text/html": [
       "<div>\n",
       "<style scoped>\n",
       "    .dataframe tbody tr th:only-of-type {\n",
       "        vertical-align: middle;\n",
       "    }\n",
       "\n",
       "    .dataframe tbody tr th {\n",
       "        vertical-align: top;\n",
       "    }\n",
       "\n",
       "    .dataframe thead th {\n",
       "        text-align: right;\n",
       "    }\n",
       "</style>\n",
       "<table border=\"1\" class=\"dataframe\">\n",
       "  <thead>\n",
       "    <tr style=\"text-align: right;\">\n",
       "      <th></th>\n",
       "      <th>name</th>\n",
       "      <th>age</th>\n",
       "      <th>memo</th>\n",
       "      <th>score</th>\n",
       "    </tr>\n",
       "  </thead>\n",
       "  <tbody>\n",
       "    <tr>\n",
       "      <th>0</th>\n",
       "      <td>Verne Raymond</td>\n",
       "      <td>18</td>\n",
       "      <td>成绩88</td>\n",
       "      <td>88</td>\n",
       "    </tr>\n",
       "    <tr>\n",
       "      <th>1</th>\n",
       "      <td>Chapman Becher</td>\n",
       "      <td>22</td>\n",
       "      <td>成绩为：86.5</td>\n",
       "      <td>86.5</td>\n",
       "    </tr>\n",
       "    <tr>\n",
       "      <th>2</th>\n",
       "      <td>Patrick George</td>\n",
       "      <td>21</td>\n",
       "      <td>成绩为：92</td>\n",
       "      <td>92</td>\n",
       "    </tr>\n",
       "    <tr>\n",
       "      <th>3</th>\n",
       "      <td>Saxon MacArthur</td>\n",
       "      <td>16</td>\n",
       "      <td>成绩为：98</td>\n",
       "      <td>98</td>\n",
       "    </tr>\n",
       "  </tbody>\n",
       "</table>\n",
       "</div>"
      ],
      "text/plain": [
       "              name  age      memo score\n",
       "0    Verne Raymond   18      成绩88    88\n",
       "1   Chapman Becher   22  成绩为：86.5  86.5\n",
       "2   Patrick George   21    成绩为：92    92\n",
       "3  Saxon MacArthur   16    成绩为：98    98"
      ]
     },
     "execution_count": 14,
     "metadata": {},
     "output_type": "execute_result"
    }
   ],
   "source": [
    "w['score'] = w.memo.str.extract('(\\d+\\.?\\d*)')\n",
    "w"
   ]
  },
  {
   "cell_type": "code",
   "execution_count": null,
   "id": "865ff845",
   "metadata": {},
   "outputs": [],
   "source": []
  },
  {
   "cell_type": "code",
   "execution_count": null,
   "id": "a55c803c",
   "metadata": {},
   "outputs": [],
   "source": []
  },
  {
   "cell_type": "code",
   "execution_count": null,
   "id": "99c68ffd",
   "metadata": {},
   "outputs": [],
   "source": []
  }
 ],
 "metadata": {
  "kernelspec": {
   "display_name": "Python 3 (ipykernel)",
   "language": "python",
   "name": "python3"
  },
  "language_info": {
   "codemirror_mode": {
    "name": "ipython",
    "version": 3
   },
   "file_extension": ".py",
   "mimetype": "text/x-python",
   "name": "python",
   "nbconvert_exporter": "python",
   "pygments_lexer": "ipython3",
   "version": "3.9.7"
  },
  "widgets": {
   "application/vnd.jupyter.widget-state+json": {
    "state": {},
    "version_major": 2,
    "version_minor": 0
   }
  }
 },
 "nbformat": 4,
 "nbformat_minor": 5
}
