{
 "cells": [
  {
   "cell_type": "code",
   "execution_count": 1,
   "id": "ee38c5ca",
   "metadata": {
    "execution": {
     "iopub.execute_input": "2022-10-16T08:47:27.515512Z",
     "iopub.status.busy": "2022-10-16T08:47:27.514514Z",
     "iopub.status.idle": "2022-10-16T08:47:28.321846Z",
     "shell.execute_reply": "2022-10-16T08:47:28.321846Z",
     "shell.execute_reply.started": "2022-10-16T08:47:27.514514Z"
    },
    "tags": []
   },
   "outputs": [],
   "source": [
    "import pandas as pd\n",
    "import numpy as np\n",
    "import matplotlib.pyplot as plt"
   ]
  },
  {
   "cell_type": "markdown",
   "id": "dc52b53b",
   "metadata": {},
   "source": [
    "## 数据导入"
   ]
  },
  {
   "cell_type": "code",
   "execution_count": 2,
   "id": "71dd9981",
   "metadata": {
    "execution": {
     "iopub.execute_input": "2022-10-16T08:47:28.762078Z",
     "iopub.status.busy": "2022-10-16T08:47:28.762078Z",
     "iopub.status.idle": "2022-10-16T08:47:28.973849Z",
     "shell.execute_reply": "2022-10-16T08:47:28.973849Z",
     "shell.execute_reply.started": "2022-10-16T08:47:28.762078Z"
    },
    "tags": []
   },
   "outputs": [
    {
     "name": "stdout",
     "output_type": "stream",
     "text": [
      "(99999, 9)\n"
     ]
    },
    {
     "data": {
      "text/html": [
       "<div>\n",
       "<style scoped>\n",
       "    .dataframe tbody tr th:only-of-type {\n",
       "        vertical-align: middle;\n",
       "    }\n",
       "\n",
       "    .dataframe tbody tr th {\n",
       "        vertical-align: top;\n",
       "    }\n",
       "\n",
       "    .dataframe thead th {\n",
       "        text-align: right;\n",
       "    }\n",
       "</style>\n",
       "<table border=\"1\" class=\"dataframe\">\n",
       "  <thead>\n",
       "    <tr style=\"text-align: right;\">\n",
       "      <th></th>\n",
       "      <th>user</th>\n",
       "      <th>platform</th>\n",
       "      <th>start_time</th>\n",
       "      <th>start_lon</th>\n",
       "      <th>start_lat</th>\n",
       "      <th>end_time</th>\n",
       "      <th>end_lon</th>\n",
       "      <th>end_lat</th>\n",
       "      <th>dis</th>\n",
       "    </tr>\n",
       "  </thead>\n",
       "  <tbody>\n",
       "    <tr>\n",
       "      <th>0</th>\n",
       "      <td>7f508e26ae95478ac8b7cda2d88b4424</td>\n",
       "      <td>f52411b549236c64cbfad398527b06f0</td>\n",
       "      <td>2017-10-01 07:53:37</td>\n",
       "      <td>104.039897</td>\n",
       "      <td>30.525454</td>\n",
       "      <td>2017-10-01 07:56:25</td>\n",
       "      <td>104.042991</td>\n",
       "      <td>30.525805</td>\n",
       "      <td>299.481524</td>\n",
       "    </tr>\n",
       "    <tr>\n",
       "      <th>1</th>\n",
       "      <td>48bdf631eae97a0b7e6dddb9bd672491</td>\n",
       "      <td>f52411b549236c64cbfad398527b06f0</td>\n",
       "      <td>2017-10-01 17:54:15</td>\n",
       "      <td>103.877410</td>\n",
       "      <td>30.560417</td>\n",
       "      <td>2017-10-01 17:57:43</td>\n",
       "      <td>103.877011</td>\n",
       "      <td>30.560110</td>\n",
       "      <td>51.222150</td>\n",
       "    </tr>\n",
       "    <tr>\n",
       "      <th>2</th>\n",
       "      <td>56f6e3d6c92224aa58f5fb82a33d2ac5</td>\n",
       "      <td>f52411b549236c64cbfad398527b06f0</td>\n",
       "      <td>2017-10-01 08:31:24</td>\n",
       "      <td>104.073352</td>\n",
       "      <td>30.667557</td>\n",
       "      <td>2017-10-01 08:31:32</td>\n",
       "      <td>104.073372</td>\n",
       "      <td>30.667488</td>\n",
       "      <td>7.886066</td>\n",
       "    </tr>\n",
       "    <tr>\n",
       "      <th>3</th>\n",
       "      <td>b1398642247778f83470f09e923163f3</td>\n",
       "      <td>f52411b549236c64cbfad398527b06f0</td>\n",
       "      <td>2017-10-01 16:21:33</td>\n",
       "      <td>104.105804</td>\n",
       "      <td>30.680654</td>\n",
       "      <td>2017-10-01 16:27:42</td>\n",
       "      <td>104.100628</td>\n",
       "      <td>30.681912</td>\n",
       "      <td>515.202671</td>\n",
       "    </tr>\n",
       "    <tr>\n",
       "      <th>4</th>\n",
       "      <td>2fd5d6e292aad0c661c9e6480d4b9edc</td>\n",
       "      <td>f52411b549236c64cbfad398527b06f0</td>\n",
       "      <td>2017-10-01 22:36:45</td>\n",
       "      <td>104.064834</td>\n",
       "      <td>30.688940</td>\n",
       "      <td>2017-10-01 22:45:41</td>\n",
       "      <td>104.064870</td>\n",
       "      <td>30.689018</td>\n",
       "      <td>9.309940</td>\n",
       "    </tr>\n",
       "  </tbody>\n",
       "</table>\n",
       "</div>"
      ],
      "text/plain": [
       "                               user                          platform  \\\n",
       "0  7f508e26ae95478ac8b7cda2d88b4424  f52411b549236c64cbfad398527b06f0   \n",
       "1  48bdf631eae97a0b7e6dddb9bd672491  f52411b549236c64cbfad398527b06f0   \n",
       "2  56f6e3d6c92224aa58f5fb82a33d2ac5  f52411b549236c64cbfad398527b06f0   \n",
       "3  b1398642247778f83470f09e923163f3  f52411b549236c64cbfad398527b06f0   \n",
       "4  2fd5d6e292aad0c661c9e6480d4b9edc  f52411b549236c64cbfad398527b06f0   \n",
       "\n",
       "            start_time   start_lon  start_lat             end_time  \\\n",
       "0  2017-10-01 07:53:37  104.039897  30.525454  2017-10-01 07:56:25   \n",
       "1  2017-10-01 17:54:15  103.877410  30.560417  2017-10-01 17:57:43   \n",
       "2  2017-10-01 08:31:24  104.073352  30.667557  2017-10-01 08:31:32   \n",
       "3  2017-10-01 16:21:33  104.105804  30.680654  2017-10-01 16:27:42   \n",
       "4  2017-10-01 22:36:45  104.064834  30.688940  2017-10-01 22:45:41   \n",
       "\n",
       "      end_lon    end_lat         dis  \n",
       "0  104.042991  30.525805  299.481524  \n",
       "1  103.877011  30.560110   51.222150  \n",
       "2  104.073372  30.667488    7.886066  \n",
       "3  104.100628  30.681912  515.202671  \n",
       "4  104.064870  30.689018    9.309940  "
      ]
     },
     "execution_count": 2,
     "metadata": {},
     "output_type": "execute_result"
    }
   ],
   "source": [
    "w = pd.read_csv('../data/bike_od.csv')\n",
    "print(w.shape) # 查看数据大小\n",
    "w.head()"
   ]
  },
  {
   "cell_type": "code",
   "execution_count": null,
   "id": "d636dd62",
   "metadata": {},
   "outputs": [],
   "source": []
  },
  {
   "cell_type": "markdown",
   "id": "ea3cbfaa",
   "metadata": {},
   "source": [
    "### 问题1：查看用户87347011edded1387ca0cef5a7bdea28的骑行大于20m的数据数据"
   ]
  },
  {
   "cell_type": "code",
   "execution_count": 4,
   "id": "d7355c79",
   "metadata": {
    "execution": {
     "iopub.execute_input": "2022-10-16T08:48:13.736205Z",
     "iopub.status.busy": "2022-10-16T08:48:13.736205Z",
     "iopub.status.idle": "2022-10-16T08:48:13.764130Z",
     "shell.execute_reply": "2022-10-16T08:48:13.764130Z",
     "shell.execute_reply.started": "2022-10-16T08:48:13.736205Z"
    },
    "tags": []
   },
   "outputs": [
    {
     "data": {
      "text/html": [
       "<div>\n",
       "<style scoped>\n",
       "    .dataframe tbody tr th:only-of-type {\n",
       "        vertical-align: middle;\n",
       "    }\n",
       "\n",
       "    .dataframe tbody tr th {\n",
       "        vertical-align: top;\n",
       "    }\n",
       "\n",
       "    .dataframe thead th {\n",
       "        text-align: right;\n",
       "    }\n",
       "</style>\n",
       "<table border=\"1\" class=\"dataframe\">\n",
       "  <thead>\n",
       "    <tr style=\"text-align: right;\">\n",
       "      <th></th>\n",
       "      <th>user</th>\n",
       "      <th>platform</th>\n",
       "      <th>start_time</th>\n",
       "      <th>start_lon</th>\n",
       "      <th>start_lat</th>\n",
       "      <th>end_time</th>\n",
       "      <th>end_lon</th>\n",
       "      <th>end_lat</th>\n",
       "      <th>dis</th>\n",
       "    </tr>\n",
       "  </thead>\n",
       "  <tbody>\n",
       "    <tr>\n",
       "      <th>24257</th>\n",
       "      <td>87347011edded1387ca0cef5a7bdea28</td>\n",
       "      <td>f52411b549236c64cbfad398527b06f0</td>\n",
       "      <td>2017-10-01 11:52:19</td>\n",
       "      <td>103.958563</td>\n",
       "      <td>30.688981</td>\n",
       "      <td>2017-10-01 12:02:15</td>\n",
       "      <td>103.958708</td>\n",
       "      <td>30.688565</td>\n",
       "      <td>48.166572</td>\n",
       "    </tr>\n",
       "    <tr>\n",
       "      <th>61397</th>\n",
       "      <td>87347011edded1387ca0cef5a7bdea28</td>\n",
       "      <td>f52411b549236c64cbfad398527b06f0</td>\n",
       "      <td>2017-10-01 17:07:51</td>\n",
       "      <td>103.958046</td>\n",
       "      <td>30.689294</td>\n",
       "      <td>2017-10-01 17:08:04</td>\n",
       "      <td>103.958251</td>\n",
       "      <td>30.689333</td>\n",
       "      <td>20.111820</td>\n",
       "    </tr>\n",
       "  </tbody>\n",
       "</table>\n",
       "</div>"
      ],
      "text/plain": [
       "                                   user                          platform  \\\n",
       "24257  87347011edded1387ca0cef5a7bdea28  f52411b549236c64cbfad398527b06f0   \n",
       "61397  87347011edded1387ca0cef5a7bdea28  f52411b549236c64cbfad398527b06f0   \n",
       "\n",
       "                start_time   start_lon  start_lat             end_time  \\\n",
       "24257  2017-10-01 11:52:19  103.958563  30.688981  2017-10-01 12:02:15   \n",
       "61397  2017-10-01 17:07:51  103.958046  30.689294  2017-10-01 17:08:04   \n",
       "\n",
       "          end_lon    end_lat        dis  \n",
       "24257  103.958708  30.688565  48.166572  \n",
       "61397  103.958251  30.689333  20.111820  "
      ]
     },
     "execution_count": 4,
     "metadata": {},
     "output_type": "execute_result"
    }
   ],
   "source": [
    "w[(w.user=='87347011edded1387ca0cef5a7bdea28') & (w.dis>20)]"
   ]
  },
  {
   "cell_type": "code",
   "execution_count": null,
   "id": "2662d8c8",
   "metadata": {},
   "outputs": [],
   "source": []
  },
  {
   "cell_type": "markdown",
   "id": "1197dba3",
   "metadata": {},
   "source": [
    "### 问题2. 用户总量是多少？最大骑行次数？最小骑行次数？用`df['A'].value_counts()`函数完成"
   ]
  },
  {
   "cell_type": "code",
   "execution_count": 5,
   "id": "7204cfea",
   "metadata": {
    "execution": {
     "iopub.execute_input": "2022-10-16T08:48:34.452234Z",
     "iopub.status.busy": "2022-10-16T08:48:34.452234Z",
     "iopub.status.idle": "2022-10-16T08:48:34.472180Z",
     "shell.execute_reply": "2022-10-16T08:48:34.472180Z",
     "shell.execute_reply.started": "2022-10-16T08:48:34.452234Z"
    },
    "tags": []
   },
   "outputs": [
    {
     "data": {
      "text/plain": [
       "25779"
      ]
     },
     "execution_count": 5,
     "metadata": {},
     "output_type": "execute_result"
    }
   ],
   "source": [
    "w.user.nunique()"
   ]
  },
  {
   "cell_type": "code",
   "execution_count": 8,
   "id": "69b09d2e",
   "metadata": {
    "execution": {
     "iopub.execute_input": "2022-10-16T08:48:59.212740Z",
     "iopub.status.busy": "2022-10-16T08:48:59.212740Z",
     "iopub.status.idle": "2022-10-16T08:48:59.230663Z",
     "shell.execute_reply": "2022-10-16T08:48:59.230663Z",
     "shell.execute_reply.started": "2022-10-16T08:48:59.212740Z"
    },
    "tags": []
   },
   "outputs": [
    {
     "data": {
      "text/plain": [
       "e10be3d518b3d2dfaf04462847cbd16c    90\n",
       "1dfc752e7b8392c81d54ecb88312e80e    72\n",
       "6381f2120d1fa9811a4473c78f9fdf55    67\n",
       "7263e7ec310edfb06f2bd83ad3f9ff4e    62\n",
       "8e3dbab5841a7d449bfb8f8c2bf078f1    60\n",
       "                                    ..\n",
       "67358df39a1a1e808116500c403dacf2     1\n",
       "bc47148ef502712df33e8ebbb0a7a089     1\n",
       "6abe7e5bb879857d3c1db646408a472a     1\n",
       "4c63719b9b56b2c89fd35e98bf994e6f     1\n",
       "adc1028238b0982c035768eefdc6e4c5     1\n",
       "Name: user, Length: 25779, dtype: int64"
      ]
     },
     "execution_count": 8,
     "metadata": {},
     "output_type": "execute_result"
    }
   ],
   "source": [
    "t = w.user.value_counts()\n",
    "t"
   ]
  },
  {
   "cell_type": "code",
   "execution_count": 10,
   "id": "7bf5255c",
   "metadata": {
    "execution": {
     "iopub.execute_input": "2022-10-16T08:49:39.347190Z",
     "iopub.status.busy": "2022-10-16T08:49:39.346193Z",
     "iopub.status.idle": "2022-10-16T08:49:39.364203Z",
     "shell.execute_reply": "2022-10-16T08:49:39.364203Z",
     "shell.execute_reply.started": "2022-10-16T08:49:39.347190Z"
    },
    "tags": []
   },
   "outputs": [
    {
     "name": "stdout",
     "output_type": "stream",
     "text": [
      "最大次数：90，最小次数：1\n"
     ]
    }
   ],
   "source": [
    "print('最大次数：{}，最小次数：{}'.format(t[0], t[-1]))"
   ]
  },
  {
   "cell_type": "code",
   "execution_count": null,
   "id": "a15400f8",
   "metadata": {},
   "outputs": [],
   "source": []
  },
  {
   "cell_type": "markdown",
   "id": "9fb0493d",
   "metadata": {},
   "source": [
    "### 问题3：用户的平均骑行次数？"
   ]
  },
  {
   "cell_type": "code",
   "execution_count": 12,
   "id": "225d42df",
   "metadata": {
    "execution": {
     "iopub.execute_input": "2022-10-16T08:50:22.952027Z",
     "iopub.status.busy": "2022-10-16T08:50:22.952027Z",
     "iopub.status.idle": "2022-10-16T08:50:22.963656Z",
     "shell.execute_reply": "2022-10-16T08:50:22.963656Z",
     "shell.execute_reply.started": "2022-10-16T08:50:22.952027Z"
    },
    "tags": []
   },
   "outputs": [
    {
     "name": "stdout",
     "output_type": "stream",
     "text": [
      "平均骑行次数为：3.88\n"
     ]
    }
   ],
   "source": [
    "print('平均骑行次数为：{:.2f}'.format(t.mean()))"
   ]
  },
  {
   "cell_type": "code",
   "execution_count": null,
   "id": "d0ea55a7",
   "metadata": {},
   "outputs": [],
   "source": []
  },
  {
   "cell_type": "markdown",
   "id": "c16b4896",
   "metadata": {},
   "source": [
    "### 问题4：用户的平均骑行距离？"
   ]
  },
  {
   "cell_type": "code",
   "execution_count": 13,
   "id": "3ee20fcb",
   "metadata": {
    "execution": {
     "iopub.execute_input": "2022-10-16T08:50:35.311914Z",
     "iopub.status.busy": "2022-10-16T08:50:35.311914Z",
     "iopub.status.idle": "2022-10-16T08:50:35.320749Z",
     "shell.execute_reply": "2022-10-16T08:50:35.320749Z",
     "shell.execute_reply.started": "2022-10-16T08:50:35.311914Z"
    },
    "tags": []
   },
   "outputs": [
    {
     "data": {
      "text/plain": [
       "285.00888228855973"
      ]
     },
     "execution_count": 13,
     "metadata": {},
     "output_type": "execute_result"
    }
   ],
   "source": [
    "w.dis.mean()"
   ]
  },
  {
   "cell_type": "code",
   "execution_count": null,
   "id": "a28752fb",
   "metadata": {},
   "outputs": [],
   "source": []
  },
  {
   "cell_type": "code",
   "execution_count": null,
   "id": "4ca507bb",
   "metadata": {},
   "outputs": [],
   "source": []
  },
  {
   "cell_type": "markdown",
   "id": "98cf03b1",
   "metadata": {},
   "source": [
    "### 问题5：有多少平台，每个平台的骑行数量分布？ 百分数占比？"
   ]
  },
  {
   "cell_type": "code",
   "execution_count": 14,
   "id": "a9a8a4d8",
   "metadata": {
    "execution": {
     "iopub.execute_input": "2022-10-16T08:50:57.543595Z",
     "iopub.status.busy": "2022-10-16T08:50:57.543595Z",
     "iopub.status.idle": "2022-10-16T08:50:57.567530Z",
     "shell.execute_reply": "2022-10-16T08:50:57.567530Z",
     "shell.execute_reply.started": "2022-10-16T08:50:57.543595Z"
    },
    "tags": []
   },
   "outputs": [
    {
     "data": {
      "text/plain": [
       "12"
      ]
     },
     "execution_count": 14,
     "metadata": {},
     "output_type": "execute_result"
    }
   ],
   "source": [
    "w.platform.nunique()"
   ]
  },
  {
   "cell_type": "code",
   "execution_count": 15,
   "id": "737e4d02",
   "metadata": {
    "execution": {
     "iopub.execute_input": "2022-10-16T08:51:08.352940Z",
     "iopub.status.busy": "2022-10-16T08:51:08.352940Z",
     "iopub.status.idle": "2022-10-16T08:51:08.367470Z",
     "shell.execute_reply": "2022-10-16T08:51:08.367470Z",
     "shell.execute_reply.started": "2022-10-16T08:51:08.352940Z"
    },
    "tags": []
   },
   "outputs": [
    {
     "data": {
      "text/plain": [
       "f52411b549236c64cbfad398527b06f0    88780\n",
       "24128e85e41d2d37218f2a01b6817a81    10012\n",
       "84a42f2803c8de332042416550990d36      531\n",
       "437a670396979416774414d239726485      260\n",
       "230cb4fc9919b9989dd4b45823efa609      214\n",
       "6ee5fe228323d6508c8d42abf043071f      111\n",
       "343f5a26aff53f87682ac055fc062833       51\n",
       "a1610f8f823abae6056b26ae35703e42       29\n",
       "6dfe349b21ab8c07e80489685603a941        6\n",
       "616fcdf309684c2b2ed0f5174a6ccdb8        2\n",
       "8149f20db762c2d0194b8f58ae9309f4        2\n",
       "218eadaf5f19a61939805f60ebfefac1        1\n",
       "Name: platform, dtype: int64"
      ]
     },
     "execution_count": 15,
     "metadata": {},
     "output_type": "execute_result"
    }
   ],
   "source": [
    "w.platform.value_counts()"
   ]
  },
  {
   "cell_type": "code",
   "execution_count": 16,
   "id": "0e3fc709",
   "metadata": {
    "execution": {
     "iopub.execute_input": "2022-10-16T08:51:17.404185Z",
     "iopub.status.busy": "2022-10-16T08:51:17.403187Z",
     "iopub.status.idle": "2022-10-16T08:51:17.420338Z",
     "shell.execute_reply": "2022-10-16T08:51:17.420338Z",
     "shell.execute_reply.started": "2022-10-16T08:51:17.404185Z"
    },
    "tags": []
   },
   "outputs": [
    {
     "data": {
      "text/plain": [
       "f52411b549236c64cbfad398527b06f0    0.887809\n",
       "24128e85e41d2d37218f2a01b6817a81    0.100121\n",
       "84a42f2803c8de332042416550990d36    0.005310\n",
       "437a670396979416774414d239726485    0.002600\n",
       "230cb4fc9919b9989dd4b45823efa609    0.002140\n",
       "6ee5fe228323d6508c8d42abf043071f    0.001110\n",
       "343f5a26aff53f87682ac055fc062833    0.000510\n",
       "a1610f8f823abae6056b26ae35703e42    0.000290\n",
       "6dfe349b21ab8c07e80489685603a941    0.000060\n",
       "616fcdf309684c2b2ed0f5174a6ccdb8    0.000020\n",
       "8149f20db762c2d0194b8f58ae9309f4    0.000020\n",
       "218eadaf5f19a61939805f60ebfefac1    0.000010\n",
       "Name: platform, dtype: float64"
      ]
     },
     "execution_count": 16,
     "metadata": {},
     "output_type": "execute_result"
    }
   ],
   "source": [
    "w.platform.value_counts(normalize=True)"
   ]
  },
  {
   "cell_type": "code",
   "execution_count": null,
   "id": "828fd729",
   "metadata": {},
   "outputs": [],
   "source": []
  },
  {
   "cell_type": "markdown",
   "id": "1b5cd21e",
   "metadata": {},
   "source": [
    "### 问题6：增加一列，名称为hour(以开始时间为准)，表示小时，统计每小时的骑行用户数量，统计每小时的骑行总量，并可视化\n",
    "提示：\n",
    "* 思路1：数据导入时，数据列为字符串，可以根据小时在字符串的位置提取小时特征\n",
    "* 思路2：用pd.to_datetime(df.A)，将A列转化为时间格式，之后针对每个单元数据i,可以使用i.hour提取小时特征\n",
    "\n",
    "```\n",
    "w['start_time'] = pd.to_datetime(w['start_time'])\n",
    "w.start_time[0].hour\n",
    "```"
   ]
  },
  {
   "cell_type": "code",
   "execution_count": 17,
   "id": "af1df0f5",
   "metadata": {
    "execution": {
     "iopub.execute_input": "2022-10-16T08:51:52.636164Z",
     "iopub.status.busy": "2022-10-16T08:51:52.636164Z",
     "iopub.status.idle": "2022-10-16T08:51:52.899517Z",
     "shell.execute_reply": "2022-10-16T08:51:52.899517Z",
     "shell.execute_reply.started": "2022-10-16T08:51:52.636164Z"
    },
    "tags": []
   },
   "outputs": [
    {
     "data": {
      "text/html": [
       "<div>\n",
       "<style scoped>\n",
       "    .dataframe tbody tr th:only-of-type {\n",
       "        vertical-align: middle;\n",
       "    }\n",
       "\n",
       "    .dataframe tbody tr th {\n",
       "        vertical-align: top;\n",
       "    }\n",
       "\n",
       "    .dataframe thead th {\n",
       "        text-align: right;\n",
       "    }\n",
       "</style>\n",
       "<table border=\"1\" class=\"dataframe\">\n",
       "  <thead>\n",
       "    <tr style=\"text-align: right;\">\n",
       "      <th></th>\n",
       "      <th>user</th>\n",
       "      <th>platform</th>\n",
       "      <th>start_time</th>\n",
       "      <th>start_lon</th>\n",
       "      <th>start_lat</th>\n",
       "      <th>end_time</th>\n",
       "      <th>end_lon</th>\n",
       "      <th>end_lat</th>\n",
       "      <th>dis</th>\n",
       "      <th>hour</th>\n",
       "    </tr>\n",
       "  </thead>\n",
       "  <tbody>\n",
       "    <tr>\n",
       "      <th>0</th>\n",
       "      <td>7f508e26ae95478ac8b7cda2d88b4424</td>\n",
       "      <td>f52411b549236c64cbfad398527b06f0</td>\n",
       "      <td>2017-10-01 07:53:37</td>\n",
       "      <td>104.039897</td>\n",
       "      <td>30.525454</td>\n",
       "      <td>2017-10-01 07:56:25</td>\n",
       "      <td>104.042991</td>\n",
       "      <td>30.525805</td>\n",
       "      <td>299.481524</td>\n",
       "      <td>7</td>\n",
       "    </tr>\n",
       "    <tr>\n",
       "      <th>1</th>\n",
       "      <td>48bdf631eae97a0b7e6dddb9bd672491</td>\n",
       "      <td>f52411b549236c64cbfad398527b06f0</td>\n",
       "      <td>2017-10-01 17:54:15</td>\n",
       "      <td>103.877410</td>\n",
       "      <td>30.560417</td>\n",
       "      <td>2017-10-01 17:57:43</td>\n",
       "      <td>103.877011</td>\n",
       "      <td>30.560110</td>\n",
       "      <td>51.222150</td>\n",
       "      <td>17</td>\n",
       "    </tr>\n",
       "    <tr>\n",
       "      <th>2</th>\n",
       "      <td>56f6e3d6c92224aa58f5fb82a33d2ac5</td>\n",
       "      <td>f52411b549236c64cbfad398527b06f0</td>\n",
       "      <td>2017-10-01 08:31:24</td>\n",
       "      <td>104.073352</td>\n",
       "      <td>30.667557</td>\n",
       "      <td>2017-10-01 08:31:32</td>\n",
       "      <td>104.073372</td>\n",
       "      <td>30.667488</td>\n",
       "      <td>7.886066</td>\n",
       "      <td>8</td>\n",
       "    </tr>\n",
       "    <tr>\n",
       "      <th>3</th>\n",
       "      <td>b1398642247778f83470f09e923163f3</td>\n",
       "      <td>f52411b549236c64cbfad398527b06f0</td>\n",
       "      <td>2017-10-01 16:21:33</td>\n",
       "      <td>104.105804</td>\n",
       "      <td>30.680654</td>\n",
       "      <td>2017-10-01 16:27:42</td>\n",
       "      <td>104.100628</td>\n",
       "      <td>30.681912</td>\n",
       "      <td>515.202671</td>\n",
       "      <td>16</td>\n",
       "    </tr>\n",
       "    <tr>\n",
       "      <th>4</th>\n",
       "      <td>2fd5d6e292aad0c661c9e6480d4b9edc</td>\n",
       "      <td>f52411b549236c64cbfad398527b06f0</td>\n",
       "      <td>2017-10-01 22:36:45</td>\n",
       "      <td>104.064834</td>\n",
       "      <td>30.688940</td>\n",
       "      <td>2017-10-01 22:45:41</td>\n",
       "      <td>104.064870</td>\n",
       "      <td>30.689018</td>\n",
       "      <td>9.309940</td>\n",
       "      <td>22</td>\n",
       "    </tr>\n",
       "  </tbody>\n",
       "</table>\n",
       "</div>"
      ],
      "text/plain": [
       "                               user                          platform  \\\n",
       "0  7f508e26ae95478ac8b7cda2d88b4424  f52411b549236c64cbfad398527b06f0   \n",
       "1  48bdf631eae97a0b7e6dddb9bd672491  f52411b549236c64cbfad398527b06f0   \n",
       "2  56f6e3d6c92224aa58f5fb82a33d2ac5  f52411b549236c64cbfad398527b06f0   \n",
       "3  b1398642247778f83470f09e923163f3  f52411b549236c64cbfad398527b06f0   \n",
       "4  2fd5d6e292aad0c661c9e6480d4b9edc  f52411b549236c64cbfad398527b06f0   \n",
       "\n",
       "            start_time   start_lon  start_lat             end_time  \\\n",
       "0  2017-10-01 07:53:37  104.039897  30.525454  2017-10-01 07:56:25   \n",
       "1  2017-10-01 17:54:15  103.877410  30.560417  2017-10-01 17:57:43   \n",
       "2  2017-10-01 08:31:24  104.073352  30.667557  2017-10-01 08:31:32   \n",
       "3  2017-10-01 16:21:33  104.105804  30.680654  2017-10-01 16:27:42   \n",
       "4  2017-10-01 22:36:45  104.064834  30.688940  2017-10-01 22:45:41   \n",
       "\n",
       "      end_lon    end_lat         dis  hour  \n",
       "0  104.042991  30.525805  299.481524     7  \n",
       "1  103.877011  30.560110   51.222150    17  \n",
       "2  104.073372  30.667488    7.886066     8  \n",
       "3  104.100628  30.681912  515.202671    16  \n",
       "4  104.064870  30.689018    9.309940    22  "
      ]
     },
     "execution_count": 17,
     "metadata": {},
     "output_type": "execute_result"
    }
   ],
   "source": [
    "w['hour'] = pd.to_datetime(w.start_time).map(lambda i: i.hour)\n",
    "w.head()"
   ]
  },
  {
   "cell_type": "code",
   "execution_count": 19,
   "id": "8345ad2d",
   "metadata": {
    "execution": {
     "iopub.execute_input": "2022-10-16T08:52:29.197684Z",
     "iopub.status.busy": "2022-10-16T08:52:29.197684Z",
     "iopub.status.idle": "2022-10-16T08:52:29.215252Z",
     "shell.execute_reply": "2022-10-16T08:52:29.215252Z",
     "shell.execute_reply.started": "2022-10-16T08:52:29.197684Z"
    },
    "tags": []
   },
   "outputs": [
    {
     "data": {
      "text/plain": [
       "9     6959\n",
       "11    6361\n",
       "10    6282\n",
       "8     6230\n",
       "13    5942\n",
       "18    5918\n",
       "14    5914\n",
       "17    5840\n",
       "12    5781\n",
       "19    5464\n",
       "16    5463\n",
       "15    5181\n",
       "20    4862\n",
       "7     4241\n",
       "21    4191\n",
       "0     3330\n",
       "22    2974\n",
       "6     2012\n",
       "1     1604\n",
       "2     1191\n",
       "5     1168\n",
       "23    1083\n",
       "3     1065\n",
       "4      943\n",
       "Name: hour, dtype: int64"
      ]
     },
     "execution_count": 19,
     "metadata": {},
     "output_type": "execute_result"
    }
   ],
   "source": [
    "hour_count = w.hour.value_counts()\n",
    "hour_count"
   ]
  },
  {
   "cell_type": "code",
   "execution_count": 22,
   "id": "eb4cf697",
   "metadata": {
    "execution": {
     "iopub.execute_input": "2022-10-16T08:53:25.108205Z",
     "iopub.status.busy": "2022-10-16T08:53:25.108205Z",
     "iopub.status.idle": "2022-10-16T08:53:25.203921Z",
     "shell.execute_reply": "2022-10-16T08:53:25.203921Z",
     "shell.execute_reply.started": "2022-10-16T08:53:25.108205Z"
    },
    "tags": []
   },
   "outputs": [
    {
     "data": {
      "image/png": "[encoded data removed]",
      "text/plain": [
       "<Figure size 432x288 with 1 Axes>"
      ]
     },
     "metadata": {
      "needs_background": "light"
     },
     "output_type": "display_data"
    }
   ],
   "source": [
    "plt.bar(hour_count.index, hour_count.values)\n",
    "plt.show()"
   ]
  },
  {
   "cell_type": "code",
   "execution_count": null,
   "id": "b53dfe56",
   "metadata": {},
   "outputs": [],
   "source": []
  },
  {
   "cell_type": "code",
   "execution_count": null,
   "id": "bae5e18a",
   "metadata": {},
   "outputs": [],
   "source": []
  },
  {
   "cell_type": "markdown",
   "id": "7dca68ca",
   "metadata": {},
   "source": [
    "### 问题7：统计每个平台每小时的出行量，并进行可视化（折线图）\n",
    "提示，用下面的代码画多条折线图：\n",
    "```\n",
    "platforms = df.platform.unique()\n",
    "for p in platforms:\n",
    "    data = df[df.platform==p]\n",
    "    plt.plot(data.hour, data.n)  # 循环，每次画一个平台的折线图\n",
    "plt.show()\n",
    "```"
   ]
  },
  {
   "cell_type": "code",
   "execution_count": 25,
   "id": "0578d860",
   "metadata": {
    "execution": {
     "iopub.execute_input": "2022-10-16T08:54:40.691874Z",
     "iopub.status.busy": "2022-10-16T08:54:40.691874Z",
     "iopub.status.idle": "2022-10-16T08:54:40.733556Z",
     "shell.execute_reply": "2022-10-16T08:54:40.733556Z",
     "shell.execute_reply.started": "2022-10-16T08:54:40.691874Z"
    },
    "tags": []
   },
   "outputs": [
    {
     "data": {
      "text/html": [
       "<div>\n",
       "<style scoped>\n",
       "    .dataframe tbody tr th:only-of-type {\n",
       "        vertical-align: middle;\n",
       "    }\n",
       "\n",
       "    .dataframe tbody tr th {\n",
       "        vertical-align: top;\n",
       "    }\n",
       "\n",
       "    .dataframe thead th {\n",
       "        text-align: right;\n",
       "    }\n",
       "</style>\n",
       "<table border=\"1\" class=\"dataframe\">\n",
       "  <thead>\n",
       "    <tr style=\"text-align: right;\">\n",
       "      <th></th>\n",
       "      <th>platform</th>\n",
       "      <th>hour</th>\n",
       "      <th>n</th>\n",
       "    </tr>\n",
       "  </thead>\n",
       "  <tbody>\n",
       "    <tr>\n",
       "      <th>0</th>\n",
       "      <td>218eadaf5f19a61939805f60ebfefac1</td>\n",
       "      <td>12</td>\n",
       "      <td>1</td>\n",
       "    </tr>\n",
       "    <tr>\n",
       "      <th>1</th>\n",
       "      <td>230cb4fc9919b9989dd4b45823efa609</td>\n",
       "      <td>0</td>\n",
       "      <td>9</td>\n",
       "    </tr>\n",
       "    <tr>\n",
       "      <th>2</th>\n",
       "      <td>230cb4fc9919b9989dd4b45823efa609</td>\n",
       "      <td>1</td>\n",
       "      <td>2</td>\n",
       "    </tr>\n",
       "    <tr>\n",
       "      <th>3</th>\n",
       "      <td>230cb4fc9919b9989dd4b45823efa609</td>\n",
       "      <td>3</td>\n",
       "      <td>1</td>\n",
       "    </tr>\n",
       "    <tr>\n",
       "      <th>4</th>\n",
       "      <td>230cb4fc9919b9989dd4b45823efa609</td>\n",
       "      <td>4</td>\n",
       "      <td>2</td>\n",
       "    </tr>\n",
       "    <tr>\n",
       "      <th>...</th>\n",
       "      <td>...</td>\n",
       "      <td>...</td>\n",
       "      <td>...</td>\n",
       "    </tr>\n",
       "    <tr>\n",
       "      <th>171</th>\n",
       "      <td>f52411b549236c64cbfad398527b06f0</td>\n",
       "      <td>19</td>\n",
       "      <td>4888</td>\n",
       "    </tr>\n",
       "    <tr>\n",
       "      <th>172</th>\n",
       "      <td>f52411b549236c64cbfad398527b06f0</td>\n",
       "      <td>20</td>\n",
       "      <td>4305</td>\n",
       "    </tr>\n",
       "    <tr>\n",
       "      <th>173</th>\n",
       "      <td>f52411b549236c64cbfad398527b06f0</td>\n",
       "      <td>21</td>\n",
       "      <td>3684</td>\n",
       "    </tr>\n",
       "    <tr>\n",
       "      <th>174</th>\n",
       "      <td>f52411b549236c64cbfad398527b06f0</td>\n",
       "      <td>22</td>\n",
       "      <td>2576</td>\n",
       "    </tr>\n",
       "    <tr>\n",
       "      <th>175</th>\n",
       "      <td>f52411b549236c64cbfad398527b06f0</td>\n",
       "      <td>23</td>\n",
       "      <td>925</td>\n",
       "    </tr>\n",
       "  </tbody>\n",
       "</table>\n",
       "<p>176 rows × 3 columns</p>\n",
       "</div>"
      ],
      "text/plain": [
       "                             platform  hour     n\n",
       "0    218eadaf5f19a61939805f60ebfefac1    12     1\n",
       "1    230cb4fc9919b9989dd4b45823efa609     0     9\n",
       "2    230cb4fc9919b9989dd4b45823efa609     1     2\n",
       "3    230cb4fc9919b9989dd4b45823efa609     3     1\n",
       "4    230cb4fc9919b9989dd4b45823efa609     4     2\n",
       "..                                ...   ...   ...\n",
       "171  f52411b549236c64cbfad398527b06f0    19  4888\n",
       "172  f52411b549236c64cbfad398527b06f0    20  4305\n",
       "173  f52411b549236c64cbfad398527b06f0    21  3684\n",
       "174  f52411b549236c64cbfad398527b06f0    22  2576\n",
       "175  f52411b549236c64cbfad398527b06f0    23   925\n",
       "\n",
       "[176 rows x 3 columns]"
      ]
     },
     "execution_count": 25,
     "metadata": {},
     "output_type": "execute_result"
    }
   ],
   "source": [
    "df = w.groupby(['platform', 'hour']).apply(len).to_frame('n').reset_index()\n",
    "df"
   ]
  },
  {
   "cell_type": "code",
   "execution_count": 29,
   "id": "70eba11d",
   "metadata": {
    "execution": {
     "iopub.execute_input": "2022-10-16T08:56:20.655216Z",
     "iopub.status.busy": "2022-10-16T08:56:20.655216Z",
     "iopub.status.idle": "2022-10-16T08:56:21.033888Z",
     "shell.execute_reply": "2022-10-16T08:56:21.033888Z",
     "shell.execute_reply.started": "2022-10-16T08:56:20.655216Z"
    },
    "tags": []
   },
   "outputs": [
    {
     "data": {
      "image/png": "[encoded data removed]",
      "text/plain": [
       "<Figure size 432x288 with 1 Axes>"
      ]
     },
     "metadata": {
      "needs_background": "light"
     },
     "output_type": "display_data"
    }
   ],
   "source": [
    "for p in df.platform.unique():\n",
    "    data = df[df.platform==p]\n",
    "    plt.plot(data.hour, data.n, label=p)  # 循环，每次画一个平台的折线图\n",
    "plt.legend(loc='center left', bbox_to_anchor=(1, 0.5))\n",
    "plt.show()"
   ]
  },
  {
   "cell_type": "code",
   "execution_count": null,
   "id": "770f9a6a",
   "metadata": {},
   "outputs": [],
   "source": []
  },
  {
   "cell_type": "code",
   "execution_count": null,
   "id": "19c42617",
   "metadata": {},
   "outputs": [],
   "source": []
  },
  {
   "cell_type": "markdown",
   "id": "d620e418",
   "metadata": {},
   "source": [
    "### 问题8：用户的平均骑行时间？\n",
    "提示：将start_time和end_time列转为时间格式，之后求时间差值\n",
    "\n",
    "```\n",
    "w['start_time'] = pd.to_datetime(w['start_time'])\n",
    "w['end_time'] = pd.to_datetime(w['end_time'])\n",
    "delta = w.end_time[0] - w.start_time[0]\n",
    "delta.seconds  # 返回间隔的秒数\n",
    "```"
   ]
  },
  {
   "cell_type": "code",
   "execution_count": 32,
   "id": "e19d05aa",
   "metadata": {
    "execution": {
     "iopub.execute_input": "2022-10-16T08:57:49.397055Z",
     "iopub.status.busy": "2022-10-16T08:57:49.397055Z",
     "iopub.status.idle": "2022-10-16T08:57:49.980592Z",
     "shell.execute_reply": "2022-10-16T08:57:49.979583Z",
     "shell.execute_reply.started": "2022-10-16T08:57:49.397055Z"
    },
    "tags": []
   },
   "outputs": [
    {
     "data": {
      "text/html": [
       "<div>\n",
       "<style scoped>\n",
       "    .dataframe tbody tr th:only-of-type {\n",
       "        vertical-align: middle;\n",
       "    }\n",
       "\n",
       "    .dataframe tbody tr th {\n",
       "        vertical-align: top;\n",
       "    }\n",
       "\n",
       "    .dataframe thead th {\n",
       "        text-align: right;\n",
       "    }\n",
       "</style>\n",
       "<table border=\"1\" class=\"dataframe\">\n",
       "  <thead>\n",
       "    <tr style=\"text-align: right;\">\n",
       "      <th></th>\n",
       "      <th>user</th>\n",
       "      <th>platform</th>\n",
       "      <th>start_time</th>\n",
       "      <th>start_lon</th>\n",
       "      <th>start_lat</th>\n",
       "      <th>end_time</th>\n",
       "      <th>end_lon</th>\n",
       "      <th>end_lat</th>\n",
       "      <th>dis</th>\n",
       "      <th>hour</th>\n",
       "      <th>delta_time</th>\n",
       "    </tr>\n",
       "  </thead>\n",
       "  <tbody>\n",
       "    <tr>\n",
       "      <th>0</th>\n",
       "      <td>7f508e26ae95478ac8b7cda2d88b4424</td>\n",
       "      <td>f52411b549236c64cbfad398527b06f0</td>\n",
       "      <td>2017-10-01 07:53:37</td>\n",
       "      <td>104.039897</td>\n",
       "      <td>30.525454</td>\n",
       "      <td>2017-10-01 07:56:25</td>\n",
       "      <td>104.042991</td>\n",
       "      <td>30.525805</td>\n",
       "      <td>299.481524</td>\n",
       "      <td>7</td>\n",
       "      <td>2.800000</td>\n",
       "    </tr>\n",
       "    <tr>\n",
       "      <th>1</th>\n",
       "      <td>48bdf631eae97a0b7e6dddb9bd672491</td>\n",
       "      <td>f52411b549236c64cbfad398527b06f0</td>\n",
       "      <td>2017-10-01 17:54:15</td>\n",
       "      <td>103.877410</td>\n",
       "      <td>30.560417</td>\n",
       "      <td>2017-10-01 17:57:43</td>\n",
       "      <td>103.877011</td>\n",
       "      <td>30.560110</td>\n",
       "      <td>51.222150</td>\n",
       "      <td>17</td>\n",
       "      <td>3.466667</td>\n",
       "    </tr>\n",
       "    <tr>\n",
       "      <th>2</th>\n",
       "      <td>56f6e3d6c92224aa58f5fb82a33d2ac5</td>\n",
       "      <td>f52411b549236c64cbfad398527b06f0</td>\n",
       "      <td>2017-10-01 08:31:24</td>\n",
       "      <td>104.073352</td>\n",
       "      <td>30.667557</td>\n",
       "      <td>2017-10-01 08:31:32</td>\n",
       "      <td>104.073372</td>\n",
       "      <td>30.667488</td>\n",
       "      <td>7.886066</td>\n",
       "      <td>8</td>\n",
       "      <td>0.133333</td>\n",
       "    </tr>\n",
       "    <tr>\n",
       "      <th>3</th>\n",
       "      <td>b1398642247778f83470f09e923163f3</td>\n",
       "      <td>f52411b549236c64cbfad398527b06f0</td>\n",
       "      <td>2017-10-01 16:21:33</td>\n",
       "      <td>104.105804</td>\n",
       "      <td>30.680654</td>\n",
       "      <td>2017-10-01 16:27:42</td>\n",
       "      <td>104.100628</td>\n",
       "      <td>30.681912</td>\n",
       "      <td>515.202671</td>\n",
       "      <td>16</td>\n",
       "      <td>6.150000</td>\n",
       "    </tr>\n",
       "    <tr>\n",
       "      <th>4</th>\n",
       "      <td>2fd5d6e292aad0c661c9e6480d4b9edc</td>\n",
       "      <td>f52411b549236c64cbfad398527b06f0</td>\n",
       "      <td>2017-10-01 22:36:45</td>\n",
       "      <td>104.064834</td>\n",
       "      <td>30.688940</td>\n",
       "      <td>2017-10-01 22:45:41</td>\n",
       "      <td>104.064870</td>\n",
       "      <td>30.689018</td>\n",
       "      <td>9.309940</td>\n",
       "      <td>22</td>\n",
       "      <td>8.933333</td>\n",
       "    </tr>\n",
       "  </tbody>\n",
       "</table>\n",
       "</div>"
      ],
      "text/plain": [
       "                               user                          platform  \\\n",
       "0  7f508e26ae95478ac8b7cda2d88b4424  f52411b549236c64cbfad398527b06f0   \n",
       "1  48bdf631eae97a0b7e6dddb9bd672491  f52411b549236c64cbfad398527b06f0   \n",
       "2  56f6e3d6c92224aa58f5fb82a33d2ac5  f52411b549236c64cbfad398527b06f0   \n",
       "3  b1398642247778f83470f09e923163f3  f52411b549236c64cbfad398527b06f0   \n",
       "4  2fd5d6e292aad0c661c9e6480d4b9edc  f52411b549236c64cbfad398527b06f0   \n",
       "\n",
       "            start_time   start_lon  start_lat             end_time  \\\n",
       "0  2017-10-01 07:53:37  104.039897  30.525454  2017-10-01 07:56:25   \n",
       "1  2017-10-01 17:54:15  103.877410  30.560417  2017-10-01 17:57:43   \n",
       "2  2017-10-01 08:31:24  104.073352  30.667557  2017-10-01 08:31:32   \n",
       "3  2017-10-01 16:21:33  104.105804  30.680654  2017-10-01 16:27:42   \n",
       "4  2017-10-01 22:36:45  104.064834  30.688940  2017-10-01 22:45:41   \n",
       "\n",
       "      end_lon    end_lat         dis  hour  delta_time  \n",
       "0  104.042991  30.525805  299.481524     7    2.800000  \n",
       "1  103.877011  30.560110   51.222150    17    3.466667  \n",
       "2  104.073372  30.667488    7.886066     8    0.133333  \n",
       "3  104.100628  30.681912  515.202671    16    6.150000  \n",
       "4  104.064870  30.689018    9.309940    22    8.933333  "
      ]
     },
     "execution_count": 32,
     "metadata": {},
     "output_type": "execute_result"
    }
   ],
   "source": [
    "w['delta_time'] = pd.to_datetime(w.end_time) - pd.to_datetime(w.start_time)\n",
    "w['delta_time'] = w['delta_time'].map(lambda i: i.seconds/60)\n",
    "w.head()"
   ]
  },
  {
   "cell_type": "code",
   "execution_count": 35,
   "id": "8654b537",
   "metadata": {
    "execution": {
     "iopub.execute_input": "2022-10-16T08:58:35.074108Z",
     "iopub.status.busy": "2022-10-16T08:58:35.074108Z",
     "iopub.status.idle": "2022-10-16T08:58:35.088875Z",
     "shell.execute_reply": "2022-10-16T08:58:35.088875Z",
     "shell.execute_reply.started": "2022-10-16T08:58:35.074108Z"
    },
    "tags": []
   },
   "outputs": [
    {
     "name": "stdout",
     "output_type": "stream",
     "text": [
      "用户平均骑行时间为：11.93 min\n"
     ]
    }
   ],
   "source": [
    "print('用户平均骑行时间为：{:.2f} min'.format(w.delta_time.mean()))"
   ]
  },
  {
   "cell_type": "code",
   "execution_count": null,
   "id": "88e83e45",
   "metadata": {},
   "outputs": [],
   "source": []
  },
  {
   "cell_type": "markdown",
   "id": "db9f36b5",
   "metadata": {},
   "source": [
    "### 问题9：导出骑行距离大于1km，或骑行时间大于2分钟的所有记录到../data/out.xlsx文件"
   ]
  },
  {
   "cell_type": "code",
   "execution_count": 36,
   "id": "71e7c153",
   "metadata": {
    "execution": {
     "iopub.execute_input": "2022-10-16T08:59:12.426629Z",
     "iopub.status.busy": "2022-10-16T08:59:12.425614Z",
     "iopub.status.idle": "2022-10-16T08:59:12.449523Z",
     "shell.execute_reply": "2022-10-16T08:59:12.449523Z",
     "shell.execute_reply.started": "2022-10-16T08:59:12.426629Z"
    },
    "tags": []
   },
   "outputs": [
    {
     "data": {
      "text/html": [
       "<div>\n",
       "<style scoped>\n",
       "    .dataframe tbody tr th:only-of-type {\n",
       "        vertical-align: middle;\n",
       "    }\n",
       "\n",
       "    .dataframe tbody tr th {\n",
       "        vertical-align: top;\n",
       "    }\n",
       "\n",
       "    .dataframe thead th {\n",
       "        text-align: right;\n",
       "    }\n",
       "</style>\n",
       "<table border=\"1\" class=\"dataframe\">\n",
       "  <thead>\n",
       "    <tr style=\"text-align: right;\">\n",
       "      <th></th>\n",
       "      <th>user</th>\n",
       "      <th>platform</th>\n",
       "      <th>start_time</th>\n",
       "      <th>start_lon</th>\n",
       "      <th>start_lat</th>\n",
       "      <th>end_time</th>\n",
       "      <th>end_lon</th>\n",
       "      <th>end_lat</th>\n",
       "      <th>dis</th>\n",
       "      <th>hour</th>\n",
       "      <th>delta_time</th>\n",
       "    </tr>\n",
       "  </thead>\n",
       "  <tbody>\n",
       "    <tr>\n",
       "      <th>0</th>\n",
       "      <td>7f508e26ae95478ac8b7cda2d88b4424</td>\n",
       "      <td>f52411b549236c64cbfad398527b06f0</td>\n",
       "      <td>2017-10-01 07:53:37</td>\n",
       "      <td>104.039897</td>\n",
       "      <td>30.525454</td>\n",
       "      <td>2017-10-01 07:56:25</td>\n",
       "      <td>104.042991</td>\n",
       "      <td>30.525805</td>\n",
       "      <td>299.481524</td>\n",
       "      <td>7</td>\n",
       "      <td>2.800000</td>\n",
       "    </tr>\n",
       "    <tr>\n",
       "      <th>1</th>\n",
       "      <td>48bdf631eae97a0b7e6dddb9bd672491</td>\n",
       "      <td>f52411b549236c64cbfad398527b06f0</td>\n",
       "      <td>2017-10-01 17:54:15</td>\n",
       "      <td>103.877410</td>\n",
       "      <td>30.560417</td>\n",
       "      <td>2017-10-01 17:57:43</td>\n",
       "      <td>103.877011</td>\n",
       "      <td>30.560110</td>\n",
       "      <td>51.222150</td>\n",
       "      <td>17</td>\n",
       "      <td>3.466667</td>\n",
       "    </tr>\n",
       "    <tr>\n",
       "      <th>3</th>\n",
       "      <td>b1398642247778f83470f09e923163f3</td>\n",
       "      <td>f52411b549236c64cbfad398527b06f0</td>\n",
       "      <td>2017-10-01 16:21:33</td>\n",
       "      <td>104.105804</td>\n",
       "      <td>30.680654</td>\n",
       "      <td>2017-10-01 16:27:42</td>\n",
       "      <td>104.100628</td>\n",
       "      <td>30.681912</td>\n",
       "      <td>515.202671</td>\n",
       "      <td>16</td>\n",
       "      <td>6.150000</td>\n",
       "    </tr>\n",
       "    <tr>\n",
       "      <th>4</th>\n",
       "      <td>2fd5d6e292aad0c661c9e6480d4b9edc</td>\n",
       "      <td>f52411b549236c64cbfad398527b06f0</td>\n",
       "      <td>2017-10-01 22:36:45</td>\n",
       "      <td>104.064834</td>\n",
       "      <td>30.688940</td>\n",
       "      <td>2017-10-01 22:45:41</td>\n",
       "      <td>104.064870</td>\n",
       "      <td>30.689018</td>\n",
       "      <td>9.309940</td>\n",
       "      <td>22</td>\n",
       "      <td>8.933333</td>\n",
       "    </tr>\n",
       "    <tr>\n",
       "      <th>5</th>\n",
       "      <td>b5620d47609600e68f35fd7d206f4a9a</td>\n",
       "      <td>f52411b549236c64cbfad398527b06f0</td>\n",
       "      <td>2017-10-01 20:11:17</td>\n",
       "      <td>103.899911</td>\n",
       "      <td>30.571207</td>\n",
       "      <td>2017-10-01 20:14:06</td>\n",
       "      <td>103.902356</td>\n",
       "      <td>30.574851</td>\n",
       "      <td>467.130693</td>\n",
       "      <td>20</td>\n",
       "      <td>2.816667</td>\n",
       "    </tr>\n",
       "    <tr>\n",
       "      <th>...</th>\n",
       "      <td>...</td>\n",
       "      <td>...</td>\n",
       "      <td>...</td>\n",
       "      <td>...</td>\n",
       "      <td>...</td>\n",
       "      <td>...</td>\n",
       "      <td>...</td>\n",
       "      <td>...</td>\n",
       "      <td>...</td>\n",
       "      <td>...</td>\n",
       "      <td>...</td>\n",
       "    </tr>\n",
       "    <tr>\n",
       "      <th>99991</th>\n",
       "      <td>89bd7e18dd8d75ad5f2c61e877c80356</td>\n",
       "      <td>f52411b549236c64cbfad398527b06f0</td>\n",
       "      <td>2017-10-01 07:40:23</td>\n",
       "      <td>103.845124</td>\n",
       "      <td>30.689151</td>\n",
       "      <td>2017-10-01 07:53:51</td>\n",
       "      <td>103.845092</td>\n",
       "      <td>30.689085</td>\n",
       "      <td>7.933433</td>\n",
       "      <td>7</td>\n",
       "      <td>13.466667</td>\n",
       "    </tr>\n",
       "    <tr>\n",
       "      <th>99992</th>\n",
       "      <td>adc1028238b0982c035768eefdc6e4c5</td>\n",
       "      <td>f52411b549236c64cbfad398527b06f0</td>\n",
       "      <td>2017-10-01 21:29:00</td>\n",
       "      <td>104.103978</td>\n",
       "      <td>30.627763</td>\n",
       "      <td>2017-10-01 21:38:43</td>\n",
       "      <td>104.103250</td>\n",
       "      <td>30.625037</td>\n",
       "      <td>310.167864</td>\n",
       "      <td>21</td>\n",
       "      <td>9.716667</td>\n",
       "    </tr>\n",
       "    <tr>\n",
       "      <th>99994</th>\n",
       "      <td>60b051cbb4f015f1373065039c9cf84f</td>\n",
       "      <td>f52411b549236c64cbfad398527b06f0</td>\n",
       "      <td>2017-10-01 16:22:33</td>\n",
       "      <td>104.088077</td>\n",
       "      <td>30.638135</td>\n",
       "      <td>2017-10-01 16:24:52</td>\n",
       "      <td>104.088128</td>\n",
       "      <td>30.638262</td>\n",
       "      <td>14.904313</td>\n",
       "      <td>16</td>\n",
       "      <td>2.316667</td>\n",
       "    </tr>\n",
       "    <tr>\n",
       "      <th>99995</th>\n",
       "      <td>6992ff6b845fbd74c44ed4a285015d0b</td>\n",
       "      <td>f52411b549236c64cbfad398527b06f0</td>\n",
       "      <td>2017-10-01 20:40:59</td>\n",
       "      <td>104.080110</td>\n",
       "      <td>30.621610</td>\n",
       "      <td>2017-10-01 20:47:39</td>\n",
       "      <td>104.074831</td>\n",
       "      <td>30.620604</td>\n",
       "      <td>518.291148</td>\n",
       "      <td>20</td>\n",
       "      <td>6.666667</td>\n",
       "    </tr>\n",
       "    <tr>\n",
       "      <th>99998</th>\n",
       "      <td>efdaefdb8a01bf5c1bebbef31c63d8df</td>\n",
       "      <td>f52411b549236c64cbfad398527b06f0</td>\n",
       "      <td>2017-10-01 21:33:41</td>\n",
       "      <td>104.104961</td>\n",
       "      <td>30.636155</td>\n",
       "      <td>2017-10-01 21:37:23</td>\n",
       "      <td>104.104391</td>\n",
       "      <td>30.635913</td>\n",
       "      <td>60.874108</td>\n",
       "      <td>21</td>\n",
       "      <td>3.700000</td>\n",
       "    </tr>\n",
       "  </tbody>\n",
       "</table>\n",
       "<p>61231 rows × 11 columns</p>\n",
       "</div>"
      ],
      "text/plain": [
       "                                   user                          platform  \\\n",
       "0      7f508e26ae95478ac8b7cda2d88b4424  f52411b549236c64cbfad398527b06f0   \n",
       "1      48bdf631eae97a0b7e6dddb9bd672491  f52411b549236c64cbfad398527b06f0   \n",
       "3      b1398642247778f83470f09e923163f3  f52411b549236c64cbfad398527b06f0   \n",
       "4      2fd5d6e292aad0c661c9e6480d4b9edc  f52411b549236c64cbfad398527b06f0   \n",
       "5      b5620d47609600e68f35fd7d206f4a9a  f52411b549236c64cbfad398527b06f0   \n",
       "...                                 ...                               ...   \n",
       "99991  89bd7e18dd8d75ad5f2c61e877c80356  f52411b549236c64cbfad398527b06f0   \n",
       "99992  adc1028238b0982c035768eefdc6e4c5  f52411b549236c64cbfad398527b06f0   \n",
       "99994  60b051cbb4f015f1373065039c9cf84f  f52411b549236c64cbfad398527b06f0   \n",
       "99995  6992ff6b845fbd74c44ed4a285015d0b  f52411b549236c64cbfad398527b06f0   \n",
       "99998  efdaefdb8a01bf5c1bebbef31c63d8df  f52411b549236c64cbfad398527b06f0   \n",
       "\n",
       "                start_time   start_lon  start_lat             end_time  \\\n",
       "0      2017-10-01 07:53:37  104.039897  30.525454  2017-10-01 07:56:25   \n",
       "1      2017-10-01 17:54:15  103.877410  30.560417  2017-10-01 17:57:43   \n",
       "3      2017-10-01 16:21:33  104.105804  30.680654  2017-10-01 16:27:42   \n",
       "4      2017-10-01 22:36:45  104.064834  30.688940  2017-10-01 22:45:41   \n",
       "5      2017-10-01 20:11:17  103.899911  30.571207  2017-10-01 20:14:06   \n",
       "...                    ...         ...        ...                  ...   \n",
       "99991  2017-10-01 07:40:23  103.845124  30.689151  2017-10-01 07:53:51   \n",
       "99992  2017-10-01 21:29:00  104.103978  30.627763  2017-10-01 21:38:43   \n",
       "99994  2017-10-01 16:22:33  104.088077  30.638135  2017-10-01 16:24:52   \n",
       "99995  2017-10-01 20:40:59  104.080110  30.621610  2017-10-01 20:47:39   \n",
       "99998  2017-10-01 21:33:41  104.104961  30.636155  2017-10-01 21:37:23   \n",
       "\n",
       "          end_lon    end_lat         dis  hour  delta_time  \n",
       "0      104.042991  30.525805  299.481524     7    2.800000  \n",
       "1      103.877011  30.560110   51.222150    17    3.466667  \n",
       "3      104.100628  30.681912  515.202671    16    6.150000  \n",
       "4      104.064870  30.689018    9.309940    22    8.933333  \n",
       "5      103.902356  30.574851  467.130693    20    2.816667  \n",
       "...           ...        ...         ...   ...         ...  \n",
       "99991  103.845092  30.689085    7.933433     7   13.466667  \n",
       "99992  104.103250  30.625037  310.167864    21    9.716667  \n",
       "99994  104.088128  30.638262   14.904313    16    2.316667  \n",
       "99995  104.074831  30.620604  518.291148    20    6.666667  \n",
       "99998  104.104391  30.635913   60.874108    21    3.700000  \n",
       "\n",
       "[61231 rows x 11 columns]"
      ]
     },
     "execution_count": 36,
     "metadata": {},
     "output_type": "execute_result"
    }
   ],
   "source": [
    "df2 = w[(w.dis>1000) | (w.delta_time>2)]\n",
    "df2"
   ]
  },
  {
   "cell_type": "code",
   "execution_count": 37,
   "id": "babcab04",
   "metadata": {
    "execution": {
     "iopub.execute_input": "2022-10-16T08:59:41.320525Z",
     "iopub.status.busy": "2022-10-16T08:59:41.320525Z",
     "iopub.status.idle": "2022-10-16T08:59:49.325005Z",
     "shell.execute_reply": "2022-10-16T08:59:49.324340Z",
     "shell.execute_reply.started": "2022-10-16T08:59:41.320525Z"
    },
    "tags": []
   },
   "outputs": [],
   "source": [
    "df2.to_excel('../data/out.xlsx', index=False)"
   ]
  },
  {
   "cell_type": "code",
   "execution_count": null,
   "id": "f77922ea",
   "metadata": {},
   "outputs": [],
   "source": []
  }
 ],
 "metadata": {
  "interpreter": {
   "hash": "b3ba2566441a7c06988d0923437866b63cedc61552a5af99d1f4fb67d367b25f"
  },
  "kernelspec": {
   "display_name": "Python 3 (ipykernel)",
   "language": "python",
   "name": "python3"
  },
  "language_info": {
   "codemirror_mode": {
    "name": "ipython",
    "version": 3
   },
   "file_extension": ".py",
   "mimetype": "text/x-python",
   "name": "python",
   "nbconvert_exporter": "python",
   "pygments_lexer": "ipython3",
   "version": "3.9.7"
  },
  "widgets": {
   "application/vnd.jupyter.widget-state+json": {
    "state": {},
    "version_major": 2,
    "version_minor": 0
   }
  }
 },
 "nbformat": 4,
 "nbformat_minor": 5
}
