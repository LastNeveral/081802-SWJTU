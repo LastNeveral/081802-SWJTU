{
 "cells": [
  {
   "cell_type": "code",
   "execution_count": null,
   "id": "e4bf41d0-8d57-4e08-9b34-d2fd8e0c93ee",
   "metadata": {},
   "outputs": [],
   "source": [
    "import pandas as pd\n",
    "import numpy as np\n",
    "import matplotlib.pyplot as plt"
   ]
  },
  {
   "cell_type": "markdown",
   "id": "d88a1793-e6f7-41a7-8ced-28e5c07ffc77",
   "metadata": {},
   "source": [
    "## 创建数据"
   ]
  },
  {
   "cell_type": "code",
   "execution_count": null,
   "id": "66ee5ea7-b1d2-446a-a8a3-25c6fd5d3637",
   "metadata": {
    "tags": []
   },
   "outputs": [],
   "source": [
    "w = pd.DataFrame({'name':['Verne Raymond','Chapman Becher','Patrick George','Saxon MacArthur'],\n",
    "                         'age':[18,22,21,16],\n",
    "                 'memo': ['成绩88', '成绩为：86.5', '成绩为：92', '成绩为：98']})\n",
    "w"
   ]
  },
  {
   "cell_type": "code",
   "execution_count": null,
   "id": "543eed41-8c23-4845-9442-1fb1b8facdd5",
   "metadata": {},
   "outputs": [],
   "source": []
  },
  {
   "cell_type": "markdown",
   "id": "2d664ad1-67c6-42b2-92c2-d52bd37dab4a",
   "metadata": {},
   "source": [
    "## 字符串处理方法\n",
    "\n",
    "类似Python处理字符串的方法\n",
    "\n",
    "与Python内置的字符串处理方法类似，包含以下函数：\n",
    "\n",
    "<img src=\"../data/pandas-str-basic.png\" alt=\"drawing\" width=\"600px\"/>"
   ]
  },
  {
   "cell_type": "code",
   "execution_count": null,
   "id": "4896b0cc-1fee-4f3e-a631-fa8401a340ac",
   "metadata": {
    "tags": []
   },
   "outputs": [],
   "source": [
    "w.name.str.len()"
   ]
  },
  {
   "cell_type": "code",
   "execution_count": null,
   "id": "a42b41df-a72b-4209-8049-08ed645b7153",
   "metadata": {
    "tags": []
   },
   "outputs": [],
   "source": [
    "w.name.str.startswith('V')"
   ]
  },
  {
   "cell_type": "code",
   "execution_count": null,
   "id": "783b1e18-7070-444a-a17f-ed0dc1bf0d35",
   "metadata": {
    "tags": []
   },
   "outputs": [],
   "source": [
    "w[w.name.str.startswith('V')]"
   ]
  },
  {
   "cell_type": "code",
   "execution_count": null,
   "id": "f2121b46-0f6c-4829-9b70-7170f8ba9a5d",
   "metadata": {
    "tags": []
   },
   "outputs": [],
   "source": [
    "# 字符串切片\n",
    "w.name.str[0:5]"
   ]
  },
  {
   "cell_type": "code",
   "execution_count": null,
   "id": "8217144b-232c-4d42-a420-01f111d6323a",
   "metadata": {},
   "outputs": [],
   "source": []
  },
  {
   "cell_type": "code",
   "execution_count": null,
   "id": "7b6430e8-70e8-4fb1-a5cf-479aaa401b4b",
   "metadata": {},
   "outputs": [],
   "source": []
  },
  {
   "cell_type": "markdown",
   "id": "cbaf9d99-d61e-4592-87d0-e61af2a81e89",
   "metadata": {},
   "source": [
    "## 使用正则表达式方法\n",
    "\n",
    "<img src=\"../data/pandas-str-regrex.png\" alt=\"drawing\" width=\"600px\"/>"
   ]
  },
  {
   "cell_type": "code",
   "execution_count": null,
   "id": "d398d720-4f36-4357-9de1-cf0de9652745",
   "metadata": {
    "tags": []
   },
   "outputs": [],
   "source": [
    "w['name'].str.replace(' ','-')"
   ]
  },
  {
   "cell_type": "code",
   "execution_count": null,
   "id": "02a5aeef-9cbb-4eb4-80dc-97641ecc0a71",
   "metadata": {
    "tags": []
   },
   "outputs": [],
   "source": [
    "w['name'].str.contains('on')"
   ]
  },
  {
   "cell_type": "code",
   "execution_count": null,
   "id": "56afdb3d-04d1-43a7-86de-3bf0320defc1",
   "metadata": {},
   "outputs": [],
   "source": []
  },
  {
   "cell_type": "code",
   "execution_count": null,
   "id": "a197c8b3-23ec-4e9c-8461-757a16d36627",
   "metadata": {
    "tags": []
   },
   "outputs": [],
   "source": [
    "w['score'] = w.memo.str.extract('(\\d+\\.?\\d*)')\n",
    "w"
   ]
  },
  {
   "cell_type": "code",
   "execution_count": null,
   "id": "9133f34f-c0cc-40c0-94fb-07d08595ef27",
   "metadata": {},
   "outputs": [],
   "source": []
  },
  {
   "cell_type": "code",
   "execution_count": null,
   "id": "717fb7be-547b-4638-bdd4-5a33d27d7646",
   "metadata": {},
   "outputs": [],
   "source": []
  },
  {
   "cell_type": "code",
   "execution_count": null,
   "id": "24362183-dca1-4622-a119-6b51e66aee87",
   "metadata": {},
   "outputs": [],
   "source": []
  }
 ],
 "metadata": {
  "kernelspec": {
   "display_name": "Python 3 (ipykernel)",
   "language": "python",
   "name": "python3"
  },
  "language_info": {
   "codemirror_mode": {
    "name": "ipython",
    "version": 3
   },
   "file_extension": ".py",
   "mimetype": "text/x-python",
   "name": "python",
   "nbconvert_exporter": "python",
   "pygments_lexer": "ipython3",
   "version": "3.9.12"
  },
  "widgets": {
   "application/vnd.jupyter.widget-state+json": {
    "state": {},
    "version_major": 2,
    "version_minor": 0
   }
  }
 },
 "nbformat": 4,
 "nbformat_minor": 5
}
