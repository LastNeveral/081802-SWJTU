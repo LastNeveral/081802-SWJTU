{
 "cells": [
  {
   "cell_type": "markdown",
   "id": "271cc4c0-f18b-4f75-804e-13d51a935929",
   "metadata": {},
   "source": [
    "# Pandas基础\n",
    "讲解Pandas的基本概念，首先导入常见的数据分析包"
   ]
  },
  {
   "cell_type": "code",
   "execution_count": null,
   "id": "695e68de-e5cb-4884-92fa-d48c4e0af655",
   "metadata": {
    "tags": []
   },
   "outputs": [],
   "source": [
    "import pandas as pd\n",
    "import numpy as np\n",
    "import matplotlib.pyplot as plt"
   ]
  },
  {
   "cell_type": "markdown",
   "id": "2843a928-fae1-4b27-86c9-c228711b2d0c",
   "metadata": {},
   "source": [
    "## Series序列\n",
    "和Python的list序列类似，但是含有索引，帮助快速检索数据"
   ]
  },
  {
   "cell_type": "code",
   "execution_count": null,
   "id": "a14a4cc7-a048-41da-bf30-4d69e34ca4d1",
   "metadata": {
    "tags": []
   },
   "outputs": [],
   "source": [
    "a = pd.Series(range(1,10))\n",
    "b = pd.Series([\"I\",\"like\",\"to\",\"use\",\"Python\",\"and\",\"Pandas\",\"very\",\"much\"], index=range(0,9))\n",
    "print(type(a), type(b))\n",
    "print(a, '\\n\\n', b)"
   ]
  },
  {
   "cell_type": "markdown",
   "id": "f138713c-712f-4e7f-a0b5-b6750a77664b",
   "metadata": {},
   "source": [
    "series应用最多的地方是**时间序列**，在时间序列中，索引是时间，series值为时间对应的取值。\n",
    "\n",
    "可以用`pd.date_range`函数创建日期或时间规律的序列，假定我们有一个每天购买商品数量的时间序列："
   ]
  },
  {
   "cell_type": "code",
   "execution_count": null,
   "id": "61eeafab-3b8b-43f5-829f-519bad8d7f04",
   "metadata": {
    "tags": []
   },
   "outputs": [],
   "source": [
    "start_date = \"2021-8-01\"\n",
    "end_date = \"2021-10-31\"\n",
    "idx = pd.date_range(start_date,end_date)\n",
    "print(f\"Length of index is {len(idx)}\")\n",
    "items_buy = pd.Series(np.random.randint(25,50,size=len(idx)),index=idx)\n",
    "items_buy.plot(figsize=(12,4))"
   ]
  },
  {
   "cell_type": "code",
   "execution_count": null,
   "id": "4603d939-385b-4110-bfd4-63ac7dd11980",
   "metadata": {},
   "outputs": [],
   "source": []
  },
  {
   "cell_type": "code",
   "execution_count": null,
   "id": "4890a5db-7956-4c60-b9c1-fefebadf8e3c",
   "metadata": {},
   "outputs": [],
   "source": []
  },
  {
   "cell_type": "code",
   "execution_count": null,
   "id": "8da1857f-fff6-4592-bd56-0d8269aa750b",
   "metadata": {},
   "outputs": [],
   "source": []
  },
  {
   "cell_type": "code",
   "execution_count": null,
   "id": "44122bd8-bed1-40a6-addc-106196063b91",
   "metadata": {},
   "outputs": [],
   "source": []
  },
  {
   "cell_type": "code",
   "execution_count": null,
   "id": "ad7c5bfc-1f2b-4ffe-9337-bfa4fabb5fd7",
   "metadata": {},
   "outputs": [],
   "source": []
  },
  {
   "cell_type": "markdown",
   "id": "f544450e-f47c-4fa1-918a-246f829a57f8",
   "metadata": {},
   "source": [
    "同时，每周日都额外购买一些商品"
   ]
  },
  {
   "cell_type": "code",
   "execution_count": null,
   "id": "821ce13e-d6a1-4242-a010-9792ea9970b5",
   "metadata": {
    "tags": []
   },
   "outputs": [],
   "source": [
    "# pd.date_range(start_date,end_date,freq='5D')\n",
    "additional_items = pd.Series(10,index=pd.date_range(start_date,end_date,freq=\"W\"))\n",
    "print(f\"Additional items (10 item each week):\\n{additional_items}\")"
   ]
  },
  {
   "cell_type": "markdown",
   "id": "e2d61b7f-c2d5-47d4-ba40-3a5ab1b1a4a3",
   "metadata": {},
   "source": [
    "2个序列可以按照索引相加求和"
   ]
  },
  {
   "cell_type": "code",
   "execution_count": null,
   "id": "bdcddbd1-e4a7-4403-b022-1ccc8395da20",
   "metadata": {
    "tags": []
   },
   "outputs": [],
   "source": [
    "total_items = items_buy+additional_items\n",
    "print(f\"Total items (sum of two series):\\n{total_items}\")"
   ]
  },
  {
   "cell_type": "markdown",
   "id": "a4fb9fec-3f08-474d-9c88-362415b7a643",
   "metadata": {},
   "source": [
    "`数值+缺失值NaN=NaN`，在求和之前应将索引对应的缺失值填补为0，再求和，使用函数`fill_value`"
   ]
  },
  {
   "cell_type": "code",
   "execution_count": null,
   "id": "c5a0b612-e6cc-4e99-9e87-38c1fb20d732",
   "metadata": {
    "tags": []
   },
   "outputs": [],
   "source": [
    "total_items = items_buy.add(additional_items, fill_value=0)\n",
    "print(total_items)\n",
    "total_items.plot(figsize=(10,3))"
   ]
  },
  {
   "cell_type": "code",
   "execution_count": null,
   "id": "8c888387-e369-493c-94a4-93a919c4954e",
   "metadata": {
    "tags": []
   },
   "outputs": [],
   "source": [
    "monthly = total_items.resample(\"1M\").mean()\n",
    "ax = monthly.plot(kind='bar',figsize=(10,3))\n",
    "ax.set_xticklabels([x.strftime(\"%b-%Y\") for x in monthly.index], rotation=45)"
   ]
  },
  {
   "cell_type": "markdown",
   "id": "a6d3d7cc-d0df-401f-92b5-21ddfa3f43b8",
   "metadata": {},
   "source": [
    "## DataFrame表格\n",
    "\n",
    "DataFrame类似于Excel的表格，是有相同索引的不同Series构成，用上面的a,b两个Series组成表格如下：\n",
    "### 读取csv或txt数据"
   ]
  },
  {
   "cell_type": "code",
   "execution_count": null,
   "id": "b1fd7c37-8b65-4d1c-bec4-8aa4e94e2cff",
   "metadata": {
    "tags": []
   },
   "outputs": [],
   "source": [
    "weather = pd.read_csv('../data/weather_by_cities.csv')\n",
    "weather.head()"
   ]
  },
  {
   "cell_type": "markdown",
   "id": "c0373845-5167-4fd0-96b3-55915e3d0a3f",
   "metadata": {},
   "source": [
    "### 读取excel数据"
   ]
  },
  {
   "cell_type": "code",
   "execution_count": null,
   "id": "1d881c49-1046-4b31-bd2f-020c6110edf0",
   "metadata": {
    "tags": []
   },
   "outputs": [],
   "source": [
    "weather = pd.read_excel('../data/weather_by_cities.xlsx')\n",
    "weather.head()"
   ]
  },
  {
   "cell_type": "markdown",
   "id": "9f1f7bd0-e37b-4386-bada-298ce1bf3e02",
   "metadata": {},
   "source": [
    "对于大文件，一次性读入可能花费很多时间，或者内存根本装不下；\n",
    "\n",
    "此时，可以选择先读取少部分数据做分析用图；下列命令`nrows=2`表示读取前2行"
   ]
  },
  {
   "cell_type": "code",
   "execution_count": null,
   "id": "44f16d87-296a-40b6-9056-49a3d2a683b2",
   "metadata": {
    "tags": []
   },
   "outputs": [],
   "source": [
    "weather1 = pd.read_excel('../data/weather_by_cities.xlsx', nrows=2)\n",
    "weather1"
   ]
  },
  {
   "cell_type": "markdown",
   "id": "98c1b383-9522-41ff-a5af-cde4df421eec",
   "metadata": {},
   "source": [
    "### 读取无表头数据时，增加列名"
   ]
  },
  {
   "cell_type": "code",
   "execution_count": null,
   "id": "e3efaaf0-fff6-41a3-8048-6746faad8e0f",
   "metadata": {
    "tags": []
   },
   "outputs": [],
   "source": [
    "col = ['col1', 'col2', 'col3', 'col4', 'col5']\n",
    "weather2 = pd.read_excel('../data/weather_by_cities.xlsx', nrows=5, names=col)\n",
    "weather2"
   ]
  },
  {
   "cell_type": "code",
   "execution_count": null,
   "id": "9380b676-19bc-4cbd-991a-0c407c3e65cc",
   "metadata": {},
   "outputs": [],
   "source": []
  },
  {
   "cell_type": "markdown",
   "id": "d08ce93b-3ac5-473b-9faf-1a2f7cd0974d",
   "metadata": {},
   "source": [
    "### 基于**行数据**生成DataFrame"
   ]
  },
  {
   "cell_type": "code",
   "execution_count": null,
   "id": "2c04ce97-c09a-47ad-be8b-53a6431abbad",
   "metadata": {
    "tags": []
   },
   "outputs": [],
   "source": [
    "df1 = pd.DataFrame([a,b])\n",
    "df1"
   ]
  },
  {
   "cell_type": "markdown",
   "id": "7d7ed9f5-b8a2-4dad-a083-3398aef0fe80",
   "metadata": {},
   "source": [
    "### 基于**列数据**生成DataFrame"
   ]
  },
  {
   "cell_type": "code",
   "execution_count": null,
   "id": "7b2d6e6f-1b5a-424d-9e66-69616272192c",
   "metadata": {
    "tags": []
   },
   "outputs": [],
   "source": [
    "df = pd.DataFrame({ 'A' : a, 'B' : b })\n",
    "df"
   ]
  },
  {
   "cell_type": "markdown",
   "id": "069a18ff-2708-4ae8-8cb9-741098fe5097",
   "metadata": {},
   "source": [
    "### 表格可以转置"
   ]
  },
  {
   "cell_type": "code",
   "execution_count": null,
   "id": "5d36288f-f0b0-4714-a5af-1519cd4e5fdd",
   "metadata": {
    "tags": []
   },
   "outputs": [],
   "source": [
    "df1 = df1.T\n",
    "df1"
   ]
  },
  {
   "cell_type": "markdown",
   "id": "ca14c594-94b8-402d-88c8-0f1e324f2145",
   "metadata": {},
   "source": [
    "## 表格查看\n",
    "`df.shape`查看数据维度\n",
    "\n",
    "`df.info()`展示基本信息\n",
    "\n",
    "`df.describe()`展示数字列的统计信息\n",
    "\n",
    "`df.A.unique()`A列的唯一值列表\n",
    "\n",
    "`df.A.nunique()`A列的唯一值数量"
   ]
  },
  {
   "cell_type": "code",
   "execution_count": null,
   "id": "b16c7bcb-06f2-4033-9e58-bcace7319369",
   "metadata": {
    "tags": []
   },
   "outputs": [],
   "source": [
    "df.shape"
   ]
  },
  {
   "cell_type": "code",
   "execution_count": null,
   "id": "046229c6-b4ad-4a37-ad00-2ce2b0771595",
   "metadata": {
    "tags": []
   },
   "outputs": [],
   "source": [
    "df.info()"
   ]
  },
  {
   "cell_type": "code",
   "execution_count": null,
   "id": "9a3b404c-c553-4314-a577-46413d46520e",
   "metadata": {
    "tags": []
   },
   "outputs": [],
   "source": [
    "df.describe()"
   ]
  },
  {
   "cell_type": "code",
   "execution_count": null,
   "id": "7f3000ce-d504-4496-8bf5-08709494d319",
   "metadata": {
    "tags": []
   },
   "outputs": [],
   "source": [
    "df.A.unique()"
   ]
  },
  {
   "cell_type": "code",
   "execution_count": null,
   "id": "ed0ef58b-be75-495b-9c5c-361435607087",
   "metadata": {
    "tags": []
   },
   "outputs": [],
   "source": [
    "df.A.nunique()"
   ]
  },
  {
   "cell_type": "code",
   "execution_count": null,
   "id": "e8edec09-9c54-4507-9a4b-8f712671a817",
   "metadata": {},
   "outputs": [],
   "source": []
  },
  {
   "cell_type": "markdown",
   "id": "37571b0a-2e97-4ce1-9077-39f842ec1b10",
   "metadata": {},
   "source": [
    "### 修改列名称"
   ]
  },
  {
   "cell_type": "code",
   "execution_count": null,
   "id": "96f765f8-fd6b-4baf-81b8-0ba4f537fa1c",
   "metadata": {
    "tags": []
   },
   "outputs": [],
   "source": [
    "print(df.columns)\n",
    "df.columns = ['A', 'B']  # 用该列表替换所有列名\n",
    "# df = df.rename(columns={'A': 'A11'})  # 改一列的列名\n",
    "df"
   ]
  },
  {
   "cell_type": "markdown",
   "id": "db05cc39-9b67-4519-a4c6-334a1029b232",
   "metadata": {},
   "source": [
    "### 选择列"
   ]
  },
  {
   "cell_type": "code",
   "execution_count": null,
   "id": "8d3abae1-9047-4e8f-b2c2-59eafe889bff",
   "metadata": {
    "tags": []
   },
   "outputs": [],
   "source": [
    "df.A #列名为一个不含空格的单词"
   ]
  },
  {
   "cell_type": "code",
   "execution_count": null,
   "id": "ad704555-9cda-4d2b-9d65-073b9c978680",
   "metadata": {
    "tags": []
   },
   "outputs": [],
   "source": [
    "df[['A']]"
   ]
  },
  {
   "cell_type": "code",
   "execution_count": null,
   "id": "ff4c3d5f-8c3a-4093-8432-123ea96bd929",
   "metadata": {
    "tags": []
   },
   "outputs": [],
   "source": [
    "df[['A', 'B']]"
   ]
  },
  {
   "cell_type": "code",
   "execution_count": null,
   "id": "2d365f8b-9029-4c55-b0a8-d724085d16db",
   "metadata": {
    "tags": []
   },
   "outputs": [],
   "source": []
  },
  {
   "cell_type": "code",
   "execution_count": null,
   "id": "322b9d2e-fd97-4d72-8381-ccf6e3d23622",
   "metadata": {},
   "outputs": [],
   "source": []
  },
  {
   "cell_type": "markdown",
   "id": "880717fd-597f-410d-bf39-1ede42411dcb",
   "metadata": {},
   "source": [
    "### 选择行"
   ]
  },
  {
   "cell_type": "code",
   "execution_count": null,
   "id": "2d278467-7444-43e7-a74a-ce750dc3f1ee",
   "metadata": {
    "tags": []
   },
   "outputs": [],
   "source": [
    "# df.head(100) #前100行\n",
    "df.head()"
   ]
  },
  {
   "cell_type": "code",
   "execution_count": null,
   "id": "c677267d-77cb-4dd7-8575-251b2412a43c",
   "metadata": {
    "tags": []
   },
   "outputs": [],
   "source": [
    "# df.tail(100)\n",
    "df.tail()"
   ]
  },
  {
   "cell_type": "code",
   "execution_count": null,
   "id": "f939f463-abc2-4f94-9e69-3c9932e173a6",
   "metadata": {},
   "outputs": [],
   "source": []
  },
  {
   "cell_type": "code",
   "execution_count": null,
   "id": "6768d4aa-9dd6-413c-bb43-331cd19d5594",
   "metadata": {},
   "outputs": [],
   "source": []
  },
  {
   "cell_type": "markdown",
   "id": "28733190-aae8-4c55-96e4-311aaf9667b6",
   "metadata": {},
   "source": [
    "### 排序"
   ]
  },
  {
   "cell_type": "code",
   "execution_count": null,
   "id": "35027f65-3fa3-4b45-a6c6-69b6266a4220",
   "metadata": {
    "tags": []
   },
   "outputs": [],
   "source": [
    "df"
   ]
  },
  {
   "cell_type": "code",
   "execution_count": null,
   "id": "9e111d9b-ec23-48f3-8e85-e65616422591",
   "metadata": {
    "tags": []
   },
   "outputs": [],
   "source": [
    "d1 = df.sort_values('A') # 默认正序排列\n",
    "d1"
   ]
  },
  {
   "cell_type": "code",
   "execution_count": null,
   "id": "37ac73e5-bab6-434d-bcda-27a9e37289a9",
   "metadata": {
    "tags": []
   },
   "outputs": [],
   "source": [
    "d1 = df.sort_values('A', ascending=False) # 倒序\n",
    "d1"
   ]
  },
  {
   "cell_type": "code",
   "execution_count": null,
   "id": "65a86865-0874-4d24-807b-8bbeb5f51ae2",
   "metadata": {},
   "outputs": [],
   "source": []
  },
  {
   "cell_type": "markdown",
   "id": "8cfdc57c-ac0c-4a6d-b59f-a632ec4d713a",
   "metadata": {},
   "source": [
    "### 根据条件筛选"
   ]
  },
  {
   "cell_type": "code",
   "execution_count": null,
   "id": "81351ec0-27df-4834-b644-aa77ba91660b",
   "metadata": {
    "tags": []
   },
   "outputs": [],
   "source": [
    "df[df['A']<5]"
   ]
  },
  {
   "cell_type": "markdown",
   "id": "c4a19562-7c66-4105-a315-6100ebdf1810",
   "metadata": {},
   "source": [
    "`df['A']<5`返回一个真假值series，表明每个元素是True或False，表格根据真假值筛选出对应的行。\n",
    "\n",
    "多个条件筛选时，用`&`（表示且）或`|`（表示或）连接"
   ]
  },
  {
   "cell_type": "code",
   "execution_count": null,
   "id": "b8032c4f-4457-405c-95a1-3b4a5fb428be",
   "metadata": {
    "tags": []
   },
   "outputs": [],
   "source": [
    "# df[(df['A']>5) | (df['A']<7)]\n",
    "df[(df['A']>5) & (df['A']<7)]"
   ]
  },
  {
   "cell_type": "code",
   "execution_count": null,
   "id": "cadae881-80ae-4a16-89e0-583f442f8f66",
   "metadata": {},
   "outputs": [],
   "source": []
  },
  {
   "cell_type": "markdown",
   "id": "ab02fceb-d3cb-4e52-be24-4db6815a5931",
   "metadata": {},
   "source": [
    "### 根据行号、列号选择\n",
    "格式为：`df.iloc[行开始位置：行结束位置，列开始位置：列结束位置]`，和Python的List一样，数字可以省略，表示默认起始位置开始，或默认到结束位置"
   ]
  },
  {
   "cell_type": "code",
   "execution_count": null,
   "id": "7b6b38d0-3826-44d7-9308-c77663a48a9a",
   "metadata": {
    "tags": []
   },
   "outputs": [],
   "source": [
    "df.iloc[:3]\n",
    "df.iloc[5:7, :]\n",
    "df.iloc[2:6, 1:4]"
   ]
  },
  {
   "cell_type": "markdown",
   "id": "5ffef125-d4a9-44e5-85b5-685f7320c89e",
   "metadata": {},
   "source": [
    "### 根据行号、列名筛选"
   ]
  },
  {
   "cell_type": "code",
   "execution_count": null,
   "id": "616c5bbc-66f1-4b53-85bd-ac7f7c5557be",
   "metadata": {
    "tags": []
   },
   "outputs": [],
   "source": [
    "df.loc[0:3, ['A', 'B']]"
   ]
  },
  {
   "cell_type": "markdown",
   "id": "068562b3-088a-4dcd-9e5a-0939d2ccb112",
   "metadata": {},
   "source": [
    "### 增加列"
   ]
  },
  {
   "cell_type": "code",
   "execution_count": null,
   "id": "92c7cab4-f7bd-4e2b-b246-26423d784704",
   "metadata": {
    "tags": []
   },
   "outputs": [],
   "source": [
    "df['C'] = 1\n",
    "df['D'] = np.random.randint(0, 100, size=len(df))\n",
    "df['E'] = df.A / 2\n",
    "df['G'] = df.A + df.C + df.D\n",
    "df['B_str_length'] = df['B'].apply(len)\n",
    "df"
   ]
  },
  {
   "cell_type": "markdown",
   "id": "886a3529-48a6-4585-875b-444ef45abb4a",
   "metadata": {},
   "source": [
    "### 基本统计\n",
    "可以对列进行基本统计，包括：`min()`, `max()`, `mean()`等\n",
    "\n",
    "另一个重要的统计是**频数统计**：`df.A.value_counts()`"
   ]
  },
  {
   "cell_type": "code",
   "execution_count": null,
   "id": "97e8b6e3-50da-4114-b584-33e6a467d301",
   "metadata": {
    "tags": []
   },
   "outputs": [],
   "source": [
    "df.A.mean(), df.A.min(), df.A.max(), df.A.std()"
   ]
  },
  {
   "cell_type": "code",
   "execution_count": null,
   "id": "18306ce5-3cf2-412c-83b3-80b0b893d14f",
   "metadata": {
    "tags": []
   },
   "outputs": [],
   "source": [
    "#频数统计，重要\n",
    "df.A.value_counts()  # 单列"
   ]
  },
  {
   "cell_type": "code",
   "execution_count": null,
   "id": "d5612e0e-3d96-42db-96a2-21f2a99f4d7b",
   "metadata": {
    "tags": []
   },
   "outputs": [],
   "source": [
    "df[['A', 'G']].value_counts()   # 多列"
   ]
  },
  {
   "cell_type": "code",
   "execution_count": null,
   "id": "b7fa3e4d-b2a5-4df0-bdd8-49e6e1c9f5cd",
   "metadata": {},
   "outputs": [],
   "source": []
  },
  {
   "cell_type": "markdown",
   "id": "13aef8a1-30e0-4a84-b242-fe2068f17dad",
   "metadata": {},
   "source": [
    "### 每行运用函数，计算统计量"
   ]
  },
  {
   "cell_type": "code",
   "execution_count": null,
   "id": "ff6106b9-3196-4b5c-991b-691715656f0f",
   "metadata": {
    "tags": []
   },
   "outputs": [],
   "source": [
    "df"
   ]
  },
  {
   "cell_type": "code",
   "execution_count": null,
   "id": "a7eb9a08-67bf-42ec-8306-7b2094c1dbd6",
   "metadata": {
    "tags": []
   },
   "outputs": [],
   "source": [
    "df.apply(lambda x: len(x), axis=0)  # x表示每一行；axis=0表示针对每列, axis=1表示针对每行"
   ]
  },
  {
   "cell_type": "code",
   "execution_count": null,
   "id": "bbfea367-8da7-40b7-b8c3-6070cf90bbe2",
   "metadata": {
    "tags": []
   },
   "outputs": [],
   "source": [
    "df.apply(lambda x: x.E, axis=1)  # x表示每一行；axis=0表示针对每列, axis=1表示针对每行"
   ]
  },
  {
   "cell_type": "code",
   "execution_count": null,
   "id": "17afdb4d-43d0-4760-93af-1e6f509761a4",
   "metadata": {},
   "outputs": [],
   "source": []
  },
  {
   "cell_type": "markdown",
   "id": "1afcf267-dc95-4bb3-9569-512438761933",
   "metadata": {},
   "source": [
    "### 透视图（重要）\n",
    "按照一定的标准给数据分组，对每组数据进行一定的统计\n",
    "`df.groupby()`函数按照`split-apply-combine`原则分析数据\n",
    "* `split`-首先对数据按照列的不同值分组，分组标准由by参数给定\n",
    "* `apply`-对每个分组数据，应用给定的分析处理函数，处理函数有func参数给定\n",
    "* `combine`-将所有组的结果汇总，汇总会自动完成\n",
    "\n",
    "<img src=\"../data/group_by_cities.png\" alt=\"drawing\" width=\"1000px\"/>\n",
    "<img src=\"../data/split_apply_combine.png\" alt=\"drawing\" width=\"1000px\"/>"
   ]
  },
  {
   "cell_type": "code",
   "execution_count": null,
   "id": "215ea7bd-d0ff-45eb-bcdc-2b8babc591c9",
   "metadata": {},
   "outputs": [],
   "source": [
    "df"
   ]
  },
  {
   "cell_type": "markdown",
   "id": "e9f90928-eb6f-4a45-a7bb-98dfcf113300",
   "metadata": {},
   "source": [
    "### 用groupby函数统计B列字符长度的分布"
   ]
  },
  {
   "cell_type": "code",
   "execution_count": null,
   "id": "a0f12579-16b3-4707-ad9e-49bc94db5b55",
   "metadata": {
    "tags": []
   },
   "outputs": [],
   "source": [
    "df.groupby(by='B_str_length').apply(func=lambda x: len(x))  # x表示分组后一个小表的数据\n",
    "df.groupby('B_str_length').apply(lambda x: len(x))  # 参数名称可省略\n",
    "df.groupby('B_str_length').apply(len)"
   ]
  },
  {
   "cell_type": "code",
   "execution_count": null,
   "id": "336a57e1-c439-48b7-a6be-d631b38d2923",
   "metadata": {},
   "outputs": [],
   "source": []
  },
  {
   "cell_type": "markdown",
   "id": "9417d014-b6d4-4ef0-8027-e1a941677cdd",
   "metadata": {},
   "source": [
    "### 统计不同城市不同气候的天数"
   ]
  },
  {
   "cell_type": "code",
   "execution_count": null,
   "id": "6c35237c-f111-41da-96a5-5644761582f1",
   "metadata": {
    "tags": []
   },
   "outputs": [],
   "source": [
    "weather"
   ]
  },
  {
   "cell_type": "code",
   "execution_count": null,
   "id": "636b2421-f793-456d-8fe8-e2a17c8848ec",
   "metadata": {
    "tags": []
   },
   "outputs": [],
   "source": [
    "t = weather.groupby(by=['city', 'event']).apply(len)\n",
    "t"
   ]
  },
  {
   "cell_type": "code",
   "execution_count": null,
   "id": "743de9de-dbee-48b2-b09a-45a2f82e5b3f",
   "metadata": {},
   "outputs": [],
   "source": []
  },
  {
   "cell_type": "markdown",
   "id": "c3c29478-fc63-4dc6-bb2d-8902fa807d59",
   "metadata": {},
   "source": [
    "### 统计不同城市不同气候的平均气温,平均风速"
   ]
  },
  {
   "cell_type": "code",
   "execution_count": null,
   "id": "f9d684fd-ba2b-4982-933a-dd93f4d377b9",
   "metadata": {
    "tags": []
   },
   "outputs": [],
   "source": [
    "r1 = weather.groupby(by=['city', 'event']).apply(lambda x: x.temperature.mean())\n",
    "r1"
   ]
  },
  {
   "cell_type": "code",
   "execution_count": null,
   "id": "08091809-6954-48cc-a354-1c2365f3291c",
   "metadata": {
    "tags": []
   },
   "outputs": [],
   "source": [
    "r2 = weather.groupby(by=['city', 'event']).apply(lambda x: x.windspeed.mean())\n",
    "r2"
   ]
  },
  {
   "cell_type": "markdown",
   "id": "f434290b-839a-4c6f-897c-5336d56deac3",
   "metadata": {},
   "source": [
    "### 上面的结果可以转化为DataFrame表格"
   ]
  },
  {
   "cell_type": "code",
   "execution_count": null,
   "id": "7dcfc472-fe9e-4e26-a483-c91e968e9940",
   "metadata": {
    "tags": []
   },
   "outputs": [],
   "source": [
    "r1 = r1.to_frame('avg_temperature').reset_index()  # series转化为Dataframe表格，重置索引为列\n",
    "r2 = r2.to_frame('avg_windspeed').reset_index()\n",
    "pd.merge(r1, r2) # 合并"
   ]
  },
  {
   "cell_type": "markdown",
   "id": "25bcd819-4d36-4e17-9fea-9e20c46965df",
   "metadata": {},
   "source": [
    "### 也可以直接计算所有数值列的均值"
   ]
  },
  {
   "cell_type": "code",
   "execution_count": null,
   "id": "32988066-6f98-4532-95b5-8582bb2acea7",
   "metadata": {},
   "outputs": [],
   "source": [
    "r3 = weather.groupby(by=['city', 'event']).mean().reset_index()\n",
    "r3"
   ]
  },
  {
   "cell_type": "markdown",
   "id": "e16eadf9-98fa-43c3-867b-6e316123085a",
   "metadata": {},
   "source": [
    "### 导出结果到csv，txt或xlsx等格式"
   ]
  },
  {
   "cell_type": "code",
   "execution_count": null,
   "id": "f5d7a15f-3aa6-4b7c-92f2-0052c8a052a4",
   "metadata": {},
   "outputs": [],
   "source": [
    "r3.to_csv('../data/city_weather_freq.csv', index=False) # index=False表示不导出索引"
   ]
  },
  {
   "cell_type": "code",
   "execution_count": null,
   "id": "7c39e73d-0edb-4a37-9794-39f47d658225",
   "metadata": {},
   "outputs": [],
   "source": [
    "r3.to_csv('../data/city_weather_freq.txt', index=False) # index=False表示不导出索引"
   ]
  },
  {
   "cell_type": "code",
   "execution_count": null,
   "id": "63af7836-5548-4d4a-b57a-463788440bcc",
   "metadata": {},
   "outputs": [],
   "source": [
    "r3.to_csv('../data/city_weather_freq.xlsx', index=False) # index=False表示不导出索引"
   ]
  },
  {
   "cell_type": "code",
   "execution_count": null,
   "id": "327a4cf7-6236-453c-a30f-34739613c8a5",
   "metadata": {},
   "outputs": [],
   "source": []
  },
  {
   "cell_type": "code",
   "execution_count": null,
   "id": "7d6bf298-638e-4787-975f-85203d7d2203",
   "metadata": {},
   "outputs": [],
   "source": []
  },
  {
   "cell_type": "code",
   "execution_count": null,
   "id": "509da349-1e0a-43cb-b457-3e148ce46bbe",
   "metadata": {},
   "outputs": [],
   "source": []
  },
  {
   "cell_type": "code",
   "execution_count": null,
   "id": "8265b2c0-3c36-487c-92ed-71586e31bd09",
   "metadata": {},
   "outputs": [],
   "source": []
  }
 ],
 "metadata": {
  "kernelspec": {
   "display_name": "Python 3 (ipykernel)",
   "language": "python",
   "name": "python3"
  },
  "language_info": {
   "codemirror_mode": {
    "name": "ipython",
    "version": 3
   },
   "file_extension": ".py",
   "mimetype": "text/x-python",
   "name": "python",
   "nbconvert_exporter": "python",
   "pygments_lexer": "ipython3",
   "version": "3.9.12"
  },
  "widgets": {
   "application/vnd.jupyter.widget-state+json": {
    "state": {},
    "version_major": 2,
    "version_minor": 0
   }
  }
 },
 "nbformat": 4,
 "nbformat_minor": 5
}
