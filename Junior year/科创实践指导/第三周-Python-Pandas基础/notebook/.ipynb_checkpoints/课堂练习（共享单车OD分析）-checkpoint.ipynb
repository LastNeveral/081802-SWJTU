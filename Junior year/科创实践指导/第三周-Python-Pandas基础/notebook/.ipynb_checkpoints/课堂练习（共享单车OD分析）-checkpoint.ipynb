{
 "cells": [
  {
   "cell_type": "code",
   "execution_count": 1,
   "id": "d3079c71",
   "metadata": {
    "execution": {
     "iopub.execute_input": "2022-09-21T12:14:07.136159Z",
     "iopub.status.busy": "2022-09-21T12:14:07.135163Z",
     "iopub.status.idle": "2022-09-21T12:14:08.591279Z",
     "shell.execute_reply": "2022-09-21T12:14:08.590369Z",
     "shell.execute_reply.started": "2022-09-21T12:14:07.136159Z"
    }
   },
   "outputs": [],
   "source": [
    "import pandas as pd\n",
    "import numpy as np\n",
    "import matplotlib.pyplot as plt"
   ]
  },
  {
   "cell_type": "markdown",
   "id": "35d5e749",
   "metadata": {},
   "source": [
    "## 数据导入"
   ]
  },
  {
   "cell_type": "code",
   "execution_count": 2,
   "id": "60a200dc",
   "metadata": {
    "execution": {
     "iopub.execute_input": "2022-09-21T12:14:08.593271Z",
     "iopub.status.busy": "2022-09-21T12:14:08.592274Z",
     "iopub.status.idle": "2022-09-21T12:14:09.098919Z",
     "shell.execute_reply": "2022-09-21T12:14:09.098010Z",
     "shell.execute_reply.started": "2022-09-21T12:14:08.593271Z"
    }
   },
   "outputs": [
    {
     "name": "stdout",
     "output_type": "stream",
     "text": [
      "(99999, 9)\n"
     ]
    },
    {
     "data": {
      "text/html": [
       "<div>\n",
       "<style scoped>\n",
       "    .dataframe tbody tr th:only-of-type {\n",
       "        vertical-align: middle;\n",
       "    }\n",
       "\n",
       "    .dataframe tbody tr th {\n",
       "        vertical-align: top;\n",
       "    }\n",
       "\n",
       "    .dataframe thead th {\n",
       "        text-align: right;\n",
       "    }\n",
       "</style>\n",
       "<table border=\"1\" class=\"dataframe\">\n",
       "  <thead>\n",
       "    <tr style=\"text-align: right;\">\n",
       "      <th></th>\n",
       "      <th>user</th>\n",
       "      <th>platform</th>\n",
       "      <th>start_time</th>\n",
       "      <th>start_lon</th>\n",
       "      <th>start_lat</th>\n",
       "      <th>end_time</th>\n",
       "      <th>end_lon</th>\n",
       "      <th>end_lat</th>\n",
       "      <th>dis</th>\n",
       "    </tr>\n",
       "  </thead>\n",
       "  <tbody>\n",
       "    <tr>\n",
       "      <th>0</th>\n",
       "      <td>7f508e26ae95478ac8b7cda2d88b4424</td>\n",
       "      <td>f52411b549236c64cbfad398527b06f0</td>\n",
       "      <td>2017-10-01 07:53:37</td>\n",
       "      <td>104.039897</td>\n",
       "      <td>30.525454</td>\n",
       "      <td>2017-10-01 07:56:25</td>\n",
       "      <td>104.042991</td>\n",
       "      <td>30.525805</td>\n",
       "      <td>299.481524</td>\n",
       "    </tr>\n",
       "    <tr>\n",
       "      <th>1</th>\n",
       "      <td>48bdf631eae97a0b7e6dddb9bd672491</td>\n",
       "      <td>f52411b549236c64cbfad398527b06f0</td>\n",
       "      <td>2017-10-01 17:54:15</td>\n",
       "      <td>103.877410</td>\n",
       "      <td>30.560417</td>\n",
       "      <td>2017-10-01 17:57:43</td>\n",
       "      <td>103.877011</td>\n",
       "      <td>30.560110</td>\n",
       "      <td>51.222150</td>\n",
       "    </tr>\n",
       "    <tr>\n",
       "      <th>2</th>\n",
       "      <td>56f6e3d6c92224aa58f5fb82a33d2ac5</td>\n",
       "      <td>f52411b549236c64cbfad398527b06f0</td>\n",
       "      <td>2017-10-01 08:31:24</td>\n",
       "      <td>104.073352</td>\n",
       "      <td>30.667557</td>\n",
       "      <td>2017-10-01 08:31:32</td>\n",
       "      <td>104.073372</td>\n",
       "      <td>30.667488</td>\n",
       "      <td>7.886066</td>\n",
       "    </tr>\n",
       "    <tr>\n",
       "      <th>3</th>\n",
       "      <td>b1398642247778f83470f09e923163f3</td>\n",
       "      <td>f52411b549236c64cbfad398527b06f0</td>\n",
       "      <td>2017-10-01 16:21:33</td>\n",
       "      <td>104.105804</td>\n",
       "      <td>30.680654</td>\n",
       "      <td>2017-10-01 16:27:42</td>\n",
       "      <td>104.100628</td>\n",
       "      <td>30.681912</td>\n",
       "      <td>515.202671</td>\n",
       "    </tr>\n",
       "    <tr>\n",
       "      <th>4</th>\n",
       "      <td>2fd5d6e292aad0c661c9e6480d4b9edc</td>\n",
       "      <td>f52411b549236c64cbfad398527b06f0</td>\n",
       "      <td>2017-10-01 22:36:45</td>\n",
       "      <td>104.064834</td>\n",
       "      <td>30.688940</td>\n",
       "      <td>2017-10-01 22:45:41</td>\n",
       "      <td>104.064870</td>\n",
       "      <td>30.689018</td>\n",
       "      <td>9.309940</td>\n",
       "    </tr>\n",
       "  </tbody>\n",
       "</table>\n",
       "</div>"
      ],
      "text/plain": [
       "                               user                          platform  \\\n",
       "0  7f508e26ae95478ac8b7cda2d88b4424  f52411b549236c64cbfad398527b06f0   \n",
       "1  48bdf631eae97a0b7e6dddb9bd672491  f52411b549236c64cbfad398527b06f0   \n",
       "2  56f6e3d6c92224aa58f5fb82a33d2ac5  f52411b549236c64cbfad398527b06f0   \n",
       "3  b1398642247778f83470f09e923163f3  f52411b549236c64cbfad398527b06f0   \n",
       "4  2fd5d6e292aad0c661c9e6480d4b9edc  f52411b549236c64cbfad398527b06f0   \n",
       "\n",
       "            start_time   start_lon  start_lat             end_time  \\\n",
       "0  2017-10-01 07:53:37  104.039897  30.525454  2017-10-01 07:56:25   \n",
       "1  2017-10-01 17:54:15  103.877410  30.560417  2017-10-01 17:57:43   \n",
       "2  2017-10-01 08:31:24  104.073352  30.667557  2017-10-01 08:31:32   \n",
       "3  2017-10-01 16:21:33  104.105804  30.680654  2017-10-01 16:27:42   \n",
       "4  2017-10-01 22:36:45  104.064834  30.688940  2017-10-01 22:45:41   \n",
       "\n",
       "      end_lon    end_lat         dis  \n",
       "0  104.042991  30.525805  299.481524  \n",
       "1  103.877011  30.560110   51.222150  \n",
       "2  104.073372  30.667488    7.886066  \n",
       "3  104.100628  30.681912  515.202671  \n",
       "4  104.064870  30.689018    9.309940  "
      ]
     },
     "execution_count": 2,
     "metadata": {},
     "output_type": "execute_result"
    }
   ],
   "source": [
    "w = pd.read_csv('../data/bike_od.csv')\n",
    "print(w.shape) # 查看数据大小\n",
    "w.head()"
   ]
  },
  {
   "cell_type": "code",
   "execution_count": null,
   "id": "0f19cf77",
   "metadata": {},
   "outputs": [],
   "source": []
  },
  {
   "cell_type": "code",
   "execution_count": null,
   "id": "bb1cd6d0",
   "metadata": {},
   "outputs": [],
   "source": []
  },
  {
   "cell_type": "code",
   "execution_count": null,
   "id": "e3d7e284",
   "metadata": {},
   "outputs": [],
   "source": []
  },
  {
   "cell_type": "markdown",
   "id": "776bffc4",
   "metadata": {},
   "source": [
    "### 问题1：查看用户87347011edded1387ca0cef5a7bdea28的骑行大于20m的数据数据"
   ]
  },
  {
   "cell_type": "code",
   "execution_count": 3,
   "id": "f811166c",
   "metadata": {
    "execution": {
     "iopub.execute_input": "2022-09-21T12:14:09.099916Z",
     "iopub.status.busy": "2022-09-21T12:14:09.099916Z",
     "iopub.status.idle": "2022-09-21T12:14:09.114141Z",
     "shell.execute_reply": "2022-09-21T12:14:09.113175Z",
     "shell.execute_reply.started": "2022-09-21T12:14:09.099916Z"
    }
   },
   "outputs": [],
   "source": [
    "user1 = '87347011edded1387ca0cef5a7bdea28'\n",
    "user1_data = w[w['user']==user1]"
   ]
  },
  {
   "cell_type": "code",
   "execution_count": 4,
   "id": "b87d703f",
   "metadata": {
    "execution": {
     "iopub.execute_input": "2022-09-21T12:14:09.116136Z",
     "iopub.status.busy": "2022-09-21T12:14:09.115139Z",
     "iopub.status.idle": "2022-09-21T12:14:09.145060Z",
     "shell.execute_reply": "2022-09-21T12:14:09.144062Z",
     "shell.execute_reply.started": "2022-09-21T12:14:09.116136Z"
    }
   },
   "outputs": [
    {
     "data": {
      "text/html": [
       "<div>\n",
       "<style scoped>\n",
       "    .dataframe tbody tr th:only-of-type {\n",
       "        vertical-align: middle;\n",
       "    }\n",
       "\n",
       "    .dataframe tbody tr th {\n",
       "        vertical-align: top;\n",
       "    }\n",
       "\n",
       "    .dataframe thead th {\n",
       "        text-align: right;\n",
       "    }\n",
       "</style>\n",
       "<table border=\"1\" class=\"dataframe\">\n",
       "  <thead>\n",
       "    <tr style=\"text-align: right;\">\n",
       "      <th></th>\n",
       "      <th>user</th>\n",
       "      <th>platform</th>\n",
       "      <th>start_time</th>\n",
       "      <th>start_lon</th>\n",
       "      <th>start_lat</th>\n",
       "      <th>end_time</th>\n",
       "      <th>end_lon</th>\n",
       "      <th>end_lat</th>\n",
       "      <th>dis</th>\n",
       "    </tr>\n",
       "  </thead>\n",
       "  <tbody>\n",
       "    <tr>\n",
       "      <th>4057</th>\n",
       "      <td>87347011edded1387ca0cef5a7bdea28</td>\n",
       "      <td>f52411b549236c64cbfad398527b06f0</td>\n",
       "      <td>2017-10-01 10:41:11</td>\n",
       "      <td>103.958588</td>\n",
       "      <td>30.688974</td>\n",
       "      <td>2017-10-01 10:42:55</td>\n",
       "      <td>103.958632</td>\n",
       "      <td>30.688974</td>\n",
       "      <td>4.215764</td>\n",
       "    </tr>\n",
       "    <tr>\n",
       "      <th>24257</th>\n",
       "      <td>87347011edded1387ca0cef5a7bdea28</td>\n",
       "      <td>f52411b549236c64cbfad398527b06f0</td>\n",
       "      <td>2017-10-01 11:52:19</td>\n",
       "      <td>103.958563</td>\n",
       "      <td>30.688981</td>\n",
       "      <td>2017-10-01 12:02:15</td>\n",
       "      <td>103.958708</td>\n",
       "      <td>30.688565</td>\n",
       "      <td>48.166572</td>\n",
       "    </tr>\n",
       "    <tr>\n",
       "      <th>61397</th>\n",
       "      <td>87347011edded1387ca0cef5a7bdea28</td>\n",
       "      <td>f52411b549236c64cbfad398527b06f0</td>\n",
       "      <td>2017-10-01 17:07:51</td>\n",
       "      <td>103.958046</td>\n",
       "      <td>30.689294</td>\n",
       "      <td>2017-10-01 17:08:04</td>\n",
       "      <td>103.958251</td>\n",
       "      <td>30.689333</td>\n",
       "      <td>20.111820</td>\n",
       "    </tr>\n",
       "    <tr>\n",
       "      <th>78890</th>\n",
       "      <td>87347011edded1387ca0cef5a7bdea28</td>\n",
       "      <td>f52411b549236c64cbfad398527b06f0</td>\n",
       "      <td>2017-10-01 12:54:14</td>\n",
       "      <td>103.958640</td>\n",
       "      <td>30.688963</td>\n",
       "      <td>2017-10-01 12:54:34</td>\n",
       "      <td>103.958702</td>\n",
       "      <td>30.688961</td>\n",
       "      <td>5.944533</td>\n",
       "    </tr>\n",
       "    <tr>\n",
       "      <th>93001</th>\n",
       "      <td>87347011edded1387ca0cef5a7bdea28</td>\n",
       "      <td>f52411b549236c64cbfad398527b06f0</td>\n",
       "      <td>2017-10-01 09:02:01</td>\n",
       "      <td>103.958600</td>\n",
       "      <td>30.688988</td>\n",
       "      <td>2017-10-01 09:02:10</td>\n",
       "      <td>103.958639</td>\n",
       "      <td>30.688960</td>\n",
       "      <td>4.857876</td>\n",
       "    </tr>\n",
       "  </tbody>\n",
       "</table>\n",
       "</div>"
      ],
      "text/plain": [
       "                                   user                          platform  \\\n",
       "4057   87347011edded1387ca0cef5a7bdea28  f52411b549236c64cbfad398527b06f0   \n",
       "24257  87347011edded1387ca0cef5a7bdea28  f52411b549236c64cbfad398527b06f0   \n",
       "61397  87347011edded1387ca0cef5a7bdea28  f52411b549236c64cbfad398527b06f0   \n",
       "78890  87347011edded1387ca0cef5a7bdea28  f52411b549236c64cbfad398527b06f0   \n",
       "93001  87347011edded1387ca0cef5a7bdea28  f52411b549236c64cbfad398527b06f0   \n",
       "\n",
       "                start_time   start_lon  start_lat             end_time  \\\n",
       "4057   2017-10-01 10:41:11  103.958588  30.688974  2017-10-01 10:42:55   \n",
       "24257  2017-10-01 11:52:19  103.958563  30.688981  2017-10-01 12:02:15   \n",
       "61397  2017-10-01 17:07:51  103.958046  30.689294  2017-10-01 17:08:04   \n",
       "78890  2017-10-01 12:54:14  103.958640  30.688963  2017-10-01 12:54:34   \n",
       "93001  2017-10-01 09:02:01  103.958600  30.688988  2017-10-01 09:02:10   \n",
       "\n",
       "          end_lon    end_lat        dis  \n",
       "4057   103.958632  30.688974   4.215764  \n",
       "24257  103.958708  30.688565  48.166572  \n",
       "61397  103.958251  30.689333  20.111820  \n",
       "78890  103.958702  30.688961   5.944533  \n",
       "93001  103.958639  30.688960   4.857876  "
      ]
     },
     "execution_count": 4,
     "metadata": {},
     "output_type": "execute_result"
    }
   ],
   "source": [
    "user1_data"
   ]
  },
  {
   "cell_type": "code",
   "execution_count": 5,
   "id": "f0c4122d",
   "metadata": {
    "execution": {
     "iopub.execute_input": "2022-09-21T12:14:09.146056Z",
     "iopub.status.busy": "2022-09-21T12:14:09.146056Z",
     "iopub.status.idle": "2022-09-21T12:14:09.175976Z",
     "shell.execute_reply": "2022-09-21T12:14:09.174978Z",
     "shell.execute_reply.started": "2022-09-21T12:14:09.146056Z"
    }
   },
   "outputs": [
    {
     "data": {
      "text/html": [
       "<div>\n",
       "<style scoped>\n",
       "    .dataframe tbody tr th:only-of-type {\n",
       "        vertical-align: middle;\n",
       "    }\n",
       "\n",
       "    .dataframe tbody tr th {\n",
       "        vertical-align: top;\n",
       "    }\n",
       "\n",
       "    .dataframe thead th {\n",
       "        text-align: right;\n",
       "    }\n",
       "</style>\n",
       "<table border=\"1\" class=\"dataframe\">\n",
       "  <thead>\n",
       "    <tr style=\"text-align: right;\">\n",
       "      <th></th>\n",
       "      <th>user</th>\n",
       "      <th>platform</th>\n",
       "      <th>start_time</th>\n",
       "      <th>start_lon</th>\n",
       "      <th>start_lat</th>\n",
       "      <th>end_time</th>\n",
       "      <th>end_lon</th>\n",
       "      <th>end_lat</th>\n",
       "      <th>dis</th>\n",
       "    </tr>\n",
       "  </thead>\n",
       "  <tbody>\n",
       "    <tr>\n",
       "      <th>24257</th>\n",
       "      <td>87347011edded1387ca0cef5a7bdea28</td>\n",
       "      <td>f52411b549236c64cbfad398527b06f0</td>\n",
       "      <td>2017-10-01 11:52:19</td>\n",
       "      <td>103.958563</td>\n",
       "      <td>30.688981</td>\n",
       "      <td>2017-10-01 12:02:15</td>\n",
       "      <td>103.958708</td>\n",
       "      <td>30.688565</td>\n",
       "      <td>48.166572</td>\n",
       "    </tr>\n",
       "    <tr>\n",
       "      <th>61397</th>\n",
       "      <td>87347011edded1387ca0cef5a7bdea28</td>\n",
       "      <td>f52411b549236c64cbfad398527b06f0</td>\n",
       "      <td>2017-10-01 17:07:51</td>\n",
       "      <td>103.958046</td>\n",
       "      <td>30.689294</td>\n",
       "      <td>2017-10-01 17:08:04</td>\n",
       "      <td>103.958251</td>\n",
       "      <td>30.689333</td>\n",
       "      <td>20.111820</td>\n",
       "    </tr>\n",
       "  </tbody>\n",
       "</table>\n",
       "</div>"
      ],
      "text/plain": [
       "                                   user                          platform  \\\n",
       "24257  87347011edded1387ca0cef5a7bdea28  f52411b549236c64cbfad398527b06f0   \n",
       "61397  87347011edded1387ca0cef5a7bdea28  f52411b549236c64cbfad398527b06f0   \n",
       "\n",
       "                start_time   start_lon  start_lat             end_time  \\\n",
       "24257  2017-10-01 11:52:19  103.958563  30.688981  2017-10-01 12:02:15   \n",
       "61397  2017-10-01 17:07:51  103.958046  30.689294  2017-10-01 17:08:04   \n",
       "\n",
       "          end_lon    end_lat        dis  \n",
       "24257  103.958708  30.688565  48.166572  \n",
       "61397  103.958251  30.689333  20.111820  "
      ]
     },
     "execution_count": 5,
     "metadata": {},
     "output_type": "execute_result"
    }
   ],
   "source": [
    "user1_data[user1_data['dis']>20]"
   ]
  },
  {
   "cell_type": "markdown",
   "id": "af2346ce",
   "metadata": {},
   "source": [
    "### 问题2. 用户总量是多少？最大骑行次数？最小骑行次数？用`df['A'].value_counts()`函数完成"
   ]
  },
  {
   "cell_type": "code",
   "execution_count": 6,
   "id": "76a2ea7b",
   "metadata": {
    "execution": {
     "iopub.execute_input": "2022-09-21T12:14:09.176974Z",
     "iopub.status.busy": "2022-09-21T12:14:09.176974Z",
     "iopub.status.idle": "2022-09-21T12:14:09.221852Z",
     "shell.execute_reply": "2022-09-21T12:14:09.221852Z",
     "shell.execute_reply.started": "2022-09-21T12:14:09.176974Z"
    }
   },
   "outputs": [
    {
     "data": {
      "text/plain": [
       "e10be3d518b3d2dfaf04462847cbd16c    90\n",
       "1dfc752e7b8392c81d54ecb88312e80e    72\n",
       "6381f2120d1fa9811a4473c78f9fdf55    67\n",
       "7263e7ec310edfb06f2bd83ad3f9ff4e    62\n",
       "8e3dbab5841a7d449bfb8f8c2bf078f1    60\n",
       "                                    ..\n",
       "67358df39a1a1e808116500c403dacf2     1\n",
       "bc47148ef502712df33e8ebbb0a7a089     1\n",
       "6abe7e5bb879857d3c1db646408a472a     1\n",
       "4c63719b9b56b2c89fd35e98bf994e6f     1\n",
       "adc1028238b0982c035768eefdc6e4c5     1\n",
       "Name: user, Length: 25779, dtype: int64"
      ]
     },
     "execution_count": 6,
     "metadata": {},
     "output_type": "execute_result"
    }
   ],
   "source": [
    "user_count = w['user'].value_counts()\n",
    "user_count"
   ]
  },
  {
   "cell_type": "code",
   "execution_count": 7,
   "id": "2f182adc",
   "metadata": {
    "execution": {
     "iopub.execute_input": "2022-09-21T12:14:09.225844Z",
     "iopub.status.busy": "2022-09-21T12:14:09.225844Z",
     "iopub.status.idle": "2022-09-21T12:14:09.237811Z",
     "shell.execute_reply": "2022-09-21T12:14:09.236814Z",
     "shell.execute_reply.started": "2022-09-21T12:14:09.225844Z"
    }
   },
   "outputs": [],
   "source": [
    "user_num = len(user_count.values)\n",
    "max_times = max(user_count.values)\n",
    "min_times = min(user_count.values)\n"
   ]
  },
  {
   "cell_type": "code",
   "execution_count": 8,
   "id": "319e96c4",
   "metadata": {
    "execution": {
     "iopub.execute_input": "2022-09-21T12:14:09.238808Z",
     "iopub.status.busy": "2022-09-21T12:14:09.238808Z",
     "iopub.status.idle": "2022-09-21T12:14:09.252780Z",
     "shell.execute_reply": "2022-09-21T12:14:09.251773Z",
     "shell.execute_reply.started": "2022-09-21T12:14:09.238808Z"
    }
   },
   "outputs": [
    {
     "name": "stdout",
     "output_type": "stream",
     "text": [
      "25779\n",
      "90\n",
      "1\n"
     ]
    }
   ],
   "source": [
    "print(user_num)\n",
    "print(max_times)\n",
    "print(min_times)"
   ]
  },
  {
   "cell_type": "markdown",
   "id": "24308e6d",
   "metadata": {},
   "source": [
    "### 问题3：用户的平均骑行次数？"
   ]
  },
  {
   "cell_type": "code",
   "execution_count": 9,
   "id": "797d9b8b",
   "metadata": {
    "execution": {
     "iopub.execute_input": "2022-09-21T12:14:09.254766Z",
     "iopub.status.busy": "2022-09-21T12:14:09.254766Z",
     "iopub.status.idle": "2022-09-21T12:14:09.269728Z",
     "shell.execute_reply": "2022-09-21T12:14:09.267739Z",
     "shell.execute_reply.started": "2022-09-21T12:14:09.254766Z"
    }
   },
   "outputs": [
    {
     "name": "stdout",
     "output_type": "stream",
     "text": [
      "3.8790876294658445\n"
     ]
    }
   ],
   "source": [
    "avg_times = sum(user_count.values)/user_num\n",
    "print(avg_times)"
   ]
  },
  {
   "cell_type": "code",
   "execution_count": null,
   "id": "ba740fb8",
   "metadata": {},
   "outputs": [],
   "source": []
  },
  {
   "cell_type": "code",
   "execution_count": null,
   "id": "0b8cf861",
   "metadata": {},
   "outputs": [],
   "source": []
  },
  {
   "cell_type": "markdown",
   "id": "be85a7cd",
   "metadata": {},
   "source": [
    "### 问题4：用户的平均骑行距离？"
   ]
  },
  {
   "cell_type": "code",
   "execution_count": 10,
   "id": "851fe090",
   "metadata": {
    "execution": {
     "iopub.execute_input": "2022-09-21T12:14:09.272719Z",
     "iopub.status.busy": "2022-09-21T12:14:09.271719Z",
     "iopub.status.idle": "2022-09-21T12:14:09.285682Z",
     "shell.execute_reply": "2022-09-21T12:14:09.283689Z",
     "shell.execute_reply.started": "2022-09-21T12:14:09.272719Z"
    }
   },
   "outputs": [],
   "source": [
    "avg_len = sum(w['dis'])/len(w)"
   ]
  },
  {
   "cell_type": "code",
   "execution_count": 11,
   "id": "fde65e1a",
   "metadata": {
    "execution": {
     "iopub.execute_input": "2022-09-21T12:14:09.288675Z",
     "iopub.status.busy": "2022-09-21T12:14:09.288675Z",
     "iopub.status.idle": "2022-09-21T12:14:09.300643Z",
     "shell.execute_reply": "2022-09-21T12:14:09.299645Z",
     "shell.execute_reply.started": "2022-09-21T12:14:09.288675Z"
    }
   },
   "outputs": [
    {
     "name": "stdout",
     "output_type": "stream",
     "text": [
      "285.00888228855973\n"
     ]
    }
   ],
   "source": [
    "print(avg_len)"
   ]
  },
  {
   "cell_type": "code",
   "execution_count": null,
   "id": "bd82a9e6",
   "metadata": {},
   "outputs": [],
   "source": []
  },
  {
   "cell_type": "markdown",
   "id": "c58c89a6",
   "metadata": {},
   "source": [
    "### 问题5：有多少平台，每个平台的骑行数量分布？ 百分数占比？"
   ]
  },
  {
   "cell_type": "code",
   "execution_count": 12,
   "id": "8e1949dc",
   "metadata": {
    "execution": {
     "iopub.execute_input": "2022-09-21T12:14:09.303635Z",
     "iopub.status.busy": "2022-09-21T12:14:09.302645Z",
     "iopub.status.idle": "2022-09-21T12:14:09.316599Z",
     "shell.execute_reply": "2022-09-21T12:14:09.315602Z",
     "shell.execute_reply.started": "2022-09-21T12:14:09.303635Z"
    }
   },
   "outputs": [
    {
     "name": "stdout",
     "output_type": "stream",
     "text": [
      "f52411b549236c64cbfad398527b06f0    88780\n",
      "24128e85e41d2d37218f2a01b6817a81    10012\n",
      "84a42f2803c8de332042416550990d36      531\n",
      "437a670396979416774414d239726485      260\n",
      "230cb4fc9919b9989dd4b45823efa609      214\n",
      "6ee5fe228323d6508c8d42abf043071f      111\n",
      "343f5a26aff53f87682ac055fc062833       51\n",
      "a1610f8f823abae6056b26ae35703e42       29\n",
      "6dfe349b21ab8c07e80489685603a941        6\n",
      "616fcdf309684c2b2ed0f5174a6ccdb8        2\n",
      "8149f20db762c2d0194b8f58ae9309f4        2\n",
      "218eadaf5f19a61939805f60ebfefac1        1\n",
      "Name: platform, dtype: int64\n"
     ]
    }
   ],
   "source": [
    "platform_num = w['platform'].value_counts()\n",
    "print(platform_num)"
   ]
  },
  {
   "cell_type": "code",
   "execution_count": 13,
   "id": "0e121eb1",
   "metadata": {
    "execution": {
     "iopub.execute_input": "2022-09-21T12:14:09.319597Z",
     "iopub.status.busy": "2022-09-21T12:14:09.318594Z",
     "iopub.status.idle": "2022-09-21T12:14:09.332558Z",
     "shell.execute_reply": "2022-09-21T12:14:09.331559Z",
     "shell.execute_reply.started": "2022-09-21T12:14:09.319597Z"
    }
   },
   "outputs": [
    {
     "name": "stdout",
     "output_type": "stream",
     "text": [
      "12\n"
     ]
    }
   ],
   "source": [
    "print(len(platform_num))"
   ]
  },
  {
   "cell_type": "code",
   "execution_count": 14,
   "id": "3faba5ed",
   "metadata": {
    "execution": {
     "iopub.execute_input": "2022-09-21T12:14:09.335549Z",
     "iopub.status.busy": "2022-09-21T12:14:09.335549Z",
     "iopub.status.idle": "2022-09-21T12:14:09.396385Z",
     "shell.execute_reply": "2022-09-21T12:14:09.395390Z",
     "shell.execute_reply.started": "2022-09-21T12:14:09.335549Z"
    }
   },
   "outputs": [
    {
     "data": {
      "text/plain": [
       "count       12.000000\n",
       "mean      8333.250000\n",
       "std      25493.712313\n",
       "min          1.000000\n",
       "25%          5.000000\n",
       "50%         81.000000\n",
       "75%        327.750000\n",
       "max      88780.000000\n",
       "Name: platform, dtype: float64"
      ]
     },
     "execution_count": 14,
     "metadata": {},
     "output_type": "execute_result"
    }
   ],
   "source": [
    "platform_num.describe()"
   ]
  },
  {
   "cell_type": "code",
   "execution_count": null,
   "id": "38e378c7",
   "metadata": {},
   "outputs": [],
   "source": []
  },
  {
   "cell_type": "code",
   "execution_count": null,
   "id": "fd46b77b",
   "metadata": {},
   "outputs": [],
   "source": []
  },
  {
   "cell_type": "code",
   "execution_count": null,
   "id": "c8d14570",
   "metadata": {},
   "outputs": [],
   "source": []
  },
  {
   "cell_type": "code",
   "execution_count": null,
   "id": "66d355ea",
   "metadata": {},
   "outputs": [],
   "source": []
  },
  {
   "cell_type": "markdown",
   "id": "8b8513ce",
   "metadata": {},
   "source": [
    "### 问题6：增加一列，名称为hour(以开始时间为准)，表示小时，统计每小时的骑行用户数量，统计每小时的骑行总量，并可视化\n",
    "提示：\n",
    "* 思路1：数据导入时，数据列为字符串，可以根据小时在字符串的位置提取小时特征\n",
    "* 思路2：用pd.to_datetime(df.A)，将A列转化为时间格式，之后针对每个单元数据i,可以使用i.hour提取小时特征\n",
    "\n",
    "```\n",
    "w['start_time'] = pd.to_datetime(w['start_time'])\n",
    "w.start_time[0].hour\n",
    "```"
   ]
  },
  {
   "cell_type": "code",
   "execution_count": 15,
   "id": "b9a927bf",
   "metadata": {
    "execution": {
     "iopub.execute_input": "2022-09-21T12:14:09.397384Z",
     "iopub.status.busy": "2022-09-21T12:14:09.396385Z",
     "iopub.status.idle": "2022-09-21T12:14:09.475175Z",
     "shell.execute_reply": "2022-09-21T12:14:09.474180Z",
     "shell.execute_reply.started": "2022-09-21T12:14:09.397384Z"
    }
   },
   "outputs": [],
   "source": [
    "w['start_time'] = pd.to_datetime(w['start_time'])\n"
   ]
  },
  {
   "cell_type": "code",
   "execution_count": 16,
   "id": "091a8db6",
   "metadata": {
    "execution": {
     "iopub.execute_input": "2022-09-21T12:14:09.476172Z",
     "iopub.status.busy": "2022-09-21T12:14:09.476172Z",
     "iopub.status.idle": "2022-09-21T12:14:09.491132Z",
     "shell.execute_reply": "2022-09-21T12:14:09.489138Z",
     "shell.execute_reply.started": "2022-09-21T12:14:09.476172Z"
    }
   },
   "outputs": [
    {
     "data": {
      "text/plain": [
       "17"
      ]
     },
     "execution_count": 16,
     "metadata": {},
     "output_type": "execute_result"
    }
   ],
   "source": [
    "w.start_time[1].hour"
   ]
  },
  {
   "cell_type": "code",
   "execution_count": 17,
   "id": "ebcbefa4",
   "metadata": {
    "execution": {
     "iopub.execute_input": "2022-09-21T12:14:09.493127Z",
     "iopub.status.busy": "2022-09-21T12:14:09.492134Z",
     "iopub.status.idle": "2022-09-21T12:14:09.506092Z",
     "shell.execute_reply": "2022-09-21T12:14:09.505095Z",
     "shell.execute_reply.started": "2022-09-21T12:14:09.493127Z"
    }
   },
   "outputs": [],
   "source": [
    "w['hour'] = w.start_time"
   ]
  },
  {
   "cell_type": "code",
   "execution_count": 24,
   "id": "fd385631",
   "metadata": {
    "execution": {
     "iopub.execute_input": "2022-09-21T12:17:40.485437Z",
     "iopub.status.busy": "2022-09-21T12:17:40.484439Z",
     "iopub.status.idle": "2022-09-21T12:17:47.558531Z",
     "shell.execute_reply": "2022-09-21T12:17:47.557532Z",
     "shell.execute_reply.started": "2022-09-21T12:17:40.485437Z"
    }
   },
   "outputs": [],
   "source": [
    "j = 0\n",
    "for i in w['hour']:\n",
    "    w.loc[j,'hour'] = i.hour\n",
    "    j+=1"
   ]
  },
  {
   "cell_type": "code",
   "execution_count": 25,
   "id": "35596ac5",
   "metadata": {
    "execution": {
     "iopub.execute_input": "2022-09-21T12:17:52.886114Z",
     "iopub.status.busy": "2022-09-21T12:17:52.885115Z",
     "iopub.status.idle": "2022-09-21T12:17:52.909052Z",
     "shell.execute_reply": "2022-09-21T12:17:52.908059Z",
     "shell.execute_reply.started": "2022-09-21T12:17:52.886114Z"
    }
   },
   "outputs": [],
   "source": [
    "b = w['hour'].value_counts()"
   ]
  },
  {
   "cell_type": "markdown",
   "id": "2aef9923",
   "metadata": {},
   "source": [
    "7h: 4241\n"
   ]
  },
  {
   "cell_type": "code",
   "execution_count": 27,
   "id": "e66310a7",
   "metadata": {
    "execution": {
     "iopub.execute_input": "2022-09-21T12:18:40.027903Z",
     "iopub.status.busy": "2022-09-21T12:18:40.027903Z",
     "iopub.status.idle": "2022-09-21T12:18:40.153926Z",
     "shell.execute_reply": "2022-09-21T12:18:40.153009Z",
     "shell.execute_reply.started": "2022-09-21T12:18:40.027903Z"
    }
   },
   "outputs": [],
   "source": [
    "b = b.sort_index()"
   ]
  },
  {
   "cell_type": "code",
   "execution_count": 30,
   "id": "554db822",
   "metadata": {
    "execution": {
     "iopub.execute_input": "2022-09-21T12:19:18.764589Z",
     "iopub.status.busy": "2022-09-21T12:19:18.763555Z",
     "iopub.status.idle": "2022-09-21T12:19:20.126389Z",
     "shell.execute_reply": "2022-09-21T12:19:20.125392Z",
     "shell.execute_reply.started": "2022-09-21T12:19:18.764589Z"
    }
   },
   "outputs": [
    {
     "data": {
      "text/plain": [
       "[<matplotlib.lines.Line2D at 0x177d8e99300>]"
      ]
     },
     "execution_count": 30,
     "metadata": {},
     "output_type": "execute_result"
    },
    {
     "data": {
      "image/png": "[encoded data removed]",
      "text/plain": [
       "<Figure size 432x288 with 1 Axes>"
      ]
     },
     "metadata": {
      "needs_background": "light"
     },
     "output_type": "display_data"
    }
   ],
   "source": [
    "plt.plot(b.index,b.values)"
   ]
  },
  {
   "cell_type": "markdown",
   "id": "218ee891",
   "metadata": {},
   "source": [
    "### 问题7：统计每个平台每小时的出行量，并进行可视化（折线图）\n",
    "提示，用下面的代码画多条折线图：\n",
    "```\n",
    "platforms = df.platform.unique()\n",
    "for p in platforms:\n",
    "    data = df[df.platform==p]\n",
    "    plt.plot(data.hour, data.n)  # 循环，每次画一个平台的折线图\n",
    "plt.show()\n",
    "```"
   ]
  },
  {
   "cell_type": "code",
   "execution_count": 32,
   "id": "3ad376f6",
   "metadata": {
    "execution": {
     "iopub.execute_input": "2022-09-21T12:19:59.892547Z",
     "iopub.status.busy": "2022-09-21T12:19:59.891550Z",
     "iopub.status.idle": "2022-09-21T12:19:59.915455Z",
     "shell.execute_reply": "2022-09-21T12:19:59.914454Z",
     "shell.execute_reply.started": "2022-09-21T12:19:59.892547Z"
    }
   },
   "outputs": [],
   "source": [
    "platforms = w.platform.unique()"
   ]
  },
  {
   "cell_type": "code",
   "execution_count": 42,
   "id": "b0ebe153",
   "metadata": {
    "execution": {
     "iopub.execute_input": "2022-09-21T12:27:33.850286Z",
     "iopub.status.busy": "2022-09-21T12:27:33.850286Z",
     "iopub.status.idle": "2022-09-21T12:27:35.284687Z",
     "shell.execute_reply": "2022-09-21T12:27:35.283777Z",
     "shell.execute_reply.started": "2022-09-21T12:27:33.850286Z"
    }
   },
   "outputs": [
    {
     "data": {
      "image/png": "[encoded data removed]",
      "text/plain": [
       "<Figure size 432x288 with 1 Axes>"
      ]
     },
     "metadata": {
      "needs_background": "light"
     },
     "output_type": "display_data"
    },
    {
     "data": {
      "image/png": "[encoded data removed]",
      "text/plain": [
       "<Figure size 432x288 with 1 Axes>"
      ]
     },
     "metadata": {
      "needs_background": "light"
     },
     "output_type": "display_data"
    },
    {
     "data": {
      "image/png": "[encoded data removed]",
      "text/plain": [
       "<Figure size 432x288 with 1 Axes>"
      ]
     },
     "metadata": {
      "needs_background": "light"
     },
     "output_type": "display_data"
    },
    {
     "data": {
      "image/png": "[encoded data removed]",
      "text/plain": [
       "<Figure size 432x288 with 1 Axes>"
      ]
     },
     "metadata": {
      "needs_background": "light"
     },
     "output_type": "display_data"
    },
    {
     "data": {
      "image/png": "[encoded data removed]",
      "text/plain": [
       "<Figure size 432x288 with 1 Axes>"
      ]
     },
     "metadata": {
      "needs_background": "light"
     },
     "output_type": "display_data"
    },
    {
     "data": {
      "image/png": "[encoded data removed]",
      "text/plain": [
       "<Figure size 432x288 with 1 Axes>"
      ]
     },
     "metadata": {
      "needs_background": "light"
     },
     "output_type": "display_data"
    },
    {
     "data": {
      "image/png": "[encoded data removed]",
      "text/plain": [
       "<Figure size 432x288 with 1 Axes>"
      ]
     },
     "metadata": {
      "needs_background": "light"
     },
     "output_type": "display_data"
    },
    {
     "data": {
      "image/png": "[encoded data removed]",
      "text/plain": [
       "<Figure size 432x288 with 1 Axes>"
      ]
     },
     "metadata": {
      "needs_background": "light"
     },
     "output_type": "display_data"
    },
    {
     "data": {
      "image/png": "[encoded data removed]",
      "text/plain": [
       "<Figure size 432x288 with 1 Axes>"
      ]
     },
     "metadata": {
      "needs_background": "light"
     },
     "output_type": "display_data"
    },
    {
     "data": {
      "image/png": "[encoded data removed]",
      "text/plain": [
       "<Figure size 432x288 with 1 Axes>"
      ]
     },
     "metadata": {
      "needs_background": "light"
     },
     "output_type": "display_data"
    },
    {
     "data": {
      "image/png": "[encoded data removed]",
      "text/plain": [
       "<Figure size 432x288 with 1 Axes>"
      ]
     },
     "metadata": {
      "needs_background": "light"
     },
     "output_type": "display_data"
    },
    {
     "data": {
      "image/png": "[encoded data removed]",
      "text/plain": [
       "<Figure size 432x288 with 1 Axes>"
      ]
     },
     "metadata": {
      "needs_background": "light"
     },
     "output_type": "display_data"
    }
   ],
   "source": [
    "\n",
    "for p in platforms:\n",
    "    data = w[w.platform==p]\n",
    "    data = data['hour'].value_counts()\n",
    "    data = data.sort_index()\n",
    "\n",
    "    plt.plot(data.index, data.values)  # 循环，每次画一个平台的折线图\n",
    "    plt.show()\n"
   ]
  },
  {
   "cell_type": "code",
   "execution_count": null,
   "id": "40f2b24f",
   "metadata": {},
   "outputs": [],
   "source": []
  },
  {
   "cell_type": "code",
   "execution_count": null,
   "id": "b42ead50",
   "metadata": {},
   "outputs": [],
   "source": []
  },
  {
   "cell_type": "markdown",
   "id": "aac1bcda",
   "metadata": {},
   "source": [
    "### 问题8：用户的平均骑行时间？\n",
    "提示：将start_time和end_time列转为时间格式，之后求时间差值\n",
    "\n",
    "```\n",
    "w['start_time'] = pd.to_datetime(w['start_time'])\n",
    "w['end_time'] = pd.to_datetime(w['end_time'])\n",
    "delta = w.end_time[0] - w.start_time[0]\n",
    "delta.seconds  # 返回间隔的秒数\n",
    "```"
   ]
  },
  {
   "cell_type": "code",
   "execution_count": 46,
   "id": "305798cf",
   "metadata": {
    "execution": {
     "iopub.execute_input": "2022-09-21T12:31:47.503811Z",
     "iopub.status.busy": "2022-09-21T12:31:47.503811Z",
     "iopub.status.idle": "2022-09-21T12:32:01.802545Z",
     "shell.execute_reply": "2022-09-21T12:32:01.801554Z",
     "shell.execute_reply.started": "2022-09-21T12:31:47.503811Z"
    }
   },
   "outputs": [],
   "source": [
    "w['start_time'] = pd.to_datetime(w['start_time'])\n",
    "w['end_time'] = pd.to_datetime(w['end_time'])\n",
    "\n",
    "w['seconds']=0\n",
    "for i in range(0,len(w)):\n",
    "    delta = w.end_time[i] - w.start_time[i]\n",
    "    w.loc[i,'seconds'] = delta.seconds\n",
    "    \n"
   ]
  },
  {
   "cell_type": "code",
   "execution_count": 48,
   "id": "1efd8bcc",
   "metadata": {
    "execution": {
     "iopub.execute_input": "2022-09-21T12:33:26.662311Z",
     "iopub.status.busy": "2022-09-21T12:33:26.661311Z",
     "iopub.status.idle": "2022-09-21T12:33:26.678266Z",
     "shell.execute_reply": "2022-09-21T12:33:26.678266Z",
     "shell.execute_reply.started": "2022-09-21T12:33:26.662311Z"
    }
   },
   "outputs": [
    {
     "data": {
      "text/plain": [
       "715.9637596375964"
      ]
     },
     "execution_count": 48,
     "metadata": {},
     "output_type": "execute_result"
    }
   ],
   "source": [
    "avg_biketime = sum(w['seconds'])/len(w)\n",
    "avg_biketime"
   ]
  },
  {
   "cell_type": "markdown",
   "id": "05ea153f",
   "metadata": {},
   "source": [
    "### 问题9：导出骑行距离大于1km，或骑行时间大于2分钟的所有记录到../data/out.xlsx文件"
   ]
  },
  {
   "cell_type": "code",
   "execution_count": 54,
   "id": "c0e1cfd0",
   "metadata": {
    "execution": {
     "iopub.execute_input": "2022-09-21T12:35:58.247226Z",
     "iopub.status.busy": "2022-09-21T12:35:58.246230Z",
     "iopub.status.idle": "2022-09-21T12:35:58.253323Z",
     "shell.execute_reply": "2022-09-21T12:35:58.253249Z",
     "shell.execute_reply.started": "2022-09-21T12:35:58.247226Z"
    }
   },
   "outputs": [],
   "source": [
    "output = w[(w['dis']>1000)&(w['seconds']>120)]"
   ]
  },
  {
   "cell_type": "code",
   "execution_count": 67,
   "id": "8d1f946d",
   "metadata": {
    "execution": {
     "iopub.execute_input": "2022-09-21T12:42:07.492569Z",
     "iopub.status.busy": "2022-09-21T12:42:07.492569Z",
     "iopub.status.idle": "2022-09-21T12:42:07.501545Z",
     "shell.execute_reply": "2022-09-21T12:42:07.500547Z",
     "shell.execute_reply.started": "2022-09-21T12:42:07.492569Z"
    }
   },
   "outputs": [],
   "source": [
    "path = '../data/out.xlsx'"
   ]
  },
  {
   "cell_type": "code",
   "execution_count": 68,
   "id": "9b6b712d",
   "metadata": {
    "execution": {
     "iopub.execute_input": "2022-09-21T12:42:09.471702Z",
     "iopub.status.busy": "2022-09-21T12:42:09.471702Z",
     "iopub.status.idle": "2022-09-21T12:42:13.320823Z",
     "shell.execute_reply": "2022-09-21T12:42:13.319883Z",
     "shell.execute_reply.started": "2022-09-21T12:42:09.471702Z"
    }
   },
   "outputs": [],
   "source": [
    "output.to_excel(path)"
   ]
  }
 ],
 "metadata": {
  "interpreter": {
   "hash": "b3ba2566441a7c06988d0923437866b63cedc61552a5af99d1f4fb67d367b25f"
  },
  "kernelspec": {
   "display_name": "Python [conda ox:srtp]",
   "language": "python",
   "name": "ox"
  },
  "language_info": {
   "codemirror_mode": {
    "name": "ipython",
    "version": 3
   },
   "file_extension": ".py",
   "mimetype": "text/x-python",
   "name": "python",
   "nbconvert_exporter": "python",
   "pygments_lexer": "ipython3",
   "version": "3.10.4"
  },
  "widgets": {
   "application/vnd.jupyter.widget-state+json": {
    "state": {},
    "version_major": 2,
    "version_minor": 0
   }
  }
 },
 "nbformat": 4,
 "nbformat_minor": 5
}
