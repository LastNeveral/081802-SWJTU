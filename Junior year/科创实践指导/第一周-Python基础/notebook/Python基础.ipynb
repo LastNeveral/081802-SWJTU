{
 "cells": [
  {
   "cell_type": "markdown",
   "id": "e1833399",
   "metadata": {},
   "source": [
    "# 1. 基本数据类型\n",
    "## 变量不需要声明\n",
    "Python的变量不需要声明，你可以直接输入：`a = 10`，那么你的内存里就有了一个变量a， 它的值是10，它的类型是integer (整数)。 在此之前你不需要做什么特别的声明，而数据类型是Python自动决定的。"
   ]
  },
  {
   "cell_type": "code",
   "execution_count": 1,
   "id": "cc936fe9",
   "metadata": {
    "execution": {
     "iopub.execute_input": "2022-09-05T13:38:34.653392Z",
     "iopub.status.busy": "2022-09-05T13:38:34.652394Z",
     "iopub.status.idle": "2022-09-05T13:38:34.661369Z",
     "shell.execute_reply": "2022-09-05T13:38:34.661369Z",
     "shell.execute_reply.started": "2022-09-05T13:38:34.652394Z"
    }
   },
   "outputs": [],
   "source": [
    "a = 10"
   ]
  },
  {
   "cell_type": "code",
   "execution_count": 2,
   "id": "0ce67cad",
   "metadata": {
    "execution": {
     "iopub.execute_input": "2022-09-05T13:38:39.469108Z",
     "iopub.status.busy": "2022-09-05T13:38:39.469108Z",
     "iopub.status.idle": "2022-09-05T13:38:39.491049Z",
     "shell.execute_reply": "2022-09-05T13:38:39.490086Z",
     "shell.execute_reply.started": "2022-09-05T13:38:39.469108Z"
    }
   },
   "outputs": [
    {
     "name": "stdout",
     "output_type": "stream",
     "text": [
      "10\n",
      "<class 'int'>\n"
     ]
    }
   ],
   "source": [
    "print(a)\n",
    "print(type(a))"
   ]
  },
  {
   "cell_type": "markdown",
   "id": "7a7aa177",
   "metadata": {},
   "source": [
    "这里，我们学到一个内置函数type(), 用以查询变量的类型。"
   ]
  },
  {
   "cell_type": "code",
   "execution_count": null,
   "id": "90304fc8",
   "metadata": {},
   "outputs": [],
   "source": []
  },
  {
   "cell_type": "markdown",
   "id": "5c7a7110",
   "metadata": {},
   "source": [
    "## 回收变量名\n",
    "如果你想让a存储不同的数据，你不需要删除原有变量就可以直接赋值。"
   ]
  },
  {
   "cell_type": "code",
   "execution_count": 3,
   "id": "eaa57ef7",
   "metadata": {
    "execution": {
     "iopub.execute_input": "2022-09-04T12:57:09.245015Z",
     "iopub.status.busy": "2022-09-04T12:57:09.245015Z",
     "iopub.status.idle": "2022-09-04T12:57:09.259975Z",
     "shell.execute_reply": "2022-09-04T12:57:09.259975Z",
     "shell.execute_reply.started": "2022-09-04T12:57:09.245015Z"
    }
   },
   "outputs": [
    {
     "name": "stdout",
     "output_type": "stream",
     "text": [
      "1.3 <class 'float'>\n"
     ]
    }
   ],
   "source": [
    "a = 1.3\n",
    "print(a, type(a))"
   ]
  },
  {
   "cell_type": "markdown",
   "id": "0da5735a",
   "metadata": {},
   "source": [
    "我们看到print的另一个用法，也就是print后跟多个输出，以逗号分隔。"
   ]
  },
  {
   "cell_type": "code",
   "execution_count": 3,
   "id": "2a704767",
   "metadata": {
    "execution": {
     "iopub.execute_input": "2022-09-05T13:39:33.940807Z",
     "iopub.status.busy": "2022-09-05T13:39:33.939810Z",
     "iopub.status.idle": "2022-09-05T13:39:33.948787Z",
     "shell.execute_reply": "2022-09-05T13:39:33.947820Z",
     "shell.execute_reply.started": "2022-09-05T13:39:33.940807Z"
    }
   },
   "outputs": [
    {
     "name": "stdout",
     "output_type": "stream",
     "text": [
      "<class 'str'>\n",
      "<class 'int'>\n"
     ]
    }
   ],
   "source": [
    "a='a'\n",
    "print(type(a))\n",
    "a=1\n",
    "print(type(a))"
   ]
  },
  {
   "cell_type": "markdown",
   "id": "df315dbe",
   "metadata": {},
   "source": [
    "## 基本数据类型\n",
    "```\n",
    "a=10         # int 整数\n",
    "a=1.3        # float 浮点数\n",
    "a=True       # 真值 (True/False)\n",
    "a='Hello!'   # 字符串。字符串也可以用双引号。\n",
    "```\n",
    "\n",
    "以上是最常用的数据类型。此外还有分数，字符，复数等其他类型。"
   ]
  },
  {
   "cell_type": "code",
   "execution_count": null,
   "id": "3d50fcea",
   "metadata": {},
   "outputs": [],
   "source": []
  },
  {
   "cell_type": "code",
   "execution_count": null,
   "id": "0867d39f",
   "metadata": {},
   "outputs": [],
   "source": []
  },
  {
   "cell_type": "markdown",
   "id": "4b94fda9",
   "metadata": {},
   "source": [
    "# 2. 序列\n",
    "## sequence 序列\n",
    "sequence(序列)是一组`有顺序`的`元素`的`集合`\n",
    "\n",
    "(严格的说，是对象的集合，但鉴于我们还没有引入“对象”概念，暂时说元素)\n",
    "\n",
    " \n",
    "\n",
    "序列可以包含一个或多个`元素`，也可以没有任何元素。\n",
    "\n",
    "我们之前所说的基本数据类型，都可以作为序列的元素。元素还可以是另一个序列，以及我们以后要介绍的其他对象。\n",
    "\n",
    " \n",
    "\n",
    "序列有两种：tuple（`定值表`； 也有翻译为`元组`） 和 list (`表`)\n",
    "```\n",
    ">>>s1 = (2, 1.3, 'love', 5.6, 9, 12, False)         # s1是一个tuple\n",
    "\n",
    ">>>s2 = [True, 5, 'smile']                          # s2是一个list\n",
    "\n",
    ">>>print(s1,type(s1))\n",
    "\n",
    ">>>print(s2,type(s2))\n",
    "```\n",
    "\n",
    "tuple和list的主要区别在于，一旦建立，`tuple的各个元素不可再变更，而list的各个元素可以再变更`。\n",
    "\n",
    "一个序列作为另一个序列的元素\n",
    "```\n",
    ">>>s3 = [1,[3,4,5]]\n",
    "```\n",
    "\n",
    "空序列\n",
    "```\n",
    ">>>s4 = []\n",
    "```"
   ]
  },
  {
   "cell_type": "code",
   "execution_count": 4,
   "id": "6a7c3e02",
   "metadata": {
    "execution": {
     "iopub.execute_input": "2022-09-04T12:57:09.260973Z",
     "iopub.status.busy": "2022-09-04T12:57:09.259975Z",
     "iopub.status.idle": "2022-09-04T12:57:09.275932Z",
     "shell.execute_reply": "2022-09-04T12:57:09.275932Z",
     "shell.execute_reply.started": "2022-09-04T12:57:09.260973Z"
    }
   },
   "outputs": [],
   "source": [
    "s1 = (2, 1.3, 'love', 5.6, 9, 12, False)         # s1是一个tuple\n",
    "s2 = [True, 5, 'smile']                          # s2是一个list\n",
    "s3 = [1, [3, 4, 5]]\n",
    "s4 = []"
   ]
  },
  {
   "cell_type": "code",
   "execution_count": 5,
   "id": "878759f1",
   "metadata": {
    "execution": {
     "iopub.execute_input": "2022-09-04T12:57:09.276930Z",
     "iopub.status.busy": "2022-09-04T12:57:09.276930Z",
     "iopub.status.idle": "2022-09-04T12:57:09.291890Z",
     "shell.execute_reply": "2022-09-04T12:57:09.291890Z",
     "shell.execute_reply.started": "2022-09-04T12:57:09.276930Z"
    }
   },
   "outputs": [
    {
     "name": "stdout",
     "output_type": "stream",
     "text": [
      "(2, 1.3, 'love', 5.6, 9, 12, False) <class 'tuple'>\n",
      "[True, 5, 'smile'] <class 'list'>\n"
     ]
    }
   ],
   "source": [
    "print(s1, type(s1))\n",
    "print(s2, type(s2))"
   ]
  },
  {
   "cell_type": "code",
   "execution_count": null,
   "id": "caf96a5c",
   "metadata": {},
   "outputs": [],
   "source": []
  },
  {
   "cell_type": "code",
   "execution_count": null,
   "id": "5b54dac2",
   "metadata": {},
   "outputs": [],
   "source": []
  },
  {
   "cell_type": "markdown",
   "id": "be29de89",
   "metadata": {},
   "source": [
    "## 元素的引用序列元素的下标从0开始：\n",
    "```\n",
    ">>>print(s1[0])\n",
    ">>>print(s2[2])\n",
    ">>>print(s3[1][2])\n",
    "\n",
    "```\n",
    "由于list的元素可变更，你可以对list的某个元素赋值：\n",
    "```\n",
    ">>>s2[1] = 3.0\n",
    ">>>print(s2)\n",
    "```\n",
    "如果你对tuple做这样的操作，会得到错误提示。\n",
    "\n",
    "所以，可以看到，序列的引用通过`s[<int>]`实现， int为下标"
   ]
  },
  {
   "cell_type": "code",
   "execution_count": 6,
   "id": "046882e3",
   "metadata": {
    "execution": {
     "iopub.execute_input": "2022-09-04T12:57:09.292887Z",
     "iopub.status.busy": "2022-09-04T12:57:09.292887Z",
     "iopub.status.idle": "2022-09-04T12:57:09.307848Z",
     "shell.execute_reply": "2022-09-04T12:57:09.307848Z",
     "shell.execute_reply.started": "2022-09-04T12:57:09.292887Z"
    }
   },
   "outputs": [
    {
     "name": "stdout",
     "output_type": "stream",
     "text": [
      "2\n",
      "smile\n",
      "5\n"
     ]
    }
   ],
   "source": [
    "print(s1[0])\n",
    "print(s2[2])\n",
    "print(s3[1][2])"
   ]
  },
  {
   "cell_type": "code",
   "execution_count": 7,
   "id": "160b81f7",
   "metadata": {
    "execution": {
     "iopub.execute_input": "2022-09-04T12:57:09.308845Z",
     "iopub.status.busy": "2022-09-04T12:57:09.308845Z",
     "iopub.status.idle": "2022-09-04T12:57:09.323805Z",
     "shell.execute_reply": "2022-09-04T12:57:09.323805Z",
     "shell.execute_reply.started": "2022-09-04T12:57:09.308845Z"
    }
   },
   "outputs": [
    {
     "name": "stdout",
     "output_type": "stream",
     "text": [
      "[True, 3.0, 'smile']\n"
     ]
    }
   ],
   "source": [
    "s2[1] = 3.0\n",
    "print(s2)"
   ]
  },
  {
   "cell_type": "code",
   "execution_count": null,
   "id": "280d87b2",
   "metadata": {},
   "outputs": [],
   "source": []
  },
  {
   "cell_type": "markdown",
   "id": "b9722044",
   "metadata": {},
   "source": [
    "## 其他引用方式\n",
    "范围引用： 基本样式[下限:上限:步长]\n",
    "```\n",
    ">>>print(s1[:5])             # 从开始到下标4 （下标5的元素 不包括在内）\n",
    "\n",
    ">>>print(s1[2:])             # 从下标2到最后\n",
    "\n",
    ">>>print(s1[0:5:2])          # 从下标0到下标4 (下标5不包括在内)，每隔2取一个元素 （下标为0，2，4的元素）\n",
    "\n",
    ">>>print(s1[2:0:-1])         # 从下标2到下标1\n",
    "```\n",
    "从上面可以看到，在范围引用的时候，如果写明上限，那么这个上限本身不包括在内。\n",
    "\n",
    "尾部元素引用\n",
    "```\n",
    ">>>print(s1[-1])             # 序列最后一个元素\n",
    "\n",
    ">>>print(s1[-3])             # 序列倒数第三个元素\n",
    "```\n",
    "同样，如果`s1[0:-1]`, 那么最后一个元素不会被引用 （再一次，不包括上限元素本身）"
   ]
  },
  {
   "cell_type": "code",
   "execution_count": 8,
   "id": "aa7af34e",
   "metadata": {
    "execution": {
     "iopub.execute_input": "2022-09-04T12:57:09.324801Z",
     "iopub.status.busy": "2022-09-04T12:57:09.324801Z",
     "iopub.status.idle": "2022-09-04T12:57:09.338703Z",
     "shell.execute_reply": "2022-09-04T12:57:09.338703Z",
     "shell.execute_reply.started": "2022-09-04T12:57:09.324801Z"
    }
   },
   "outputs": [
    {
     "name": "stdout",
     "output_type": "stream",
     "text": [
      "(2, 1.3, 'love', 5.6, 9)\n",
      "('love', 5.6, 9, 12, False)\n",
      "(2, 'love', 9)\n",
      "('love', 1.3)\n"
     ]
    }
   ],
   "source": [
    "print(s1[:5])             # 从开始到下标4 （下标5的元素 不包括在内）\n",
    "print(s1[2:])             # 从下标2到最后\n",
    "print(s1[0:5:2])          # 从下标0到下标4 (下标5不包括在内)，每隔2取一个元素 （下标为0，2，4的元素）\n",
    "print(s1[2:0:-1])         # 从下标2到下标1"
   ]
  },
  {
   "cell_type": "code",
   "execution_count": 9,
   "id": "4bf5eb18",
   "metadata": {
    "execution": {
     "iopub.execute_input": "2022-09-04T12:57:09.339656Z",
     "iopub.status.busy": "2022-09-04T12:57:09.339656Z",
     "iopub.status.idle": "2022-09-04T12:57:09.354029Z",
     "shell.execute_reply": "2022-09-04T12:57:09.354029Z",
     "shell.execute_reply.started": "2022-09-04T12:57:09.339656Z"
    }
   },
   "outputs": [
    {
     "name": "stdout",
     "output_type": "stream",
     "text": [
      "False\n",
      "9\n"
     ]
    }
   ],
   "source": [
    "print(s1[-1])             # 序列最后一个元素\n",
    "print(s1[-3])             # 序列倒数第三个元素"
   ]
  },
  {
   "cell_type": "code",
   "execution_count": null,
   "id": "64f08834",
   "metadata": {},
   "outputs": [],
   "source": []
  },
  {
   "cell_type": "markdown",
   "id": "843486a8",
   "metadata": {},
   "source": [
    "## 字符串是元组\n",
    "字符串是一种特殊的元组，因此可以执行元组的相关操作。\n",
    "```\n",
    ">>>str = 'abcdef'\n",
    ">>>print(str[2:4])\n",
    "```"
   ]
  },
  {
   "cell_type": "code",
   "execution_count": 10,
   "id": "68a66d26",
   "metadata": {
    "execution": {
     "iopub.execute_input": "2022-09-04T12:57:09.354985Z",
     "iopub.status.busy": "2022-09-04T12:57:09.354985Z",
     "iopub.status.idle": "2022-09-04T12:57:09.369292Z",
     "shell.execute_reply": "2022-09-04T12:57:09.369292Z",
     "shell.execute_reply.started": "2022-09-04T12:57:09.354985Z"
    }
   },
   "outputs": [
    {
     "name": "stdout",
     "output_type": "stream",
     "text": [
      "cd\n"
     ]
    }
   ],
   "source": [
    "s = 'abcdef'\n",
    "print(s[2:4])"
   ]
  },
  {
   "cell_type": "code",
   "execution_count": null,
   "id": "49ef42c0",
   "metadata": {},
   "outputs": [],
   "source": []
  },
  {
   "cell_type": "code",
   "execution_count": null,
   "id": "513f4f1b",
   "metadata": {},
   "outputs": [],
   "source": []
  },
  {
   "cell_type": "markdown",
   "id": "7f00725f",
   "metadata": {},
   "source": [
    "# 3. 运算"
   ]
  },
  {
   "cell_type": "markdown",
   "id": "82b5e659",
   "metadata": {},
   "source": [
    "Python的运算符和其他语言类似\n",
    "\n",
    "（我们暂时只了解这些运算符的基本用法，方便我们展开后面的内容，高级应用暂时不介绍）"
   ]
  },
  {
   "cell_type": "markdown",
   "id": "437d4f7d",
   "metadata": {},
   "source": [
    "## 数学运算"
   ]
  },
  {
   "cell_type": "code",
   "execution_count": 11,
   "id": "7f2efdb6",
   "metadata": {
    "execution": {
     "iopub.execute_input": "2022-09-04T12:57:09.370289Z",
     "iopub.status.busy": "2022-09-04T12:57:09.370289Z",
     "iopub.status.idle": "2022-09-04T12:57:09.384666Z",
     "shell.execute_reply": "2022-09-04T12:57:09.384666Z",
     "shell.execute_reply.started": "2022-09-04T12:57:09.370289Z"
    }
   },
   "outputs": [
    {
     "name": "stdout",
     "output_type": "stream",
     "text": [
      "10\n"
     ]
    }
   ],
   "source": [
    "print(1 + 9 )       # 加法"
   ]
  },
  {
   "cell_type": "code",
   "execution_count": 12,
   "id": "5e155ef9",
   "metadata": {
    "execution": {
     "iopub.execute_input": "2022-09-04T12:57:09.385622Z",
     "iopub.status.busy": "2022-09-04T12:57:09.385622Z",
     "iopub.status.idle": "2022-09-04T12:57:09.400588Z",
     "shell.execute_reply": "2022-09-04T12:57:09.400588Z",
     "shell.execute_reply.started": "2022-09-04T12:57:09.385622Z"
    }
   },
   "outputs": [
    {
     "name": "stdout",
     "output_type": "stream",
     "text": [
      "-2.7\n"
     ]
    }
   ],
   "source": [
    "print(1.3 - 4)      # 减法"
   ]
  },
  {
   "cell_type": "code",
   "execution_count": 13,
   "id": "19ca05f5",
   "metadata": {
    "execution": {
     "iopub.execute_input": "2022-09-04T12:57:09.401585Z",
     "iopub.status.busy": "2022-09-04T12:57:09.401585Z",
     "iopub.status.idle": "2022-09-04T12:57:09.416060Z",
     "shell.execute_reply": "2022-09-04T12:57:09.416060Z",
     "shell.execute_reply.started": "2022-09-04T12:57:09.401585Z"
    }
   },
   "outputs": [
    {
     "name": "stdout",
     "output_type": "stream",
     "text": [
      "15\n"
     ]
    }
   ],
   "source": [
    "print(3 * 5)        # 乘法"
   ]
  },
  {
   "cell_type": "code",
   "execution_count": 14,
   "id": "79556825",
   "metadata": {
    "execution": {
     "iopub.execute_input": "2022-09-04T12:57:09.417982Z",
     "iopub.status.busy": "2022-09-04T12:57:09.417982Z",
     "iopub.status.idle": "2022-09-04T12:57:09.431947Z",
     "shell.execute_reply": "2022-09-04T12:57:09.431947Z",
     "shell.execute_reply.started": "2022-09-04T12:57:09.417982Z"
    }
   },
   "outputs": [
    {
     "name": "stdout",
     "output_type": "stream",
     "text": [
      "3.0\n"
     ]
    }
   ],
   "source": [
    "print(4.5 / 1.5)    # 除法"
   ]
  },
  {
   "cell_type": "code",
   "execution_count": 15,
   "id": "a8b27f0b",
   "metadata": {
    "execution": {
     "iopub.execute_input": "2022-09-04T12:57:09.432945Z",
     "iopub.status.busy": "2022-09-04T12:57:09.432945Z",
     "iopub.status.idle": "2022-09-04T12:57:09.447904Z",
     "shell.execute_reply": "2022-09-04T12:57:09.447904Z",
     "shell.execute_reply.started": "2022-09-04T12:57:09.432945Z"
    }
   },
   "outputs": [
    {
     "name": "stdout",
     "output_type": "stream",
     "text": [
      "9\n"
     ]
    }
   ],
   "source": [
    "print(3 ** 2)       # 乘方    "
   ]
  },
  {
   "cell_type": "code",
   "execution_count": 16,
   "id": "ede1f2fb",
   "metadata": {
    "execution": {
     "iopub.execute_input": "2022-09-04T12:57:09.448902Z",
     "iopub.status.busy": "2022-09-04T12:57:09.448902Z",
     "iopub.status.idle": "2022-09-04T12:57:09.463862Z",
     "shell.execute_reply": "2022-09-04T12:57:09.463862Z",
     "shell.execute_reply.started": "2022-09-04T12:57:09.448902Z"
    }
   },
   "outputs": [
    {
     "name": "stdout",
     "output_type": "stream",
     "text": [
      "3\n"
     ]
    }
   ],
   "source": [
    "print(10 // 3)       # 整除"
   ]
  },
  {
   "cell_type": "code",
   "execution_count": 17,
   "id": "d437bdbf",
   "metadata": {
    "execution": {
     "iopub.execute_input": "2022-09-04T12:57:09.464859Z",
     "iopub.status.busy": "2022-09-04T12:57:09.464859Z",
     "iopub.status.idle": "2022-09-04T12:57:09.479819Z",
     "shell.execute_reply": "2022-09-04T12:57:09.479819Z",
     "shell.execute_reply.started": "2022-09-04T12:57:09.464859Z"
    }
   },
   "outputs": [
    {
     "name": "stdout",
     "output_type": "stream",
     "text": [
      "1\n"
     ]
    }
   ],
   "source": [
    "print(10 % 3)       # 求余数"
   ]
  },
  {
   "cell_type": "markdown",
   "id": "1a7a273e",
   "metadata": {},
   "source": [
    "## 判断"
   ]
  },
  {
   "cell_type": "markdown",
   "id": "6ef078c4",
   "metadata": {},
   "source": [
    "判断是真还是假，返回`True/False`"
   ]
  },
  {
   "cell_type": "code",
   "execution_count": 18,
   "id": "95f8f7d4",
   "metadata": {
    "execution": {
     "iopub.execute_input": "2022-09-04T12:57:09.480840Z",
     "iopub.status.busy": "2022-09-04T12:57:09.480840Z",
     "iopub.status.idle": "2022-09-04T12:57:09.495776Z",
     "shell.execute_reply": "2022-09-04T12:57:09.495776Z",
     "shell.execute_reply.started": "2022-09-04T12:57:09.480840Z"
    }
   },
   "outputs": [
    {
     "name": "stdout",
     "output_type": "stream",
     "text": [
      "False\n"
     ]
    }
   ],
   "source": [
    "print(5==6)               # =， 相等"
   ]
  },
  {
   "cell_type": "code",
   "execution_count": 19,
   "id": "bb5f2018",
   "metadata": {
    "execution": {
     "iopub.execute_input": "2022-09-04T12:57:09.496774Z",
     "iopub.status.busy": "2022-09-04T12:57:09.496774Z",
     "iopub.status.idle": "2022-09-04T12:57:09.511734Z",
     "shell.execute_reply": "2022-09-04T12:57:09.511734Z",
     "shell.execute_reply.started": "2022-09-04T12:57:09.496774Z"
    }
   },
   "outputs": [
    {
     "name": "stdout",
     "output_type": "stream",
     "text": [
      "False\n"
     ]
    }
   ],
   "source": [
    "print(8.0!=8.0)           # !=, 不等"
   ]
  },
  {
   "cell_type": "code",
   "execution_count": 20,
   "id": "4b14c136",
   "metadata": {
    "execution": {
     "iopub.execute_input": "2022-09-04T12:57:09.512732Z",
     "iopub.status.busy": "2022-09-04T12:57:09.512732Z",
     "iopub.status.idle": "2022-09-04T12:57:09.526694Z",
     "shell.execute_reply": "2022-09-04T12:57:09.526694Z",
     "shell.execute_reply.started": "2022-09-04T12:57:09.512732Z"
    }
   },
   "outputs": [
    {
     "name": "stdout",
     "output_type": "stream",
     "text": [
      "False True\n"
     ]
    }
   ],
   "source": [
    "print(3<3, 3<=3)          # <, 小于; <=, 小于等于"
   ]
  },
  {
   "cell_type": "code",
   "execution_count": 21,
   "id": "cce67244",
   "metadata": {
    "execution": {
     "iopub.execute_input": "2022-09-04T12:57:09.527691Z",
     "iopub.status.busy": "2022-09-04T12:57:09.527691Z",
     "iopub.status.idle": "2022-09-04T12:57:09.541653Z",
     "shell.execute_reply": "2022-09-04T12:57:09.541653Z",
     "shell.execute_reply.started": "2022-09-04T12:57:09.527691Z"
    }
   },
   "outputs": [
    {
     "name": "stdout",
     "output_type": "stream",
     "text": [
      "False True\n"
     ]
    }
   ],
   "source": [
    "print(4>5, 4>=0)          # >, 大于; >=, 大于等于"
   ]
  },
  {
   "cell_type": "code",
   "execution_count": 22,
   "id": "0c35cedd",
   "metadata": {
    "execution": {
     "iopub.execute_input": "2022-09-04T12:57:09.542651Z",
     "iopub.status.busy": "2022-09-04T12:57:09.542651Z",
     "iopub.status.idle": "2022-09-04T12:57:09.556614Z",
     "shell.execute_reply": "2022-09-04T12:57:09.556614Z",
     "shell.execute_reply.started": "2022-09-04T12:57:09.542651Z"
    }
   },
   "outputs": [
    {
     "name": "stdout",
     "output_type": "stream",
     "text": [
      "True\n"
     ]
    }
   ],
   "source": [
    "print(5 in [1,3,5])       # 5是list [1,3,5]的一个元素"
   ]
  },
  {
   "cell_type": "code",
   "execution_count": null,
   "id": "a2a37f27",
   "metadata": {},
   "outputs": [],
   "source": []
  },
  {
   "cell_type": "markdown",
   "id": "907d711a",
   "metadata": {},
   "source": [
    "## 逻辑运算"
   ]
  },
  {
   "cell_type": "markdown",
   "id": "32dcd765",
   "metadata": {},
   "source": [
    "`True/False`之间的运算"
   ]
  },
  {
   "cell_type": "code",
   "execution_count": 23,
   "id": "062456df",
   "metadata": {
    "execution": {
     "iopub.execute_input": "2022-09-04T12:57:09.557611Z",
     "iopub.status.busy": "2022-09-04T12:57:09.557611Z",
     "iopub.status.idle": "2022-09-04T12:57:09.571574Z",
     "shell.execute_reply": "2022-09-04T12:57:09.571574Z",
     "shell.execute_reply.started": "2022-09-04T12:57:09.557611Z"
    }
   },
   "outputs": [
    {
     "name": "stdout",
     "output_type": "stream",
     "text": [
      "True False\n"
     ]
    }
   ],
   "source": [
    "print(True and True, True and False)      # and, “与”运算， 两者都为真才是真"
   ]
  },
  {
   "cell_type": "code",
   "execution_count": 24,
   "id": "8bcf07c4",
   "metadata": {
    "execution": {
     "iopub.execute_input": "2022-09-04T12:57:09.572571Z",
     "iopub.status.busy": "2022-09-04T12:57:09.572571Z",
     "iopub.status.idle": "2022-09-04T12:57:09.586534Z",
     "shell.execute_reply": "2022-09-04T12:57:09.586534Z",
     "shell.execute_reply.started": "2022-09-04T12:57:09.572571Z"
    }
   },
   "outputs": [
    {
     "name": "stdout",
     "output_type": "stream",
     "text": [
      "True\n"
     ]
    }
   ],
   "source": [
    "print(True or False)                      # or, \"或\"运算， 其中之一为真即为真"
   ]
  },
  {
   "cell_type": "code",
   "execution_count": 25,
   "id": "0e0901cc",
   "metadata": {
    "execution": {
     "iopub.execute_input": "2022-09-04T12:57:09.587531Z",
     "iopub.status.busy": "2022-09-04T12:57:09.587531Z",
     "iopub.status.idle": "2022-09-04T12:57:09.601494Z",
     "shell.execute_reply": "2022-09-04T12:57:09.601494Z",
     "shell.execute_reply.started": "2022-09-04T12:57:09.587531Z"
    }
   },
   "outputs": [
    {
     "name": "stdout",
     "output_type": "stream",
     "text": [
      "False\n"
     ]
    }
   ],
   "source": [
    "print(not True)                           # not, “非”运算， 取反"
   ]
  },
  {
   "cell_type": "code",
   "execution_count": null,
   "id": "0fdc66dd",
   "metadata": {},
   "outputs": [],
   "source": []
  },
  {
   "cell_type": "markdown",
   "id": "c5a048d1",
   "metadata": {},
   "source": [
    "# 4. 缩进和选择"
   ]
  },
  {
   "cell_type": "markdown",
   "id": "7e74c8ac",
   "metadata": {},
   "source": [
    "## 缩进"
   ]
  },
  {
   "cell_type": "markdown",
   "id": "633b59e6",
   "metadata": {},
   "source": [
    "Python最具特色的是用缩进来标明成块的代码。我下面以if选择结构来举例。if后面跟随条件，如果条件成立，则执行归属于if的一个代码块。\n",
    "\n",
    "先看C语言的表达方式（注意，这是C，不是Python!）\n",
    "\n",
    "```\n",
    "if ( i > 0 )\n",
    "{\n",
    "    x = 1;\n",
    "    y = 2;\n",
    "}\n",
    "```\n",
    "\n",
    "如果`i > 0`的话，我们将进行括号中所包括的两个赋值操作。括号中包含的就是块操作，它隶属于`if`。\n",
    "\n",
    "在Python中，同样的目的，这段话是这样的\n",
    "```\n",
    "if i > 0:\n",
    "    x = 1\n",
    "    y = 2\n",
    "```\n",
    "\n",
    "在Python中， 去掉了`i > 0`周围的括号，去除了每个语句句尾的分号，表示块的花括号也消失了。\n",
    "\n",
    "多出来了`if` ...之后的:(冒号), 还有就是`x = 1 `和 `y =2`前面有四个空格的缩进。通过缩进，Python识别出这两个语句是隶属于if。\n",
    "\n",
    " \n",
    "\n",
    "Python这样设计的理由纯粹是为了程序好看，以及增强程序的`可读性`。"
   ]
  },
  {
   "cell_type": "code",
   "execution_count": 26,
   "id": "2374da67",
   "metadata": {
    "execution": {
     "iopub.execute_input": "2022-09-04T12:57:09.602491Z",
     "iopub.status.busy": "2022-09-04T12:57:09.602491Z",
     "iopub.status.idle": "2022-09-04T12:57:09.616455Z",
     "shell.execute_reply": "2022-09-04T12:57:09.616455Z",
     "shell.execute_reply.started": "2022-09-04T12:57:09.602491Z"
    }
   },
   "outputs": [
    {
     "name": "stdout",
     "output_type": "stream",
     "text": [
      "1 2\n"
     ]
    }
   ],
   "source": [
    "i = 10\n",
    "x, y = 0, 0\n",
    "if i > 0:\n",
    "    x = 1\n",
    "    y = 2\n",
    "print(x, y)"
   ]
  },
  {
   "cell_type": "code",
   "execution_count": null,
   "id": "f5939930",
   "metadata": {},
   "outputs": [],
   "source": []
  },
  {
   "cell_type": "markdown",
   "id": "a2321ee2",
   "metadata": {},
   "source": [
    "## if语句"
   ]
  },
  {
   "cell_type": "code",
   "execution_count": 27,
   "id": "86ce5c27",
   "metadata": {
    "execution": {
     "iopub.execute_input": "2022-09-04T12:57:09.617452Z",
     "iopub.status.busy": "2022-09-04T12:57:09.617452Z",
     "iopub.status.idle": "2022-09-04T12:57:09.632442Z",
     "shell.execute_reply": "2022-09-04T12:57:09.632442Z",
     "shell.execute_reply.started": "2022-09-04T12:57:09.617452Z"
    }
   },
   "outputs": [
    {
     "name": "stdout",
     "output_type": "stream",
     "text": [
      "positive i\n",
      "new i: 2\n"
     ]
    }
   ],
   "source": [
    "i = 1\n",
    "if i > 0:\n",
    "    print('positive i')\n",
    "    i = i + 1\n",
    "elif i == 0:\n",
    "    print('i is 0')\n",
    "    i = i * 10\n",
    "else:\n",
    "    print('negative i')\n",
    "    i = i - 1\n",
    "print('new i:',i)"
   ]
  },
  {
   "cell_type": "markdown",
   "id": "47ed7626",
   "metadata": {},
   "source": [
    "这里有三个块，分别属于if, elif, else引领。\n",
    "\n",
    "Python检测条件，如果发现if的条件为假，那么跳过后面紧跟的块，检测下一个elif的条件； 如果还是假，那么执行else块。\n",
    "\n",
    "通过上面的结构将程序分出三个分支。程序根据条件，只执行三个分支中的一个。\n",
    "\n",
    "整个if可以放在另一个if语句中，也就是if结构的嵌套使用："
   ]
  },
  {
   "cell_type": "code",
   "execution_count": 28,
   "id": "9592724c",
   "metadata": {
    "execution": {
     "iopub.execute_input": "2022-09-04T12:57:09.633409Z",
     "iopub.status.busy": "2022-09-04T12:57:09.633409Z",
     "iopub.status.idle": "2022-09-04T12:57:09.648396Z",
     "shell.execute_reply": "2022-09-04T12:57:09.648396Z",
     "shell.execute_reply.started": "2022-09-04T12:57:09.633409Z"
    }
   },
   "outputs": [
    {
     "name": "stdout",
     "output_type": "stream",
     "text": [
      "i bigger than 1\n",
      "good\n",
      "i bigger than 2\n",
      "even better\n"
     ]
    }
   ],
   "source": [
    "i  = 5\n",
    "if i > 1:\n",
    "    print('i bigger than 1')\n",
    "    print('good')\n",
    "    if i > 2:\n",
    "        print('i bigger than 2')\n",
    "        print('even better')"
   ]
  },
  {
   "cell_type": "markdown",
   "id": "3dbe17f8",
   "metadata": {},
   "source": [
    "`if i > 2 `后面的块相对于该if缩进了四个空格，以表明其隶属于该if，而不是外层的if。"
   ]
  },
  {
   "cell_type": "code",
   "execution_count": null,
   "id": "4aa4effd",
   "metadata": {},
   "outputs": [],
   "source": []
  },
  {
   "cell_type": "code",
   "execution_count": null,
   "id": "30589759",
   "metadata": {},
   "outputs": [],
   "source": []
  },
  {
   "cell_type": "markdown",
   "id": "788cfadd",
   "metadata": {},
   "source": [
    "# 5. 循环"
   ]
  },
  {
   "cell_type": "markdown",
   "id": "768af39e",
   "metadata": {},
   "source": [
    "循环用于重复执行一些程序块。从上一讲的选择结构，我们已经看到了如何用缩进来表示程序块的隶属关系。循环也会用到类似的写法。"
   ]
  },
  {
   "cell_type": "markdown",
   "id": "59b23d37",
   "metadata": {},
   "source": [
    "## for循环"
   ]
  },
  {
   "cell_type": "markdown",
   "id": "908ded4a",
   "metadata": {},
   "source": [
    "for循环需要预先设定好循环的次数(n)，然后执行隶属于for的语句n次。基本构造是:\n",
    "```\n",
    "for 元素 in 序列: \n",
    "    statement\n",
    "```"
   ]
  },
  {
   "cell_type": "code",
   "execution_count": 29,
   "id": "c9e3461e",
   "metadata": {
    "execution": {
     "iopub.execute_input": "2022-09-04T12:57:09.649367Z",
     "iopub.status.busy": "2022-09-04T12:57:09.649367Z",
     "iopub.status.idle": "2022-09-04T12:57:09.664326Z",
     "shell.execute_reply": "2022-09-04T12:57:09.664326Z",
     "shell.execute_reply.started": "2022-09-04T12:57:09.649367Z"
    }
   },
   "outputs": [
    {
     "name": "stdout",
     "output_type": "stream",
     "text": [
      "3\n",
      "4.4\n",
      "life\n"
     ]
    }
   ],
   "source": [
    "for a in [3, 4.4, 'life']:\n",
    "    print(a)"
   ]
  },
  {
   "cell_type": "markdown",
   "id": "481568ae",
   "metadata": {},
   "source": [
    "这个循环就是每次从表`[3,4.4,'life'] `中取出一个元素（回忆：表是一种序列），然后将这个元素赋值给`a`，之后执行隶属于`for`的操作(`print`)。"
   ]
  },
  {
   "cell_type": "markdown",
   "id": "b422de72",
   "metadata": {},
   "source": [
    "介绍一个新的Python函数`range()`，来帮助你建立表。这个函数的功能是新建一个表。这个表的元素都是整数，从0开始，下一个元素比前一个大1， 直到函数中所写的上限 （不包括该上限本身）"
   ]
  },
  {
   "cell_type": "code",
   "execution_count": 4,
   "id": "5aec56ba",
   "metadata": {
    "execution": {
     "iopub.execute_input": "2022-09-05T14:16:12.822096Z",
     "iopub.status.busy": "2022-09-05T14:16:12.822096Z",
     "iopub.status.idle": "2022-09-05T14:16:12.838056Z",
     "shell.execute_reply": "2022-09-05T14:16:12.837057Z",
     "shell.execute_reply.started": "2022-09-05T14:16:12.822096Z"
    }
   },
   "outputs": [
    {
     "name": "stdout",
     "output_type": "stream",
     "text": [
      "0\n",
      "1\n",
      "4\n",
      "9\n",
      "16\n"
     ]
    }
   ],
   "source": [
    "for i in range(5):\n",
    "    print(i ** 2)"
   ]
  },
  {
   "cell_type": "code",
   "execution_count": null,
   "id": "1e84eda1",
   "metadata": {},
   "outputs": [],
   "source": []
  },
  {
   "cell_type": "markdown",
   "id": "0b175f1a",
   "metadata": {},
   "source": [
    "## while循环"
   ]
  },
  {
   "cell_type": "markdown",
   "id": "2a21b5b7",
   "metadata": {},
   "source": [
    "while的用法是\n",
    "```\n",
    "while 条件:\n",
    "    statement\n",
    "```\n",
    "\n",
    "while会不停地循环执行隶属于它的语句，直到条件为假(False)"
   ]
  },
  {
   "cell_type": "code",
   "execution_count": 5,
   "id": "19320e55",
   "metadata": {
    "execution": {
     "iopub.execute_input": "2022-09-05T14:16:14.862232Z",
     "iopub.status.busy": "2022-09-05T14:16:14.861233Z",
     "iopub.status.idle": "2022-09-05T14:16:14.878800Z",
     "shell.execute_reply": "2022-09-05T14:16:14.878800Z",
     "shell.execute_reply.started": "2022-09-05T14:16:14.861233Z"
    },
    "tags": []
   },
   "outputs": [
    {
     "name": "stdout",
     "output_type": "stream",
     "text": [
      "0\n",
      "1\n",
      "2\n",
      "3\n",
      "4\n",
      "5\n",
      "6\n",
      "7\n",
      "8\n",
      "9\n"
     ]
    }
   ],
   "source": [
    "i = 0\n",
    "while i < 10:\n",
    "    print(i)\n",
    "    i += 1"
   ]
  },
  {
   "cell_type": "code",
   "execution_count": null,
   "id": "1f31e342",
   "metadata": {},
   "outputs": [],
   "source": []
  },
  {
   "cell_type": "markdown",
   "id": "1637e0f1",
   "metadata": {},
   "source": [
    "## 中断循环\n",
    "```\n",
    "continue   # 在循环的某一次执行中，如果遇到continue, 那么跳过这一次执行，进行下一次的操作\n",
    "\n",
    "break      # 停止执行整个循环\n",
    "```"
   ]
  },
  {
   "cell_type": "code",
   "execution_count": 32,
   "id": "14298f85",
   "metadata": {
    "execution": {
     "iopub.execute_input": "2022-09-04T12:57:09.697238Z",
     "iopub.status.busy": "2022-09-04T12:57:09.697238Z",
     "iopub.status.idle": "2022-09-04T12:57:09.712197Z",
     "shell.execute_reply": "2022-09-04T12:57:09.712197Z",
     "shell.execute_reply.started": "2022-09-04T12:57:09.697238Z"
    }
   },
   "outputs": [
    {
     "name": "stdout",
     "output_type": "stream",
     "text": [
      "0\n",
      "1\n",
      "3\n",
      "4\n",
      "5\n",
      "6\n",
      "7\n",
      "8\n",
      "9\n"
     ]
    }
   ],
   "source": [
    "for i in range(10):\n",
    "    if i == 2: \n",
    "        continue\n",
    "    print(i)"
   ]
  },
  {
   "cell_type": "markdown",
   "id": "3d4057ea",
   "metadata": {},
   "source": [
    "当循环执行到`i = 2`的时候，`if`条件成立，触发`continue`, 跳过本次执行(不执行`print`)，继续进行下一次执行(`i = 3`)。"
   ]
  },
  {
   "cell_type": "code",
   "execution_count": 33,
   "id": "bc6ad293",
   "metadata": {
    "execution": {
     "iopub.execute_input": "2022-09-04T12:57:09.713196Z",
     "iopub.status.busy": "2022-09-04T12:57:09.713196Z",
     "iopub.status.idle": "2022-09-04T12:57:09.728155Z",
     "shell.execute_reply": "2022-09-04T12:57:09.728155Z",
     "shell.execute_reply.started": "2022-09-04T12:57:09.713196Z"
    }
   },
   "outputs": [
    {
     "name": "stdout",
     "output_type": "stream",
     "text": [
      "0\n",
      "1\n"
     ]
    }
   ],
   "source": [
    "for i in range(10):\n",
    "    if i == 2:        \n",
    "        break\n",
    "    print(i)"
   ]
  },
  {
   "cell_type": "markdown",
   "id": "5f3036af",
   "metadata": {},
   "source": [
    "当循环执行到`i = 2`的时候，`if`条件成立，触发`break`, 整个循环停止。"
   ]
  },
  {
   "cell_type": "code",
   "execution_count": null,
   "id": "a8845e88",
   "metadata": {},
   "outputs": [],
   "source": []
  },
  {
   "cell_type": "markdown",
   "id": "dec843fc",
   "metadata": {},
   "source": [
    "# 6. 函数\n",
    "\n",
    "函数最重要的目的是方便我们`重复使用`相同的一段程序。\n",
    "\n",
    "将一些操作`隶属`于一个函数，以后你想实现相同的操作的时候，只用调用函数名就可以，而不需要重复敲所有的语句。\n",
    "## 函数的定义\n",
    "\n",
    "首先，我们要定义一个函数, 以说明这个函数的功能。\n",
    "```\n",
    "def square_sum(a,b):\n",
    "    c = a**2 + b**2\n",
    "    return c\n",
    "```\n",
    "\n",
    "这个函数的功能是求两个数的平方和。\n",
    "\n",
    "首先，`def`，这个关键字通知python：我在定义一个函数。`square_sum`是**函数名**。\n",
    "\n",
    "括号中的`a`, `b`是函数的**参数**，是对函数的**输入**。参数可以有多个，也可以完全没有（但括号要保留）。\n",
    "\n",
    "我们已经在循环和选择中见过冒号和缩进来表示的隶属关系。\n",
    "\n",
    "`c = a**2 + b**2`        # 这一句是函数内部进行的运算\n",
    "\n",
    "`return c`               # 返回c的值，也就是输出的功能。Python的函数允许不返回值，也就是不用return。\n",
    "\n",
    "`return`可以**返回多个值**，以逗号分隔。相当于返回一个tuple(定值表)。\n",
    "\n",
    "`return a,b,c`          # 相当于 `return (a,b,c)`\n",
    "\n",
    " \n",
    "\n",
    "在Python中，当程序执行到`return`的时候，程序将停止执行函数内余下的语句。`return`并不是必须的，当没有`return`, 或者`return`后面没有返回值时，函数将自动返回`None`。`None`是Python中的一个特别的数据类型，用来表示什么都没有，相当于C中的`NULL`。`None`多用于关键字参数传递的默认值。"
   ]
  },
  {
   "cell_type": "code",
   "execution_count": 34,
   "id": "40cf935a",
   "metadata": {
    "execution": {
     "iopub.execute_input": "2022-09-04T12:57:09.729153Z",
     "iopub.status.busy": "2022-09-04T12:57:09.729153Z",
     "iopub.status.idle": "2022-09-04T12:57:09.743115Z",
     "shell.execute_reply": "2022-09-04T12:57:09.743115Z",
     "shell.execute_reply.started": "2022-09-04T12:57:09.729153Z"
    }
   },
   "outputs": [],
   "source": [
    "def square_sum(a,b):\n",
    "    c = a**2 + b**2\n",
    "    return c"
   ]
  },
  {
   "cell_type": "markdown",
   "id": "8874b21a",
   "metadata": {},
   "source": [
    "## 函数调用和参数传递\n",
    "定义过函数后，就可以在后面程序中使用这一函数"
   ]
  },
  {
   "cell_type": "code",
   "execution_count": 35,
   "id": "12e546c1",
   "metadata": {
    "execution": {
     "iopub.execute_input": "2022-09-04T12:57:09.744112Z",
     "iopub.status.busy": "2022-09-04T12:57:09.744112Z",
     "iopub.status.idle": "2022-09-04T12:57:09.759073Z",
     "shell.execute_reply": "2022-09-04T12:57:09.759073Z",
     "shell.execute_reply.started": "2022-09-04T12:57:09.744112Z"
    }
   },
   "outputs": [
    {
     "data": {
      "text/plain": [
       "25"
      ]
     },
     "execution_count": 35,
     "metadata": {},
     "output_type": "execute_result"
    }
   ],
   "source": [
    "square_sum(3, 4)"
   ]
  },
  {
   "cell_type": "markdown",
   "id": "a9ccab84",
   "metadata": {},
   "source": [
    "Python通过**位置**，知道3对应的是函数定义中的第一个参数a， 4对应第二个参数b，然后把**参数传递**给函数square_sum。\n",
    "\n",
    "（Python有丰富的参数传递方式，还有关键字传递、表传递、字典传递等，基础教程将只涉及位置传递）\n",
    "\n",
    "函数经过运算，返回值25, 这个25被print打印出来。"
   ]
  },
  {
   "cell_type": "code",
   "execution_count": 36,
   "id": "da9bbab7",
   "metadata": {
    "execution": {
     "iopub.execute_input": "2022-09-04T12:57:09.760070Z",
     "iopub.status.busy": "2022-09-04T12:57:09.760070Z",
     "iopub.status.idle": "2022-09-04T12:57:09.774033Z",
     "shell.execute_reply": "2022-09-04T12:57:09.774033Z",
     "shell.execute_reply.started": "2022-09-04T12:57:09.760070Z"
    }
   },
   "outputs": [
    {
     "name": "stdout",
     "output_type": "stream",
     "text": [
      "1 2\n",
      "[2, 2, 3]\n",
      "[2, 2, 3]\n"
     ]
    }
   ],
   "source": [
    "a = 1\n",
    "\n",
    "def change_integer(a):\n",
    "    a = a + 1\n",
    "    return a\n",
    "\n",
    "print(a, change_integer(a))\n",
    "\n",
    "#===(Python中 \"#\" 后面跟的内容是注释，不执行 )\n",
    "\n",
    "b = [1,2,3]\n",
    "\n",
    "def change_list(b):\n",
    "    b[0] = b[0] + 1\n",
    "    return b\n",
    "\n",
    "print (change_list(b))\n",
    "print (b)"
   ]
  },
  {
   "cell_type": "markdown",
   "id": "e698a773",
   "metadata": {},
   "source": [
    "第一个例子，我们将一个**整数变量传递给函数**，函数对它进行操作，但**原整数变量a不发生变化**。\n",
    "\n",
    "第二个例子，我们将一个**表传递给函数**，函数进行操作，**原来的表b发生变化*。\n",
    "\n",
    "对于基本数据类型的变量，变量传递给函数后，函数会在内存中复制一个新的变量，从而不影响原来的变量。（我们称此为**值传递**）\n",
    "\n",
    "但是对于表来说，表传递给函数的是一个指针，指针指向序列在内存中的位置，在函数中对表的操作将在原有内存中进行，从而影响原有变量。 （我们称此为**指针传递**）"
   ]
  },
  {
   "cell_type": "code",
   "execution_count": null,
   "id": "5f1ddee6",
   "metadata": {},
   "outputs": [],
   "source": []
  }
 ],
 "metadata": {
  "interpreter": {
   "hash": "b3ba2566441a7c06988d0923437866b63cedc61552a5af99d1f4fb67d367b25f"
  },
  "kernelspec": {
   "display_name": "Python 3 (ipykernel)",
   "language": "python",
   "name": "python3"
  },
  "language_info": {
   "codemirror_mode": {
    "name": "ipython",
    "version": 3
   },
   "file_extension": ".py",
   "mimetype": "text/x-python",
   "name": "python",
   "nbconvert_exporter": "python",
   "pygments_lexer": "ipython3",
   "version": "3.9.7"
  }
 },
 "nbformat": 4,
 "nbformat_minor": 5
}
