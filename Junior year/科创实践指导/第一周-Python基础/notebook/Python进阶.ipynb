{
 "cells": [
  {
   "cell_type": "markdown",
   "id": "a8095c37",
   "metadata": {},
   "source": [
    "# 1. 词典\n",
    "我们要介绍一个新的类，**词典 (dictionary)**。与列表相似，词典也可以**储存多个元素**。这种储存多个元素的对象称为**容器(container)**。\n",
    "\n",
    "## 基本概念\n",
    "常见的创建词典的方法:"
   ]
  },
  {
   "cell_type": "code",
   "execution_count": 60,
   "id": "7a0a37b3",
   "metadata": {
    "execution": {
     "iopub.execute_input": "2022-09-04T13:04:59.889033Z",
     "iopub.status.busy": "2022-09-04T13:04:59.889033Z",
     "iopub.status.idle": "2022-09-04T13:04:59.895045Z",
     "shell.execute_reply": "2022-09-04T13:04:59.895045Z",
     "shell.execute_reply.started": "2022-09-04T13:04:59.889033Z"
    }
   },
   "outputs": [
    {
     "name": "stdout",
     "output_type": "stream",
     "text": [
      "<class 'dict'>\n"
     ]
    }
   ],
   "source": [
    "dic = {'tom':11, 'sam':57,'lily':100}\n",
    "\n",
    "print(type(dic))"
   ]
  },
  {
   "cell_type": "markdown",
   "id": "647ad57a",
   "metadata": {},
   "source": [
    "词典和表类似的地方，是包含有多个元素，每个元素以逗号分隔。但词典的元素包含有两部分，**键**和**值**，常见的是以字符串来表示键，也可以使用数字或者真值来表示键（不可变的对象可以作为键）。值可以是任意对象。键和值两者一一对应。\n",
    "\n",
    " \n",
    "\n",
    "比如上面的例子中，‘tom’对应11，'sam对应57，'lily'对应100\n",
    "\n",
    " \n",
    "\n",
    "与表不同的是，词典的元素**没有顺序**。你**不能通过下标引用元素**。词典是**通过键来引用**。"
   ]
  },
  {
   "cell_type": "code",
   "execution_count": 61,
   "id": "a39206a4",
   "metadata": {
    "execution": {
     "iopub.execute_input": "2022-09-04T13:04:59.896015Z",
     "iopub.status.busy": "2022-09-04T13:04:59.896015Z",
     "iopub.status.idle": "2022-09-04T13:04:59.910974Z",
     "shell.execute_reply": "2022-09-04T13:04:59.910974Z",
     "shell.execute_reply.started": "2022-09-04T13:04:59.896015Z"
    }
   },
   "outputs": [
    {
     "name": "stdout",
     "output_type": "stream",
     "text": [
      "11\n"
     ]
    }
   ],
   "source": [
    "print (dic['tom'])"
   ]
  },
  {
   "cell_type": "code",
   "execution_count": 62,
   "id": "9da651f0",
   "metadata": {
    "execution": {
     "iopub.execute_input": "2022-09-04T13:04:59.911972Z",
     "iopub.status.busy": "2022-09-04T13:04:59.911972Z",
     "iopub.status.idle": "2022-09-04T13:04:59.926932Z",
     "shell.execute_reply": "2022-09-04T13:04:59.926932Z",
     "shell.execute_reply.started": "2022-09-04T13:04:59.911972Z"
    }
   },
   "outputs": [
    {
     "name": "stdout",
     "output_type": "stream",
     "text": [
      "{'tom': 30, 'sam': 57, 'lily': 100}\n"
     ]
    }
   ],
   "source": [
    "dic['tom'] = 30\n",
    "print (dic)"
   ]
  },
  {
   "cell_type": "markdown",
   "id": "8517643d",
   "metadata": {},
   "source": [
    "构建一个新的空的词典："
   ]
  },
  {
   "cell_type": "code",
   "execution_count": 63,
   "id": "c63ae6f2",
   "metadata": {
    "execution": {
     "iopub.execute_input": "2022-09-04T13:04:59.927930Z",
     "iopub.status.busy": "2022-09-04T13:04:59.927930Z",
     "iopub.status.idle": "2022-09-04T13:04:59.942889Z",
     "shell.execute_reply": "2022-09-04T13:04:59.942889Z",
     "shell.execute_reply.started": "2022-09-04T13:04:59.927930Z"
    }
   },
   "outputs": [
    {
     "name": "stdout",
     "output_type": "stream",
     "text": [
      "{}\n"
     ]
    }
   ],
   "source": [
    "dic = {}\n",
    "print(dic)"
   ]
  },
  {
   "cell_type": "markdown",
   "id": "5aaf96c2",
   "metadata": {},
   "source": [
    "在词典中增添一个新元素的方法："
   ]
  },
  {
   "cell_type": "code",
   "execution_count": 64,
   "id": "158414c1",
   "metadata": {
    "execution": {
     "iopub.execute_input": "2022-09-04T13:04:59.943887Z",
     "iopub.status.busy": "2022-09-04T13:04:59.943887Z",
     "iopub.status.idle": "2022-09-04T13:04:59.958847Z",
     "shell.execute_reply": "2022-09-04T13:04:59.958847Z",
     "shell.execute_reply.started": "2022-09-04T13:04:59.943887Z"
    }
   },
   "outputs": [
    {
     "name": "stdout",
     "output_type": "stream",
     "text": [
      "{'lilei': 99}\n"
     ]
    }
   ],
   "source": [
    "dic['lilei'] = 99\n",
    "print(dic)"
   ]
  },
  {
   "cell_type": "code",
   "execution_count": null,
   "id": "5f67a784",
   "metadata": {},
   "outputs": [],
   "source": []
  },
  {
   "cell_type": "markdown",
   "id": "62647216",
   "metadata": {},
   "source": [
    "## 词典元素的循环调用"
   ]
  },
  {
   "cell_type": "code",
   "execution_count": 96,
   "id": "6b038173",
   "metadata": {
    "execution": {
     "iopub.execute_input": "2022-09-04T13:36:26.689899Z",
     "iopub.status.busy": "2022-09-04T13:36:26.689899Z",
     "iopub.status.idle": "2022-09-04T13:36:26.703861Z",
     "shell.execute_reply": "2022-09-04T13:36:26.703861Z",
     "shell.execute_reply.started": "2022-09-04T13:36:26.689899Z"
    },
    "tags": []
   },
   "outputs": [
    {
     "name": "stdout",
     "output_type": "stream",
     "text": [
      "lilei 90\n",
      "lily 100\n",
      "sam 57\n",
      "tom 90\n"
     ]
    }
   ],
   "source": [
    "dic = {'lilei': 90, 'lily': 100, 'sam': 57, 'tom': 90}\n",
    "for key in dic:\n",
    "    print (key, dic[key])"
   ]
  },
  {
   "cell_type": "markdown",
   "id": "960729a1",
   "metadata": {},
   "source": [
    "在循环中，dict的每个键，被提取出来，赋予给key变量。\n",
    "通过print的结果，我们可以再次确认，dic中的元素是没有顺序的。"
   ]
  },
  {
   "cell_type": "code",
   "execution_count": 99,
   "id": "6784929d",
   "metadata": {
    "execution": {
     "iopub.execute_input": "2022-09-04T13:36:56.831465Z",
     "iopub.status.busy": "2022-09-04T13:36:56.830466Z",
     "iopub.status.idle": "2022-09-04T13:36:56.837447Z",
     "shell.execute_reply": "2022-09-04T13:36:56.837447Z",
     "shell.execute_reply.started": "2022-09-04T13:36:56.831465Z"
    },
    "tags": []
   },
   "outputs": [
    {
     "name": "stdout",
     "output_type": "stream",
     "text": [
      "lilei 90\n",
      "lily 100\n",
      "sam 57\n",
      "tom 90\n"
     ]
    }
   ],
   "source": [
    "# 另一种循环方式\n",
    "for key, val in dic.items():\n",
    "    print (key, val)"
   ]
  },
  {
   "cell_type": "markdown",
   "id": "a4eb55ec",
   "metadata": {},
   "source": [
    "## 词典的常用方法"
   ]
  },
  {
   "cell_type": "code",
   "execution_count": 101,
   "id": "fa50cec3",
   "metadata": {
    "execution": {
     "iopub.execute_input": "2022-09-04T13:37:15.366541Z",
     "iopub.status.busy": "2022-09-04T13:37:15.366541Z",
     "iopub.status.idle": "2022-09-04T13:37:15.384493Z",
     "shell.execute_reply": "2022-09-04T13:37:15.384493Z",
     "shell.execute_reply.started": "2022-09-04T13:37:15.366541Z"
    },
    "tags": []
   },
   "outputs": [
    {
     "name": "stdout",
     "output_type": "stream",
     "text": [
      "dict_keys([])\n",
      "dict_values([])\n",
      "dict_items([])\n",
      "{}\n"
     ]
    }
   ],
   "source": [
    "print (dic.keys())           # 返回dic所有的键\n",
    "print (dic.values())         # 返回dic所有的值\n",
    "print (dic.items())          # 返回dic所有的元素（键值对）\n",
    "dic.clear()                  # 清空dic，dict变为{}\n",
    "print(dic)"
   ]
  },
  {
   "cell_type": "markdown",
   "id": "f64bb36c",
   "metadata": {},
   "source": [
    "另外有一个很常用的用法："
   ]
  },
  {
   "cell_type": "code",
   "execution_count": 67,
   "id": "7028160f",
   "metadata": {
    "execution": {
     "iopub.execute_input": "2022-09-04T13:04:59.991759Z",
     "iopub.status.busy": "2022-09-04T13:04:59.991759Z",
     "iopub.status.idle": "2022-09-04T13:05:00.006718Z",
     "shell.execute_reply": "2022-09-04T13:05:00.006718Z",
     "shell.execute_reply.started": "2022-09-04T13:04:59.991759Z"
    }
   },
   "outputs": [
    {
     "name": "stdout",
     "output_type": "stream",
     "text": [
      "{'tom': 100}\n",
      "{}\n"
     ]
    }
   ],
   "source": [
    "dic = {'tom': 100}\n",
    "print(dic)\n",
    "\n",
    "del dic['tom']             # 删除 dic 的‘tom’元素\n",
    "print(dic)"
   ]
  },
  {
   "cell_type": "markdown",
   "id": "6a3de60e",
   "metadata": {},
   "source": [
    "`del`是Python中保留的关键字，用于删除对象。\n",
    "\n",
    "与表类似，你可以用len()查询词典中的元素总数。"
   ]
  },
  {
   "cell_type": "code",
   "execution_count": 68,
   "id": "c6f2d569",
   "metadata": {
    "execution": {
     "iopub.execute_input": "2022-09-04T13:05:00.007716Z",
     "iopub.status.busy": "2022-09-04T13:05:00.007716Z",
     "iopub.status.idle": "2022-09-04T13:05:00.022675Z",
     "shell.execute_reply": "2022-09-04T13:05:00.022675Z",
     "shell.execute_reply.started": "2022-09-04T13:05:00.007716Z"
    }
   },
   "outputs": [
    {
     "name": "stdout",
     "output_type": "stream",
     "text": [
      "2\n"
     ]
    }
   ],
   "source": [
    "d1 = {'tom': 1, 'ali': 2}\n",
    "print(len(d1))"
   ]
  },
  {
   "cell_type": "code",
   "execution_count": null,
   "id": "023ef256",
   "metadata": {},
   "outputs": [],
   "source": []
  },
  {
   "cell_type": "code",
   "execution_count": null,
   "id": "e1e5d195",
   "metadata": {},
   "outputs": [],
   "source": []
  },
  {
   "cell_type": "markdown",
   "id": "a6d8078e",
   "metadata": {},
   "source": [
    "# 2. 序列的方法\n",
    "在Python基础中，我们了解了最基本的序列(sequence)。回忆一下，序列包含有定值表(tuple)和表(list)。此外，字符串(string)是一种特殊的定值表。表的元素可以更改，定值表一旦建立，其元素不可更改。\n",
    "\n",
    "任何的序列都可以引用其中的元素(item)。\n",
    "\n",
    "下面的**内建函数**(built-in function)可用于序列(表，定值表，字符串):\n",
    "\n",
    "s为一个序列\n",
    "```\n",
    "len(s)         返回： 序列中包含元素的个数\n",
    "\n",
    "min(s)         返回： 序列中最小的元素\n",
    "\n",
    "max(s)         返回： 序列中最大的元素\n",
    "\n",
    "sum(s)         返回： 序列中所有元素的和\n",
    "\n",
    "all(s)         返回： True, 如果所有元素都为True的话\n",
    "\n",
    "any(s)         返回： True, 如果任一元素为True的话\n",
    "```"
   ]
  },
  {
   "cell_type": "code",
   "execution_count": 69,
   "id": "336524c4",
   "metadata": {
    "execution": {
     "iopub.execute_input": "2022-09-04T13:05:00.023673Z",
     "iopub.status.busy": "2022-09-04T13:05:00.023673Z",
     "iopub.status.idle": "2022-09-04T13:05:00.038634Z",
     "shell.execute_reply": "2022-09-04T13:05:00.038634Z",
     "shell.execute_reply.started": "2022-09-04T13:05:00.023673Z"
    }
   },
   "outputs": [
    {
     "name": "stdout",
     "output_type": "stream",
     "text": [
      "7\n",
      "1\n",
      "12\n",
      "32\n",
      "True\n",
      "True\n"
     ]
    }
   ],
   "source": [
    "s = [12, 1, 3, 4, 5, 6, 1]\n",
    "print(len(s))\n",
    "print(min(s))\n",
    "print(max(s))\n",
    "print(sum(s))\n",
    "print(all(s))\n",
    "print(any(s))"
   ]
  },
  {
   "cell_type": "code",
   "execution_count": null,
   "id": "8a80a058",
   "metadata": {},
   "outputs": [],
   "source": []
  },
  {
   "cell_type": "markdown",
   "id": "da05399d",
   "metadata": {},
   "source": [
    "\n",
    "x为元素值，i为下标(元素在序列中的位置)\n",
    "```\n",
    "s.count(x)     返回： x在s中出现的次数\n",
    "\n",
    "s.index(x)     返回： x在s中第一次出现的下标\n",
    "```"
   ]
  },
  {
   "cell_type": "code",
   "execution_count": 70,
   "id": "5145dd9d",
   "metadata": {
    "execution": {
     "iopub.execute_input": "2022-09-04T13:05:00.040629Z",
     "iopub.status.busy": "2022-09-04T13:05:00.040629Z",
     "iopub.status.idle": "2022-09-04T13:05:00.053622Z",
     "shell.execute_reply": "2022-09-04T13:05:00.053622Z",
     "shell.execute_reply.started": "2022-09-04T13:05:00.040629Z"
    }
   },
   "outputs": [
    {
     "name": "stdout",
     "output_type": "stream",
     "text": [
      "2\n",
      "1 0\n"
     ]
    }
   ],
   "source": [
    "print(s.count(1))\n",
    "print(s.index(1), s.index(12))"
   ]
  },
  {
   "cell_type": "code",
   "execution_count": null,
   "id": "9289abda",
   "metadata": {},
   "outputs": [],
   "source": []
  },
  {
   "cell_type": "markdown",
   "id": "3898e6cf",
   "metadata": {},
   "source": [
    "由于定值表的元素不可变更，下面方法只适用于表:\n",
    "\n",
    "l为一个表, l2为另一个表\n",
    "```\n",
    "l.extend(l2)        在表l的末尾添加表l2的所有元素\n",
    "\n",
    "l.append(x)         在l的末尾附加x元素\n",
    "\n",
    "l.sort()            对l中的元素排序\n",
    "\n",
    "l.reverse()         将l中的元素逆序\n",
    "\n",
    "l.pop()             返回：表l的最后一个元素，并在表l中删除该元素\n",
    "\n",
    "del l[i]            删除该元素\n",
    "```\n",
    "(以上这些方法都是在原来的表的上进行操作，会对原来的表产生影响，而不是返回一个新表。)"
   ]
  },
  {
   "cell_type": "code",
   "execution_count": 71,
   "id": "5216f9be",
   "metadata": {
    "execution": {
     "iopub.execute_input": "2022-09-04T13:05:00.054591Z",
     "iopub.status.busy": "2022-09-04T13:05:00.054591Z",
     "iopub.status.idle": "2022-09-04T13:05:00.069550Z",
     "shell.execute_reply": "2022-09-04T13:05:00.069550Z",
     "shell.execute_reply.started": "2022-09-04T13:05:00.054591Z"
    }
   },
   "outputs": [
    {
     "name": "stdout",
     "output_type": "stream",
     "text": [
      "[1, 2, 3, 4]\n"
     ]
    }
   ],
   "source": [
    "l1 = [1, 2]\n",
    "l2 = [3, 4]\n",
    "l1.extend(l2)\n",
    "print(l1)"
   ]
  },
  {
   "cell_type": "code",
   "execution_count": 72,
   "id": "cad66560",
   "metadata": {
    "execution": {
     "iopub.execute_input": "2022-09-04T13:05:00.070548Z",
     "iopub.status.busy": "2022-09-04T13:05:00.070548Z",
     "iopub.status.idle": "2022-09-04T13:05:00.084510Z",
     "shell.execute_reply": "2022-09-04T13:05:00.084510Z",
     "shell.execute_reply.started": "2022-09-04T13:05:00.070548Z"
    }
   },
   "outputs": [
    {
     "name": "stdout",
     "output_type": "stream",
     "text": [
      "[1, 2, 3, 4]\n"
     ]
    }
   ],
   "source": [
    "l1 = [1, 2]\n",
    "l2 = [3, 4]\n",
    "l = l1 + l2\n",
    "print(l)"
   ]
  },
  {
   "cell_type": "code",
   "execution_count": 73,
   "id": "12f9273c",
   "metadata": {
    "execution": {
     "iopub.execute_input": "2022-09-04T13:05:00.085508Z",
     "iopub.status.busy": "2022-09-04T13:05:00.085508Z",
     "iopub.status.idle": "2022-09-04T13:05:00.100468Z",
     "shell.execute_reply": "2022-09-04T13:05:00.100468Z",
     "shell.execute_reply.started": "2022-09-04T13:05:00.085508Z"
    }
   },
   "outputs": [
    {
     "name": "stdout",
     "output_type": "stream",
     "text": [
      "[1, 2, 3, 4, 10]\n"
     ]
    }
   ],
   "source": [
    "l = [1, 2,3,4]\n",
    "l.append(10)\n",
    "print(l)"
   ]
  },
  {
   "cell_type": "code",
   "execution_count": 74,
   "id": "29330eab",
   "metadata": {
    "execution": {
     "iopub.execute_input": "2022-09-04T13:05:00.101466Z",
     "iopub.status.busy": "2022-09-04T13:05:00.101466Z",
     "iopub.status.idle": "2022-09-04T13:05:00.116425Z",
     "shell.execute_reply": "2022-09-04T13:05:00.116425Z",
     "shell.execute_reply.started": "2022-09-04T13:05:00.101466Z"
    }
   },
   "outputs": [
    {
     "name": "stdout",
     "output_type": "stream",
     "text": [
      "[1, 2, 3, 4]\n"
     ]
    }
   ],
   "source": [
    "l = [2,1,3,4]\n",
    "l.sort()\n",
    "print(l)"
   ]
  },
  {
   "cell_type": "code",
   "execution_count": 75,
   "id": "b34ba75c",
   "metadata": {
    "execution": {
     "iopub.execute_input": "2022-09-04T13:05:00.117423Z",
     "iopub.status.busy": "2022-09-04T13:05:00.117423Z",
     "iopub.status.idle": "2022-09-04T13:05:00.132382Z",
     "shell.execute_reply": "2022-09-04T13:05:00.132382Z",
     "shell.execute_reply.started": "2022-09-04T13:05:00.117423Z"
    }
   },
   "outputs": [
    {
     "name": "stdout",
     "output_type": "stream",
     "text": [
      "[4, 3, 2, 1]\n"
     ]
    }
   ],
   "source": [
    "l = [2,1,3,4]\n",
    "l.sort(reverse=True)\n",
    "print(l)"
   ]
  },
  {
   "cell_type": "code",
   "execution_count": 76,
   "id": "99ca0b9e",
   "metadata": {
    "execution": {
     "iopub.execute_input": "2022-09-04T13:05:00.133380Z",
     "iopub.status.busy": "2022-09-04T13:05:00.133380Z",
     "iopub.status.idle": "2022-09-04T13:05:00.148340Z",
     "shell.execute_reply": "2022-09-04T13:05:00.148340Z",
     "shell.execute_reply.started": "2022-09-04T13:05:00.133380Z"
    }
   },
   "outputs": [
    {
     "name": "stdout",
     "output_type": "stream",
     "text": [
      "4\n",
      "[2, 1, 3]\n"
     ]
    }
   ],
   "source": [
    "l = [2,1,3,4]\n",
    "last_item = l.pop()\n",
    "print(last_item)\n",
    "print(l)"
   ]
  },
  {
   "cell_type": "code",
   "execution_count": null,
   "id": "8c4bb151",
   "metadata": {},
   "outputs": [],
   "source": []
  },
  {
   "cell_type": "markdown",
   "id": "8bdab86c",
   "metadata": {},
   "source": [
    "下面是一些用于字符串的方法。尽管字符串是定值表的特殊的一种，但字符串(string)类有一些方法是改变字符串的。这些方法的本质不是对原有字符串进行操作，而是删除原有字符串，再建立一个新的字符串，所以并不与定值表的特点相矛盾。\n",
    "\n",
    "str为一个字符串，sub为str的一个子字符串。s为一个序列，它的元素都是字符串。width为一个整数，用于说明新生成字符串的宽度。\n",
    "```\n",
    "str.count(sub)       返回：sub在str中出现的次数\n",
    "\n",
    "str.find(sub)        返回：从左开始，查找sub在str中第一次出现的位置。如果str中不包含sub，返回 -1\n",
    "\n",
    "str.index(sub)       返回：从左开始，查找sub在str中第一次出现的位置。如果str中不包含sub，举出错误\n",
    "\n",
    "str.rfind(sub)       返回：从右开始，查找sub在str中第一次出现的位置。如果str中不包含sub，返回 -1\n",
    "\n",
    "str.rindex(sub)      返回：从右开始，查找sub在str中第一次出现的位置。如果str中不包含sub，举出错误\n",
    "\n",
    " \n",
    "\n",
    "str.isalnum()        返回：True， 如果所有的字符都是字母或数字\n",
    "\n",
    "str.isalpha()        返回：True，如果所有的字符都是字母\n",
    "\n",
    "str.isdigit()        返回：True，如果所有的字符都是数字\n",
    "\n",
    "str.istitle()        返回：True，如果所有的词的首字母都是大写\n",
    "\n",
    "str.isspace()        返回：True，如果所有的字符都是空格\n",
    "\n",
    "str.islower()        返回：True，如果所有的字符都是小写字母\n",
    "\n",
    "str.isupper()        返回：True，如果所有的字符都是大写字母\n",
    "\n",
    " \n",
    "\n",
    "str.split([sep, [max]])    返回：从左开始，以空格为分割符(separator)，将str分割为多个子字符串，总共分割max次。将所得的子字符串放在一个表中返回。可以str.split(',')的方式使用逗号或者其它分割符\n",
    "\n",
    "str.rsplit([sep, [max]])   返回：从右开始，以空格为分割符(separator)，将str分割为多个子字符串，总共分割max次。将所得的子字符串放在一个表中返回。可以str.rsplit(',')的方式使用逗号或者其它分割符\n",
    "\n",
    " \n",
    "\n",
    "str.join(s)                返回：将s中的元素，以str为分割符，合并成为一个字符串。\n",
    "\n",
    "str.strip([sub])           返回：去掉字符串开头和结尾的空格。也可以提供参数sub，去掉位于字符串开头和结尾的sub  \n",
    "\n",
    "str.replace(sub, new_sub)  返回：用一个新的字符串new_sub替换str中的sub\n",
    "\n",
    "         \n",
    "\n",
    "str.capitalize()           返回：将str第一个字母大写\n",
    "\n",
    "str.lower()                返回：将str全部字母改为小写\n",
    "\n",
    "str.upper()                返回：将str全部字母改为大写\n",
    "\n",
    "str.swapcase()             返回：将str大写字母改为小写，小写改为大写\n",
    "\n",
    "str.title()                返回：将str的每个词(以空格分隔)的首字母大写\n",
    "```"
   ]
  },
  {
   "cell_type": "code",
   "execution_count": 77,
   "id": "0bf8832d",
   "metadata": {
    "execution": {
     "iopub.execute_input": "2022-09-04T13:05:00.149338Z",
     "iopub.status.busy": "2022-09-04T13:05:00.149338Z",
     "iopub.status.idle": "2022-09-04T13:05:00.163300Z",
     "shell.execute_reply": "2022-09-04T13:05:00.163300Z",
     "shell.execute_reply.started": "2022-09-04T13:05:00.149338Z"
    }
   },
   "outputs": [
    {
     "data": {
      "text/plain": [
       "1"
      ]
     },
     "execution_count": 77,
     "metadata": {},
     "output_type": "execute_result"
    }
   ],
   "source": [
    "s = 'we are taking a class'\n",
    "s.count('are')"
   ]
  },
  {
   "cell_type": "code",
   "execution_count": 78,
   "id": "dcd1e8b4",
   "metadata": {
    "execution": {
     "iopub.execute_input": "2022-09-04T13:05:00.164297Z",
     "iopub.status.busy": "2022-09-04T13:05:00.164297Z",
     "iopub.status.idle": "2022-09-04T13:05:00.179257Z",
     "shell.execute_reply": "2022-09-04T13:05:00.179257Z",
     "shell.execute_reply.started": "2022-09-04T13:05:00.164297Z"
    }
   },
   "outputs": [
    {
     "data": {
      "text/plain": [
       "'WE ARE TAKING A CLASS'"
      ]
     },
     "execution_count": 78,
     "metadata": {},
     "output_type": "execute_result"
    }
   ],
   "source": [
    "s.upper()"
   ]
  },
  {
   "cell_type": "code",
   "execution_count": 79,
   "id": "a1d3cb91",
   "metadata": {
    "execution": {
     "iopub.execute_input": "2022-09-04T13:05:00.180255Z",
     "iopub.status.busy": "2022-09-04T13:05:00.180255Z",
     "iopub.status.idle": "2022-09-04T13:05:00.194217Z",
     "shell.execute_reply": "2022-09-04T13:05:00.194217Z",
     "shell.execute_reply.started": "2022-09-04T13:05:00.180255Z"
    }
   },
   "outputs": [
    {
     "data": {
      "text/plain": [
       "'We Are Taking A Class'"
      ]
     },
     "execution_count": 79,
     "metadata": {},
     "output_type": "execute_result"
    }
   ],
   "source": [
    "s.title()"
   ]
  },
  {
   "cell_type": "code",
   "execution_count": 80,
   "id": "dd7976e5",
   "metadata": {
    "execution": {
     "iopub.execute_input": "2022-09-04T13:05:00.195215Z",
     "iopub.status.busy": "2022-09-04T13:05:00.195215Z",
     "iopub.status.idle": "2022-09-04T13:05:00.210174Z",
     "shell.execute_reply": "2022-09-04T13:05:00.210174Z",
     "shell.execute_reply.started": "2022-09-04T13:05:00.195215Z"
    }
   },
   "outputs": [
    {
     "data": {
      "text/plain": [
       "['we ', ' taking a class']"
      ]
     },
     "execution_count": 80,
     "metadata": {},
     "output_type": "execute_result"
    }
   ],
   "source": [
    "s.split('are')"
   ]
  },
  {
   "cell_type": "code",
   "execution_count": 81,
   "id": "36c9a413",
   "metadata": {
    "execution": {
     "iopub.execute_input": "2022-09-04T13:05:00.211172Z",
     "iopub.status.busy": "2022-09-04T13:05:00.211172Z",
     "iopub.status.idle": "2022-09-04T13:05:00.225134Z",
     "shell.execute_reply": "2022-09-04T13:05:00.225134Z",
     "shell.execute_reply.started": "2022-09-04T13:05:00.211172Z"
    }
   },
   "outputs": [
    {
     "data": {
      "text/plain": [
       "'we are taking a CLASS :)'"
      ]
     },
     "execution_count": 81,
     "metadata": {},
     "output_type": "execute_result"
    }
   ],
   "source": [
    "s.replace('class', 'CLASS :)')"
   ]
  },
  {
   "cell_type": "code",
   "execution_count": null,
   "id": "0196cd51",
   "metadata": {},
   "outputs": [],
   "source": []
  },
  {
   "cell_type": "code",
   "execution_count": null,
   "id": "2bab071a",
   "metadata": {},
   "outputs": [],
   "source": []
  },
  {
   "cell_type": "code",
   "execution_count": null,
   "id": "48f98f69",
   "metadata": {},
   "outputs": [],
   "source": []
  },
  {
   "cell_type": "markdown",
   "id": "80dd7630",
   "metadata": {},
   "source": [
    "# 3. 列表推导（List Comprehension）\n",
    "表推导(list comprehension)是快速生成表的方法。它的语法简单，很有实用价值。\n",
    "\n",
    "假设我们生成表L："
   ]
  },
  {
   "cell_type": "code",
   "execution_count": 82,
   "id": "9121a21e",
   "metadata": {
    "execution": {
     "iopub.execute_input": "2022-09-04T13:05:00.226133Z",
     "iopub.status.busy": "2022-09-04T13:05:00.226133Z",
     "iopub.status.idle": "2022-09-04T13:05:00.240095Z",
     "shell.execute_reply": "2022-09-04T13:05:00.240095Z",
     "shell.execute_reply.started": "2022-09-04T13:05:00.226133Z"
    }
   },
   "outputs": [
    {
     "name": "stdout",
     "output_type": "stream",
     "text": [
      "[0, 1, 4, 9, 16, 25, 36, 49, 64, 81]\n"
     ]
    }
   ],
   "source": [
    "L = []\n",
    "for x in range(10):\n",
    "    L.append(x**2)\n",
    "print(L)"
   ]
  },
  {
   "cell_type": "markdown",
   "id": "a1619efb",
   "metadata": {},
   "source": [
    "以上产生了表L，但实际上有快捷的写法，也就是表推导的方式:"
   ]
  },
  {
   "cell_type": "code",
   "execution_count": 83,
   "id": "143a97f1",
   "metadata": {
    "execution": {
     "iopub.execute_input": "2022-09-04T13:05:00.241093Z",
     "iopub.status.busy": "2022-09-04T13:05:00.241093Z",
     "iopub.status.idle": "2022-09-04T13:05:00.255054Z",
     "shell.execute_reply": "2022-09-04T13:05:00.255054Z",
     "shell.execute_reply.started": "2022-09-04T13:05:00.241093Z"
    }
   },
   "outputs": [
    {
     "name": "stdout",
     "output_type": "stream",
     "text": [
      "[0, 1, 4, 9, 16, 25, 36, 49, 64, 81]\n"
     ]
    }
   ],
   "source": [
    "L = [x**2 for x in range(10)]\n",
    "print(L)"
   ]
  },
  {
   "cell_type": "markdown",
   "id": "0e9d4d2d",
   "metadata": {},
   "source": [
    "这与生成器表达式类似，只不过用的是中括号。\n",
    "\n",
    "（表推导的机制实际上是利用循环对象，有兴趣可以查阅。）\n",
    "\n",
    "### 练习 下面的表推导会生成什么？"
   ]
  },
  {
   "cell_type": "code",
   "execution_count": 102,
   "id": "2e28fad9",
   "metadata": {
    "execution": {
     "iopub.execute_input": "2022-09-04T13:38:08.076009Z",
     "iopub.status.busy": "2022-09-04T13:38:08.076009Z",
     "iopub.status.idle": "2022-09-04T13:38:08.084984Z",
     "shell.execute_reply": "2022-09-04T13:38:08.084984Z",
     "shell.execute_reply.started": "2022-09-04T13:38:08.076009Z"
    },
    "tags": []
   },
   "outputs": [],
   "source": [
    "xl = [1,3,5]\n",
    "yl = [9,12,13]\n",
    "L  = [ x**2 for (x,y) in zip(xl,yl) if y > 10]"
   ]
  },
  {
   "cell_type": "code",
   "execution_count": null,
   "id": "d8a4956a",
   "metadata": {},
   "outputs": [],
   "source": []
  },
  {
   "cell_type": "code",
   "execution_count": null,
   "id": "4cc6735f",
   "metadata": {},
   "outputs": [],
   "source": []
  },
  {
   "cell_type": "markdown",
   "id": "cf955d69",
   "metadata": {},
   "source": [
    "# 4. 文本文件的输入输出\n",
    "Python具有基本的文本文件读写功能。Python的标准库提供有更丰富的读写功能。\n",
    "\n",
    "文本文件的读写主要通过`open()`所构建的文件对象来实现。\n",
    "\n",
    "## 创建文件对象\n",
    "\n",
    "我们打开一个文件，并使用一个对象来表示该文件：\n",
    "```\n",
    "f = open(文件名，模式)\n",
    "```\n",
    " \n",
    "\n",
    "最常用的模式有：\n",
    "```\n",
    "\"r\"     # 只读\n",
    "\n",
    "“w”     # 写入\n",
    "```\n",
    " \n",
    "\n",
    "比如\n",
    "```\n",
    "f = open(\"test.txt\",\"r\")\n",
    "```\n",
    "\n",
    "## 文件对象的方法\n",
    "\n",
    "读取：\n",
    "```\n",
    "content = f.read(N)          # 读取N bytes的数据\n",
    "\n",
    "content = f.readline()       # 读取一行\n",
    "\n",
    "content = f.readlines()      # 读取所有行，储存在列表中，每个元素是一行。\n",
    "```\n",
    "\n",
    "写入：\n",
    "```\n",
    "f.write('I like apple')      # 将'I like apple'写入文件\n",
    "```\n",
    " \n",
    "\n",
    "关闭文件：\n",
    "```\n",
    "f.close()\n",
    "```"
   ]
  },
  {
   "cell_type": "code",
   "execution_count": 85,
   "id": "f1dddd08",
   "metadata": {
    "execution": {
     "iopub.execute_input": "2022-09-04T13:05:00.272009Z",
     "iopub.status.busy": "2022-09-04T13:05:00.272009Z",
     "iopub.status.idle": "2022-09-04T13:05:00.285971Z",
     "shell.execute_reply": "2022-09-04T13:05:00.285971Z",
     "shell.execute_reply.started": "2022-09-04T13:05:00.272009Z"
    }
   },
   "outputs": [],
   "source": [
    "f = open('my.txt', 'w')\n",
    "f.write('tom, 12, 86\\n')\n",
    "f.write('Lee, 15, 99\\n')\n",
    "f.write('Joseph, 19, 56\\n')\n",
    "f.close()"
   ]
  },
  {
   "cell_type": "code",
   "execution_count": null,
   "id": "92c9f437",
   "metadata": {},
   "outputs": [],
   "source": []
  },
  {
   "cell_type": "code",
   "execution_count": 86,
   "id": "02888a0a",
   "metadata": {
    "execution": {
     "iopub.execute_input": "2022-09-04T13:05:00.286970Z",
     "iopub.status.busy": "2022-09-04T13:05:00.286970Z",
     "iopub.status.idle": "2022-09-04T13:05:00.301929Z",
     "shell.execute_reply": "2022-09-04T13:05:00.301929Z",
     "shell.execute_reply.started": "2022-09-04T13:05:00.286970Z"
    }
   },
   "outputs": [
    {
     "name": "stdout",
     "output_type": "stream",
     "text": [
      "tom, 12, 86\n",
      "\n"
     ]
    }
   ],
   "source": [
    "f = open('my.txt', 'r')\n",
    "print(f.readline())\n",
    "f.close()"
   ]
  },
  {
   "cell_type": "code",
   "execution_count": 87,
   "id": "58215c50",
   "metadata": {
    "execution": {
     "iopub.execute_input": "2022-09-04T13:05:00.302926Z",
     "iopub.status.busy": "2022-09-04T13:05:00.302926Z",
     "iopub.status.idle": "2022-09-04T13:05:00.317886Z",
     "shell.execute_reply": "2022-09-04T13:05:00.317886Z",
     "shell.execute_reply.started": "2022-09-04T13:05:00.302926Z"
    }
   },
   "outputs": [
    {
     "name": "stdout",
     "output_type": "stream",
     "text": [
      "['tom, 12, 86\\n', 'Lee, 15, 99\\n', 'Joseph, 19, 56\\n']\n"
     ]
    }
   ],
   "source": [
    "f = open('my.txt', 'r')\n",
    "print(f.readlines())\n",
    "f.close()"
   ]
  },
  {
   "cell_type": "code",
   "execution_count": null,
   "id": "6567d08d",
   "metadata": {},
   "outputs": [],
   "source": []
  },
  {
   "cell_type": "markdown",
   "id": "fca5d59e",
   "metadata": {},
   "source": [
    "# 正则表达式\n",
    "正则表达式(regular expression)主要功能是从字符串(string)中通过**特定的模式(pattern)**，搜索想要找到的内容。\n",
    "\n",
    "比如，我们需要从这样的字符串中提取日期，或者电话号码：\n",
    "```\n",
    "  > output_1981.10.21.txt\n",
    "\n",
    "  > 我在开会，有事请回复15680027121！\n",
    "```\n",
    "\n",
    "在Python中使用正则表达式需要标准库中的一个包`re`。\n",
    "\n",
    "```\n",
    "re.search(pattern, string)  # 搜索整个字符串，直到发现符合的子字符串。\n",
    "\n",
    "re.match(pattern, string)   # 从头开始检查字符串是否符合正则表达式。必须从字符串的第一个字符开始就相符。\n",
    "\n",
    "re.sub(pattern, replacement, string) # 在string中利用正则变换pattern进行搜索，对于搜索到的字符串，用另一字符串replacement替换。返回替换后的字符串。\n",
    "\n",
    "re.split()    # 根据正则表达式分割字符串， 将分割后的所有子字符串放在一个表(list)中返回\n",
    "\n",
    "re.findall()  # 根据正则表达式搜索字符串，将所有符合的子字符串放在一给表(list)中返回\n",
    "```"
   ]
  },
  {
   "cell_type": "code",
   "execution_count": null,
   "id": "cdbc5a9d",
   "metadata": {
    "tags": []
   },
   "outputs": [],
   "source": []
  },
  {
   "cell_type": "code",
   "execution_count": 88,
   "id": "e4c81592",
   "metadata": {
    "execution": {
     "iopub.execute_input": "2022-09-04T13:05:00.320878Z",
     "iopub.status.busy": "2022-09-04T13:05:00.319881Z",
     "iopub.status.idle": "2022-09-04T13:05:00.332847Z",
     "shell.execute_reply": "2022-09-04T13:05:00.332847Z",
     "shell.execute_reply.started": "2022-09-04T13:05:00.320878Z"
    },
    "tags": []
   },
   "outputs": [
    {
     "data": {
      "text/plain": [
       "['fasf;', '432', '6daslj']"
      ]
     },
     "execution_count": 88,
     "metadata": {},
     "output_type": "execute_result"
    }
   ],
   "source": [
    "'fasf;5344325346daslj'.split('534')"
   ]
  },
  {
   "cell_type": "code",
   "execution_count": 89,
   "id": "2d3c3a76",
   "metadata": {
    "execution": {
     "iopub.execute_input": "2022-09-04T13:05:00.333844Z",
     "iopub.status.busy": "2022-09-04T13:05:00.333844Z",
     "iopub.status.idle": "2022-09-04T13:05:00.348804Z",
     "shell.execute_reply": "2022-09-04T13:05:00.348804Z",
     "shell.execute_reply.started": "2022-09-04T13:05:00.333844Z"
    }
   },
   "outputs": [
    {
     "name": "stdout",
     "output_type": "stream",
     "text": [
      "['534']\n",
      "['5344325346']\n"
     ]
    }
   ],
   "source": [
    "import re\n",
    "print(re.findall('\\d+', 'fasf;534daslj'))\n",
    "print(re.findall('\\d+', 'fasf;5344325346daslj'))"
   ]
  },
  {
   "cell_type": "code",
   "execution_count": null,
   "id": "2d4c8fc8",
   "metadata": {},
   "outputs": [],
   "source": []
  },
  {
   "cell_type": "code",
   "execution_count": null,
   "id": "6ab7f955",
   "metadata": {},
   "outputs": [],
   "source": []
  },
  {
   "cell_type": "code",
   "execution_count": 90,
   "id": "e6829ed3",
   "metadata": {
    "execution": {
     "iopub.execute_input": "2022-09-04T13:05:00.349801Z",
     "iopub.status.busy": "2022-09-04T13:05:00.349801Z",
     "iopub.status.idle": "2022-09-04T13:05:00.363764Z",
     "shell.execute_reply": "2022-09-04T13:05:00.363764Z",
     "shell.execute_reply.started": "2022-09-04T13:05:00.349801Z"
    }
   },
   "outputs": [
    {
     "name": "stdout",
     "output_type": "stream",
     "text": [
      "4\n"
     ]
    }
   ],
   "source": [
    "import re\n",
    "m = re.search('[0-9]','abcd4ef')\n",
    "print(m.group(0))"
   ]
  },
  {
   "cell_type": "markdown",
   "id": "1e742a0c",
   "metadata": {},
   "source": [
    "正则表达式的常用语法：\n",
    "\n",
    "1）单个字符:\n",
    "```\n",
    ".          任意的一个字符\n",
    "\n",
    "a|b        字符a或字符b\n",
    "\n",
    "[afg]      a或者f或者g的一个字符        \n",
    "\n",
    "[0-4]      0-4范围内的一个字符\n",
    "\n",
    "[a-f]      a-f范围内的一个字符\n",
    "\n",
    "[^m]       不是m的一个字符\n",
    "\n",
    "\\s         一个空格\n",
    "\n",
    "\\S         一个非空格\n",
    "\n",
    "\\d         [0-9]\n",
    "\n",
    "\\D         [^0-9]\n",
    "\n",
    "\\w         [0-9a-zA-Z]\n",
    "\n",
    "\\W         [^0-9a-zA-Z]\n",
    "```\n",
    " \n",
    "\n",
    "2）重复\n",
    "\n",
    "紧跟在单个字符之后，表示多个这样类似的字符\n",
    "```\n",
    "*         重复 >=0 次\n",
    "\n",
    "+         重复 >=1 次\n",
    "\n",
    "?         重复 0或者1 次\n",
    "\n",
    "{m}       重复m次。比如说 a{4}相当于aaaa，再比如说[1-3]{2}相当于[1-3][1-3]\n",
    "\n",
    "{m, n}    重复m到n次。比如说a{2, 5}表示a重复2到5次。小于m次的重复，或者大于n次的重复都不符合条件。\n",
    "```\n",
    " \n",
    "\n",
    "正则表达          相符的字符串举例\n",
    "```\n",
    "[0-9]{3,5}       9678\n",
    "\n",
    "a?b              b\n",
    "\n",
    "a+b              aaaaab\n",
    "```\n",
    " \n",
    "\n",
    "3) 位置\n",
    "\n",
    "```\n",
    "^         字符串的起始位置\n",
    "\n",
    "$         字符串的结尾位置\n",
    "```\n",
    " \n",
    "```\n",
    "正则表达          相符的字符串举例        不相符字符串\n",
    "\n",
    "^ab.*c$          abeec               cabeec (如果用re.search(), 将无法找到。)\n",
    "```\n",
    "\n",
    "4）返回控制\n",
    "\n",
    "我们有可能对搜索的结果进行进一步精简信息。比如下面一个正则表达式：\n",
    "```\n",
    "output_(\\d{4})\n",
    "```\n",
    "该正则表达式用括号()包围了一个小的正则表达式，`\\d{4}`。 这个小的正则表达式被用于从结果中筛选想要的信息（在这里是四位数字）。这样被括号圈起来的正则表达式的一部分，称为群(`group`)。\n",
    "我们可以`m.group(number)`的方法来查询群。`group(0)`是整个正则表达的搜索结果，`group(1)`是第一个群……"
   ]
  },
  {
   "cell_type": "code",
   "execution_count": 91,
   "id": "fdf9e21b",
   "metadata": {
    "execution": {
     "iopub.execute_input": "2022-09-04T13:05:00.364761Z",
     "iopub.status.busy": "2022-09-04T13:05:00.364761Z",
     "iopub.status.idle": "2022-09-04T13:05:00.380719Z",
     "shell.execute_reply": "2022-09-04T13:05:00.380719Z",
     "shell.execute_reply.started": "2022-09-04T13:05:00.364761Z"
    }
   },
   "outputs": [
    {
     "name": "stdout",
     "output_type": "stream",
     "text": [
      "output_1986 1986\n"
     ]
    }
   ],
   "source": [
    "import re\n",
    "m = re.search(\"output_(\\d{4})\", \"output_1986.txt\")\n",
    "\n",
    "print(m.group(0), m.group(1))"
   ]
  },
  {
   "cell_type": "code",
   "execution_count": 92,
   "id": "08e2de3f",
   "metadata": {
    "execution": {
     "iopub.execute_input": "2022-09-04T13:05:00.381716Z",
     "iopub.status.busy": "2022-09-04T13:05:00.381716Z",
     "iopub.status.idle": "2022-09-04T13:05:00.395679Z",
     "shell.execute_reply": "2022-09-04T13:05:00.395679Z",
     "shell.execute_reply.started": "2022-09-04T13:05:00.381716Z"
    }
   },
   "outputs": [
    {
     "data": {
      "text/plain": [
       "['1986']"
      ]
     },
     "execution_count": 92,
     "metadata": {},
     "output_type": "execute_result"
    }
   ],
   "source": [
    "re.findall(\"\\d{4}\", \"output_1986.txt\")"
   ]
  },
  {
   "cell_type": "code",
   "execution_count": 93,
   "id": "18395dc2",
   "metadata": {
    "execution": {
     "iopub.execute_input": "2022-09-04T13:05:00.396675Z",
     "iopub.status.busy": "2022-09-04T13:05:00.396675Z",
     "iopub.status.idle": "2022-09-04T13:05:00.410664Z",
     "shell.execute_reply": "2022-09-04T13:05:00.410664Z",
     "shell.execute_reply.started": "2022-09-04T13:05:00.396675Z"
    }
   },
   "outputs": [
    {
     "data": {
      "text/plain": [
       "['output_', '.txt']"
      ]
     },
     "execution_count": 93,
     "metadata": {},
     "output_type": "execute_result"
    }
   ],
   "source": [
    "re.split(\"\\d{4}\", \"output_1986.txt\")"
   ]
  },
  {
   "cell_type": "code",
   "execution_count": 94,
   "id": "b27468a2",
   "metadata": {
    "execution": {
     "iopub.execute_input": "2022-09-04T13:05:00.411636Z",
     "iopub.status.busy": "2022-09-04T13:05:00.411636Z",
     "iopub.status.idle": "2022-09-04T13:05:00.425598Z",
     "shell.execute_reply": "2022-09-04T13:05:00.425598Z",
     "shell.execute_reply.started": "2022-09-04T13:05:00.411636Z"
    }
   },
   "outputs": [
    {
     "data": {
      "text/plain": [
       "'output_2021.txt'"
      ]
     },
     "execution_count": 94,
     "metadata": {},
     "output_type": "execute_result"
    }
   ],
   "source": [
    "re.sub(\"\\d{4}\", \"2021\", \"output_1986.txt\")"
   ]
  },
  {
   "cell_type": "code",
   "execution_count": null,
   "id": "ce1fef9d",
   "metadata": {},
   "outputs": [],
   "source": []
  },
  {
   "cell_type": "code",
   "execution_count": 95,
   "id": "74cef034",
   "metadata": {
    "execution": {
     "iopub.execute_input": "2022-09-04T13:05:00.426595Z",
     "iopub.status.busy": "2022-09-04T13:05:00.426595Z",
     "iopub.status.idle": "2022-09-04T13:05:00.441556Z",
     "shell.execute_reply": "2022-09-04T13:05:00.441556Z",
     "shell.execute_reply.started": "2022-09-04T13:05:00.426595Z"
    },
    "tags": []
   },
   "outputs": [
    {
     "data": {
      "text/plain": [
       "['15680027121']"
      ]
     },
     "execution_count": 95,
     "metadata": {},
     "output_type": "execute_result"
    }
   ],
   "source": [
    "s = '我在开会，有事请回复15680027121,或者33163316！'\n",
    "pattern = '\\d{11}'\n",
    "\n",
    "re.findall(pattern, s)"
   ]
  }
 ],
 "metadata": {
  "interpreter": {
   "hash": "b3ba2566441a7c06988d0923437866b63cedc61552a5af99d1f4fb67d367b25f"
  },
  "kernelspec": {
   "display_name": "Python 3 (ipykernel)",
   "language": "python",
   "name": "python3"
  },
  "language_info": {
   "codemirror_mode": {
    "name": "ipython",
    "version": 3
   },
   "file_extension": ".py",
   "mimetype": "text/x-python",
   "name": "python",
   "nbconvert_exporter": "python",
   "pygments_lexer": "ipython3",
   "version": "3.9.7"
  }
 },
 "nbformat": 4,
 "nbformat_minor": 5
}
