{
 "cells": [
  {
   "cell_type": "markdown",
   "id": "b13ce85b",
   "metadata": {},
   "source": [
    "# 课堂练习\n",
    "在data文件夹中，有trajectory.txt文件，为城市共享单车骑行OD数据；\n",
    "\n",
    "数据各字段含义为`user,platform,start_time,start_lon,start_lat,end_time,end_lon,end_lat,dis`\n",
    "\n",
    "## 问题1：\n",
    "用户总量是多少？（提示：用python的list列表，或dict字典完成）\n",
    "\n",
    "## 问题2：\n",
    "用Python读取该数据，并分析用户骑行次数排行（从大到小的顺序），将结果输出到文件`out.txt`中\n",
    "\n",
    "**提示：open读取文件时，应该采用相对路径，为`../data/trajectory.txt`**"
   ]
  },
  {
   "cell_type": "code",
   "execution_count": 23,
   "id": "08b345d1",
   "metadata": {
    "execution": {
     "iopub.execute_input": "2022-09-05T15:01:20.327591Z",
     "iopub.status.busy": "2022-09-05T15:01:20.327591Z",
     "iopub.status.idle": "2022-09-05T15:01:20.348542Z",
     "shell.execute_reply": "2022-09-05T15:01:20.347544Z",
     "shell.execute_reply.started": "2022-09-05T15:01:20.327591Z"
    }
   },
   "outputs": [],
   "source": [
    "##问题一\n",
    "\n",
    "path='E:\\\\Projects\\\\trans_bigdata\\\\第一周-Python基础\\\\data\\\\bike_od.txt'\n",
    "f=open(path,'r')\n",
    "lines = f.readlines()\n",
    "f.close()"
   ]
  },
  {
   "cell_type": "code",
   "execution_count": 24,
   "id": "56c42d5a",
   "metadata": {
    "execution": {
     "iopub.execute_input": "2022-09-05T15:01:22.348127Z",
     "iopub.status.busy": "2022-09-05T15:01:22.348127Z",
     "iopub.status.idle": "2022-09-05T15:01:22.360063Z",
     "shell.execute_reply": "2022-09-05T15:01:22.359101Z",
     "shell.execute_reply.started": "2022-09-05T15:01:22.348127Z"
    }
   },
   "outputs": [
    {
     "data": {
      "text/plain": [
       "['user,platform,start_time,start_lon,start_lat,end_time,end_lon,end_lat,dis\\n',\n",
       " '17de7b721621a1eaec394c7bfe16f61b,f52411b549236c64cbfad398527b06f0,2017-10-01 20:34:39,104.097134,30.662983,2017-10-01 20:39:25,104.096313,30.662149,121.40856338370351\\n']"
      ]
     },
     "execution_count": 24,
     "metadata": {},
     "output_type": "execute_result"
    }
   ],
   "source": [
    "lines[0:2]"
   ]
  },
  {
   "cell_type": "code",
   "execution_count": 25,
   "id": "2cc55bed",
   "metadata": {
    "execution": {
     "iopub.execute_input": "2022-09-05T15:01:25.241289Z",
     "iopub.status.busy": "2022-09-05T15:01:25.241289Z",
     "iopub.status.idle": "2022-09-05T15:01:25.446797Z",
     "shell.execute_reply": "2022-09-05T15:01:25.445883Z",
     "shell.execute_reply.started": "2022-09-05T15:01:25.241289Z"
    }
   },
   "outputs": [
    {
     "name": "stdout",
     "output_type": "stream",
     "text": [
      "用户总量为： 2623\n"
     ]
    }
   ],
   "source": [
    "lines=lines[1:]\n",
    "user_list=[]\n",
    "for line in lines:\n",
    "    userID=line.split(',')[0]\n",
    "    \n",
    "    if userID not in user_list:\n",
    "        user_list.append(userID)\n",
    "\n",
    "print('用户总量为：',len(user_list))\n",
    "\n"
   ]
  },
  {
   "cell_type": "code",
   "execution_count": null,
   "id": "6342b8be",
   "metadata": {},
   "outputs": [],
   "source": []
  },
  {
   "cell_type": "code",
   "execution_count": null,
   "id": "ab83a79e",
   "metadata": {},
   "outputs": [],
   "source": []
  },
  {
   "cell_type": "code",
   "execution_count": 20,
   "id": "bce3e344",
   "metadata": {
    "execution": {
     "iopub.execute_input": "2022-09-05T14:46:50.870251Z",
     "iopub.status.busy": "2022-09-05T14:46:50.869252Z",
     "iopub.status.idle": "2022-09-05T14:46:50.873211Z",
     "shell.execute_reply": "2022-09-05T14:46:50.873211Z",
     "shell.execute_reply.started": "2022-09-05T14:46:50.870251Z"
    }
   },
   "outputs": [],
   "source": [
    "##问题二"
   ]
  },
  {
   "cell_type": "code",
   "execution_count": 26,
   "id": "9be5c2bb",
   "metadata": {
    "execution": {
     "iopub.execute_input": "2022-09-05T15:01:28.249412Z",
     "iopub.status.busy": "2022-09-05T15:01:28.248416Z",
     "iopub.status.idle": "2022-09-05T15:01:28.263376Z",
     "shell.execute_reply": "2022-09-05T15:01:28.263376Z",
     "shell.execute_reply.started": "2022-09-05T15:01:28.248416Z"
    }
   },
   "outputs": [],
   "source": [
    "user_num={}\n",
    "for line in lines:\n",
    "    userID=line.split(',')[0]\n",
    "    \n",
    "    if userID in user_num:\n",
    "        user_num[userID]+=1\n",
    "    else:\n",
    "        user_num[userID]=1\n"
   ]
  },
  {
   "cell_type": "code",
   "execution_count": 34,
   "id": "61f94f23",
   "metadata": {
    "execution": {
     "iopub.execute_input": "2022-09-05T15:06:23.455783Z",
     "iopub.status.busy": "2022-09-05T15:06:23.454784Z",
     "iopub.status.idle": "2022-09-05T15:06:23.461767Z",
     "shell.execute_reply": "2022-09-05T15:06:23.460792Z",
     "shell.execute_reply.started": "2022-09-05T15:06:23.455783Z"
    }
   },
   "outputs": [],
   "source": [
    "out=open('../out.txt','w')"
   ]
  },
  {
   "cell_type": "code",
   "execution_count": null,
   "id": "e043514b",
   "metadata": {},
   "outputs": [],
   "source": [
    "out."
   ]
  },
  {
   "cell_type": "code",
   "execution_count": null,
   "id": "8ce93179",
   "metadata": {},
   "outputs": [],
   "source": []
  },
  {
   "cell_type": "code",
   "execution_count": null,
   "id": "8ded1fb4",
   "metadata": {},
   "outputs": [],
   "source": []
  },
  {
   "cell_type": "code",
   "execution_count": null,
   "id": "e84c9367",
   "metadata": {},
   "outputs": [],
   "source": []
  },
  {
   "cell_type": "code",
   "execution_count": null,
   "id": "5cabea80",
   "metadata": {},
   "outputs": [],
   "source": []
  },
  {
   "cell_type": "code",
   "execution_count": null,
   "id": "6ccbcc99",
   "metadata": {},
   "outputs": [],
   "source": []
  },
  {
   "cell_type": "code",
   "execution_count": null,
   "id": "4d3a40c1",
   "metadata": {},
   "outputs": [],
   "source": []
  },
  {
   "cell_type": "code",
   "execution_count": null,
   "id": "cb9ce4ff",
   "metadata": {},
   "outputs": [],
   "source": []
  },
  {
   "cell_type": "code",
   "execution_count": null,
   "id": "35cc9df6",
   "metadata": {},
   "outputs": [],
   "source": []
  },
  {
   "cell_type": "code",
   "execution_count": null,
   "id": "2fcafd63",
   "metadata": {},
   "outputs": [],
   "source": []
  },
  {
   "cell_type": "code",
   "execution_count": null,
   "id": "6f874305",
   "metadata": {},
   "outputs": [],
   "source": []
  },
  {
   "cell_type": "code",
   "execution_count": null,
   "id": "5666cdbf",
   "metadata": {},
   "outputs": [],
   "source": []
  },
  {
   "cell_type": "code",
   "execution_count": null,
   "id": "7298cc0c",
   "metadata": {},
   "outputs": [],
   "source": []
  },
  {
   "cell_type": "code",
   "execution_count": null,
   "id": "dc5d19d7",
   "metadata": {},
   "outputs": [],
   "source": []
  },
  {
   "cell_type": "code",
   "execution_count": null,
   "id": "0864d38b",
   "metadata": {},
   "outputs": [],
   "source": []
  },
  {
   "cell_type": "code",
   "execution_count": null,
   "id": "61b4d099",
   "metadata": {},
   "outputs": [],
   "source": []
  },
  {
   "cell_type": "code",
   "execution_count": null,
   "id": "4e119669",
   "metadata": {},
   "outputs": [],
   "source": []
  },
  {
   "cell_type": "code",
   "execution_count": null,
   "id": "6a4ae98c",
   "metadata": {},
   "outputs": [],
   "source": []
  },
  {
   "cell_type": "code",
   "execution_count": null,
   "id": "9ed1e204",
   "metadata": {},
   "outputs": [],
   "source": []
  },
  {
   "cell_type": "code",
   "execution_count": null,
   "id": "1ed0c7cc",
   "metadata": {},
   "outputs": [],
   "source": []
  },
  {
   "cell_type": "code",
   "execution_count": null,
   "id": "d2e4fa8a",
   "metadata": {},
   "outputs": [],
   "source": []
  },
  {
   "cell_type": "code",
   "execution_count": null,
   "id": "a3c787b9",
   "metadata": {},
   "outputs": [],
   "source": []
  },
  {
   "cell_type": "code",
   "execution_count": null,
   "id": "bfd5f4de",
   "metadata": {},
   "outputs": [],
   "source": []
  },
  {
   "cell_type": "code",
   "execution_count": 1,
   "id": "14ebe8d5",
   "metadata": {},
   "outputs": [],
   "source": [
    "f = open('../data/bike_od.txt')\n",
    "lines = f.readlines()\n",
    "f.close()"
   ]
  },
  {
   "cell_type": "code",
   "execution_count": 4,
   "id": "cdb8e94e",
   "metadata": {},
   "outputs": [
    {
     "data": {
      "text/plain": [
       "['17de7b721621a1eaec394c7bfe16f61b,f52411b549236c64cbfad398527b06f0,2017-10-01 20:34:39,104.097134,30.662983,2017-10-01 20:39:25,104.096313,30.662149,121.40856338370351\\n',\n",
       " '87347011edded1387ca0cef5a7bdea28,f52411b549236c64cbfad398527b06f0,2017-10-01 09:02:01,103.9586,30.688988,2017-10-01 09:02:10,103.958639,30.68896,4.857876100086827\\n',\n",
       " '87347011edded1387ca0cef5a7bdea28,f52411b549236c64cbfad398527b06f0,2017-10-01 10:41:11,103.958588,30.688974,2017-10-01 10:42:55,103.958632,30.688974,4.21576439917117\\n',\n",
       " '87347011edded1387ca0cef5a7bdea28,f52411b549236c64cbfad398527b06f0,2017-10-01 11:52:19,103.958563,30.688981,2017-10-01 12:02:15,103.958708,30.688565,48.16657195560817\\n',\n",
       " '87347011edded1387ca0cef5a7bdea28,f52411b549236c64cbfad398527b06f0,2017-10-01 12:54:14,103.95864,30.688963,2017-10-01 12:54:34,103.958702,30.688961,5.944532645458967\\n',\n",
       " '87347011edded1387ca0cef5a7bdea28,f52411b549236c64cbfad398527b06f0,2017-10-01 17:07:51,103.958046,30.689294,2017-10-01 17:08:04,103.958251,30.689333,20.111820093789383\\n',\n",
       " '9358093e5301671968a0c970165db41d,f52411b549236c64cbfad398527b06f0,2017-10-01 16:00:37,104.141525,30.675198,2017-10-01 16:06:48,104.136724,30.671861,590.3642752220823\\n',\n",
       " '9358093e5301671968a0c970165db41d,f52411b549236c64cbfad398527b06f0,2017-10-01 18:59:55,104.120421,30.66447,2017-10-01 19:01:19,104.12728,30.667824,755.2163458559802\\n',\n",
       " 'ee918019ed5025c4db6dc4e88b27aa12,f52411b549236c64cbfad398527b06f0,2017-10-01 14:58:30,104.044585,30.588811,2017-10-01 15:16:54,104.061035,30.594831,1713.0499359102212\\n',\n",
       " '8552732d4a3d23b0d5d4e2394b5d3b16,f52411b549236c64cbfad398527b06f0,2017-10-01 12:42:29,104.002352,30.677148,2017-10-01 12:55:43,104.001751,30.67672,74.62012652066407\\n']"
      ]
     },
     "execution_count": 4,
     "metadata": {},
     "output_type": "execute_result"
    }
   ],
   "source": [
    "lines = lines[1:]\n",
    "lines[0:10]"
   ]
  },
  {
   "cell_type": "code",
   "execution_count": 8,
   "id": "d348cdb9",
   "metadata": {},
   "outputs": [
    {
     "data": {
      "text/plain": [
       "'17de7b721621a1eaec394c7bfe16f61b'"
      ]
     },
     "execution_count": 8,
     "metadata": {},
     "output_type": "execute_result"
    }
   ],
   "source": [
    "line = lines[0]\n",
    "line_seg = line.split(',')\n",
    "line_seg[0]"
   ]
  },
  {
   "cell_type": "code",
   "execution_count": 12,
   "id": "0647331e",
   "metadata": {},
   "outputs": [
    {
     "name": "stdout",
     "output_type": "stream",
     "text": [
      "用户总量： 2623\n"
     ]
    }
   ],
   "source": [
    "user_list = []\n",
    "for line in lines:\n",
    "    seg = line.split(',')\n",
    "    user = seg[0]\n",
    "    \n",
    "    if user not in user_list:\n",
    "        user_list.append(user)\n",
    "print('用户总量：', len(user_list))"
   ]
  },
  {
   "cell_type": "code",
   "execution_count": null,
   "id": "e2eb9a52",
   "metadata": {},
   "outputs": [],
   "source": []
  },
  {
   "cell_type": "code",
   "execution_count": 24,
   "id": "a4d3191f",
   "metadata": {},
   "outputs": [],
   "source": [
    "user_dict = {}\n",
    "for line in lines:\n",
    "    seg = line.split(',')\n",
    "    user = seg[0]\n",
    "    \n",
    "    if user in user_dict:\n",
    "        user_dict[user] +=1\n",
    "    else:\n",
    "        user_dict[user]=1\n",
    "    \n",
    "l = [[key, user_dict[key]] for key in user_dict]\n",
    "l = sorted(l, key=lambda x: x[1], reverse=True)\n",
    "\n",
    "out = open('../data/user_freq.csv', 'w')\n",
    "for user, n in l:\n",
    "    out.write('{},{}\\n'.format(user,n))\n",
    "    \n",
    "out.close()"
   ]
  },
  {
   "cell_type": "code",
   "execution_count": 35,
   "id": "69bf6fbe",
   "metadata": {
    "execution": {
     "iopub.execute_input": "2022-09-05T15:06:52.386939Z",
     "iopub.status.busy": "2022-09-05T15:06:52.386939Z",
     "iopub.status.idle": "2022-09-05T15:06:52.404892Z",
     "shell.execute_reply": "2022-09-05T15:06:52.403894Z",
     "shell.execute_reply.started": "2022-09-05T15:06:52.386939Z"
    }
   },
   "outputs": [
    {
     "ename": "NameError",
     "evalue": "name 'l' is not defined",
     "output_type": "error",
     "traceback": [
      "\u001b[1;31m---------------------------------------------------------------------------\u001b[0m",
      "\u001b[1;31mNameError\u001b[0m                                 Traceback (most recent call last)",
      "\u001b[1;32m~\\AppData\\Local\\Temp/ipykernel_11116/3723490112.py\u001b[0m in \u001b[0;36m<module>\u001b[1;34m\u001b[0m\n\u001b[1;32m----> 1\u001b[1;33m \u001b[0ml\u001b[0m\u001b[1;33m\u001b[0m\u001b[1;33m\u001b[0m\u001b[0m\n\u001b[0m",
      "\u001b[1;31mNameError\u001b[0m: name 'l' is not defined"
     ]
    }
   ],
   "source": []
  }
 ],
 "metadata": {
  "kernelspec": {
   "display_name": "Python 3 (ipykernel)",
   "language": "python",
   "name": "python3"
  },
  "language_info": {
   "codemirror_mode": {
    "name": "ipython",
    "version": 3
   },
   "file_extension": ".py",
   "mimetype": "text/x-python",
   "name": "python",
   "nbconvert_exporter": "python",
   "pygments_lexer": "ipython3",
   "version": "3.9.7"
  }
 },
 "nbformat": 4,
 "nbformat_minor": 5
}
