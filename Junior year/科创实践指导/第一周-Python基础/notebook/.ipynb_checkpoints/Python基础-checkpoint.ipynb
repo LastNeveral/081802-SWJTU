{
 "cells": [
  {
   "cell_type": "markdown",
   "id": "1d398fb1-41d9-4b4d-919c-70f00ee93ca7",
   "metadata": {},
   "source": [
    "# 1. 基本数据类型\n",
    "## 变量不需要声明\n",
    "Python的变量不需要声明，你可以直接输入：`a = 10`，那么你的内存里就有了一个变量a， 它的值是10，它的类型是integer (整数)。 在此之前你不需要做什么特别的声明，而数据类型是Python自动决定的。"
   ]
  },
  {
   "cell_type": "code",
   "execution_count": 1,
   "id": "ac77887a-68ea-49ad-9177-14134e52ca2f",
   "metadata": {
    "execution": {
     "iopub.execute_input": "2022-09-04T12:57:09.213101Z",
     "iopub.status.busy": "2022-09-04T12:57:09.213101Z",
     "iopub.status.idle": "2022-09-04T12:57:09.228061Z",
     "shell.execute_reply": "2022-09-04T12:57:09.228061Z",
     "shell.execute_reply.started": "2022-09-04T12:57:09.213101Z"
    }
   },
   "outputs": [],
   "source": [
    "a = 10"
   ]
  },
  {
   "cell_type": "code",
   "execution_count": 2,
   "id": "ab8e4822-50d5-4dd7-9569-433609670909",
   "metadata": {
    "execution": {
     "iopub.execute_input": "2022-09-04T12:57:09.229058Z",
     "iopub.status.busy": "2022-09-04T12:57:09.229058Z",
     "iopub.status.idle": "2022-09-04T12:57:09.244018Z",
     "shell.execute_reply": "2022-09-04T12:57:09.244018Z",
     "shell.execute_reply.started": "2022-09-04T12:57:09.229058Z"
    }
   },
   "outputs": [
    {
     "name": "stdout",
     "output_type": "stream",
     "text": [
      "10\n",
      "<class 'int'>\n"
     ]
    }
   ],
   "source": [
    "print(a)\n",
    "print(type(a))"
   ]
  },
  {
   "cell_type": "markdown",
   "id": "c3401d4e-c003-49a1-8e69-7ab3f55551b4",
   "metadata": {},
   "source": [
    "这里，我们学到一个内置函数type(), 用以查询变量的类型。"
   ]
  },
  {
   "cell_type": "code",
   "execution_count": null,
   "id": "b940fc2f-86f3-4f24-980b-37dc887399af",
   "metadata": {},
   "outputs": [],
   "source": []
  },
  {
   "cell_type": "markdown",
   "id": "b4f62d5c-32ba-4574-89d2-d6dd3a4d72fd",
   "metadata": {},
   "source": [
    "## 回收变量名\n",
    "如果你想让a存储不同的数据，你不需要删除原有变量就可以直接赋值。"
   ]
  },
  {
   "cell_type": "code",
   "execution_count": 3,
   "id": "04d15358-de23-4780-b490-2394ad0db68d",
   "metadata": {
    "execution": {
     "iopub.execute_input": "2022-09-04T12:57:09.245015Z",
     "iopub.status.busy": "2022-09-04T12:57:09.245015Z",
     "iopub.status.idle": "2022-09-04T12:57:09.259975Z",
     "shell.execute_reply": "2022-09-04T12:57:09.259975Z",
     "shell.execute_reply.started": "2022-09-04T12:57:09.245015Z"
    }
   },
   "outputs": [
    {
     "name": "stdout",
     "output_type": "stream",
     "text": [
      "1.3 <class 'float'>\n"
     ]
    }
   ],
   "source": [
    "a = 1.3\n",
    "print(a, type(a))"
   ]
  },
  {
   "cell_type": "markdown",
   "id": "191ede47-3cbf-4aa7-9148-659eb7c5c566",
   "metadata": {},
   "source": [
    "我们看到print的另一个用法，也就是print后跟多个输出，以逗号分隔。"
   ]
  },
  {
   "cell_type": "code",
   "execution_count": null,
   "id": "96476011-f7bc-4502-b277-fb77277ad4b3",
   "metadata": {},
   "outputs": [],
   "source": []
  },
  {
   "cell_type": "markdown",
   "id": "38836263-b44d-48ce-b513-bc2358645193",
   "metadata": {},
   "source": [
    "## 基本数据类型\n",
    "```\n",
    "a=10         # int 整数\n",
    "a=1.3        # float 浮点数\n",
    "a=True       # 真值 (True/False)\n",
    "a='Hello!'   # 字符串。字符串也可以用双引号。\n",
    "```\n",
    "\n",
    "以上是最常用的数据类型。此外还有分数，字符，复数等其他类型。"
   ]
  },
  {
   "cell_type": "code",
   "execution_count": null,
   "id": "14f8acd4-d775-4690-bea4-9ca9321abf8b",
   "metadata": {},
   "outputs": [],
   "source": []
  },
  {
   "cell_type": "code",
   "execution_count": null,
   "id": "673c65ea-691e-4fcf-a25c-97595efb3a36",
   "metadata": {},
   "outputs": [],
   "source": []
  },
  {
   "cell_type": "markdown",
   "id": "c5740e74-487b-4c63-9445-d130fb2a03d7",
   "metadata": {},
   "source": [
    "# 2. 序列\n",
    "## sequence 序列\n",
    "sequence(序列)是一组`有顺序`的`元素`的`集合`\n",
    "\n",
    "(严格的说，是对象的集合，但鉴于我们还没有引入“对象”概念，暂时说元素)\n",
    "\n",
    " \n",
    "\n",
    "序列可以包含一个或多个`元素`，也可以没有任何元素。\n",
    "\n",
    "我们之前所说的基本数据类型，都可以作为序列的元素。元素还可以是另一个序列，以及我们以后要介绍的其他对象。\n",
    "\n",
    " \n",
    "\n",
    "序列有两种：tuple（`定值表`； 也有翻译为`元组`） 和 list (`表`)\n",
    "```\n",
    ">>>s1 = (2, 1.3, 'love', 5.6, 9, 12, False)         # s1是一个tuple\n",
    "\n",
    ">>>s2 = [True, 5, 'smile']                          # s2是一个list\n",
    "\n",
    ">>>print(s1,type(s1))\n",
    "\n",
    ">>>print(s2,type(s2))\n",
    "```\n",
    "\n",
    "tuple和list的主要区别在于，一旦建立，`tuple的各个元素不可再变更，而list的各个元素可以再变更`。\n",
    "\n",
    "一个序列作为另一个序列的元素\n",
    "```\n",
    ">>>s3 = [1,[3,4,5]]\n",
    "```\n",
    "\n",
    "空序列\n",
    "```\n",
    ">>>s4 = []\n",
    "```"
   ]
  },
  {
   "cell_type": "code",
   "execution_count": 4,
   "id": "e498b989-8763-412c-a654-46b91e212174",
   "metadata": {
    "execution": {
     "iopub.execute_input": "2022-09-04T12:57:09.260973Z",
     "iopub.status.busy": "2022-09-04T12:57:09.259975Z",
     "iopub.status.idle": "2022-09-04T12:57:09.275932Z",
     "shell.execute_reply": "2022-09-04T12:57:09.275932Z",
     "shell.execute_reply.started": "2022-09-04T12:57:09.260973Z"
    }
   },
   "outputs": [],
   "source": [
    "s1 = (2, 1.3, 'love', 5.6, 9, 12, False)         # s1是一个tuple\n",
    "s2 = [True, 5, 'smile']                          # s2是一个list\n",
    "s3 = [1, [3, 4, 5]]\n",
    "s4 = []"
   ]
  },
  {
   "cell_type": "code",
   "execution_count": 5,
   "id": "ea61fc3c-dff4-4bc8-b3f6-22fe0e2e50f3",
   "metadata": {
    "execution": {
     "iopub.execute_input": "2022-09-04T12:57:09.276930Z",
     "iopub.status.busy": "2022-09-04T12:57:09.276930Z",
     "iopub.status.idle": "2022-09-04T12:57:09.291890Z",
     "shell.execute_reply": "2022-09-04T12:57:09.291890Z",
     "shell.execute_reply.started": "2022-09-04T12:57:09.276930Z"
    }
   },
   "outputs": [
    {
     "name": "stdout",
     "output_type": "stream",
     "text": [
      "(2, 1.3, 'love', 5.6, 9, 12, False) <class 'tuple'>\n",
      "[True, 5, 'smile'] <class 'list'>\n"
     ]
    }
   ],
   "source": [
    "print(s1, type(s1))\n",
    "print(s2, type(s2))"
   ]
  },
  {
   "cell_type": "code",
   "execution_count": null,
   "id": "36e67d3f-5982-4ac7-99f9-ca75e26a5ac8",
   "metadata": {},
   "outputs": [],
   "source": []
  },
  {
   "cell_type": "code",
   "execution_count": null,
   "id": "ad8c7b52-1da0-46df-b604-798c2f519ce9",
   "metadata": {},
   "outputs": [],
   "source": []
  },
  {
   "cell_type": "markdown",
   "id": "a1e8732a-729e-4fac-9bdf-cd2dc3de7393",
   "metadata": {},
   "source": [
    "## 元素的引用序列元素的下标从0开始：\n",
    "```\n",
    ">>>print(s1[0])\n",
    ">>>print(s2[2])\n",
    ">>>print(s3[1][2])\n",
    "\n",
    "```\n",
    "由于list的元素可变更，你可以对list的某个元素赋值：\n",
    "```\n",
    ">>>s2[1] = 3.0\n",
    ">>>print(s2)\n",
    "```\n",
    "如果你对tuple做这样的操作，会得到错误提示。\n",
    "\n",
    "所以，可以看到，序列的引用通过`s[<int>]`实现， int为下标"
   ]
  },
  {
   "cell_type": "code",
   "execution_count": 6,
   "id": "661021c1-0481-4c62-b239-0280f9332fe3",
   "metadata": {
    "execution": {
     "iopub.execute_input": "2022-09-04T12:57:09.292887Z",
     "iopub.status.busy": "2022-09-04T12:57:09.292887Z",
     "iopub.status.idle": "2022-09-04T12:57:09.307848Z",
     "shell.execute_reply": "2022-09-04T12:57:09.307848Z",
     "shell.execute_reply.started": "2022-09-04T12:57:09.292887Z"
    }
   },
   "outputs": [
    {
     "name": "stdout",
     "output_type": "stream",
     "text": [
      "2\n",
      "smile\n",
      "5\n"
     ]
    }
   ],
   "source": [
    "print(s1[0])\n",
    "print(s2[2])\n",
    "print(s3[1][2])"
   ]
  },
  {
   "cell_type": "code",
   "execution_count": 7,
   "id": "3c235bd6-cb1e-44fc-8cd1-ee7f5b42e8d9",
   "metadata": {
    "execution": {
     "iopub.execute_input": "2022-09-04T12:57:09.308845Z",
     "iopub.status.busy": "2022-09-04T12:57:09.308845Z",
     "iopub.status.idle": "2022-09-04T12:57:09.323805Z",
     "shell.execute_reply": "2022-09-04T12:57:09.323805Z",
     "shell.execute_reply.started": "2022-09-04T12:57:09.308845Z"
    }
   },
   "outputs": [
    {
     "name": "stdout",
     "output_type": "stream",
     "text": [
      "[True, 3.0, 'smile']\n"
     ]
    }
   ],
   "source": [
    "s2[1] = 3.0\n",
    "print(s2)"
   ]
  },
  {
   "cell_type": "code",
   "execution_count": null,
   "id": "80f5c8eb-3c47-4135-bc7d-fa07f040b419",
   "metadata": {},
   "outputs": [],
   "source": []
  },
  {
   "cell_type": "markdown",
   "id": "c610155f-fd0d-4fe0-a1c2-9ceb3b37b812",
   "metadata": {},
   "source": [
    "## 其他引用方式\n",
    "范围引用： 基本样式[下限:上限:步长]\n",
    "```\n",
    ">>>print(s1[:5])             # 从开始到下标4 （下标5的元素 不包括在内）\n",
    "\n",
    ">>>print(s1[2:])             # 从下标2到最后\n",
    "\n",
    ">>>print(s1[0:5:2])          # 从下标0到下标4 (下标5不包括在内)，每隔2取一个元素 （下标为0，2，4的元素）\n",
    "\n",
    ">>>print(s1[2:0:-1])         # 从下标2到下标1\n",
    "```\n",
    "从上面可以看到，在范围引用的时候，如果写明上限，那么这个上限本身不包括在内。\n",
    "\n",
    "尾部元素引用\n",
    "```\n",
    ">>>print(s1[-1])             # 序列最后一个元素\n",
    "\n",
    ">>>print(s1[-3])             # 序列倒数第三个元素\n",
    "```\n",
    "同样，如果`s1[0:-1]`, 那么最后一个元素不会被引用 （再一次，不包括上限元素本身）"
   ]
  },
  {
   "cell_type": "code",
   "execution_count": 8,
   "id": "f993a8b0-504c-4ccf-b649-2011a980da12",
   "metadata": {
    "execution": {
     "iopub.execute_input": "2022-09-04T12:57:09.324801Z",
     "iopub.status.busy": "2022-09-04T12:57:09.324801Z",
     "iopub.status.idle": "2022-09-04T12:57:09.338703Z",
     "shell.execute_reply": "2022-09-04T12:57:09.338703Z",
     "shell.execute_reply.started": "2022-09-04T12:57:09.324801Z"
    }
   },
   "outputs": [
    {
     "name": "stdout",
     "output_type": "stream",
     "text": [
      "(2, 1.3, 'love', 5.6, 9)\n",
      "('love', 5.6, 9, 12, False)\n",
      "(2, 'love', 9)\n",
      "('love', 1.3)\n"
     ]
    }
   ],
   "source": [
    "print(s1[:5])             # 从开始到下标4 （下标5的元素 不包括在内）\n",
    "print(s1[2:])             # 从下标2到最后\n",
    "print(s1[0:5:2])          # 从下标0到下标4 (下标5不包括在内)，每隔2取一个元素 （下标为0，2，4的元素）\n",
    "print(s1[2:0:-1])         # 从下标2到下标1"
   ]
  },
  {
   "cell_type": "code",
   "execution_count": 9,
   "id": "0ef5e88d-c321-47df-afb5-7920e93e1c48",
   "metadata": {
    "execution": {
     "iopub.execute_input": "2022-09-04T12:57:09.339656Z",
     "iopub.status.busy": "2022-09-04T12:57:09.339656Z",
     "iopub.status.idle": "2022-09-04T12:57:09.354029Z",
     "shell.execute_reply": "2022-09-04T12:57:09.354029Z",
     "shell.execute_reply.started": "2022-09-04T12:57:09.339656Z"
    }
   },
   "outputs": [
    {
     "name": "stdout",
     "output_type": "stream",
     "text": [
      "False\n",
      "9\n"
     ]
    }
   ],
   "source": [
    "print(s1[-1])             # 序列最后一个元素\n",
    "print(s1[-3])             # 序列倒数第三个元素"
   ]
  },
  {
   "cell_type": "code",
   "execution_count": null,
   "id": "bed60213-839f-4c6e-be8d-7ede4ffcd3c6",
   "metadata": {},
   "outputs": [],
   "source": []
  },
  {
   "cell_type": "markdown",
   "id": "f58a9fef-9cea-4203-8996-4ad856d7db70",
   "metadata": {},
   "source": [
    "## 字符串是元组\n",
    "字符串是一种特殊的元组，因此可以执行元组的相关操作。\n",
    "```\n",
    ">>>str = 'abcdef'\n",
    ">>>print(str[2:4])\n",
    "```"
   ]
  },
  {
   "cell_type": "code",
   "execution_count": 10,
   "id": "8b09db2c-8e0f-40aa-8fe0-3ca8f5554083",
   "metadata": {
    "execution": {
     "iopub.execute_input": "2022-09-04T12:57:09.354985Z",
     "iopub.status.busy": "2022-09-04T12:57:09.354985Z",
     "iopub.status.idle": "2022-09-04T12:57:09.369292Z",
     "shell.execute_reply": "2022-09-04T12:57:09.369292Z",
     "shell.execute_reply.started": "2022-09-04T12:57:09.354985Z"
    }
   },
   "outputs": [
    {
     "name": "stdout",
     "output_type": "stream",
     "text": [
      "cd\n"
     ]
    }
   ],
   "source": [
    "s = 'abcdef'\n",
    "print(s[2:4])"
   ]
  },
  {
   "cell_type": "code",
   "execution_count": null,
   "id": "70f89b32-8395-43b4-9da0-d12e0744e7d1",
   "metadata": {},
   "outputs": [],
   "source": []
  },
  {
   "cell_type": "code",
   "execution_count": null,
   "id": "581a4047-2720-44ff-805f-dfd3e6e0c51f",
   "metadata": {},
   "outputs": [],
   "source": []
  },
  {
   "cell_type": "markdown",
   "id": "84801fba-8601-43a0-b4c8-10daaaf49842",
   "metadata": {},
   "source": [
    "# 3. 运算"
   ]
  },
  {
   "cell_type": "markdown",
   "id": "a47a5fd5-a8a5-400b-b55b-e9674fa6a317",
   "metadata": {},
   "source": [
    "Python的运算符和其他语言类似\n",
    "\n",
    "（我们暂时只了解这些运算符的基本用法，方便我们展开后面的内容，高级应用暂时不介绍）"
   ]
  },
  {
   "cell_type": "markdown",
   "id": "af4355cf-d1d0-4590-9732-3a98d0d14c2b",
   "metadata": {},
   "source": [
    "## 数学运算"
   ]
  },
  {
   "cell_type": "code",
   "execution_count": 11,
   "id": "ec8dd252-6d16-4fda-8865-34aa84fe8e3e",
   "metadata": {
    "execution": {
     "iopub.execute_input": "2022-09-04T12:57:09.370289Z",
     "iopub.status.busy": "2022-09-04T12:57:09.370289Z",
     "iopub.status.idle": "2022-09-04T12:57:09.384666Z",
     "shell.execute_reply": "2022-09-04T12:57:09.384666Z",
     "shell.execute_reply.started": "2022-09-04T12:57:09.370289Z"
    }
   },
   "outputs": [
    {
     "name": "stdout",
     "output_type": "stream",
     "text": [
      "10\n"
     ]
    }
   ],
   "source": [
    "print(1 + 9 )       # 加法"
   ]
  },
  {
   "cell_type": "code",
   "execution_count": 12,
   "id": "5c4dc67a-e1b4-405f-82ee-80402cdae977",
   "metadata": {
    "execution": {
     "iopub.execute_input": "2022-09-04T12:57:09.385622Z",
     "iopub.status.busy": "2022-09-04T12:57:09.385622Z",
     "iopub.status.idle": "2022-09-04T12:57:09.400588Z",
     "shell.execute_reply": "2022-09-04T12:57:09.400588Z",
     "shell.execute_reply.started": "2022-09-04T12:57:09.385622Z"
    }
   },
   "outputs": [
    {
     "name": "stdout",
     "output_type": "stream",
     "text": [
      "-2.7\n"
     ]
    }
   ],
   "source": [
    "print(1.3 - 4)      # 减法"
   ]
  },
  {
   "cell_type": "code",
   "execution_count": 13,
   "id": "91cc2e3e-d4b8-4bde-a674-466ed22efdf6",
   "metadata": {
    "execution": {
     "iopub.execute_input": "2022-09-04T12:57:09.401585Z",
     "iopub.status.busy": "2022-09-04T12:57:09.401585Z",
     "iopub.status.idle": "2022-09-04T12:57:09.416060Z",
     "shell.execute_reply": "2022-09-04T12:57:09.416060Z",
     "shell.execute_reply.started": "2022-09-04T12:57:09.401585Z"
    }
   },
   "outputs": [
    {
     "name": "stdout",
     "output_type": "stream",
     "text": [
      "15\n"
     ]
    }
   ],
   "source": [
    "print(3 * 5)        # 乘法"
   ]
  },
  {
   "cell_type": "code",
   "execution_count": 14,
   "id": "f7c33593-fccd-4a67-b2f9-0b044e421c84",
   "metadata": {
    "execution": {
     "iopub.execute_input": "2022-09-04T12:57:09.417982Z",
     "iopub.status.busy": "2022-09-04T12:57:09.417982Z",
     "iopub.status.idle": "2022-09-04T12:57:09.431947Z",
     "shell.execute_reply": "2022-09-04T12:57:09.431947Z",
     "shell.execute_reply.started": "2022-09-04T12:57:09.417982Z"
    }
   },
   "outputs": [
    {
     "name": "stdout",
     "output_type": "stream",
     "text": [
      "3.0\n"
     ]
    }
   ],
   "source": [
    "print(4.5 / 1.5)    # 除法"
   ]
  },
  {
   "cell_type": "code",
   "execution_count": 15,
   "id": "5a683a4a-af6c-4048-baeb-60890ff0e649",
   "metadata": {
    "execution": {
     "iopub.execute_input": "2022-09-04T12:57:09.432945Z",
     "iopub.status.busy": "2022-09-04T12:57:09.432945Z",
     "iopub.status.idle": "2022-09-04T12:57:09.447904Z",
     "shell.execute_reply": "2022-09-04T12:57:09.447904Z",
     "shell.execute_reply.started": "2022-09-04T12:57:09.432945Z"
    }
   },
   "outputs": [
    {
     "name": "stdout",
     "output_type": "stream",
     "text": [
      "9\n"
     ]
    }
   ],
   "source": [
    "print(3 ** 2)       # 乘方    "
   ]
  },
  {
   "cell_type": "code",
   "execution_count": 16,
   "id": "d907ca36-983c-4a79-9c5c-dc578b393d1d",
   "metadata": {
    "execution": {
     "iopub.execute_input": "2022-09-04T12:57:09.448902Z",
     "iopub.status.busy": "2022-09-04T12:57:09.448902Z",
     "iopub.status.idle": "2022-09-04T12:57:09.463862Z",
     "shell.execute_reply": "2022-09-04T12:57:09.463862Z",
     "shell.execute_reply.started": "2022-09-04T12:57:09.448902Z"
    }
   },
   "outputs": [
    {
     "name": "stdout",
     "output_type": "stream",
     "text": [
      "3\n"
     ]
    }
   ],
   "source": [
    "print(10 // 3)       # 整除"
   ]
  },
  {
   "cell_type": "code",
   "execution_count": 17,
   "id": "d6028940-b1cd-4cc3-8fe2-4eba9b9eda29",
   "metadata": {
    "execution": {
     "iopub.execute_input": "2022-09-04T12:57:09.464859Z",
     "iopub.status.busy": "2022-09-04T12:57:09.464859Z",
     "iopub.status.idle": "2022-09-04T12:57:09.479819Z",
     "shell.execute_reply": "2022-09-04T12:57:09.479819Z",
     "shell.execute_reply.started": "2022-09-04T12:57:09.464859Z"
    }
   },
   "outputs": [
    {
     "name": "stdout",
     "output_type": "stream",
     "text": [
      "1\n"
     ]
    }
   ],
   "source": [
    "print(10 % 3)       # 求余数"
   ]
  },
  {
   "cell_type": "markdown",
   "id": "f036896f-b8d7-4b3a-81eb-9630a390dba9",
   "metadata": {},
   "source": [
    "## 判断"
   ]
  },
  {
   "cell_type": "markdown",
   "id": "14d253b1-98a3-4d85-b9b1-9e76d3175435",
   "metadata": {},
   "source": [
    "判断是真还是假，返回`True/False`"
   ]
  },
  {
   "cell_type": "code",
   "execution_count": 18,
   "id": "3b0b5866-dbd4-4e96-9a90-bbafbac805ce",
   "metadata": {
    "execution": {
     "iopub.execute_input": "2022-09-04T12:57:09.480840Z",
     "iopub.status.busy": "2022-09-04T12:57:09.480840Z",
     "iopub.status.idle": "2022-09-04T12:57:09.495776Z",
     "shell.execute_reply": "2022-09-04T12:57:09.495776Z",
     "shell.execute_reply.started": "2022-09-04T12:57:09.480840Z"
    }
   },
   "outputs": [
    {
     "name": "stdout",
     "output_type": "stream",
     "text": [
      "False\n"
     ]
    }
   ],
   "source": [
    "print(5==6)               # =， 相等"
   ]
  },
  {
   "cell_type": "code",
   "execution_count": 19,
   "id": "fa9ff680-18cb-4e8b-b7ca-58445106a0ef",
   "metadata": {
    "execution": {
     "iopub.execute_input": "2022-09-04T12:57:09.496774Z",
     "iopub.status.busy": "2022-09-04T12:57:09.496774Z",
     "iopub.status.idle": "2022-09-04T12:57:09.511734Z",
     "shell.execute_reply": "2022-09-04T12:57:09.511734Z",
     "shell.execute_reply.started": "2022-09-04T12:57:09.496774Z"
    }
   },
   "outputs": [
    {
     "name": "stdout",
     "output_type": "stream",
     "text": [
      "False\n"
     ]
    }
   ],
   "source": [
    "print(8.0!=8.0)           # !=, 不等"
   ]
  },
  {
   "cell_type": "code",
   "execution_count": 20,
   "id": "7782641b-f069-4e12-9d9a-52fd6c8b6b96",
   "metadata": {
    "execution": {
     "iopub.execute_input": "2022-09-04T12:57:09.512732Z",
     "iopub.status.busy": "2022-09-04T12:57:09.512732Z",
     "iopub.status.idle": "2022-09-04T12:57:09.526694Z",
     "shell.execute_reply": "2022-09-04T12:57:09.526694Z",
     "shell.execute_reply.started": "2022-09-04T12:57:09.512732Z"
    }
   },
   "outputs": [
    {
     "name": "stdout",
     "output_type": "stream",
     "text": [
      "False True\n"
     ]
    }
   ],
   "source": [
    "print(3<3, 3<=3)          # <, 小于; <=, 小于等于"
   ]
  },
  {
   "cell_type": "code",
   "execution_count": 21,
   "id": "d1c46d50-4f30-498b-b02c-49ea55f8c902",
   "metadata": {
    "execution": {
     "iopub.execute_input": "2022-09-04T12:57:09.527691Z",
     "iopub.status.busy": "2022-09-04T12:57:09.527691Z",
     "iopub.status.idle": "2022-09-04T12:57:09.541653Z",
     "shell.execute_reply": "2022-09-04T12:57:09.541653Z",
     "shell.execute_reply.started": "2022-09-04T12:57:09.527691Z"
    }
   },
   "outputs": [
    {
     "name": "stdout",
     "output_type": "stream",
     "text": [
      "False True\n"
     ]
    }
   ],
   "source": [
    "print(4>5, 4>=0)          # >, 大于; >=, 大于等于"
   ]
  },
  {
   "cell_type": "code",
   "execution_count": 22,
   "id": "edb9ce87-f089-4972-a4fc-b2d18418d5f8",
   "metadata": {
    "execution": {
     "iopub.execute_input": "2022-09-04T12:57:09.542651Z",
     "iopub.status.busy": "2022-09-04T12:57:09.542651Z",
     "iopub.status.idle": "2022-09-04T12:57:09.556614Z",
     "shell.execute_reply": "2022-09-04T12:57:09.556614Z",
     "shell.execute_reply.started": "2022-09-04T12:57:09.542651Z"
    }
   },
   "outputs": [
    {
     "name": "stdout",
     "output_type": "stream",
     "text": [
      "True\n"
     ]
    }
   ],
   "source": [
    "print(5 in [1,3,5])       # 5是list [1,3,5]的一个元素"
   ]
  },
  {
   "cell_type": "code",
   "execution_count": null,
   "id": "dd340ed0-ed66-4d3f-9bdb-9ec4f01062c0",
   "metadata": {},
   "outputs": [],
   "source": []
  },
  {
   "cell_type": "markdown",
   "id": "8800e403-b583-47e7-a90b-9c1b72da19a2",
   "metadata": {},
   "source": [
    "## 逻辑运算"
   ]
  },
  {
   "cell_type": "markdown",
   "id": "be82be1f-18ee-4e20-99a0-b45f1a3df437",
   "metadata": {},
   "source": [
    "`True/False`之间的运算"
   ]
  },
  {
   "cell_type": "code",
   "execution_count": 23,
   "id": "ee197a47-c912-4541-931c-eab0258e4a0e",
   "metadata": {
    "execution": {
     "iopub.execute_input": "2022-09-04T12:57:09.557611Z",
     "iopub.status.busy": "2022-09-04T12:57:09.557611Z",
     "iopub.status.idle": "2022-09-04T12:57:09.571574Z",
     "shell.execute_reply": "2022-09-04T12:57:09.571574Z",
     "shell.execute_reply.started": "2022-09-04T12:57:09.557611Z"
    }
   },
   "outputs": [
    {
     "name": "stdout",
     "output_type": "stream",
     "text": [
      "True False\n"
     ]
    }
   ],
   "source": [
    "print(True and True, True and False)      # and, “与”运算， 两者都为真才是真"
   ]
  },
  {
   "cell_type": "code",
   "execution_count": 24,
   "id": "a2ea82ac-4b8c-459b-98bf-36384f6b8e63",
   "metadata": {
    "execution": {
     "iopub.execute_input": "2022-09-04T12:57:09.572571Z",
     "iopub.status.busy": "2022-09-04T12:57:09.572571Z",
     "iopub.status.idle": "2022-09-04T12:57:09.586534Z",
     "shell.execute_reply": "2022-09-04T12:57:09.586534Z",
     "shell.execute_reply.started": "2022-09-04T12:57:09.572571Z"
    }
   },
   "outputs": [
    {
     "name": "stdout",
     "output_type": "stream",
     "text": [
      "True\n"
     ]
    }
   ],
   "source": [
    "print(True or False)                      # or, \"或\"运算， 其中之一为真即为真"
   ]
  },
  {
   "cell_type": "code",
   "execution_count": 25,
   "id": "bfe63ac7-ec9d-4245-9959-f76de4773264",
   "metadata": {
    "execution": {
     "iopub.execute_input": "2022-09-04T12:57:09.587531Z",
     "iopub.status.busy": "2022-09-04T12:57:09.587531Z",
     "iopub.status.idle": "2022-09-04T12:57:09.601494Z",
     "shell.execute_reply": "2022-09-04T12:57:09.601494Z",
     "shell.execute_reply.started": "2022-09-04T12:57:09.587531Z"
    }
   },
   "outputs": [
    {
     "name": "stdout",
     "output_type": "stream",
     "text": [
      "False\n"
     ]
    }
   ],
   "source": [
    "print(not True)                           # not, “非”运算， 取反"
   ]
  },
  {
   "cell_type": "code",
   "execution_count": null,
   "id": "762ff844-c267-4eb8-bf59-31a294e06150",
   "metadata": {},
   "outputs": [],
   "source": []
  },
  {
   "cell_type": "markdown",
   "id": "314113be-7a63-41c9-8abf-4ceabeec2c56",
   "metadata": {},
   "source": [
    "# 4. 缩进和选择"
   ]
  },
  {
   "cell_type": "markdown",
   "id": "e9b46561-1693-40ff-af57-e59a391bc253",
   "metadata": {},
   "source": [
    "## 缩进"
   ]
  },
  {
   "cell_type": "markdown",
   "id": "9c54c6cd-ce96-4a2a-aa28-92c4e3a88be2",
   "metadata": {},
   "source": [
    "Python最具特色的是用缩进来标明成块的代码。我下面以if选择结构来举例。if后面跟随条件，如果条件成立，则执行归属于if的一个代码块。\n",
    "\n",
    "先看C语言的表达方式（注意，这是C，不是Python!）\n",
    "\n",
    "```\n",
    "if ( i > 0 )\n",
    "{\n",
    "    x = 1;\n",
    "    y = 2;\n",
    "}\n",
    "```\n",
    "\n",
    "如果`i > 0`的话，我们将进行括号中所包括的两个赋值操作。括号中包含的就是块操作，它隶属于`if`。\n",
    "\n",
    "在Python中，同样的目的，这段话是这样的\n",
    "```\n",
    "if i > 0:\n",
    "    x = 1\n",
    "    y = 2\n",
    "```\n",
    "\n",
    "在Python中， 去掉了`i > 0`周围的括号，去除了每个语句句尾的分号，表示块的花括号也消失了。\n",
    "\n",
    "多出来了`if` ...之后的:(冒号), 还有就是`x = 1 `和 `y =2`前面有四个空格的缩进。通过缩进，Python识别出这两个语句是隶属于if。\n",
    "\n",
    " \n",
    "\n",
    "Python这样设计的理由纯粹是为了程序好看，以及增强程序的`可读性`。"
   ]
  },
  {
   "cell_type": "code",
   "execution_count": 26,
   "id": "0ceb6b89-c5c8-40ae-a23c-de4a31c0079f",
   "metadata": {
    "execution": {
     "iopub.execute_input": "2022-09-04T12:57:09.602491Z",
     "iopub.status.busy": "2022-09-04T12:57:09.602491Z",
     "iopub.status.idle": "2022-09-04T12:57:09.616455Z",
     "shell.execute_reply": "2022-09-04T12:57:09.616455Z",
     "shell.execute_reply.started": "2022-09-04T12:57:09.602491Z"
    }
   },
   "outputs": [
    {
     "name": "stdout",
     "output_type": "stream",
     "text": [
      "1 2\n"
     ]
    }
   ],
   "source": [
    "i = 10\n",
    "x, y = 0, 0\n",
    "if i > 0:\n",
    "    x = 1\n",
    "    y = 2\n",
    "print(x, y)"
   ]
  },
  {
   "cell_type": "code",
   "execution_count": null,
   "id": "73cc641b-115a-419a-af7a-80c73381ddbc",
   "metadata": {},
   "outputs": [],
   "source": []
  },
  {
   "cell_type": "markdown",
   "id": "884f6bf2-4249-42ad-88ca-e63d417aca3f",
   "metadata": {},
   "source": [
    "## if语句"
   ]
  },
  {
   "cell_type": "code",
   "execution_count": 27,
   "id": "6ee1399f-b0e6-4b79-901a-8a9146df8db3",
   "metadata": {
    "execution": {
     "iopub.execute_input": "2022-09-04T12:57:09.617452Z",
     "iopub.status.busy": "2022-09-04T12:57:09.617452Z",
     "iopub.status.idle": "2022-09-04T12:57:09.632442Z",
     "shell.execute_reply": "2022-09-04T12:57:09.632442Z",
     "shell.execute_reply.started": "2022-09-04T12:57:09.617452Z"
    }
   },
   "outputs": [
    {
     "name": "stdout",
     "output_type": "stream",
     "text": [
      "positive i\n",
      "new i: 2\n"
     ]
    }
   ],
   "source": [
    "i = 1\n",
    "if i > 0:\n",
    "    print('positive i')\n",
    "    i = i + 1\n",
    "elif i == 0:\n",
    "    print('i is 0')\n",
    "    i = i * 10\n",
    "else:\n",
    "    print('negative i')\n",
    "    i = i - 1\n",
    "print('new i:',i)"
   ]
  },
  {
   "cell_type": "markdown",
   "id": "fe3236e5-1710-44f3-be88-ab6fa54fc370",
   "metadata": {},
   "source": [
    "这里有三个块，分别属于if, elif, else引领。\n",
    "\n",
    "Python检测条件，如果发现if的条件为假，那么跳过后面紧跟的块，检测下一个elif的条件； 如果还是假，那么执行else块。\n",
    "\n",
    "通过上面的结构将程序分出三个分支。程序根据条件，只执行三个分支中的一个。\n",
    "\n",
    "整个if可以放在另一个if语句中，也就是if结构的嵌套使用："
   ]
  },
  {
   "cell_type": "code",
   "execution_count": 28,
   "id": "ed5be9a9-3b89-402a-b81f-b01b1c8ddb15",
   "metadata": {
    "execution": {
     "iopub.execute_input": "2022-09-04T12:57:09.633409Z",
     "iopub.status.busy": "2022-09-04T12:57:09.633409Z",
     "iopub.status.idle": "2022-09-04T12:57:09.648396Z",
     "shell.execute_reply": "2022-09-04T12:57:09.648396Z",
     "shell.execute_reply.started": "2022-09-04T12:57:09.633409Z"
    }
   },
   "outputs": [
    {
     "name": "stdout",
     "output_type": "stream",
     "text": [
      "i bigger than 1\n",
      "good\n",
      "i bigger than 2\n",
      "even better\n"
     ]
    }
   ],
   "source": [
    "i  = 5\n",
    "if i > 1:\n",
    "    print('i bigger than 1')\n",
    "    print('good')\n",
    "    if i > 2:\n",
    "        print('i bigger than 2')\n",
    "        print('even better')"
   ]
  },
  {
   "cell_type": "markdown",
   "id": "e984500c-e2d3-4041-97c4-158dea31028b",
   "metadata": {},
   "source": [
    "`if i > 2 `后面的块相对于该if缩进了四个空格，以表明其隶属于该if，而不是外层的if。"
   ]
  },
  {
   "cell_type": "code",
   "execution_count": null,
   "id": "5f0711b3-272f-415b-acf5-29c20b197ff9",
   "metadata": {},
   "outputs": [],
   "source": []
  },
  {
   "cell_type": "code",
   "execution_count": null,
   "id": "5601e982-e555-46cc-a075-463f76df9bcc",
   "metadata": {},
   "outputs": [],
   "source": []
  },
  {
   "cell_type": "markdown",
   "id": "7954ce91-41c0-44e3-a492-d4c301e5e71c",
   "metadata": {},
   "source": [
    "# 5. 循环"
   ]
  },
  {
   "cell_type": "markdown",
   "id": "3e7ed8ae-7d4c-4dcb-8f2a-f4d30c26ae83",
   "metadata": {},
   "source": [
    "循环用于重复执行一些程序块。从上一讲的选择结构，我们已经看到了如何用缩进来表示程序块的隶属关系。循环也会用到类似的写法。"
   ]
  },
  {
   "cell_type": "markdown",
   "id": "4877ac3c-489b-48ac-9fd6-e18cea53c574",
   "metadata": {},
   "source": [
    "## for循环"
   ]
  },
  {
   "cell_type": "markdown",
   "id": "3b795f13-4856-47fc-adb0-221b12394a02",
   "metadata": {},
   "source": [
    "for循环需要预先设定好循环的次数(n)，然后执行隶属于for的语句n次。基本构造是:\n",
    "```\n",
    "for 元素 in 序列: \n",
    "    statement\n",
    "```"
   ]
  },
  {
   "cell_type": "code",
   "execution_count": 29,
   "id": "338279bb-9f5b-4dd2-b967-aacf677beb84",
   "metadata": {
    "execution": {
     "iopub.execute_input": "2022-09-04T12:57:09.649367Z",
     "iopub.status.busy": "2022-09-04T12:57:09.649367Z",
     "iopub.status.idle": "2022-09-04T12:57:09.664326Z",
     "shell.execute_reply": "2022-09-04T12:57:09.664326Z",
     "shell.execute_reply.started": "2022-09-04T12:57:09.649367Z"
    }
   },
   "outputs": [
    {
     "name": "stdout",
     "output_type": "stream",
     "text": [
      "3\n",
      "4.4\n",
      "life\n"
     ]
    }
   ],
   "source": [
    "for a in [3, 4.4, 'life']:\n",
    "    print(a)"
   ]
  },
  {
   "cell_type": "markdown",
   "id": "6d5febe5-1122-4e9f-8176-837e6962322e",
   "metadata": {},
   "source": [
    "这个循环就是每次从表`[3,4.4,'life'] `中取出一个元素（回忆：表是一种序列），然后将这个元素赋值给`a`，之后执行隶属于`for`的操作(`print`)。"
   ]
  },
  {
   "cell_type": "markdown",
   "id": "bcb75b4b-c158-43c4-ab7d-be4af332fcc3",
   "metadata": {},
   "source": [
    "介绍一个新的Python函数`range()`，来帮助你建立表。这个函数的功能是新建一个表。这个表的元素都是整数，从0开始，下一个元素比前一个大1， 直到函数中所写的上限 （不包括该上限本身）"
   ]
  },
  {
   "cell_type": "code",
   "execution_count": 30,
   "id": "6b93fad7-c887-414d-9eb7-8789be1f930c",
   "metadata": {
    "execution": {
     "iopub.execute_input": "2022-09-04T12:57:09.665323Z",
     "iopub.status.busy": "2022-09-04T12:57:09.665323Z",
     "iopub.status.idle": "2022-09-04T12:57:09.680282Z",
     "shell.execute_reply": "2022-09-04T12:57:09.680282Z",
     "shell.execute_reply.started": "2022-09-04T12:57:09.665323Z"
    }
   },
   "outputs": [
    {
     "name": "stdout",
     "output_type": "stream",
     "text": [
      "0\n",
      "1\n",
      "4\n",
      "9\n",
      "16\n"
     ]
    }
   ],
   "source": [
    "for i in range(5):\n",
    "    print(i ** 2)"
   ]
  },
  {
   "cell_type": "code",
   "execution_count": null,
   "id": "92cb52e9-0fcd-4842-b5af-66cdbe691285",
   "metadata": {},
   "outputs": [],
   "source": []
  },
  {
   "cell_type": "markdown",
   "id": "a2cc940a-7b7b-4ff2-958a-3f214cc85fc4",
   "metadata": {},
   "source": [
    "## while循环"
   ]
  },
  {
   "cell_type": "markdown",
   "id": "9c321803-2a27-4941-b36f-0be827594201",
   "metadata": {},
   "source": [
    "while的用法是\n",
    "```\n",
    "while 条件:\n",
    "    statement\n",
    "```\n",
    "\n",
    "while会不停地循环执行隶属于它的语句，直到条件为假(False)"
   ]
  },
  {
   "cell_type": "code",
   "execution_count": 37,
   "id": "ab17debd-b239-44cb-8709-d9b44865e8ee",
   "metadata": {
    "execution": {
     "iopub.execute_input": "2022-09-04T13:03:10.949457Z",
     "iopub.status.busy": "2022-09-04T13:03:10.949457Z",
     "iopub.status.idle": "2022-09-04T13:03:10.961424Z",
     "shell.execute_reply": "2022-09-04T13:03:10.961424Z",
     "shell.execute_reply.started": "2022-09-04T13:03:10.949457Z"
    },
    "tags": []
   },
   "outputs": [
    {
     "name": "stdout",
     "output_type": "stream",
     "text": [
      "0\n",
      "1\n",
      "2\n",
      "3\n",
      "4\n",
      "5\n",
      "6\n",
      "7\n",
      "8\n",
      "9\n"
     ]
    }
   ],
   "source": [
    "i = 0\n",
    "while i < 10:\n",
    "    print(i)\n",
    "    i += 1"
   ]
  },
  {
   "cell_type": "code",
   "execution_count": null,
   "id": "bf57720a-653b-4c79-9082-5b3f26fac62c",
   "metadata": {},
   "outputs": [],
   "source": []
  },
  {
   "cell_type": "markdown",
   "id": "e44aa3b1-e066-4d56-90e0-2a9becdf0a17",
   "metadata": {},
   "source": [
    "## 中断循环\n",
    "```\n",
    "continue   # 在循环的某一次执行中，如果遇到continue, 那么跳过这一次执行，进行下一次的操作\n",
    "\n",
    "break      # 停止执行整个循环\n",
    "```"
   ]
  },
  {
   "cell_type": "code",
   "execution_count": 32,
   "id": "757df614-e919-4802-a6be-1ee7278e75d6",
   "metadata": {
    "execution": {
     "iopub.execute_input": "2022-09-04T12:57:09.697238Z",
     "iopub.status.busy": "2022-09-04T12:57:09.697238Z",
     "iopub.status.idle": "2022-09-04T12:57:09.712197Z",
     "shell.execute_reply": "2022-09-04T12:57:09.712197Z",
     "shell.execute_reply.started": "2022-09-04T12:57:09.697238Z"
    }
   },
   "outputs": [
    {
     "name": "stdout",
     "output_type": "stream",
     "text": [
      "0\n",
      "1\n",
      "3\n",
      "4\n",
      "5\n",
      "6\n",
      "7\n",
      "8\n",
      "9\n"
     ]
    }
   ],
   "source": [
    "for i in range(10):\n",
    "    if i == 2: \n",
    "        continue\n",
    "    print(i)"
   ]
  },
  {
   "cell_type": "markdown",
   "id": "ce03f22c-ab2b-4439-9951-a4df45094a2a",
   "metadata": {},
   "source": [
    "当循环执行到`i = 2`的时候，`if`条件成立，触发`continue`, 跳过本次执行(不执行`print`)，继续进行下一次执行(`i = 3`)。"
   ]
  },
  {
   "cell_type": "code",
   "execution_count": 33,
   "id": "7d60bfb2-a872-491f-a719-a830f68229a6",
   "metadata": {
    "execution": {
     "iopub.execute_input": "2022-09-04T12:57:09.713196Z",
     "iopub.status.busy": "2022-09-04T12:57:09.713196Z",
     "iopub.status.idle": "2022-09-04T12:57:09.728155Z",
     "shell.execute_reply": "2022-09-04T12:57:09.728155Z",
     "shell.execute_reply.started": "2022-09-04T12:57:09.713196Z"
    }
   },
   "outputs": [
    {
     "name": "stdout",
     "output_type": "stream",
     "text": [
      "0\n",
      "1\n"
     ]
    }
   ],
   "source": [
    "for i in range(10):\n",
    "    if i == 2:        \n",
    "        break\n",
    "    print(i)"
   ]
  },
  {
   "cell_type": "markdown",
   "id": "eba909ca-1517-4047-a7d0-3e861526a7c7",
   "metadata": {},
   "source": [
    "当循环执行到`i = 2`的时候，`if`条件成立，触发`break`, 整个循环停止。"
   ]
  },
  {
   "cell_type": "code",
   "execution_count": null,
   "id": "3b7a2e1f-1582-4bb1-96cc-9aedff4b5f1e",
   "metadata": {},
   "outputs": [],
   "source": []
  },
  {
   "cell_type": "markdown",
   "id": "e9a352bc-f3f4-4c26-b0f7-b84238aa54b8",
   "metadata": {},
   "source": [
    "# 6. 函数\n",
    "\n",
    "函数最重要的目的是方便我们`重复使用`相同的一段程序。\n",
    "\n",
    "将一些操作`隶属`于一个函数，以后你想实现相同的操作的时候，只用调用函数名就可以，而不需要重复敲所有的语句。\n",
    "## 函数的定义\n",
    "\n",
    "首先，我们要定义一个函数, 以说明这个函数的功能。\n",
    "```\n",
    "def square_sum(a,b):\n",
    "    c = a**2 + b**2\n",
    "    return c\n",
    "```\n",
    "\n",
    "这个函数的功能是求两个数的平方和。\n",
    "\n",
    "首先，`def`，这个关键字通知python：我在定义一个函数。`square_sum`是**函数名**。\n",
    "\n",
    "括号中的`a`, `b`是函数的**参数**，是对函数的**输入**。参数可以有多个，也可以完全没有（但括号要保留）。\n",
    "\n",
    "我们已经在循环和选择中见过冒号和缩进来表示的隶属关系。\n",
    "\n",
    "`c = a**2 + b**2`        # 这一句是函数内部进行的运算\n",
    "\n",
    "`return c`               # 返回c的值，也就是输出的功能。Python的函数允许不返回值，也就是不用return。\n",
    "\n",
    "`return`可以**返回多个值**，以逗号分隔。相当于返回一个tuple(定值表)。\n",
    "\n",
    "`return a,b,c`          # 相当于 `return (a,b,c)`\n",
    "\n",
    " \n",
    "\n",
    "在Python中，当程序执行到`return`的时候，程序将停止执行函数内余下的语句。`return`并不是必须的，当没有`return`, 或者`return`后面没有返回值时，函数将自动返回`None`。`None`是Python中的一个特别的数据类型，用来表示什么都没有，相当于C中的`NULL`。`None`多用于关键字参数传递的默认值。"
   ]
  },
  {
   "cell_type": "code",
   "execution_count": 34,
   "id": "7bd6af51-d906-4c61-8b34-cd537ca74395",
   "metadata": {
    "execution": {
     "iopub.execute_input": "2022-09-04T12:57:09.729153Z",
     "iopub.status.busy": "2022-09-04T12:57:09.729153Z",
     "iopub.status.idle": "2022-09-04T12:57:09.743115Z",
     "shell.execute_reply": "2022-09-04T12:57:09.743115Z",
     "shell.execute_reply.started": "2022-09-04T12:57:09.729153Z"
    }
   },
   "outputs": [],
   "source": [
    "def square_sum(a,b):\n",
    "    c = a**2 + b**2\n",
    "    return c"
   ]
  },
  {
   "cell_type": "markdown",
   "id": "26862b5b-1584-4f15-8f5b-b41289ce4df2",
   "metadata": {},
   "source": [
    "## 函数调用和参数传递\n",
    "定义过函数后，就可以在后面程序中使用这一函数"
   ]
  },
  {
   "cell_type": "code",
   "execution_count": 35,
   "id": "0d33160b-ee9d-4dee-91ed-4a2e3003881c",
   "metadata": {
    "execution": {
     "iopub.execute_input": "2022-09-04T12:57:09.744112Z",
     "iopub.status.busy": "2022-09-04T12:57:09.744112Z",
     "iopub.status.idle": "2022-09-04T12:57:09.759073Z",
     "shell.execute_reply": "2022-09-04T12:57:09.759073Z",
     "shell.execute_reply.started": "2022-09-04T12:57:09.744112Z"
    }
   },
   "outputs": [
    {
     "data": {
      "text/plain": [
       "25"
      ]
     },
     "execution_count": 35,
     "metadata": {},
     "output_type": "execute_result"
    }
   ],
   "source": [
    "square_sum(3, 4)"
   ]
  },
  {
   "cell_type": "markdown",
   "id": "1adf85ae-8427-41db-9324-7dfa43f2ea68",
   "metadata": {},
   "source": [
    "Python通过**位置**，知道3对应的是函数定义中的第一个参数a， 4对应第二个参数b，然后把**参数传递**给函数square_sum。\n",
    "\n",
    "（Python有丰富的参数传递方式，还有关键字传递、表传递、字典传递等，基础教程将只涉及位置传递）\n",
    "\n",
    "函数经过运算，返回值25, 这个25被print打印出来。"
   ]
  },
  {
   "cell_type": "code",
   "execution_count": 36,
   "id": "6ba2f0ba-dab1-4c96-8d4f-23f159b8e176",
   "metadata": {
    "execution": {
     "iopub.execute_input": "2022-09-04T12:57:09.760070Z",
     "iopub.status.busy": "2022-09-04T12:57:09.760070Z",
     "iopub.status.idle": "2022-09-04T12:57:09.774033Z",
     "shell.execute_reply": "2022-09-04T12:57:09.774033Z",
     "shell.execute_reply.started": "2022-09-04T12:57:09.760070Z"
    }
   },
   "outputs": [
    {
     "name": "stdout",
     "output_type": "stream",
     "text": [
      "1 2\n",
      "[2, 2, 3]\n",
      "[2, 2, 3]\n"
     ]
    }
   ],
   "source": [
    "a = 1\n",
    "\n",
    "def change_integer(a):\n",
    "    a = a + 1\n",
    "    return a\n",
    "\n",
    "print(a, change_integer(a))\n",
    "\n",
    "#===(Python中 \"#\" 后面跟的内容是注释，不执行 )\n",
    "\n",
    "b = [1,2,3]\n",
    "\n",
    "def change_list(b):\n",
    "    b[0] = b[0] + 1\n",
    "    return b\n",
    "\n",
    "print (change_list(b))\n",
    "print (b)"
   ]
  },
  {
   "cell_type": "markdown",
   "id": "d55b4f85-9b7b-4f38-a884-cf5ead42efb9",
   "metadata": {},
   "source": [
    "第一个例子，我们将一个**整数变量传递给函数**，函数对它进行操作，但**原整数变量a不发生变化**。\n",
    "\n",
    "第二个例子，我们将一个**表传递给函数**，函数进行操作，**原来的表b发生变化*。\n",
    "\n",
    "对于基本数据类型的变量，变量传递给函数后，函数会在内存中复制一个新的变量，从而不影响原来的变量。（我们称此为**值传递**）\n",
    "\n",
    "但是对于表来说，表传递给函数的是一个指针，指针指向序列在内存中的位置，在函数中对表的操作将在原有内存中进行，从而影响原有变量。 （我们称此为**指针传递**）"
   ]
  },
  {
   "cell_type": "code",
   "execution_count": null,
   "id": "e8bce381-4b0e-4d95-868b-9eb360b59009",
   "metadata": {},
   "outputs": [],
   "source": []
  }
 ],
 "metadata": {
  "interpreter": {
   "hash": "b3ba2566441a7c06988d0923437866b63cedc61552a5af99d1f4fb67d367b25f"
  },
  "kernelspec": {
   "display_name": "Python 3 (ipykernel)",
   "language": "python",
   "name": "python3"
  },
  "language_info": {
   "codemirror_mode": {
    "name": "ipython",
    "version": 3
   },
   "file_extension": ".py",
   "mimetype": "text/x-python",
   "name": "python",
   "nbconvert_exporter": "python",
   "pygments_lexer": "ipython3",
   "version": "3.9.12"
  }
 },
 "nbformat": 4,
 "nbformat_minor": 5
}
