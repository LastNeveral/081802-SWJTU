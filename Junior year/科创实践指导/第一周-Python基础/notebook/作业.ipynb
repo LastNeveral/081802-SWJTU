{
 "cells": [
  {
   "cell_type": "markdown",
   "id": "5f9c6472",
   "metadata": {},
   "source": [
    "# 课堂练习\n",
    "在data文件夹中，有trajectory.txt文件，为城市共享单车骑行OD数据；\n",
    "\n",
    "数据各字段含义为`user,platform,start_time,start_lon,start_lat,end_time,end_lon,end_lat,dis`\n",
    "\n",
    "## 问题1：\n",
    "用户总量是多少？（提示：用python的list列表，或dict字典完成）\n",
    "\n",
    "## 问题2：\n",
    "用Python读取该数据，并分析用户骑行次数排行（从大到小的顺序），将结果输出到文件`out.txt`中\n",
    "\n",
    "**提示：open读取文件时，应该采用相对路径，为`../data/trajectory.txt`**"
   ]
  },
  {
   "cell_type": "code",
   "execution_count": 3,
   "id": "98338599",
   "metadata": {
    "execution": {
     "iopub.execute_input": "2022-09-19T08:36:46.787484Z",
     "iopub.status.busy": "2022-09-19T08:36:46.787484Z",
     "iopub.status.idle": "2022-09-19T08:36:47.140555Z",
     "shell.execute_reply": "2022-09-19T08:36:47.140555Z",
     "shell.execute_reply.started": "2022-09-19T08:36:46.787484Z"
    }
   },
   "outputs": [],
   "source": [
    "##问题一\n",
    "\n",
    "path='..\\\\data\\\\bike_od.txt'\n",
    "with open(path,'r') as f:\n",
    "    lines = f.readlines()\n",
    "    "
   ]
  },
  {
   "cell_type": "code",
   "execution_count": 4,
   "id": "c7187d9d",
   "metadata": {
    "execution": {
     "iopub.execute_input": "2022-09-19T08:36:48.847917Z",
     "iopub.status.busy": "2022-09-19T08:36:48.847917Z",
     "iopub.status.idle": "2022-09-19T08:36:48.866867Z",
     "shell.execute_reply": "2022-09-19T08:36:48.865873Z",
     "shell.execute_reply.started": "2022-09-19T08:36:48.847917Z"
    }
   },
   "outputs": [
    {
     "data": {
      "text/plain": [
       "['user,platform,start_time,start_lon,start_lat,end_time,end_lon,end_lat,dis\\n',\n",
       " '17de7b721621a1eaec394c7bfe16f61b,f52411b549236c64cbfad398527b06f0,2017-10-01 20:34:39,104.097134,30.662983,2017-10-01 20:39:25,104.096313,30.662149,121.40856338370351\\n']"
      ]
     },
     "execution_count": 4,
     "metadata": {},
     "output_type": "execute_result"
    }
   ],
   "source": [
    "lines[0:2]"
   ]
  },
  {
   "cell_type": "code",
   "execution_count": 5,
   "id": "19a8a1cf",
   "metadata": {
    "execution": {
     "iopub.execute_input": "2022-09-19T08:36:52.752589Z",
     "iopub.status.busy": "2022-09-19T08:36:52.752589Z",
     "iopub.status.idle": "2022-09-19T08:36:52.965022Z",
     "shell.execute_reply": "2022-09-19T08:36:52.964029Z",
     "shell.execute_reply.started": "2022-09-19T08:36:52.752589Z"
    }
   },
   "outputs": [
    {
     "name": "stdout",
     "output_type": "stream",
     "text": [
      "用户总量为： 2623\n"
     ]
    }
   ],
   "source": [
    "lines=lines[1:]\n",
    "user_list=[]\n",
    "for line in lines:\n",
    "    userID=line.split(',')[0]\n",
    "    \n",
    "    if userID not in user_list:\n",
    "        user_list.append(userID)\n",
    "\n",
    "print('用户总量为：',len(user_list))\n",
    "\n"
   ]
  },
  {
   "cell_type": "code",
   "execution_count": null,
   "id": "09e0be12",
   "metadata": {},
   "outputs": [],
   "source": []
  },
  {
   "cell_type": "code",
   "execution_count": null,
   "id": "bab99dc2",
   "metadata": {},
   "outputs": [],
   "source": []
  },
  {
   "cell_type": "code",
   "execution_count": 20,
   "id": "e18aabe3",
   "metadata": {
    "execution": {
     "iopub.execute_input": "2022-09-05T14:46:50.870251Z",
     "iopub.status.busy": "2022-09-05T14:46:50.869252Z",
     "iopub.status.idle": "2022-09-05T14:46:50.873211Z",
     "shell.execute_reply": "2022-09-05T14:46:50.873211Z",
     "shell.execute_reply.started": "2022-09-05T14:46:50.870251Z"
    }
   },
   "outputs": [],
   "source": [
    "##问题二"
   ]
  },
  {
   "cell_type": "code",
   "execution_count": 6,
   "id": "65c99f92",
   "metadata": {
    "execution": {
     "iopub.execute_input": "2022-09-19T08:36:55.715600Z",
     "iopub.status.busy": "2022-09-19T08:36:55.715600Z",
     "iopub.status.idle": "2022-09-19T08:36:55.741530Z",
     "shell.execute_reply": "2022-09-19T08:36:55.741530Z",
     "shell.execute_reply.started": "2022-09-19T08:36:55.715600Z"
    }
   },
   "outputs": [],
   "source": [
    "user_num={}\n",
    "for line in lines:\n",
    "    userID=line.split(',')[0]\n",
    "    \n",
    "    if userID in user_num:\n",
    "        user_num[userID]+=1\n",
    "    else:\n",
    "        user_num[userID]=1"
   ]
  },
  {
   "cell_type": "code",
   "execution_count": 14,
   "id": "29c61dd0",
   "metadata": {
    "execution": {
     "iopub.execute_input": "2022-09-19T08:52:33.666907Z",
     "iopub.status.busy": "2022-09-19T08:52:33.665911Z",
     "iopub.status.idle": "2022-09-19T08:52:33.672890Z",
     "shell.execute_reply": "2022-09-19T08:52:33.672890Z",
     "shell.execute_reply.started": "2022-09-19T08:52:33.665911Z"
    }
   },
   "outputs": [],
   "source": [
    "en = [[i,user_num[i]] for i in user_num]"
   ]
  },
  {
   "cell_type": "code",
   "execution_count": 17,
   "id": "bf9cbd35",
   "metadata": {
    "execution": {
     "iopub.execute_input": "2022-09-19T08:53:16.957584Z",
     "iopub.status.busy": "2022-09-19T08:53:16.957584Z",
     "iopub.status.idle": "2022-09-19T08:53:16.966564Z",
     "shell.execute_reply": "2022-09-19T08:53:16.965563Z",
     "shell.execute_reply.started": "2022-09-19T08:53:16.957584Z"
    }
   },
   "outputs": [],
   "source": [
    "en = sorted(en, key=lambda x: x[1], reverse=True)"
   ]
  },
  {
   "cell_type": "code",
   "execution_count": 19,
   "id": "a15e0552",
   "metadata": {
    "execution": {
     "iopub.execute_input": "2022-09-19T08:53:25.176621Z",
     "iopub.status.busy": "2022-09-19T08:53:25.176621Z",
     "iopub.status.idle": "2022-09-19T08:53:25.195569Z",
     "shell.execute_reply": "2022-09-19T08:53:25.195569Z",
     "shell.execute_reply.started": "2022-09-19T08:53:25.176621Z"
    }
   },
   "outputs": [],
   "source": [
    "out=open('../out.txt','w')"
   ]
  },
  {
   "cell_type": "code",
   "execution_count": null,
   "id": "eaa6bfaa",
   "metadata": {},
   "outputs": [],
   "source": []
  },
  {
   "cell_type": "code",
   "execution_count": 20,
   "id": "92eeeb49",
   "metadata": {
    "execution": {
     "iopub.execute_input": "2022-09-19T08:56:08.692062Z",
     "iopub.status.busy": "2022-09-19T08:56:08.692062Z",
     "iopub.status.idle": "2022-09-19T08:56:17.497188Z",
     "shell.execute_reply": "2022-09-19T08:56:17.497188Z",
     "shell.execute_reply.started": "2022-09-19T08:56:08.692062Z"
    }
   },
   "outputs": [],
   "source": [
    "import pandas as pd"
   ]
  },
  {
   "cell_type": "code",
   "execution_count": 21,
   "id": "547a49bd",
   "metadata": {
    "execution": {
     "iopub.execute_input": "2022-09-19T08:56:17.499361Z",
     "iopub.status.busy": "2022-09-19T08:56:17.499361Z",
     "iopub.status.idle": "2022-09-19T08:56:17.512031Z",
     "shell.execute_reply": "2022-09-19T08:56:17.512031Z",
     "shell.execute_reply.started": "2022-09-19T08:56:17.499361Z"
    }
   },
   "outputs": [],
   "source": [
    "df = pd.DataFrame(\n",
    "[[4, 7, 10],\n",
    "[5, 8, 11],\n",
    "[6, 9, 12]], \n",
    "index=[1, 2, 3], \n",
    "columns=['a', 'b', 'c'])\n"
   ]
  },
  {
   "cell_type": "code",
   "execution_count": 22,
   "id": "5876306b",
   "metadata": {
    "execution": {
     "iopub.execute_input": "2022-09-19T08:56:19.157634Z",
     "iopub.status.busy": "2022-09-19T08:56:19.156636Z",
     "iopub.status.idle": "2022-09-19T08:56:19.364094Z",
     "shell.execute_reply": "2022-09-19T08:56:19.364094Z",
     "shell.execute_reply.started": "2022-09-19T08:56:19.157634Z"
    }
   },
   "outputs": [
    {
     "data": {
      "text/html": [
       "<div>\n",
       "<style scoped>\n",
       "    .dataframe tbody tr th:only-of-type {\n",
       "        vertical-align: middle;\n",
       "    }\n",
       "\n",
       "    .dataframe tbody tr th {\n",
       "        vertical-align: top;\n",
       "    }\n",
       "\n",
       "    .dataframe thead th {\n",
       "        text-align: right;\n",
       "    }\n",
       "</style>\n",
       "<table border=\"1\" class=\"dataframe\">\n",
       "  <thead>\n",
       "    <tr style=\"text-align: right;\">\n",
       "      <th></th>\n",
       "      <th>a</th>\n",
       "      <th>b</th>\n",
       "      <th>c</th>\n",
       "    </tr>\n",
       "  </thead>\n",
       "  <tbody>\n",
       "    <tr>\n",
       "      <th>1</th>\n",
       "      <td>4</td>\n",
       "      <td>7</td>\n",
       "      <td>10</td>\n",
       "    </tr>\n",
       "    <tr>\n",
       "      <th>2</th>\n",
       "      <td>5</td>\n",
       "      <td>8</td>\n",
       "      <td>11</td>\n",
       "    </tr>\n",
       "    <tr>\n",
       "      <th>3</th>\n",
       "      <td>6</td>\n",
       "      <td>9</td>\n",
       "      <td>12</td>\n",
       "    </tr>\n",
       "  </tbody>\n",
       "</table>\n",
       "</div>"
      ],
      "text/plain": [
       "   a  b   c\n",
       "1  4  7  10\n",
       "2  5  8  11\n",
       "3  6  9  12"
      ]
     },
     "execution_count": 22,
     "metadata": {},
     "output_type": "execute_result"
    }
   ],
   "source": [
    "df"
   ]
  },
  {
   "cell_type": "code",
   "execution_count": null,
   "id": "a39aea01",
   "metadata": {},
   "outputs": [],
   "source": []
  },
  {
   "cell_type": "code",
   "execution_count": null,
   "id": "e13c39f5",
   "metadata": {},
   "outputs": [],
   "source": []
  },
  {
   "cell_type": "code",
   "execution_count": null,
   "id": "8fcb00c8",
   "metadata": {},
   "outputs": [],
   "source": []
  },
  {
   "cell_type": "code",
   "execution_count": null,
   "id": "5553c061",
   "metadata": {},
   "outputs": [],
   "source": []
  },
  {
   "cell_type": "code",
   "execution_count": null,
   "id": "2c1fefe1",
   "metadata": {},
   "outputs": [],
   "source": []
  },
  {
   "cell_type": "code",
   "execution_count": null,
   "id": "512b8763",
   "metadata": {},
   "outputs": [],
   "source": []
  },
  {
   "cell_type": "code",
   "execution_count": null,
   "id": "1defb5c3",
   "metadata": {},
   "outputs": [],
   "source": []
  },
  {
   "cell_type": "code",
   "execution_count": null,
   "id": "e02c31ec",
   "metadata": {},
   "outputs": [],
   "source": []
  },
  {
   "cell_type": "code",
   "execution_count": null,
   "id": "af9be22f",
   "metadata": {},
   "outputs": [],
   "source": []
  },
  {
   "cell_type": "code",
   "execution_count": null,
   "id": "f30db973",
   "metadata": {},
   "outputs": [],
   "source": []
  },
  {
   "cell_type": "code",
   "execution_count": null,
   "id": "9b46b30f",
   "metadata": {},
   "outputs": [],
   "source": []
  },
  {
   "cell_type": "code",
   "execution_count": null,
   "id": "eec71485",
   "metadata": {},
   "outputs": [],
   "source": []
  },
  {
   "cell_type": "code",
   "execution_count": null,
   "id": "3def2780",
   "metadata": {},
   "outputs": [],
   "source": []
  },
  {
   "cell_type": "code",
   "execution_count": null,
   "id": "f585747f",
   "metadata": {},
   "outputs": [],
   "source": []
  },
  {
   "cell_type": "code",
   "execution_count": null,
   "id": "40d790e6",
   "metadata": {},
   "outputs": [],
   "source": []
  },
  {
   "cell_type": "code",
   "execution_count": null,
   "id": "e69d484c",
   "metadata": {},
   "outputs": [],
   "source": []
  },
  {
   "cell_type": "code",
   "execution_count": null,
   "id": "f8748538",
   "metadata": {},
   "outputs": [],
   "source": []
  },
  {
   "cell_type": "code",
   "execution_count": null,
   "id": "d7d5af03",
   "metadata": {},
   "outputs": [],
   "source": []
  },
  {
   "cell_type": "code",
   "execution_count": null,
   "id": "ef17f7a1",
   "metadata": {},
   "outputs": [],
   "source": []
  },
  {
   "cell_type": "code",
   "execution_count": 1,
   "id": "643a5b98",
   "metadata": {},
   "outputs": [],
   "source": [
    "f = open('../data/bike_od.txt')\n",
    "lines = f.readlines()\n",
    "f.close()"
   ]
  },
  {
   "cell_type": "code",
   "execution_count": 4,
   "id": "7290543f",
   "metadata": {},
   "outputs": [
    {
     "data": {
      "text/plain": [
       "['17de7b721621a1eaec394c7bfe16f61b,f52411b549236c64cbfad398527b06f0,2017-10-01 20:34:39,104.097134,30.662983,2017-10-01 20:39:25,104.096313,30.662149,121.40856338370351\\n',\n",
       " '87347011edded1387ca0cef5a7bdea28,f52411b549236c64cbfad398527b06f0,2017-10-01 09:02:01,103.9586,30.688988,2017-10-01 09:02:10,103.958639,30.68896,4.857876100086827\\n',\n",
       " '87347011edded1387ca0cef5a7bdea28,f52411b549236c64cbfad398527b06f0,2017-10-01 10:41:11,103.958588,30.688974,2017-10-01 10:42:55,103.958632,30.688974,4.21576439917117\\n',\n",
       " '87347011edded1387ca0cef5a7bdea28,f52411b549236c64cbfad398527b06f0,2017-10-01 11:52:19,103.958563,30.688981,2017-10-01 12:02:15,103.958708,30.688565,48.16657195560817\\n',\n",
       " '87347011edded1387ca0cef5a7bdea28,f52411b549236c64cbfad398527b06f0,2017-10-01 12:54:14,103.95864,30.688963,2017-10-01 12:54:34,103.958702,30.688961,5.944532645458967\\n',\n",
       " '87347011edded1387ca0cef5a7bdea28,f52411b549236c64cbfad398527b06f0,2017-10-01 17:07:51,103.958046,30.689294,2017-10-01 17:08:04,103.958251,30.689333,20.111820093789383\\n',\n",
       " '9358093e5301671968a0c970165db41d,f52411b549236c64cbfad398527b06f0,2017-10-01 16:00:37,104.141525,30.675198,2017-10-01 16:06:48,104.136724,30.671861,590.3642752220823\\n',\n",
       " '9358093e5301671968a0c970165db41d,f52411b549236c64cbfad398527b06f0,2017-10-01 18:59:55,104.120421,30.66447,2017-10-01 19:01:19,104.12728,30.667824,755.2163458559802\\n',\n",
       " 'ee918019ed5025c4db6dc4e88b27aa12,f52411b549236c64cbfad398527b06f0,2017-10-01 14:58:30,104.044585,30.588811,2017-10-01 15:16:54,104.061035,30.594831,1713.0499359102212\\n',\n",
       " '8552732d4a3d23b0d5d4e2394b5d3b16,f52411b549236c64cbfad398527b06f0,2017-10-01 12:42:29,104.002352,30.677148,2017-10-01 12:55:43,104.001751,30.67672,74.62012652066407\\n']"
      ]
     },
     "execution_count": 4,
     "metadata": {},
     "output_type": "execute_result"
    }
   ],
   "source": [
    "lines = lines[1:]\n",
    "lines[0:10]"
   ]
  },
  {
   "cell_type": "code",
   "execution_count": 8,
   "id": "13873a59",
   "metadata": {},
   "outputs": [
    {
     "data": {
      "text/plain": [
       "'17de7b721621a1eaec394c7bfe16f61b'"
      ]
     },
     "execution_count": 8,
     "metadata": {},
     "output_type": "execute_result"
    }
   ],
   "source": [
    "line = lines[0]\n",
    "line_seg = line.split(',')\n",
    "line_seg[0]"
   ]
  },
  {
   "cell_type": "code",
   "execution_count": 12,
   "id": "aa6de824",
   "metadata": {},
   "outputs": [
    {
     "name": "stdout",
     "output_type": "stream",
     "text": [
      "用户总量： 2623\n"
     ]
    }
   ],
   "source": [
    "user_list = []\n",
    "for line in lines:\n",
    "    seg = line.split(',')\n",
    "    user = seg[0]\n",
    "    \n",
    "    if user not in user_list:\n",
    "        user_list.append(user)\n",
    "print('用户总量：', len(user_list))"
   ]
  },
  {
   "cell_type": "code",
   "execution_count": null,
   "id": "9f71a3e1",
   "metadata": {},
   "outputs": [],
   "source": []
  },
  {
   "cell_type": "code",
   "execution_count": 24,
   "id": "9c2b5c50",
   "metadata": {},
   "outputs": [],
   "source": [
    "user_dict = {}\n",
    "for line in lines:\n",
    "    seg = line.split(',')\n",
    "    user = seg[0]\n",
    "    \n",
    "    if user in user_dict:\n",
    "        user_dict[user] +=1\n",
    "    else:\n",
    "        user_dict[user]=1\n",
    "    \n",
    "l = [[key, user_dict[key]] for key in user_dict]\n",
    "l = sorted(l, key=lambda x: x[1], reverse=True)\n",
    "\n",
    "out = open('../data/user_freq.csv', 'w')\n",
    "for user, n in l:\n",
    "    out.write('{},{}\\n'.format(user,n))\n",
    "    \n",
    "out.close()"
   ]
  },
  {
   "cell_type": "code",
   "execution_count": 35,
   "id": "c36b2602",
   "metadata": {
    "execution": {
     "iopub.execute_input": "2022-09-05T15:06:52.386939Z",
     "iopub.status.busy": "2022-09-05T15:06:52.386939Z",
     "iopub.status.idle": "2022-09-05T15:06:52.404892Z",
     "shell.execute_reply": "2022-09-05T15:06:52.403894Z",
     "shell.execute_reply.started": "2022-09-05T15:06:52.386939Z"
    }
   },
   "outputs": [
    {
     "ename": "NameError",
     "evalue": "name 'l' is not defined",
     "output_type": "error",
     "traceback": [
      "\u001b[1;31m---------------------------------------------------------------------------\u001b[0m",
      "\u001b[1;31mNameError\u001b[0m                                 Traceback (most recent call last)",
      "\u001b[1;32m~\\AppData\\Local\\Temp/ipykernel_11116/3723490112.py\u001b[0m in \u001b[0;36m<module>\u001b[1;34m\u001b[0m\n\u001b[1;32m----> 1\u001b[1;33m \u001b[0ml\u001b[0m\u001b[1;33m\u001b[0m\u001b[1;33m\u001b[0m\u001b[0m\n\u001b[0m",
      "\u001b[1;31mNameError\u001b[0m: name 'l' is not defined"
     ]
    }
   ],
   "source": []
  }
 ],
 "metadata": {
  "kernelspec": {
   "display_name": "Python 3 (ipykernel)",
   "language": "python",
   "name": "python3"
  },
  "language_info": {
   "codemirror_mode": {
    "name": "ipython",
    "version": 3
   },
   "file_extension": ".py",
   "mimetype": "text/x-python",
   "name": "python",
   "nbconvert_exporter": "python",
   "pygments_lexer": "ipython3",
   "version": "3.9.7"
  }
 },
 "nbformat": 4,
 "nbformat_minor": 5
}
