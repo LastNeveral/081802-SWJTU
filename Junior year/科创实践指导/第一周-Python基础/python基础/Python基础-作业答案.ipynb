{
 "cells": [
  {
   "cell_type": "markdown",
   "id": "707dbe65-33cb-4909-ae7e-fc9e3936e43f",
   "metadata": {},
   "source": [
    "# 课堂练习\n",
    "在data文件夹中，有trajectory.txt文件，为城市共享单车骑行OD数据；\n",
    "\n",
    "数据各字段含义为`user,platform,start_time,start_lon,start_lat,end_time,end_lon,end_lat,dis`\n",
    "\n",
    "## 问题1：\n",
    "用户总量是多少？（提示：用python的list列表，或dict字典完成）\n",
    "\n",
    "## 问题2：\n",
    "用Python读取该数据，并分析用户骑行次数排行（从大到小的顺序），将结果输出到文件`out.txt`中\n",
    "\n",
    "**提示：open读取文件时，应该采用相对路径，为`../data/trajectory.txt`**"
   ]
  },
  {
   "cell_type": "code",
   "execution_count": 10,
   "id": "83a7a248-cd9c-423f-bc11-ed099afeb468",
   "metadata": {},
   "outputs": [
    {
     "data": {
      "text/plain": [
       "9999"
      ]
     },
     "execution_count": 10,
     "metadata": {},
     "output_type": "execute_result"
    }
   ],
   "source": [
    "result = []\n",
    "with open('../data/bike_od.txt') as f:\n",
    "    for line in f:\n",
    "        result.append(line)\n",
    "result = result[1:]\n",
    "len(result)"
   ]
  },
  {
   "cell_type": "code",
   "execution_count": 11,
   "id": "cc923ed1-4d12-478e-b255-13241c06e5ec",
   "metadata": {},
   "outputs": [
    {
     "data": {
      "text/plain": [
       "2623"
      ]
     },
     "execution_count": 11,
     "metadata": {},
     "output_type": "execute_result"
    }
   ],
   "source": [
    "users = []\n",
    "for line in result:\n",
    "    user = line.split(',')[0]\n",
    "    if user not in users:\n",
    "        users.append(user)\n",
    "    \n",
    "len(users)"
   ]
  },
  {
   "cell_type": "code",
   "execution_count": 14,
   "id": "8d278284-ee34-4625-b022-850965489bf3",
   "metadata": {},
   "outputs": [
    {
     "data": {
      "text/plain": [
       "2623"
      ]
     },
     "execution_count": 14,
     "metadata": {},
     "output_type": "execute_result"
    }
   ],
   "source": [
    "a = set([line.split(',')[0] for line in result])\n",
    "len(a)"
   ]
  },
  {
   "cell_type": "code",
   "execution_count": null,
   "id": "b853bae7-a846-47d0-b40e-51a330abb863",
   "metadata": {},
   "outputs": [],
   "source": []
  },
  {
   "cell_type": "code",
   "execution_count": 15,
   "id": "acf258d8-8bf9-478b-8635-cc87dc5ad2e8",
   "metadata": {},
   "outputs": [],
   "source": [
    "# user --- > n\n",
    "user_freq = {}\n",
    "for line in result:\n",
    "    user = line.split(',')[0]\n",
    "    if user in user_freq:\n",
    "        user_freq[user] += 1\n",
    "    else:\n",
    "        user_freq[user] = 1\n"
   ]
  },
  {
   "cell_type": "code",
   "execution_count": 32,
   "id": "f451343c-2821-401d-bb7c-ed335ad143d7",
   "metadata": {},
   "outputs": [],
   "source": [
    "def sort_value(small_l):\n",
    "    \n",
    "    return small_l[1]"
   ]
  },
  {
   "cell_type": "code",
   "execution_count": 34,
   "id": "7587d702-8dac-4420-b34d-6cf6a535af91",
   "metadata": {},
   "outputs": [
    {
     "data": {
      "text/plain": [
       "[['dea6668d92b052edca332be930309a15', 52],\n",
       " ['c08b0cc6b4222c005315c126d7be5ad4', 47],\n",
       " ['be180e1fe2f1de2a3265ac2657541610', 42],\n",
       " ['1b6cee382f17e3eb4625957d066d056b', 40],\n",
       " ['2ee8764bbc2f77d744a673f8edb2494c', 39]]"
      ]
     },
     "execution_count": 34,
     "metadata": {},
     "output_type": "execute_result"
    }
   ],
   "source": [
    "l = [[key, user_freq[key]] for key in user_freq]\n",
    "l.sort(key=lambda x: x[1], reverse=True)\n",
    "l[0:5]"
   ]
  },
  {
   "cell_type": "code",
   "execution_count": 28,
   "id": "2b3fbdb5-b3b4-4609-8f87-4fb7e89a2d6a",
   "metadata": {},
   "outputs": [],
   "source": [
    "out = open('../data/user_freq.csv', 'w')\n",
    "\n",
    "for user, n in l:\n",
    "    out.write('{},{}\\n'.format(user,n))\n",
    "   \n",
    "out.close()"
   ]
  },
  {
   "cell_type": "code",
   "execution_count": null,
   "id": "90a75a80-d0fd-482f-8800-2f784ed41653",
   "metadata": {},
   "outputs": [],
   "source": []
  },
  {
   "cell_type": "code",
   "execution_count": null,
   "id": "4ea0a4aa-b0f1-4769-b770-b37a3c4374c0",
   "metadata": {},
   "outputs": [],
   "source": []
  },
  {
   "cell_type": "code",
   "execution_count": null,
   "id": "f7a3a612-7c2b-4346-a4ba-d53d994c42f2",
   "metadata": {},
   "outputs": [],
   "source": []
  },
  {
   "cell_type": "code",
   "execution_count": null,
   "id": "3e813a3b-733e-4737-9977-9915b8a4e723",
   "metadata": {},
   "outputs": [],
   "source": []
  },
  {
   "cell_type": "code",
   "execution_count": null,
   "id": "a27b9ef8-129d-448a-b300-7f398cb034c7",
   "metadata": {},
   "outputs": [],
   "source": []
  },
  {
   "cell_type": "code",
   "execution_count": null,
   "id": "71e41338-bbde-42d6-b5ac-d5566a8c375f",
   "metadata": {},
   "outputs": [],
   "source": []
  },
  {
   "cell_type": "code",
   "execution_count": null,
   "id": "0be54b46-31ba-49f1-829a-3feee2fad92f",
   "metadata": {},
   "outputs": [],
   "source": []
  },
  {
   "cell_type": "code",
   "execution_count": null,
   "id": "3fbcaef5-deac-41f3-85dc-aa7f37332345",
   "metadata": {},
   "outputs": [],
   "source": []
  },
  {
   "cell_type": "code",
   "execution_count": null,
   "id": "9520dd88-df45-4570-8d00-9f86ea2ca4e0",
   "metadata": {},
   "outputs": [],
   "source": []
  },
  {
   "cell_type": "code",
   "execution_count": null,
   "id": "4521e511-d0da-4047-aa01-eec220460e4f",
   "metadata": {},
   "outputs": [],
   "source": []
  },
  {
   "cell_type": "code",
   "execution_count": null,
   "id": "7e4e7196-faaa-4ce5-8a0f-b2887eefff3a",
   "metadata": {},
   "outputs": [],
   "source": []
  },
  {
   "cell_type": "code",
   "execution_count": null,
   "id": "6730a738-09e5-46f2-a2dc-8fc3d763cd23",
   "metadata": {},
   "outputs": [],
   "source": []
  },
  {
   "cell_type": "code",
   "execution_count": null,
   "id": "db429a77-78a8-422e-bc1a-e532bd6c3627",
   "metadata": {},
   "outputs": [],
   "source": []
  },
  {
   "cell_type": "code",
   "execution_count": null,
   "id": "f0cc00f7-6951-4c04-820e-1664ec7bad1e",
   "metadata": {},
   "outputs": [],
   "source": []
  },
  {
   "cell_type": "code",
   "execution_count": null,
   "id": "e67c3ff1-0813-4494-b5a0-3d783cd87855",
   "metadata": {},
   "outputs": [],
   "source": []
  },
  {
   "cell_type": "code",
   "execution_count": null,
   "id": "5f3fb313-542f-46a2-b0a7-49fb87ae69a6",
   "metadata": {},
   "outputs": [],
   "source": []
  },
  {
   "cell_type": "code",
   "execution_count": null,
   "id": "325957c2-a3b1-4531-aeb7-07eec9a33edc",
   "metadata": {},
   "outputs": [],
   "source": []
  },
  {
   "cell_type": "code",
   "execution_count": null,
   "id": "f98bd3cc-5722-492e-8d24-07281805dac8",
   "metadata": {},
   "outputs": [],
   "source": []
  },
  {
   "cell_type": "code",
   "execution_count": null,
   "id": "58d1c03e-a30d-4a59-baf0-18c210a8443a",
   "metadata": {},
   "outputs": [],
   "source": []
  },
  {
   "cell_type": "code",
   "execution_count": null,
   "id": "e5ecc41c-14fb-4334-b4bf-0edaddedd239",
   "metadata": {},
   "outputs": [],
   "source": []
  },
  {
   "cell_type": "code",
   "execution_count": null,
   "id": "58a9ef1a-af05-448c-8f18-d1bd5ecfc123",
   "metadata": {},
   "outputs": [],
   "source": []
  },
  {
   "cell_type": "code",
   "execution_count": null,
   "id": "fb81c485-839c-4dfe-b45f-0d63e333470b",
   "metadata": {},
   "outputs": [],
   "source": []
  },
  {
   "cell_type": "code",
   "execution_count": null,
   "id": "4ec74514-2b24-49f0-9494-895ba1c140f1",
   "metadata": {},
   "outputs": [],
   "source": []
  },
  {
   "cell_type": "code",
   "execution_count": null,
   "id": "47eca2c3-3b1a-42c1-8da9-e1de6f113f16",
   "metadata": {},
   "outputs": [],
   "source": []
  },
  {
   "cell_type": "code",
   "execution_count": 1,
   "id": "81973e54-3ed8-434c-bbb0-2accb613b3e2",
   "metadata": {},
   "outputs": [],
   "source": [
    "f = open('../data/bike_od.txt')\n",
    "lines = f.readlines()\n",
    "f.close()"
   ]
  },
  {
   "cell_type": "code",
   "execution_count": 4,
   "id": "f596b8fe-b23c-411b-8097-aeaafccd5205",
   "metadata": {},
   "outputs": [
    {
     "data": {
      "text/plain": [
       "['17de7b721621a1eaec394c7bfe16f61b,f52411b549236c64cbfad398527b06f0,2017-10-01 20:34:39,104.097134,30.662983,2017-10-01 20:39:25,104.096313,30.662149,121.40856338370351\\n',\n",
       " '87347011edded1387ca0cef5a7bdea28,f52411b549236c64cbfad398527b06f0,2017-10-01 09:02:01,103.9586,30.688988,2017-10-01 09:02:10,103.958639,30.68896,4.857876100086827\\n',\n",
       " '87347011edded1387ca0cef5a7bdea28,f52411b549236c64cbfad398527b06f0,2017-10-01 10:41:11,103.958588,30.688974,2017-10-01 10:42:55,103.958632,30.688974,4.21576439917117\\n',\n",
       " '87347011edded1387ca0cef5a7bdea28,f52411b549236c64cbfad398527b06f0,2017-10-01 11:52:19,103.958563,30.688981,2017-10-01 12:02:15,103.958708,30.688565,48.16657195560817\\n',\n",
       " '87347011edded1387ca0cef5a7bdea28,f52411b549236c64cbfad398527b06f0,2017-10-01 12:54:14,103.95864,30.688963,2017-10-01 12:54:34,103.958702,30.688961,5.944532645458967\\n',\n",
       " '87347011edded1387ca0cef5a7bdea28,f52411b549236c64cbfad398527b06f0,2017-10-01 17:07:51,103.958046,30.689294,2017-10-01 17:08:04,103.958251,30.689333,20.111820093789383\\n',\n",
       " '9358093e5301671968a0c970165db41d,f52411b549236c64cbfad398527b06f0,2017-10-01 16:00:37,104.141525,30.675198,2017-10-01 16:06:48,104.136724,30.671861,590.3642752220823\\n',\n",
       " '9358093e5301671968a0c970165db41d,f52411b549236c64cbfad398527b06f0,2017-10-01 18:59:55,104.120421,30.66447,2017-10-01 19:01:19,104.12728,30.667824,755.2163458559802\\n',\n",
       " 'ee918019ed5025c4db6dc4e88b27aa12,f52411b549236c64cbfad398527b06f0,2017-10-01 14:58:30,104.044585,30.588811,2017-10-01 15:16:54,104.061035,30.594831,1713.0499359102212\\n',\n",
       " '8552732d4a3d23b0d5d4e2394b5d3b16,f52411b549236c64cbfad398527b06f0,2017-10-01 12:42:29,104.002352,30.677148,2017-10-01 12:55:43,104.001751,30.67672,74.62012652066407\\n']"
      ]
     },
     "execution_count": 4,
     "metadata": {},
     "output_type": "execute_result"
    }
   ],
   "source": [
    "lines = lines[1:]\n",
    "lines[0:10]"
   ]
  },
  {
   "cell_type": "code",
   "execution_count": 8,
   "id": "63c78fb6-3092-42a0-adf1-2b2c49a89061",
   "metadata": {},
   "outputs": [
    {
     "data": {
      "text/plain": [
       "'17de7b721621a1eaec394c7bfe16f61b'"
      ]
     },
     "execution_count": 8,
     "metadata": {},
     "output_type": "execute_result"
    }
   ],
   "source": [
    "line = lines[0]\n",
    "line_seg = line.split(',')\n",
    "line_seg[0]"
   ]
  },
  {
   "cell_type": "code",
   "execution_count": 12,
   "id": "64ebfcda-197d-4eda-b343-617276bf9e17",
   "metadata": {},
   "outputs": [
    {
     "name": "stdout",
     "output_type": "stream",
     "text": [
      "用户总量： 2623\n"
     ]
    }
   ],
   "source": [
    "user_list = []\n",
    "for line in lines:\n",
    "    seg = line.split(',')\n",
    "    user = seg[0]\n",
    "    \n",
    "    if user not in user_list:\n",
    "        user_list.append(user)\n",
    "print('用户总量：', len(user_list))"
   ]
  },
  {
   "cell_type": "code",
   "execution_count": null,
   "id": "1910c84d-b522-4e84-a323-11ea4de30e06",
   "metadata": {},
   "outputs": [],
   "source": []
  },
  {
   "cell_type": "code",
   "execution_count": 24,
   "id": "aeb5c988-cd74-400a-8fee-983ad4202954",
   "metadata": {},
   "outputs": [],
   "source": [
    "user_dict = {}\n",
    "for line in lines:\n",
    "    seg = line.split(',')\n",
    "    user = seg[0]\n",
    "    \n",
    "    if user in user_dict:\n",
    "        user_dict[user] +=1\n",
    "    else:\n",
    "        user_dict[user]=1\n",
    "    \n",
    "l = [[key, user_dict[key]] for key in user_dict]\n",
    "l = sorted(l, key=lambda x: x[1], reverse=True)\n",
    "\n",
    "out = open('../data/user_freq.csv', 'w')\n",
    "for user, n in l:\n",
    "    out.write('{},{}\\n'.format(user,n))\n",
    "    \n",
    "out.close()"
   ]
  },
  {
   "cell_type": "code",
   "execution_count": null,
   "id": "4a500536-40fe-4f39-bb69-b4ce82aa25a2",
   "metadata": {},
   "outputs": [],
   "source": []
  }
 ],
 "metadata": {
  "kernelspec": {
   "display_name": "Python 3 (ipykernel)",
   "language": "python",
   "name": "python3"
  },
  "language_info": {
   "codemirror_mode": {
    "name": "ipython",
    "version": 3
   },
   "file_extension": ".py",
   "mimetype": "text/x-python",
   "name": "python",
   "nbconvert_exporter": "python",
   "pygments_lexer": "ipython3",
   "version": "3.9.12"
  }
 },
 "nbformat": 4,
 "nbformat_minor": 5
}
