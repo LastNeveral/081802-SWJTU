{
 "cells": [
  {
   "cell_type": "code",
   "execution_count": 1,
   "id": "18f0312c",
   "metadata": {
    "execution": {
     "iopub.execute_input": "2022-09-09T07:19:05.517619Z",
     "iopub.status.busy": "2022-09-09T07:19:05.517619Z",
     "iopub.status.idle": "2022-09-09T07:19:13.256924Z",
     "shell.execute_reply": "2022-09-09T07:19:13.256069Z",
     "shell.execute_reply.started": "2022-09-09T07:19:05.517619Z"
    }
   },
   "outputs": [],
   "source": [
    "import pandas as pd"
   ]
  },
  {
   "cell_type": "code",
   "execution_count": 5,
   "id": "1774863f",
   "metadata": {
    "execution": {
     "iopub.execute_input": "2022-09-09T07:20:44.608424Z",
     "iopub.status.busy": "2022-09-09T07:20:44.608424Z",
     "iopub.status.idle": "2022-09-09T07:20:44.651809Z",
     "shell.execute_reply": "2022-09-09T07:20:44.650952Z",
     "shell.execute_reply.started": "2022-09-09T07:20:44.608424Z"
    },
    "tags": []
   },
   "outputs": [],
   "source": [
    "w = pd.read_excel('../骨干公交列表.xlsx')\n",
    "w = w.dropna()"
   ]
  },
  {
   "cell_type": "code",
   "execution_count": 6,
   "id": "8f2e4369",
   "metadata": {
    "execution": {
     "iopub.execute_input": "2022-09-09T07:20:46.225539Z",
     "iopub.status.busy": "2022-09-09T07:20:46.224541Z",
     "iopub.status.idle": "2022-09-09T07:20:46.236542Z",
     "shell.execute_reply": "2022-09-09T07:20:46.236542Z",
     "shell.execute_reply.started": "2022-09-09T07:20:46.224541Z"
    }
   },
   "outputs": [
    {
     "data": {
      "text/html": [
       "<div>\n",
       "<style scoped>\n",
       "    .dataframe tbody tr th:only-of-type {\n",
       "        vertical-align: middle;\n",
       "    }\n",
       "\n",
       "    .dataframe tbody tr th {\n",
       "        vertical-align: top;\n",
       "    }\n",
       "\n",
       "    .dataframe thead th {\n",
       "        text-align: right;\n",
       "    }\n",
       "</style>\n",
       "<table border=\"1\" class=\"dataframe\">\n",
       "  <thead>\n",
       "    <tr style=\"text-align: right;\">\n",
       "      <th></th>\n",
       "      <th>route</th>\n",
       "      <th>起讫站</th>\n",
       "      <th>运营公司</th>\n",
       "      <th>首班车时间</th>\n",
       "      <th>末班车时间</th>\n",
       "      <th>备注</th>\n",
       "    </tr>\n",
       "  </thead>\n",
       "  <tbody>\n",
       "    <tr>\n",
       "      <th>1</th>\n",
       "      <td>1</td>\n",
       "      <td>高朋公交站 ↔ 昭觉寺公交站</td>\n",
       "      <td>成都公交集团北星公司</td>\n",
       "      <td>06:00:00</td>\n",
       "      <td>23:00:00</td>\n",
       "      <td>06:00-07:00次卡免费</td>\n",
       "    </tr>\n",
       "    <tr>\n",
       "      <th>2</th>\n",
       "      <td>3</td>\n",
       "      <td>城东客运中心 ↔ 香榭里</td>\n",
       "      <td>成都公交集团北星公司</td>\n",
       "      <td>06:15:00</td>\n",
       "      <td>23:00:00</td>\n",
       "      <td>06:15-07:00次卡免费</td>\n",
       "    </tr>\n",
       "    <tr>\n",
       "      <th>3</th>\n",
       "      <td>4</td>\n",
       "      <td>成都东客站(东广场) ↔ 茶店子公交站</td>\n",
       "      <td>成都公交集团运兴公司</td>\n",
       "      <td>06:00:00</td>\n",
       "      <td>22:00:00</td>\n",
       "      <td>06:00-07:00次卡免费</td>\n",
       "    </tr>\n",
       "    <tr>\n",
       "      <th>4</th>\n",
       "      <td>5</td>\n",
       "      <td>十陵公交站 ↔ 金沙公交站</td>\n",
       "      <td>成都公交集团运兴公司</td>\n",
       "      <td>06:00:00</td>\n",
       "      <td>23:00:00</td>\n",
       "      <td>06:00-07:00次卡免费</td>\n",
       "    </tr>\n",
       "    <tr>\n",
       "      <th>5</th>\n",
       "      <td>6</td>\n",
       "      <td>聚荟街 ↔ 仙韵二路</td>\n",
       "      <td>成都公交集团东星公司</td>\n",
       "      <td>06:30:00</td>\n",
       "      <td>22:00:00</td>\n",
       "      <td>06:30-07:00次卡免费</td>\n",
       "    </tr>\n",
       "  </tbody>\n",
       "</table>\n",
       "</div>"
      ],
      "text/plain": [
       "  route                  起讫站        运营公司     首班车时间     末班车时间               备注\n",
       "1     1       高朋公交站 ↔ 昭觉寺公交站  成都公交集团北星公司  06:00:00  23:00:00  06:00-07:00次卡免费\n",
       "2     3         城东客运中心 ↔ 香榭里  成都公交集团北星公司  06:15:00  23:00:00  06:15-07:00次卡免费\n",
       "3     4  成都东客站(东广场) ↔ 茶店子公交站  成都公交集团运兴公司  06:00:00  22:00:00  06:00-07:00次卡免费\n",
       "4     5        十陵公交站 ↔ 金沙公交站  成都公交集团运兴公司  06:00:00  23:00:00  06:00-07:00次卡免费\n",
       "5     6           聚荟街 ↔ 仙韵二路  成都公交集团东星公司  06:30:00  22:00:00  06:30-07:00次卡免费"
      ]
     },
     "execution_count": 6,
     "metadata": {},
     "output_type": "execute_result"
    }
   ],
   "source": [
    "w.head()"
   ]
  },
  {
   "cell_type": "code",
   "execution_count": 3,
   "id": "d5285963",
   "metadata": {
    "execution": {
     "iopub.execute_input": "2022-09-06T06:57:04.166144Z",
     "iopub.status.busy": "2022-09-06T06:57:04.166144Z",
     "iopub.status.idle": "2022-09-06T06:57:04.181103Z",
     "shell.execute_reply": "2022-09-06T06:57:04.181103Z",
     "shell.execute_reply.started": "2022-09-06T06:57:04.166144Z"
    },
    "tags": []
   },
   "outputs": [
    {
     "data": {
      "text/plain": [
       "array([1, 3, 4, 5, 6, 7, 8, 9, 10, 11, 12, 13, 14, 15, 16, 17, 18, 19, 20,\n",
       "       21, 22, 23, 24, 25, 26, 27, 28, 29, 30, '30A', 32, 34, 35, 36, 37,\n",
       "       40, 41, 42, 43, 44, 45, 46, 47, 48, 49, 51, 53, 54, 55, 56, 57, 58,\n",
       "       59, 60, 61, 62, 64, 65, 68, 70, 71, 73, 74, 75, 76, 77, 78, 79, 80,\n",
       "       82, 83, 84, 85, 86, 87, 89, 90, 91, 92, 93, 95, 96, 97, 98, 99,\n",
       "       102, 103, 104, 105, 106, 107, 109, 111, 112, 113, 115, 116, 118,\n",
       "       119, 120, 121, 122, 123, 124, 125, 126, 127, 128, 131, 133, 136,\n",
       "       137, 138, 141, 143, 145, 146, 147, 335, 336, 338, 339, 340, 341,\n",
       "       343], dtype=object)"
      ]
     },
     "execution_count": 3,
     "metadata": {},
     "output_type": "execute_result"
    }
   ],
   "source": [
    "w.route.unique()"
   ]
  },
  {
   "cell_type": "code",
   "execution_count": null,
   "id": "07d95d83",
   "metadata": {
    "tags": []
   },
   "outputs": [],
   "source": []
  },
  {
   "cell_type": "code",
   "execution_count": null,
   "id": "49e7f94b",
   "metadata": {},
   "outputs": [],
   "source": []
  },
  {
   "cell_type": "code",
   "execution_count": null,
   "id": "42c76261",
   "metadata": {},
   "outputs": [],
   "source": []
  },
  {
   "cell_type": "code",
   "execution_count": null,
   "id": "3ac1980f",
   "metadata": {},
   "outputs": [],
   "source": []
  },
  {
   "cell_type": "code",
   "execution_count": null,
   "id": "f8e86889",
   "metadata": {},
   "outputs": [],
   "source": []
  },
  {
   "cell_type": "code",
   "execution_count": null,
   "id": "f94a138f",
   "metadata": {},
   "outputs": [],
   "source": []
  },
  {
   "cell_type": "code",
   "execution_count": null,
   "id": "d311ea5f",
   "metadata": {},
   "outputs": [],
   "source": []
  },
  {
   "cell_type": "code",
   "execution_count": null,
   "id": "f9ab7e76",
   "metadata": {},
   "outputs": [],
   "source": []
  },
  {
   "cell_type": "code",
   "execution_count": null,
   "id": "993ad042",
   "metadata": {},
   "outputs": [],
   "source": []
  },
  {
   "cell_type": "code",
   "execution_count": null,
   "id": "d7579b26",
   "metadata": {},
   "outputs": [],
   "source": []
  },
  {
   "cell_type": "code",
   "execution_count": null,
   "id": "b555eeef",
   "metadata": {},
   "outputs": [],
   "source": []
  },
  {
   "cell_type": "code",
   "execution_count": null,
   "id": "00697641",
   "metadata": {},
   "outputs": [],
   "source": []
  }
 ],
 "metadata": {
  "kernelspec": {
   "display_name": "Python 3 (ipykernel)",
   "language": "python",
   "name": "python3"
  },
  "language_info": {
   "codemirror_mode": {
    "name": "ipython",
    "version": 3
   },
   "file_extension": ".py",
   "mimetype": "text/x-python",
   "name": "python",
   "nbconvert_exporter": "python",
   "pygments_lexer": "ipython3",
   "version": "3.9.7"
  }
 },
 "nbformat": 4,
 "nbformat_minor": 5
}
