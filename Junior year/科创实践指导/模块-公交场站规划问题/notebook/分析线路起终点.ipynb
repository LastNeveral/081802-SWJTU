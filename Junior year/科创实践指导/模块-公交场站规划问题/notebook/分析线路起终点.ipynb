{
 "cells": [
  {
   "cell_type": "code",
   "execution_count": 1,
   "id": "c884b2f9",
   "metadata": {
    "execution": {
     "iopub.execute_input": "2022-09-09T07:31:49.023504Z",
     "iopub.status.busy": "2022-09-09T07:31:49.022506Z",
     "iopub.status.idle": "2022-09-09T07:31:49.626800Z",
     "shell.execute_reply": "2022-09-09T07:31:49.626800Z",
     "shell.execute_reply.started": "2022-09-09T07:31:49.022506Z"
    },
    "tags": []
   },
   "outputs": [],
   "source": [
    "import pandas as pd\n",
    "import random\n",
    "from line_path import data"
   ]
  },
  {
   "cell_type": "markdown",
   "id": "ac6ee587",
   "metadata": {},
   "source": [
    "# 保存线路轨迹"
   ]
  },
  {
   "cell_type": "code",
   "execution_count": 11,
   "id": "ea3ce54c",
   "metadata": {
    "execution": {
     "iopub.execute_input": "2022-09-09T08:27:48.927298Z",
     "iopub.status.busy": "2022-09-09T08:27:48.927298Z",
     "iopub.status.idle": "2022-09-09T08:27:49.002485Z",
     "shell.execute_reply": "2022-09-09T08:27:49.001026Z",
     "shell.execute_reply.started": "2022-09-09T08:27:48.927298Z"
    },
    "tags": []
   },
   "outputs": [],
   "source": [
    "# 保存线路数据用于作图\n",
    "line_info = []\n",
    "\n",
    "for line, path in data.items():\n",
    "    for point in path:\n",
    "        line_info.append([line, *point])"
   ]
  },
  {
   "cell_type": "code",
   "execution_count": 12,
   "id": "91852873",
   "metadata": {
    "execution": {
     "iopub.execute_input": "2022-09-09T08:27:50.889723Z",
     "iopub.status.busy": "2022-09-09T08:27:50.888726Z",
     "iopub.status.idle": "2022-09-09T08:27:50.919650Z",
     "shell.execute_reply": "2022-09-09T08:27:50.917649Z",
     "shell.execute_reply.started": "2022-09-09T08:27:50.889723Z"
    }
   },
   "outputs": [
    {
     "data": {
      "text/plain": [
       "[['4路', 104.144298, 30.628688],\n",
       " ['4路', 104.143363, 30.626593],\n",
       " ['4路', 104.14295, 30.626011],\n",
       " ['4路', 104.143848, 30.625453],\n",
       " ['4路', 104.14385, 30.625447]]"
      ]
     },
     "execution_count": 12,
     "metadata": {},
     "output_type": "execute_result"
    }
   ],
   "source": [
    "line_info[0:5]"
   ]
  },
  {
   "cell_type": "code",
   "execution_count": 14,
   "id": "c8e29faf",
   "metadata": {
    "execution": {
     "iopub.execute_input": "2022-09-09T08:29:01.939070Z",
     "iopub.status.busy": "2022-09-09T08:29:01.939070Z",
     "iopub.status.idle": "2022-09-09T08:29:02.217025Z",
     "shell.execute_reply": "2022-09-09T08:29:02.216059Z",
     "shell.execute_reply.started": "2022-09-09T08:29:01.939070Z"
    }
   },
   "outputs": [
    {
     "data": {
      "text/html": [
       "<div>\n",
       "<style scoped>\n",
       "    .dataframe tbody tr th:only-of-type {\n",
       "        vertical-align: middle;\n",
       "    }\n",
       "\n",
       "    .dataframe tbody tr th {\n",
       "        vertical-align: top;\n",
       "    }\n",
       "\n",
       "    .dataframe thead th {\n",
       "        text-align: right;\n",
       "    }\n",
       "</style>\n",
       "<table border=\"1\" class=\"dataframe\">\n",
       "  <thead>\n",
       "    <tr style=\"text-align: right;\">\n",
       "      <th></th>\n",
       "      <th>line</th>\n",
       "      <th>lng</th>\n",
       "      <th>lat</th>\n",
       "    </tr>\n",
       "  </thead>\n",
       "  <tbody>\n",
       "    <tr>\n",
       "      <th>0</th>\n",
       "      <td>4路</td>\n",
       "      <td>104.144298</td>\n",
       "      <td>30.628688</td>\n",
       "    </tr>\n",
       "    <tr>\n",
       "      <th>1</th>\n",
       "      <td>4路</td>\n",
       "      <td>104.143363</td>\n",
       "      <td>30.626593</td>\n",
       "    </tr>\n",
       "    <tr>\n",
       "      <th>2</th>\n",
       "      <td>4路</td>\n",
       "      <td>104.142950</td>\n",
       "      <td>30.626011</td>\n",
       "    </tr>\n",
       "    <tr>\n",
       "      <th>3</th>\n",
       "      <td>4路</td>\n",
       "      <td>104.143848</td>\n",
       "      <td>30.625453</td>\n",
       "    </tr>\n",
       "    <tr>\n",
       "      <th>4</th>\n",
       "      <td>4路</td>\n",
       "      <td>104.143850</td>\n",
       "      <td>30.625447</td>\n",
       "    </tr>\n",
       "  </tbody>\n",
       "</table>\n",
       "</div>"
      ],
      "text/plain": [
       "  line         lng        lat\n",
       "0   4路  104.144298  30.628688\n",
       "1   4路  104.143363  30.626593\n",
       "2   4路  104.142950  30.626011\n",
       "3   4路  104.143848  30.625453\n",
       "4   4路  104.143850  30.625447"
      ]
     },
     "execution_count": 14,
     "metadata": {},
     "output_type": "execute_result"
    }
   ],
   "source": [
    "w = pd.DataFrame(line_info, columns=['line', 'lng', 'lat'])\n",
    "w.to_csv('../data/line-path.csv', index=False)\n",
    "w.head()"
   ]
  },
  {
   "cell_type": "markdown",
   "id": "68ffa297",
   "metadata": {},
   "source": [
    "# 线路起终点"
   ]
  },
  {
   "cell_type": "code",
   "execution_count": 15,
   "id": "b9e76aae",
   "metadata": {
    "execution": {
     "iopub.execute_input": "2022-09-09T08:29:47.124446Z",
     "iopub.status.busy": "2022-09-09T08:29:47.123448Z",
     "iopub.status.idle": "2022-09-09T08:29:47.148384Z",
     "shell.execute_reply": "2022-09-09T08:29:47.146392Z",
     "shell.execute_reply.started": "2022-09-09T08:29:47.124446Z"
    },
    "tags": []
   },
   "outputs": [
    {
     "name": "stdout",
     "output_type": "stream",
     "text": [
      "248\n"
     ]
    },
    {
     "data": {
      "text/plain": [
       "[['4路', 104.144298, 30.628688, 'terminal'],\n",
       " ['4路', 104.013138, 30.704601, 'terminal'],\n",
       " ['5路', 104.163372, 30.665273, 'terminal'],\n",
       " ['5路', 104.011669, 30.673279, 'terminal'],\n",
       " ['6路', 104.127622, 30.685443, 'terminal']]"
      ]
     },
     "execution_count": 15,
     "metadata": {},
     "output_type": "execute_result"
    }
   ],
   "source": [
    "terminals = []\n",
    "\n",
    "for line in data:\n",
    "    path = data[line]\n",
    "    start_lng, start_lat = path[0]\n",
    "    end_lng, end_lat = path[-1]\n",
    "    \n",
    "    terminals.append([line, start_lng, start_lat, 'terminal'])\n",
    "    terminals.append([line, end_lng, end_lat, 'terminal'])\n",
    "\n",
    "print(len(terminals))\n",
    "terminals[0:5]"
   ]
  },
  {
   "cell_type": "markdown",
   "id": "151b1b71",
   "metadata": {},
   "source": [
    "# 从terminal中产生20个潜在的公交场站"
   ]
  },
  {
   "cell_type": "code",
   "execution_count": 16,
   "id": "fabbf80f",
   "metadata": {
    "execution": {
     "iopub.execute_input": "2022-09-09T08:31:28.578658Z",
     "iopub.status.busy": "2022-09-09T08:31:28.577661Z",
     "iopub.status.idle": "2022-09-09T08:31:28.601599Z",
     "shell.execute_reply": "2022-09-09T08:31:28.600599Z",
     "shell.execute_reply.started": "2022-09-09T08:31:28.578658Z"
    },
    "tags": []
   },
   "outputs": [
    {
     "data": {
      "text/plain": [
       "[['35路', 103.976832, 30.688767, 'terminal'],\n",
       " ['43路', 104.063147, 30.656359, 'terminal'],\n",
       " ['15路', 104.075781, 30.695378, 'terminal'],\n",
       " ['112路', 104.168465, 30.711826, 'terminal'],\n",
       " ['58路', 103.961616, 30.664789, 'terminal']]"
      ]
     },
     "execution_count": 16,
     "metadata": {},
     "output_type": "execute_result"
    }
   ],
   "source": [
    "random.seed(4)\n",
    "depots = random.sample(terminals, 20)\n",
    "depots[0:5]"
   ]
  },
  {
   "cell_type": "markdown",
   "id": "1bd635d6",
   "metadata": {},
   "source": [
    "# 生成表格并保存"
   ]
  },
  {
   "cell_type": "code",
   "execution_count": 17,
   "id": "387f59c3",
   "metadata": {
    "execution": {
     "iopub.execute_input": "2022-09-09T08:34:10.236677Z",
     "iopub.status.busy": "2022-09-09T08:34:10.236677Z",
     "iopub.status.idle": "2022-09-09T08:34:10.647492Z",
     "shell.execute_reply": "2022-09-09T08:34:10.646490Z",
     "shell.execute_reply.started": "2022-09-09T08:34:10.236677Z"
    },
    "tags": []
   },
   "outputs": [
    {
     "data": {
      "text/html": [
       "<div>\n",
       "<style scoped>\n",
       "    .dataframe tbody tr th:only-of-type {\n",
       "        vertical-align: middle;\n",
       "    }\n",
       "\n",
       "    .dataframe tbody tr th {\n",
       "        vertical-align: top;\n",
       "    }\n",
       "\n",
       "    .dataframe thead th {\n",
       "        text-align: right;\n",
       "    }\n",
       "</style>\n",
       "<table border=\"1\" class=\"dataframe\">\n",
       "  <thead>\n",
       "    <tr style=\"text-align: right;\">\n",
       "      <th></th>\n",
       "      <th>line</th>\n",
       "      <th>lng</th>\n",
       "      <th>lat</th>\n",
       "      <th>type</th>\n",
       "      <th>id</th>\n",
       "    </tr>\n",
       "  </thead>\n",
       "  <tbody>\n",
       "    <tr>\n",
       "      <th>0</th>\n",
       "      <td>35路</td>\n",
       "      <td>103.976832</td>\n",
       "      <td>30.688767</td>\n",
       "      <td>depot</td>\n",
       "      <td>0</td>\n",
       "    </tr>\n",
       "    <tr>\n",
       "      <th>1</th>\n",
       "      <td>43路</td>\n",
       "      <td>104.063147</td>\n",
       "      <td>30.656359</td>\n",
       "      <td>depot</td>\n",
       "      <td>1</td>\n",
       "    </tr>\n",
       "    <tr>\n",
       "      <th>2</th>\n",
       "      <td>15路</td>\n",
       "      <td>104.075781</td>\n",
       "      <td>30.695378</td>\n",
       "      <td>depot</td>\n",
       "      <td>2</td>\n",
       "    </tr>\n",
       "    <tr>\n",
       "      <th>3</th>\n",
       "      <td>112路</td>\n",
       "      <td>104.168465</td>\n",
       "      <td>30.711826</td>\n",
       "      <td>depot</td>\n",
       "      <td>3</td>\n",
       "    </tr>\n",
       "    <tr>\n",
       "      <th>4</th>\n",
       "      <td>58路</td>\n",
       "      <td>103.961616</td>\n",
       "      <td>30.664789</td>\n",
       "      <td>depot</td>\n",
       "      <td>4</td>\n",
       "    </tr>\n",
       "  </tbody>\n",
       "</table>\n",
       "</div>"
      ],
      "text/plain": [
       "   line         lng        lat   type  id\n",
       "0   35路  103.976832  30.688767  depot   0\n",
       "1   43路  104.063147  30.656359  depot   1\n",
       "2   15路  104.075781  30.695378  depot   2\n",
       "3  112路  104.168465  30.711826  depot   3\n",
       "4   58路  103.961616  30.664789  depot   4"
      ]
     },
     "execution_count": 17,
     "metadata": {},
     "output_type": "execute_result"
    }
   ],
   "source": [
    "df1 = pd.DataFrame(terminals, columns=['line', 'lng', 'lat', 'type'])\n",
    "df2 = pd.DataFrame(depots, columns=['line', 'lng', 'lat', 'type'])\n",
    "df2['type'] = 'depot'\n",
    "df = pd.concat([df2, df1])\n",
    "df['id'] = range(len(df))\n",
    "df.head()"
   ]
  },
  {
   "cell_type": "code",
   "execution_count": 18,
   "id": "7dc31226",
   "metadata": {
    "execution": {
     "iopub.execute_input": "2022-09-09T08:34:13.537577Z",
     "iopub.status.busy": "2022-09-09T08:34:13.537577Z",
     "iopub.status.idle": "2022-09-09T08:34:13.563508Z",
     "shell.execute_reply": "2022-09-09T08:34:13.561511Z",
     "shell.execute_reply.started": "2022-09-09T08:34:13.537577Z"
    },
    "tags": []
   },
   "outputs": [],
   "source": [
    "df.to_csv('../data/terminal-and-depots.csv', index=False)"
   ]
  },
  {
   "cell_type": "code",
   "execution_count": null,
   "id": "d087ddb6",
   "metadata": {},
   "outputs": [],
   "source": []
  },
  {
   "cell_type": "code",
   "execution_count": null,
   "id": "acdcd2c0",
   "metadata": {},
   "outputs": [],
   "source": []
  },
  {
   "cell_type": "code",
   "execution_count": null,
   "id": "148b54c9",
   "metadata": {},
   "outputs": [],
   "source": []
  },
  {
   "cell_type": "code",
   "execution_count": null,
   "id": "387d0822",
   "metadata": {
    "tags": []
   },
   "outputs": [],
   "source": []
  },
  {
   "cell_type": "code",
   "execution_count": null,
   "id": "f2bd2198",
   "metadata": {
    "tags": []
   },
   "outputs": [],
   "source": []
  },
  {
   "cell_type": "code",
   "execution_count": null,
   "id": "274d8b9b",
   "metadata": {},
   "outputs": [],
   "source": []
  },
  {
   "cell_type": "code",
   "execution_count": null,
   "id": "a5c3c747",
   "metadata": {},
   "outputs": [],
   "source": []
  },
  {
   "cell_type": "code",
   "execution_count": null,
   "id": "b2f976c4",
   "metadata": {},
   "outputs": [],
   "source": []
  },
  {
   "cell_type": "code",
   "execution_count": null,
   "id": "fcc1d5cd",
   "metadata": {},
   "outputs": [],
   "source": []
  },
  {
   "cell_type": "code",
   "execution_count": null,
   "id": "f8cf886e",
   "metadata": {},
   "outputs": [],
   "source": []
  },
  {
   "cell_type": "code",
   "execution_count": null,
   "id": "b69d55e0",
   "metadata": {},
   "outputs": [],
   "source": []
  }
 ],
 "metadata": {
  "kernelspec": {
   "display_name": "Python 3 (ipykernel)",
   "language": "python",
   "name": "python3"
  },
  "language_info": {
   "codemirror_mode": {
    "name": "ipython",
    "version": 3
   },
   "file_extension": ".py",
   "mimetype": "text/x-python",
   "name": "python",
   "nbconvert_exporter": "python",
   "pygments_lexer": "ipython3",
   "version": "3.9.7"
  }
 },
 "nbformat": 4,
 "nbformat_minor": 5
}
