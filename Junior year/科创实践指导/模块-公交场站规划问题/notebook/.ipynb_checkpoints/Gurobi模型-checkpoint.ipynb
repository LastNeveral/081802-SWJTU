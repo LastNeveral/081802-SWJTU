{
 "cells": [
  {
   "cell_type": "code",
   "execution_count": 7,
   "id": "39a2981f",
   "metadata": {
    "execution": {
     "iopub.execute_input": "2022-10-04T06:28:42.302748Z",
     "iopub.status.busy": "2022-10-04T06:28:42.302748Z",
     "iopub.status.idle": "2022-10-04T06:28:42.317708Z",
     "shell.execute_reply": "2022-10-04T06:28:42.316744Z",
     "shell.execute_reply.started": "2022-10-04T06:28:42.302748Z"
    },
    "tags": []
   },
   "outputs": [],
   "source": [
    "import pandas as pd\n",
    "import pickle\n",
    "\n",
    "import gurobipy as gp\n",
    "from gurobipy import GRB, quicksum"
   ]
  },
  {
   "cell_type": "code",
   "execution_count": 8,
   "id": "2e7c8c88",
   "metadata": {
    "execution": {
     "iopub.execute_input": "2022-10-04T06:28:44.981206Z",
     "iopub.status.busy": "2022-10-04T06:28:44.981206Z",
     "iopub.status.idle": "2022-10-04T06:28:45.004146Z",
     "shell.execute_reply": "2022-10-04T06:28:45.004146Z",
     "shell.execute_reply.started": "2022-10-04T06:28:44.981206Z"
    },
    "tags": []
   },
   "outputs": [
    {
     "data": {
      "text/html": [
       "<div>\n",
       "<style scoped>\n",
       "    .dataframe tbody tr th:only-of-type {\n",
       "        vertical-align: middle;\n",
       "    }\n",
       "\n",
       "    .dataframe tbody tr th {\n",
       "        vertical-align: top;\n",
       "    }\n",
       "\n",
       "    .dataframe thead th {\n",
       "        text-align: right;\n",
       "    }\n",
       "</style>\n",
       "<table border=\"1\" class=\"dataframe\">\n",
       "  <thead>\n",
       "    <tr style=\"text-align: right;\">\n",
       "      <th></th>\n",
       "      <th>line</th>\n",
       "      <th>lng</th>\n",
       "      <th>lat</th>\n",
       "      <th>type</th>\n",
       "      <th>id</th>\n",
       "    </tr>\n",
       "  </thead>\n",
       "  <tbody>\n",
       "    <tr>\n",
       "      <th>0</th>\n",
       "      <td>35路</td>\n",
       "      <td>103.976832</td>\n",
       "      <td>30.688767</td>\n",
       "      <td>depot</td>\n",
       "      <td>0</td>\n",
       "    </tr>\n",
       "    <tr>\n",
       "      <th>1</th>\n",
       "      <td>43路</td>\n",
       "      <td>104.063147</td>\n",
       "      <td>30.656359</td>\n",
       "      <td>depot</td>\n",
       "      <td>1</td>\n",
       "    </tr>\n",
       "  </tbody>\n",
       "</table>\n",
       "</div>"
      ],
      "text/plain": [
       "  line         lng        lat   type  id\n",
       "0  35路  103.976832  30.688767  depot   0\n",
       "1  43路  104.063147  30.656359  depot   1"
      ]
     },
     "execution_count": 8,
     "metadata": {},
     "output_type": "execute_result"
    }
   ],
   "source": [
    "w = pd.read_csv('../data/terminal-and-depots.csv')\n",
    "w.loc[w.type=='terminal', 'id'] = range(len(w[w.type=='terminal']))\n",
    "w.head(2)"
   ]
  },
  {
   "cell_type": "code",
   "execution_count": 9,
   "id": "199b4071",
   "metadata": {
    "execution": {
     "iopub.execute_input": "2022-10-04T06:28:47.708440Z",
     "iopub.status.busy": "2022-10-04T06:28:47.708440Z",
     "iopub.status.idle": "2022-10-04T06:28:47.734371Z",
     "shell.execute_reply": "2022-10-04T06:28:47.733373Z",
     "shell.execute_reply.started": "2022-10-04T06:28:47.708440Z"
    },
    "tags": []
   },
   "outputs": [
    {
     "data": {
      "text/plain": [
       "[0, 1, 2, 3, 4, 5, 6, 7, 8, 9, 10, 11, 12, 13, 14, 15, 16, 17, 18, 19]"
      ]
     },
     "execution_count": 9,
     "metadata": {},
     "output_type": "execute_result"
    }
   ],
   "source": [
    "terminal_df = w[w.type=='terminal']\n",
    "depot_df = w[w.type=='depot']\n",
    "\n",
    "terminals = [r.id for i, r in terminal_df.iterrows()]\n",
    "depots = [r.id for i, r in depot_df.iterrows()]\n",
    "depots"
   ]
  },
  {
   "cell_type": "code",
   "execution_count": 10,
   "id": "025c7be0",
   "metadata": {
    "execution": {
     "iopub.execute_input": "2022-10-04T06:28:48.514332Z",
     "iopub.status.busy": "2022-10-04T06:28:48.513334Z",
     "iopub.status.idle": "2022-10-04T06:28:48.878388Z",
     "shell.execute_reply": "2022-10-04T06:28:48.878388Z",
     "shell.execute_reply.started": "2022-10-04T06:28:48.514332Z"
    },
    "tags": []
   },
   "outputs": [
    {
     "data": {
      "text/plain": [
       "[17355.71904935039,\n",
       " 3892.3573955943707,\n",
       " 18029.849691592917,\n",
       " 3750.281401231461,\n",
       " 14423.896337114571]"
      ]
     },
     "execution_count": 10,
     "metadata": {},
     "output_type": "execute_result"
    }
   ],
   "source": [
    "# 获取d_ij\n",
    "with open('../data/parameter-dij.pkl', 'rb') as f:  # write binary\n",
    "    d = pickle.load(f)\n",
    "d[0][0:5]"
   ]
  },
  {
   "cell_type": "code",
   "execution_count": 11,
   "id": "5c0f43f4",
   "metadata": {
    "execution": {
     "iopub.execute_input": "2022-10-04T06:28:49.494836Z",
     "iopub.status.busy": "2022-10-04T06:28:49.494836Z",
     "iopub.status.idle": "2022-10-04T06:28:49.506833Z",
     "shell.execute_reply": "2022-10-04T06:28:49.506833Z",
     "shell.execute_reply.started": "2022-10-04T06:28:49.494836Z"
    },
    "tags": []
   },
   "outputs": [],
   "source": [
    "M = 5\n",
    "Nj = 2"
   ]
  },
  {
   "cell_type": "markdown",
   "id": "668379eb",
   "metadata": {},
   "source": [
    "# Gurobi建模"
   ]
  },
  {
   "cell_type": "code",
   "execution_count": 12,
   "id": "0ea7b65d",
   "metadata": {
    "execution": {
     "iopub.execute_input": "2022-10-04T06:28:53.088949Z",
     "iopub.status.busy": "2022-10-04T06:28:53.088949Z",
     "iopub.status.idle": "2022-10-04T06:28:53.760161Z",
     "shell.execute_reply": "2022-10-04T06:28:53.759155Z",
     "shell.execute_reply.started": "2022-10-04T06:28:53.088949Z"
    },
    "tags": []
   },
   "outputs": [
    {
     "name": "stdout",
     "output_type": "stream",
     "text": [
      "Set parameter TimeLimit to value 3600\n",
      "No parameters matching 'Gap' found\n",
      "Gurobi Optimizer version 9.5.2 build v9.5.2rc0 (win64)\n",
      "Thread count: 4 physical cores, 8 logical processors, using up to 8 threads\n",
      "Optimize a model with 15129 rows, 9940 columns and 39700 nonzeros\n",
      "Model fingerprint: 0x208f19a3\n",
      "Variable types: 0 continuous, 9940 integer (9940 binary)\n",
      "Coefficient statistics:\n",
      "  Matrix range     [1e+00, 1e+00]\n",
      "  Objective range  [2e+00, 2e+05]\n",
      "  Bounds range     [1e+00, 1e+00]\n",
      "  RHS range        [1e+00, 5e+00]\n",
      "Found heuristic solution: objective 1.329409e+07\n",
      "Presolve removed 9920 rows and 4960 columns\n",
      "Presolve time: 0.06s\n",
      "Presolved: 5209 rows, 4980 columns, 14900 nonzeros\n",
      "Variable types: 0 continuous, 4980 integer (4980 binary)\n",
      "Found heuristic solution: objective 8315704.1033\n",
      "\n",
      "Root relaxation: objective 4.157040e+06, 1316 iterations, 0.05 seconds (0.04 work units)\n",
      "\n",
      "    Nodes    |    Current Node    |     Objective Bounds      |     Work\n",
      " Expl Unexpl |  Obj  Depth IntInf | Incumbent    BestBd   Gap | It/Node Time\n",
      "\n",
      "*    0     0               0    4157039.8335 4157039.83  0.00%     -    0s\n",
      "\n",
      "Explored 1 nodes (1316 simplex iterations) in 0.35 seconds (0.08 work units)\n",
      "Thread count was 8 (of 8 available processors)\n",
      "\n",
      "Solution count 3: 4.15704e+06 8.3157e+06 1.32941e+07 \n",
      "\n",
      "Optimal solution found (tolerance 1.00e-04)\n",
      "Best objective 4.157039833469e+06, best bound 4.157039833469e+06, gap 0.0000%\n"
     ]
    }
   ],
   "source": [
    "m = gp.Model()\n",
    "\n",
    "m.Params.Timelimit = 3600\n",
    "m.Params.Gap = 0\n",
    "\n",
    "x = m.addVars(depots, vtype=GRB.BINARY, name='x')\n",
    "y = m.addVars([(i,j) for i in depots for j in terminals], vtype=GRB.BINARY, name='y')\n",
    "z = m.addVars([(i,j) for i in depots for j in terminals], vtype=GRB.BINARY, name='z')\n",
    "\n",
    "m.addConstrs((z.sum('*', j)==1 for j in terminals))\n",
    "m.addConstr(x.sum()==M)\n",
    "m.addConstrs((z[i,j]<=x[i] for i in depots for j in terminals))\n",
    "m.addConstrs((z[i,j]<=y[i,j] for i in depots for j in terminals))\n",
    "m.addConstrs((z[i,j]>=x[i]+y[i,j]-1 for i in depots for j in terminals))\n",
    "\n",
    "m.setObjective(2*quicksum([z[i,j]*d[i][j]*Nj for i in depots for j in terminals]),\n",
    "              sense=GRB.MINIMIZE)\n",
    "\n",
    "m.optimize()"
   ]
  },
  {
   "cell_type": "code",
   "execution_count": 13,
   "id": "07527352",
   "metadata": {
    "execution": {
     "iopub.execute_input": "2022-09-25T13:35:40.981190Z",
     "iopub.status.busy": "2022-09-25T13:35:40.980193Z",
     "iopub.status.idle": "2022-09-25T13:35:40.992682Z",
     "shell.execute_reply": "2022-09-25T13:35:40.991692Z",
     "shell.execute_reply.started": "2022-09-25T13:35:40.980193Z"
    },
    "tags": []
   },
   "outputs": [
    {
     "data": {
      "text/plain": [
       "4157.039833469444"
      ]
     },
     "execution_count": 13,
     "metadata": {},
     "output_type": "execute_result"
    }
   ],
   "source": [
    "m.ObjVal / 1000.0"
   ]
  },
  {
   "cell_type": "markdown",
   "id": "64d0924f",
   "metadata": {},
   "source": [
    "# 最优结果提取"
   ]
  },
  {
   "cell_type": "code",
   "execution_count": 14,
   "id": "51e127b2",
   "metadata": {
    "execution": {
     "iopub.execute_input": "2022-09-25T13:35:40.995673Z",
     "iopub.status.busy": "2022-09-25T13:35:40.994726Z",
     "iopub.status.idle": "2022-09-25T13:35:41.025625Z",
     "shell.execute_reply": "2022-09-25T13:35:41.023652Z",
     "shell.execute_reply.started": "2022-09-25T13:35:40.995673Z"
    },
    "tags": []
   },
   "outputs": [
    {
     "data": {
      "text/plain": [
       "[(0, 1.0), (1, 1.0), (2, 1.0), (14, 1.0), (19, 1.0)]"
      ]
     },
     "execution_count": 14,
     "metadata": {},
     "output_type": "execute_result"
    }
   ],
   "source": [
    "selected_depots = [(i, m.getVarByName('x[{}]'.format(i)).x) for i in depots]\n",
    "selected_depots = [i for i in selected_depots if i[1]>0]\n",
    "selected_depots"
   ]
  },
  {
   "cell_type": "code",
   "execution_count": 15,
   "id": "3da1ed33",
   "metadata": {
    "execution": {
     "iopub.execute_input": "2022-09-25T13:35:41.029582Z",
     "iopub.status.busy": "2022-09-25T13:35:41.028585Z",
     "iopub.status.idle": "2022-09-25T13:35:41.070473Z",
     "shell.execute_reply": "2022-09-25T13:35:41.069475Z",
     "shell.execute_reply.started": "2022-09-25T13:35:41.029582Z"
    },
    "tags": []
   },
   "outputs": [
    {
     "data": {
      "text/plain": [
       "[(0, 1, 1.0), (0, 3, 1.0), (0, 14, 1.0), (0, 17, 1.0), (0, 23, 1.0)]"
      ]
     },
     "execution_count": 15,
     "metadata": {},
     "output_type": "execute_result"
    }
   ],
   "source": [
    "terminal_assign = [(i, j, m.getVarByName('y[{},{}]'.format(i,j)).x) for i in depots for j in terminals]\n",
    "terminal_assign = [i for i in terminal_assign if i[2]>0]\n",
    "terminal_assign[0:5]"
   ]
  },
  {
   "cell_type": "code",
   "execution_count": null,
   "id": "d16ad65a",
   "metadata": {},
   "outputs": [],
   "source": []
  },
  {
   "cell_type": "markdown",
   "id": "ca0ca2d8",
   "metadata": {},
   "source": [
    "# 作业，将优化结果可视化"
   ]
  },
  {
   "cell_type": "code",
   "execution_count": 16,
   "id": "50c8784d",
   "metadata": {
    "execution": {
     "iopub.execute_input": "2022-09-25T13:35:41.072469Z",
     "iopub.status.busy": "2022-09-25T13:35:41.072469Z",
     "iopub.status.idle": "2022-09-25T13:35:44.830734Z",
     "shell.execute_reply": "2022-09-25T13:35:44.828821Z",
     "shell.execute_reply.started": "2022-09-25T13:35:41.072469Z"
    }
   },
   "outputs": [],
   "source": [
    "import matplotlib.pyplot as plt"
   ]
  },
  {
   "cell_type": "code",
   "execution_count": 17,
   "id": "4b570c12",
   "metadata": {
    "execution": {
     "iopub.execute_input": "2022-09-25T13:35:44.833728Z",
     "iopub.status.busy": "2022-09-25T13:35:44.832730Z",
     "iopub.status.idle": "2022-09-25T13:35:44.877057Z",
     "shell.execute_reply": "2022-09-25T13:35:44.875479Z",
     "shell.execute_reply.started": "2022-09-25T13:35:44.833728Z"
    }
   },
   "outputs": [
    {
     "data": {
      "text/html": [
       "<div>\n",
       "<style scoped>\n",
       "    .dataframe tbody tr th:only-of-type {\n",
       "        vertical-align: middle;\n",
       "    }\n",
       "\n",
       "    .dataframe tbody tr th {\n",
       "        vertical-align: top;\n",
       "    }\n",
       "\n",
       "    .dataframe thead th {\n",
       "        text-align: right;\n",
       "    }\n",
       "</style>\n",
       "<table border=\"1\" class=\"dataframe\">\n",
       "  <thead>\n",
       "    <tr style=\"text-align: right;\">\n",
       "      <th></th>\n",
       "      <th>line</th>\n",
       "      <th>lng</th>\n",
       "      <th>lat</th>\n",
       "      <th>type</th>\n",
       "      <th>id</th>\n",
       "    </tr>\n",
       "  </thead>\n",
       "  <tbody>\n",
       "    <tr>\n",
       "      <th>20</th>\n",
       "      <td>4路</td>\n",
       "      <td>104.144298</td>\n",
       "      <td>30.628688</td>\n",
       "      <td>terminal</td>\n",
       "      <td>0</td>\n",
       "    </tr>\n",
       "    <tr>\n",
       "      <th>21</th>\n",
       "      <td>4路</td>\n",
       "      <td>104.013138</td>\n",
       "      <td>30.704601</td>\n",
       "      <td>terminal</td>\n",
       "      <td>1</td>\n",
       "    </tr>\n",
       "    <tr>\n",
       "      <th>22</th>\n",
       "      <td>5路</td>\n",
       "      <td>104.163372</td>\n",
       "      <td>30.665273</td>\n",
       "      <td>terminal</td>\n",
       "      <td>2</td>\n",
       "    </tr>\n",
       "    <tr>\n",
       "      <th>23</th>\n",
       "      <td>5路</td>\n",
       "      <td>104.011669</td>\n",
       "      <td>30.673279</td>\n",
       "      <td>terminal</td>\n",
       "      <td>3</td>\n",
       "    </tr>\n",
       "    <tr>\n",
       "      <th>24</th>\n",
       "      <td>6路</td>\n",
       "      <td>104.127622</td>\n",
       "      <td>30.685443</td>\n",
       "      <td>terminal</td>\n",
       "      <td>4</td>\n",
       "    </tr>\n",
       "    <tr>\n",
       "      <th>...</th>\n",
       "      <td>...</td>\n",
       "      <td>...</td>\n",
       "      <td>...</td>\n",
       "      <td>...</td>\n",
       "      <td>...</td>\n",
       "    </tr>\n",
       "    <tr>\n",
       "      <th>263</th>\n",
       "      <td>340路</td>\n",
       "      <td>104.036020</td>\n",
       "      <td>30.708021</td>\n",
       "      <td>terminal</td>\n",
       "      <td>243</td>\n",
       "    </tr>\n",
       "    <tr>\n",
       "      <th>264</th>\n",
       "      <td>341路</td>\n",
       "      <td>103.977956</td>\n",
       "      <td>30.690859</td>\n",
       "      <td>terminal</td>\n",
       "      <td>244</td>\n",
       "    </tr>\n",
       "    <tr>\n",
       "      <th>265</th>\n",
       "      <td>341路</td>\n",
       "      <td>104.125526</td>\n",
       "      <td>30.650320</td>\n",
       "      <td>terminal</td>\n",
       "      <td>245</td>\n",
       "    </tr>\n",
       "    <tr>\n",
       "      <th>266</th>\n",
       "      <td>343路</td>\n",
       "      <td>104.001207</td>\n",
       "      <td>30.638967</td>\n",
       "      <td>terminal</td>\n",
       "      <td>246</td>\n",
       "    </tr>\n",
       "    <tr>\n",
       "      <th>267</th>\n",
       "      <td>343路</td>\n",
       "      <td>104.158897</td>\n",
       "      <td>30.580091</td>\n",
       "      <td>terminal</td>\n",
       "      <td>247</td>\n",
       "    </tr>\n",
       "  </tbody>\n",
       "</table>\n",
       "<p>248 rows × 5 columns</p>\n",
       "</div>"
      ],
      "text/plain": [
       "     line         lng        lat      type   id\n",
       "20     4路  104.144298  30.628688  terminal    0\n",
       "21     4路  104.013138  30.704601  terminal    1\n",
       "22     5路  104.163372  30.665273  terminal    2\n",
       "23     5路  104.011669  30.673279  terminal    3\n",
       "24     6路  104.127622  30.685443  terminal    4\n",
       "..    ...         ...        ...       ...  ...\n",
       "263  340路  104.036020  30.708021  terminal  243\n",
       "264  341路  103.977956  30.690859  terminal  244\n",
       "265  341路  104.125526  30.650320  terminal  245\n",
       "266  343路  104.001207  30.638967  terminal  246\n",
       "267  343路  104.158897  30.580091  terminal  247\n",
       "\n",
       "[248 rows x 5 columns]"
      ]
     },
     "execution_count": 17,
     "metadata": {},
     "output_type": "execute_result"
    }
   ],
   "source": [
    "terminal_df"
   ]
  },
  {
   "cell_type": "code",
   "execution_count": 18,
   "id": "402694ce",
   "metadata": {
    "execution": {
     "iopub.execute_input": "2022-09-25T13:35:44.882040Z",
     "iopub.status.busy": "2022-09-25T13:35:44.880045Z",
     "iopub.status.idle": "2022-09-25T13:35:44.907971Z",
     "shell.execute_reply": "2022-09-25T13:35:44.906011Z",
     "shell.execute_reply.started": "2022-09-25T13:35:44.881285Z"
    }
   },
   "outputs": [
    {
     "data": {
      "text/plain": [
       "[(0, 1.0), (1, 1.0), (2, 1.0), (14, 1.0), (19, 1.0)]"
      ]
     },
     "execution_count": 18,
     "metadata": {},
     "output_type": "execute_result"
    }
   ],
   "source": [
    "selected_depots"
   ]
  },
  {
   "cell_type": "code",
   "execution_count": 19,
   "id": "d5683852",
   "metadata": {
    "execution": {
     "iopub.execute_input": "2022-09-25T13:35:44.911962Z",
     "iopub.status.busy": "2022-09-25T13:35:44.910968Z",
     "iopub.status.idle": "2022-09-25T13:35:44.938924Z",
     "shell.execute_reply": "2022-09-25T13:35:44.936930Z",
     "shell.execute_reply.started": "2022-09-25T13:35:44.911962Z"
    }
   },
   "outputs": [
    {
     "data": {
      "text/plain": [
       "[(0, 1, 1.0), (0, 3, 1.0), (0, 14, 1.0), (0, 17, 1.0), (0, 23, 1.0)]"
      ]
     },
     "execution_count": 19,
     "metadata": {},
     "output_type": "execute_result"
    }
   ],
   "source": [
    "terminal_assign[0:5]"
   ]
  },
  {
   "cell_type": "code",
   "execution_count": 23,
   "id": "a0eb8471",
   "metadata": {
    "execution": {
     "iopub.execute_input": "2022-09-25T13:53:24.772689Z",
     "iopub.status.busy": "2022-09-25T13:53:24.772689Z",
     "iopub.status.idle": "2022-09-25T13:53:25.333563Z",
     "shell.execute_reply": "2022-09-25T13:53:25.332802Z",
     "shell.execute_reply.started": "2022-09-25T13:53:24.772689Z"
    }
   },
   "outputs": [
    {
     "data": {
      "image/png": "[encoded data removed]",
      "text/plain": [
       "<Figure size 432x288 with 1 Axes>"
      ]
     },
     "metadata": {
      "needs_background": "light"
     },
     "output_type": "display_data"
    }
   ],
   "source": [
    "plt.scatter(terminal_df['lng'],terminal_df['lat'],s=20,color=(0,0,0))\n",
    "\n",
    "t = 0\n",
    "s = 0\n",
    "for j in terminal_assign:\n",
    "    x = w.iloc[j[0]]\n",
    "    y = terminal_df.iloc[j[1]]\n",
    "    if j[0]!=s:\n",
    "        t = t+1\n",
    "        s = j[0]\n",
    "        \n",
    "    colors = ['blue','green','yellow','purple','chocolate']\n",
    "    plt.plot([x['lng'],y['lng']],[x['lat'],y['lat']],color=colors[t])\n",
    "    \n",
    "for i in selected_depots:\n",
    "    depot = w.iloc[i[0]]\n",
    "    plt.scatter(depot['lng'],depot['lat'],s=100,color='red')\n",
    "\n",
    "plt.xlabel(\"lng\")\n",
    "plt.ylabel(\"lat\")\n",
    "\n",
    "plt.savefig(\"../data/test1.png\",dpi=200)\n",
    "plt.show()"
   ]
  },
  {
   "cell_type": "code",
   "execution_count": null,
   "id": "3f8c00dc",
   "metadata": {},
   "outputs": [],
   "source": []
  },
  {
   "cell_type": "code",
   "execution_count": null,
   "id": "b3a5ccf7",
   "metadata": {},
   "outputs": [],
   "source": []
  },
  {
   "cell_type": "code",
   "execution_count": null,
   "id": "dec90375",
   "metadata": {},
   "outputs": [],
   "source": []
  },
  {
   "cell_type": "code",
   "execution_count": null,
   "id": "1dbf5ee7",
   "metadata": {},
   "outputs": [],
   "source": []
  },
  {
   "cell_type": "code",
   "execution_count": null,
   "id": "e5a07a14",
   "metadata": {},
   "outputs": [],
   "source": []
  },
  {
   "cell_type": "code",
   "execution_count": null,
   "id": "33520763",
   "metadata": {},
   "outputs": [],
   "source": []
  },
  {
   "cell_type": "code",
   "execution_count": null,
   "id": "19a4b9d9",
   "metadata": {},
   "outputs": [],
   "source": []
  },
  {
   "cell_type": "code",
   "execution_count": null,
   "id": "026453d1",
   "metadata": {},
   "outputs": [],
   "source": []
  },
  {
   "cell_type": "code",
   "execution_count": null,
   "id": "f9fd7c02",
   "metadata": {},
   "outputs": [],
   "source": []
  },
  {
   "cell_type": "code",
   "execution_count": null,
   "id": "6cff8d98",
   "metadata": {},
   "outputs": [],
   "source": []
  },
  {
   "cell_type": "code",
   "execution_count": null,
   "id": "ed6879ff",
   "metadata": {},
   "outputs": [],
   "source": []
  },
  {
   "cell_type": "code",
   "execution_count": null,
   "id": "0e0912ef",
   "metadata": {},
   "outputs": [],
   "source": []
  },
  {
   "cell_type": "code",
   "execution_count": null,
   "id": "f0ae1550",
   "metadata": {},
   "outputs": [],
   "source": []
  },
  {
   "cell_type": "code",
   "execution_count": null,
   "id": "843c46c3",
   "metadata": {},
   "outputs": [],
   "source": []
  },
  {
   "cell_type": "code",
   "execution_count": null,
   "id": "cd30b3b8",
   "metadata": {},
   "outputs": [],
   "source": []
  },
  {
   "cell_type": "code",
   "execution_count": null,
   "id": "cb2b1b1d",
   "metadata": {},
   "outputs": [],
   "source": []
  }
 ],
 "metadata": {
  "kernelspec": {
   "display_name": "Python 3 (ipykernel)",
   "language": "python",
   "name": "python3"
  },
  "language_info": {
   "codemirror_mode": {
    "name": "ipython",
    "version": 3
   },
   "file_extension": ".py",
   "mimetype": "text/x-python",
   "name": "python",
   "nbconvert_exporter": "python",
   "pygments_lexer": "ipython3",
   "version": "3.9.7"
  },
  "vscode": {
   "interpreter": {
    "hash": "1c0fb2eafed9ae38e0b545f07579a195d549be8bfef45e1aba9d0628045c3a4a"
   }
  }
 },
 "nbformat": 4,
 "nbformat_minor": 5
}
