{
 "cells": [
  {
   "cell_type": "code",
   "execution_count": 53,
   "id": "8c2b30ec-8e12-4262-9209-01ed539f6462",
   "metadata": {
    "execution": {
     "iopub.execute_input": "2022-09-06T06:38:15.161915Z",
     "iopub.status.busy": "2022-09-06T06:38:15.161915Z",
     "iopub.status.idle": "2022-09-06T06:38:15.176876Z",
     "shell.execute_reply": "2022-09-06T06:38:15.176876Z",
     "shell.execute_reply.started": "2022-09-06T06:38:15.161915Z"
    },
    "tags": []
   },
   "outputs": [],
   "source": [
    "import pandas as pd\n",
    "import random\n",
    "from line_path import data"
   ]
  },
  {
   "cell_type": "markdown",
   "id": "acc82491-eca7-4fc9-b65d-0292f36dbb21",
   "metadata": {},
   "source": [
    "# 保存线路轨迹"
   ]
  },
  {
   "cell_type": "code",
   "execution_count": 54,
   "id": "2d220fdd-d480-4dd4-8126-b4dc491386cd",
   "metadata": {
    "execution": {
     "iopub.execute_input": "2022-09-06T06:38:15.177873Z",
     "iopub.status.busy": "2022-09-06T06:38:15.177873Z",
     "iopub.status.idle": "2022-09-06T06:38:15.430199Z",
     "shell.execute_reply": "2022-09-06T06:38:15.430199Z",
     "shell.execute_reply.started": "2022-09-06T06:38:15.177873Z"
    },
    "tags": []
   },
   "outputs": [
    {
     "data": {
      "text/html": [
       "<div>\n",
       "<style scoped>\n",
       "    .dataframe tbody tr th:only-of-type {\n",
       "        vertical-align: middle;\n",
       "    }\n",
       "\n",
       "    .dataframe tbody tr th {\n",
       "        vertical-align: top;\n",
       "    }\n",
       "\n",
       "    .dataframe thead th {\n",
       "        text-align: right;\n",
       "    }\n",
       "</style>\n",
       "<table border=\"1\" class=\"dataframe\">\n",
       "  <thead>\n",
       "    <tr style=\"text-align: right;\">\n",
       "      <th></th>\n",
       "      <th>line</th>\n",
       "      <th>lng</th>\n",
       "      <th>lat</th>\n",
       "    </tr>\n",
       "  </thead>\n",
       "  <tbody>\n",
       "    <tr>\n",
       "      <th>0</th>\n",
       "      <td>4路</td>\n",
       "      <td>104.144298</td>\n",
       "      <td>30.628688</td>\n",
       "    </tr>\n",
       "    <tr>\n",
       "      <th>1</th>\n",
       "      <td>4路</td>\n",
       "      <td>104.143363</td>\n",
       "      <td>30.626593</td>\n",
       "    </tr>\n",
       "    <tr>\n",
       "      <th>2</th>\n",
       "      <td>4路</td>\n",
       "      <td>104.142950</td>\n",
       "      <td>30.626011</td>\n",
       "    </tr>\n",
       "    <tr>\n",
       "      <th>3</th>\n",
       "      <td>4路</td>\n",
       "      <td>104.143848</td>\n",
       "      <td>30.625453</td>\n",
       "    </tr>\n",
       "    <tr>\n",
       "      <th>4</th>\n",
       "      <td>4路</td>\n",
       "      <td>104.143850</td>\n",
       "      <td>30.625447</td>\n",
       "    </tr>\n",
       "  </tbody>\n",
       "</table>\n",
       "</div>"
      ],
      "text/plain": [
       "  line         lng        lat\n",
       "0   4路  104.144298  30.628688\n",
       "1   4路  104.143363  30.626593\n",
       "2   4路  104.142950  30.626011\n",
       "3   4路  104.143848  30.625453\n",
       "4   4路  104.143850  30.625447"
      ]
     },
     "execution_count": 54,
     "metadata": {},
     "output_type": "execute_result"
    }
   ],
   "source": [
    "# 保存线路数据用于作图\n",
    "line_info = []\n",
    "\n",
    "for line, path in data.items():\n",
    "    for point in path:\n",
    "        line_info.append([line, *point])\n",
    "    \n",
    "w = pd.DataFrame(line_info, columns=['line', 'lng', 'lat'])\n",
    "w.to_csv('../data/line-path.csv', index=False)\n",
    "w.head()"
   ]
  },
  {
   "cell_type": "markdown",
   "id": "35d2d1bd-4b8a-41f0-ba78-778410966e1e",
   "metadata": {},
   "source": [
    "# 线路起终点"
   ]
  },
  {
   "cell_type": "code",
   "execution_count": 55,
   "id": "7de94796-6330-4f92-9782-240fdb99836a",
   "metadata": {
    "execution": {
     "iopub.execute_input": "2022-09-06T06:38:15.431196Z",
     "iopub.status.busy": "2022-09-06T06:38:15.431196Z",
     "iopub.status.idle": "2022-09-06T06:38:15.445159Z",
     "shell.execute_reply": "2022-09-06T06:38:15.445159Z",
     "shell.execute_reply.started": "2022-09-06T06:38:15.431196Z"
    },
    "tags": []
   },
   "outputs": [
    {
     "name": "stdout",
     "output_type": "stream",
     "text": [
      "248\n"
     ]
    },
    {
     "data": {
      "text/plain": [
       "[['4路', 104.144298, 30.628688, 'terminal'],\n",
       " ['4路', 104.013138, 30.704601, 'terminal'],\n",
       " ['5路', 104.163372, 30.665273, 'terminal'],\n",
       " ['5路', 104.011669, 30.673279, 'terminal'],\n",
       " ['6路', 104.127622, 30.685443, 'terminal']]"
      ]
     },
     "execution_count": 55,
     "metadata": {},
     "output_type": "execute_result"
    }
   ],
   "source": [
    "\n",
    "terminals = []\n",
    "\n",
    "for line in data:\n",
    "    path = data[line]\n",
    "    start_lng, start_lat = path[0]\n",
    "    end_lng, end_lat = path[-1]\n",
    "    \n",
    "    terminals.append([line, start_lng, start_lat, 'terminal'])\n",
    "    terminals.append([line, end_lng, end_lat, 'terminal'])\n",
    "\n",
    "print(len(terminals))\n",
    "terminals[0:5]"
   ]
  },
  {
   "cell_type": "markdown",
   "id": "407af90c-d23e-4962-9223-005accddad16",
   "metadata": {},
   "source": [
    "# 从terminal中产生20个潜在的公交场站"
   ]
  },
  {
   "cell_type": "code",
   "execution_count": 59,
   "id": "629edda6-6faf-469d-b50d-77564516b7de",
   "metadata": {
    "execution": {
     "iopub.execute_input": "2022-09-06T07:36:41.672198Z",
     "iopub.status.busy": "2022-09-06T07:36:41.672198Z",
     "iopub.status.idle": "2022-09-06T07:36:41.684166Z",
     "shell.execute_reply": "2022-09-06T07:36:41.684166Z",
     "shell.execute_reply.started": "2022-09-06T07:36:41.672198Z"
    },
    "tags": []
   },
   "outputs": [
    {
     "data": {
      "text/plain": [
       "[['35路', 103.976832, 30.688767, 'terminal'],\n",
       " ['43路', 104.063147, 30.656359, 'terminal'],\n",
       " ['15路', 104.075781, 30.695378, 'terminal'],\n",
       " ['112路', 104.168465, 30.711826, 'terminal'],\n",
       " ['58路', 103.961616, 30.664789, 'terminal']]"
      ]
     },
     "execution_count": 59,
     "metadata": {},
     "output_type": "execute_result"
    }
   ],
   "source": [
    "random.seed(4)\n",
    "depots = random.sample(terminals, 20)\n",
    "depots[0:5]"
   ]
  },
  {
   "cell_type": "markdown",
   "id": "3e3ba6d9-ca3a-4e60-a9ba-37bb5a483db9",
   "metadata": {},
   "source": [
    "# 生成表格并保存"
   ]
  },
  {
   "cell_type": "code",
   "execution_count": 60,
   "id": "4fd8ef6d-1e66-4b49-8a1e-c73bc67c472c",
   "metadata": {
    "execution": {
     "iopub.execute_input": "2022-09-06T07:36:58.147122Z",
     "iopub.status.busy": "2022-09-06T07:36:58.146124Z",
     "iopub.status.idle": "2022-09-06T07:36:58.157095Z",
     "shell.execute_reply": "2022-09-06T07:36:58.157095Z",
     "shell.execute_reply.started": "2022-09-06T07:36:58.147122Z"
    },
    "tags": []
   },
   "outputs": [
    {
     "data": {
      "text/html": [
       "<div>\n",
       "<style scoped>\n",
       "    .dataframe tbody tr th:only-of-type {\n",
       "        vertical-align: middle;\n",
       "    }\n",
       "\n",
       "    .dataframe tbody tr th {\n",
       "        vertical-align: top;\n",
       "    }\n",
       "\n",
       "    .dataframe thead th {\n",
       "        text-align: right;\n",
       "    }\n",
       "</style>\n",
       "<table border=\"1\" class=\"dataframe\">\n",
       "  <thead>\n",
       "    <tr style=\"text-align: right;\">\n",
       "      <th></th>\n",
       "      <th>line</th>\n",
       "      <th>lng</th>\n",
       "      <th>lat</th>\n",
       "      <th>type</th>\n",
       "      <th>id</th>\n",
       "    </tr>\n",
       "  </thead>\n",
       "  <tbody>\n",
       "    <tr>\n",
       "      <th>0</th>\n",
       "      <td>35路</td>\n",
       "      <td>103.976832</td>\n",
       "      <td>30.688767</td>\n",
       "      <td>depot</td>\n",
       "      <td>0</td>\n",
       "    </tr>\n",
       "    <tr>\n",
       "      <th>1</th>\n",
       "      <td>43路</td>\n",
       "      <td>104.063147</td>\n",
       "      <td>30.656359</td>\n",
       "      <td>depot</td>\n",
       "      <td>1</td>\n",
       "    </tr>\n",
       "    <tr>\n",
       "      <th>2</th>\n",
       "      <td>15路</td>\n",
       "      <td>104.075781</td>\n",
       "      <td>30.695378</td>\n",
       "      <td>depot</td>\n",
       "      <td>2</td>\n",
       "    </tr>\n",
       "    <tr>\n",
       "      <th>3</th>\n",
       "      <td>112路</td>\n",
       "      <td>104.168465</td>\n",
       "      <td>30.711826</td>\n",
       "      <td>depot</td>\n",
       "      <td>3</td>\n",
       "    </tr>\n",
       "    <tr>\n",
       "      <th>4</th>\n",
       "      <td>58路</td>\n",
       "      <td>103.961616</td>\n",
       "      <td>30.664789</td>\n",
       "      <td>depot</td>\n",
       "      <td>4</td>\n",
       "    </tr>\n",
       "  </tbody>\n",
       "</table>\n",
       "</div>"
      ],
      "text/plain": [
       "   line         lng        lat   type  id\n",
       "0   35路  103.976832  30.688767  depot   0\n",
       "1   43路  104.063147  30.656359  depot   1\n",
       "2   15路  104.075781  30.695378  depot   2\n",
       "3  112路  104.168465  30.711826  depot   3\n",
       "4   58路  103.961616  30.664789  depot   4"
      ]
     },
     "execution_count": 60,
     "metadata": {},
     "output_type": "execute_result"
    }
   ],
   "source": [
    "df1 = pd.DataFrame(terminals, columns=['line', 'lng', 'lat', 'type'])\n",
    "df2 = pd.DataFrame(depots, columns=['line', 'lng', 'lat', 'type'])\n",
    "df2['type'] = 'depot'\n",
    "df = pd.concat([df2, df1])\n",
    "df['id'] = range(len(df))\n",
    "df.head()"
   ]
  },
  {
   "cell_type": "code",
   "execution_count": 58,
   "id": "37041812-5644-4559-813f-ea4c749830a2",
   "metadata": {
    "execution": {
     "iopub.execute_input": "2022-09-06T06:38:15.479068Z",
     "iopub.status.busy": "2022-09-06T06:38:15.479068Z",
     "iopub.status.idle": "2022-09-06T06:38:15.493032Z",
     "shell.execute_reply": "2022-09-06T06:38:15.493032Z",
     "shell.execute_reply.started": "2022-09-06T06:38:15.479068Z"
    },
    "tags": []
   },
   "outputs": [],
   "source": [
    "df.to_csv('../data/terminal-and-depots.csv', index=False)"
   ]
  },
  {
   "cell_type": "code",
   "execution_count": null,
   "id": "171d906c-5bc7-41e6-9b87-ebf9cf99d333",
   "metadata": {},
   "outputs": [],
   "source": []
  },
  {
   "cell_type": "code",
   "execution_count": null,
   "id": "59738939-ca37-463b-9ec1-f9c72ed4888c",
   "metadata": {},
   "outputs": [],
   "source": []
  },
  {
   "cell_type": "code",
   "execution_count": null,
   "id": "a7b6ddc6-539a-4a21-882d-7ea726c5a7fc",
   "metadata": {},
   "outputs": [],
   "source": []
  },
  {
   "cell_type": "code",
   "execution_count": null,
   "id": "e1c54a85-120c-4e53-b3bf-4341b7d6b8a4",
   "metadata": {
    "tags": []
   },
   "outputs": [],
   "source": []
  },
  {
   "cell_type": "code",
   "execution_count": null,
   "id": "9e4d8f65-03ec-4fa9-ad4c-23ce43421fdf",
   "metadata": {
    "tags": []
   },
   "outputs": [],
   "source": []
  },
  {
   "cell_type": "code",
   "execution_count": null,
   "id": "24434f67-4cdf-43d7-b083-db1672439ac7",
   "metadata": {},
   "outputs": [],
   "source": []
  },
  {
   "cell_type": "code",
   "execution_count": null,
   "id": "76b23182-7f61-4ec5-9b62-c0fbccfc7f09",
   "metadata": {},
   "outputs": [],
   "source": []
  },
  {
   "cell_type": "code",
   "execution_count": null,
   "id": "5a0a2ca9-18f0-4ea3-8f18-7a669f2ade6e",
   "metadata": {},
   "outputs": [],
   "source": []
  },
  {
   "cell_type": "code",
   "execution_count": null,
   "id": "f62d5591-1fc9-4d18-ba71-c268ed5b89ce",
   "metadata": {},
   "outputs": [],
   "source": []
  },
  {
   "cell_type": "code",
   "execution_count": null,
   "id": "53adf9a9-6d23-4e9b-9139-5030831ceca0",
   "metadata": {},
   "outputs": [],
   "source": []
  },
  {
   "cell_type": "code",
   "execution_count": null,
   "id": "6267cb2d-2f36-47bf-8507-49056063f096",
   "metadata": {},
   "outputs": [],
   "source": []
  }
 ],
 "metadata": {
  "kernelspec": {
   "display_name": "Python 3 (ipykernel)",
   "language": "python",
   "name": "python3"
  },
  "language_info": {
   "codemirror_mode": {
    "name": "ipython",
    "version": 3
   },
   "file_extension": ".py",
   "mimetype": "text/x-python",
   "name": "python",
   "nbconvert_exporter": "python",
   "pygments_lexer": "ipython3",
   "version": "3.9.12"
  }
 },
 "nbformat": 4,
 "nbformat_minor": 5
}
