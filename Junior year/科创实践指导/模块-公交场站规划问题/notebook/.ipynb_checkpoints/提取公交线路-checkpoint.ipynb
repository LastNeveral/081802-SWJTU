{
 "cells": [
  {
   "cell_type": "code",
   "execution_count": 1,
   "id": "d2a5e004-3199-4cb4-a61a-5f24700f3fa4",
   "metadata": {
    "execution": {
     "iopub.execute_input": "2022-09-06T06:57:03.598549Z",
     "iopub.status.busy": "2022-09-06T06:57:03.597552Z",
     "iopub.status.idle": "2022-09-06T06:57:03.911821Z",
     "shell.execute_reply": "2022-09-06T06:57:03.911821Z",
     "shell.execute_reply.started": "2022-09-06T06:57:03.597552Z"
    }
   },
   "outputs": [],
   "source": [
    "import pandas as pd"
   ]
  },
  {
   "cell_type": "code",
   "execution_count": 2,
   "id": "2c0c77d2-f225-4da1-81e8-8e6944217c45",
   "metadata": {
    "execution": {
     "iopub.execute_input": "2022-09-06T06:57:03.912820Z",
     "iopub.status.busy": "2022-09-06T06:57:03.912820Z",
     "iopub.status.idle": "2022-09-06T06:57:04.165145Z",
     "shell.execute_reply": "2022-09-06T06:57:04.165145Z",
     "shell.execute_reply.started": "2022-09-06T06:57:03.912820Z"
    },
    "tags": []
   },
   "outputs": [
    {
     "data": {
      "text/html": [
       "<div>\n",
       "<style scoped>\n",
       "    .dataframe tbody tr th:only-of-type {\n",
       "        vertical-align: middle;\n",
       "    }\n",
       "\n",
       "    .dataframe tbody tr th {\n",
       "        vertical-align: top;\n",
       "    }\n",
       "\n",
       "    .dataframe thead th {\n",
       "        text-align: right;\n",
       "    }\n",
       "</style>\n",
       "<table border=\"1\" class=\"dataframe\">\n",
       "  <thead>\n",
       "    <tr style=\"text-align: right;\">\n",
       "      <th></th>\n",
       "      <th>route</th>\n",
       "      <th>起讫站</th>\n",
       "      <th>运营公司</th>\n",
       "      <th>首班车时间</th>\n",
       "      <th>末班车时间</th>\n",
       "      <th>备注</th>\n",
       "    </tr>\n",
       "  </thead>\n",
       "  <tbody>\n",
       "    <tr>\n",
       "      <th>1</th>\n",
       "      <td>1</td>\n",
       "      <td>高朋公交站 ↔ 昭觉寺公交站</td>\n",
       "      <td>成都公交集团北星公司</td>\n",
       "      <td>06:00:00</td>\n",
       "      <td>23:00:00</td>\n",
       "      <td>06:00-07:00次卡免费</td>\n",
       "    </tr>\n",
       "    <tr>\n",
       "      <th>2</th>\n",
       "      <td>3</td>\n",
       "      <td>城东客运中心 ↔ 香榭里</td>\n",
       "      <td>成都公交集团北星公司</td>\n",
       "      <td>06:15:00</td>\n",
       "      <td>23:00:00</td>\n",
       "      <td>06:15-07:00次卡免费</td>\n",
       "    </tr>\n",
       "    <tr>\n",
       "      <th>3</th>\n",
       "      <td>4</td>\n",
       "      <td>成都东客站(东广场) ↔ 茶店子公交站</td>\n",
       "      <td>成都公交集团运兴公司</td>\n",
       "      <td>06:00:00</td>\n",
       "      <td>22:00:00</td>\n",
       "      <td>06:00-07:00次卡免费</td>\n",
       "    </tr>\n",
       "    <tr>\n",
       "      <th>4</th>\n",
       "      <td>5</td>\n",
       "      <td>十陵公交站 ↔ 金沙公交站</td>\n",
       "      <td>成都公交集团运兴公司</td>\n",
       "      <td>06:00:00</td>\n",
       "      <td>23:00:00</td>\n",
       "      <td>06:00-07:00次卡免费</td>\n",
       "    </tr>\n",
       "    <tr>\n",
       "      <th>5</th>\n",
       "      <td>6</td>\n",
       "      <td>聚荟街 ↔ 仙韵二路</td>\n",
       "      <td>成都公交集团东星公司</td>\n",
       "      <td>06:30:00</td>\n",
       "      <td>22:00:00</td>\n",
       "      <td>06:30-07:00次卡免费</td>\n",
       "    </tr>\n",
       "  </tbody>\n",
       "</table>\n",
       "</div>"
      ],
      "text/plain": [
       "  route                  起讫站        运营公司     首班车时间     末班车时间               备注\n",
       "1     1       高朋公交站 ↔ 昭觉寺公交站  成都公交集团北星公司  06:00:00  23:00:00  06:00-07:00次卡免费\n",
       "2     3         城东客运中心 ↔ 香榭里  成都公交集团北星公司  06:15:00  23:00:00  06:15-07:00次卡免费\n",
       "3     4  成都东客站(东广场) ↔ 茶店子公交站  成都公交集团运兴公司  06:00:00  22:00:00  06:00-07:00次卡免费\n",
       "4     5        十陵公交站 ↔ 金沙公交站  成都公交集团运兴公司  06:00:00  23:00:00  06:00-07:00次卡免费\n",
       "5     6           聚荟街 ↔ 仙韵二路  成都公交集团东星公司  06:30:00  22:00:00  06:30-07:00次卡免费"
      ]
     },
     "execution_count": 2,
     "metadata": {},
     "output_type": "execute_result"
    }
   ],
   "source": [
    "w = pd.read_excel('../骨干公交列表.xlsx')\n",
    "w = w.dropna()\n",
    "w.head()"
   ]
  },
  {
   "cell_type": "code",
   "execution_count": 3,
   "id": "48d96849-c32c-4108-b6da-5c08c24beaf6",
   "metadata": {
    "execution": {
     "iopub.execute_input": "2022-09-06T06:57:04.166144Z",
     "iopub.status.busy": "2022-09-06T06:57:04.166144Z",
     "iopub.status.idle": "2022-09-06T06:57:04.181103Z",
     "shell.execute_reply": "2022-09-06T06:57:04.181103Z",
     "shell.execute_reply.started": "2022-09-06T06:57:04.166144Z"
    },
    "tags": []
   },
   "outputs": [
    {
     "data": {
      "text/plain": [
       "array([1, 3, 4, 5, 6, 7, 8, 9, 10, 11, 12, 13, 14, 15, 16, 17, 18, 19, 20,\n",
       "       21, 22, 23, 24, 25, 26, 27, 28, 29, 30, '30A', 32, 34, 35, 36, 37,\n",
       "       40, 41, 42, 43, 44, 45, 46, 47, 48, 49, 51, 53, 54, 55, 56, 57, 58,\n",
       "       59, 60, 61, 62, 64, 65, 68, 70, 71, 73, 74, 75, 76, 77, 78, 79, 80,\n",
       "       82, 83, 84, 85, 86, 87, 89, 90, 91, 92, 93, 95, 96, 97, 98, 99,\n",
       "       102, 103, 104, 105, 106, 107, 109, 111, 112, 113, 115, 116, 118,\n",
       "       119, 120, 121, 122, 123, 124, 125, 126, 127, 128, 131, 133, 136,\n",
       "       137, 138, 141, 143, 145, 146, 147, 335, 336, 338, 339, 340, 341,\n",
       "       343], dtype=object)"
      ]
     },
     "execution_count": 3,
     "metadata": {},
     "output_type": "execute_result"
    }
   ],
   "source": [
    "w.route.unique()"
   ]
  },
  {
   "cell_type": "code",
   "execution_count": null,
   "id": "a2d55e79-89b0-4906-ada8-50fbbbafd470",
   "metadata": {
    "tags": []
   },
   "outputs": [],
   "source": []
  },
  {
   "cell_type": "code",
   "execution_count": null,
   "id": "0cc42df1-158d-4beb-8aff-9b5159460c5a",
   "metadata": {},
   "outputs": [],
   "source": []
  },
  {
   "cell_type": "code",
   "execution_count": null,
   "id": "563d96ad-46db-4dd4-ac6d-ac9f79e8c9ae",
   "metadata": {},
   "outputs": [],
   "source": []
  },
  {
   "cell_type": "code",
   "execution_count": null,
   "id": "9223677c-bc69-431e-b996-cd15679e3a40",
   "metadata": {},
   "outputs": [],
   "source": []
  },
  {
   "cell_type": "code",
   "execution_count": null,
   "id": "aee31338-69bd-4fc2-aa77-3bf31221d1b7",
   "metadata": {},
   "outputs": [],
   "source": []
  },
  {
   "cell_type": "code",
   "execution_count": null,
   "id": "25a91c8a-2f8d-4ed9-ac94-58fe60b08063",
   "metadata": {},
   "outputs": [],
   "source": []
  },
  {
   "cell_type": "code",
   "execution_count": null,
   "id": "2c3ff52e-e608-4939-9ace-a73580498dc0",
   "metadata": {},
   "outputs": [],
   "source": []
  },
  {
   "cell_type": "code",
   "execution_count": null,
   "id": "287b6516-43fa-46f3-83d3-a299ce9f0b60",
   "metadata": {},
   "outputs": [],
   "source": []
  },
  {
   "cell_type": "code",
   "execution_count": null,
   "id": "5ae080c2-1a6d-4b39-a832-330972ce745c",
   "metadata": {},
   "outputs": [],
   "source": []
  },
  {
   "cell_type": "code",
   "execution_count": null,
   "id": "9b3b840a-ca2a-454b-9d5a-c4fe906484dd",
   "metadata": {},
   "outputs": [],
   "source": []
  },
  {
   "cell_type": "code",
   "execution_count": null,
   "id": "e03f5c3f-4a15-4a7a-ab70-ec5aa480bfa3",
   "metadata": {},
   "outputs": [],
   "source": []
  },
  {
   "cell_type": "code",
   "execution_count": null,
   "id": "bc564814-2124-4ce2-8b27-1507e863681c",
   "metadata": {},
   "outputs": [],
   "source": []
  }
 ],
 "metadata": {
  "kernelspec": {
   "display_name": "Python 3 (ipykernel)",
   "language": "python",
   "name": "python3"
  },
  "language_info": {
   "codemirror_mode": {
    "name": "ipython",
    "version": 3
   },
   "file_extension": ".py",
   "mimetype": "text/x-python",
   "name": "python",
   "nbconvert_exporter": "python",
   "pygments_lexer": "ipython3",
   "version": "3.9.12"
  }
 },
 "nbformat": 4,
 "nbformat_minor": 5
}
