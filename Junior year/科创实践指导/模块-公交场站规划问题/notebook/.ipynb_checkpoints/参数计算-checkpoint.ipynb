{
 "cells": [
  {
   "cell_type": "code",
   "execution_count": 1,
   "id": "0ab8eecc-1232-44ba-ba13-8a46c4cb2120",
   "metadata": {
    "execution": {
     "iopub.execute_input": "2022-09-23T06:17:14.198474Z",
     "iopub.status.busy": "2022-09-23T06:17:14.197476Z",
     "iopub.status.idle": "2022-09-23T06:17:14.607687Z",
     "shell.execute_reply": "2022-09-23T06:17:14.607687Z",
     "shell.execute_reply.started": "2022-09-23T06:17:14.197476Z"
    },
    "tags": []
   },
   "outputs": [],
   "source": [
    "import pandas as pd\n",
    "from  geopy.distance import great_circle # 计算两点间距离"
   ]
  },
  {
   "cell_type": "code",
   "execution_count": 3,
   "id": "2099a8a3-c141-445a-ac3d-62527d5c4041",
   "metadata": {
    "execution": {
     "iopub.execute_input": "2022-09-23T06:17:50.656794Z",
     "iopub.status.busy": "2022-09-23T06:17:50.656794Z",
     "iopub.status.idle": "2022-09-23T06:17:50.677738Z",
     "shell.execute_reply": "2022-09-23T06:17:50.677738Z",
     "shell.execute_reply.started": "2022-09-23T06:17:50.656794Z"
    },
    "tags": []
   },
   "outputs": [
    {
     "data": {
      "text/html": [
       "<div>\n",
       "<style scoped>\n",
       "    .dataframe tbody tr th:only-of-type {\n",
       "        vertical-align: middle;\n",
       "    }\n",
       "\n",
       "    .dataframe tbody tr th {\n",
       "        vertical-align: top;\n",
       "    }\n",
       "\n",
       "    .dataframe thead th {\n",
       "        text-align: right;\n",
       "    }\n",
       "</style>\n",
       "<table border=\"1\" class=\"dataframe\">\n",
       "  <thead>\n",
       "    <tr style=\"text-align: right;\">\n",
       "      <th></th>\n",
       "      <th>line</th>\n",
       "      <th>lng</th>\n",
       "      <th>lat</th>\n",
       "      <th>type</th>\n",
       "      <th>id</th>\n",
       "    </tr>\n",
       "  </thead>\n",
       "  <tbody>\n",
       "    <tr>\n",
       "      <th>0</th>\n",
       "      <td>35路</td>\n",
       "      <td>103.976832</td>\n",
       "      <td>30.688767</td>\n",
       "      <td>depot</td>\n",
       "      <td>0</td>\n",
       "    </tr>\n",
       "    <tr>\n",
       "      <th>1</th>\n",
       "      <td>43路</td>\n",
       "      <td>104.063147</td>\n",
       "      <td>30.656359</td>\n",
       "      <td>depot</td>\n",
       "      <td>1</td>\n",
       "    </tr>\n",
       "    <tr>\n",
       "      <th>2</th>\n",
       "      <td>15路</td>\n",
       "      <td>104.075781</td>\n",
       "      <td>30.695378</td>\n",
       "      <td>depot</td>\n",
       "      <td>2</td>\n",
       "    </tr>\n",
       "    <tr>\n",
       "      <th>3</th>\n",
       "      <td>112路</td>\n",
       "      <td>104.168465</td>\n",
       "      <td>30.711826</td>\n",
       "      <td>depot</td>\n",
       "      <td>3</td>\n",
       "    </tr>\n",
       "    <tr>\n",
       "      <th>4</th>\n",
       "      <td>58路</td>\n",
       "      <td>103.961616</td>\n",
       "      <td>30.664789</td>\n",
       "      <td>depot</td>\n",
       "      <td>4</td>\n",
       "    </tr>\n",
       "  </tbody>\n",
       "</table>\n",
       "</div>"
      ],
      "text/plain": [
       "   line         lng        lat   type  id\n",
       "0   35路  103.976832  30.688767  depot   0\n",
       "1   43路  104.063147  30.656359  depot   1\n",
       "2   15路  104.075781  30.695378  depot   2\n",
       "3  112路  104.168465  30.711826  depot   3\n",
       "4   58路  103.961616  30.664789  depot   4"
      ]
     },
     "execution_count": 3,
     "metadata": {},
     "output_type": "execute_result"
    }
   ],
   "source": [
    "w = pd.read_csv('../data/terminal-and-depots.csv')\n",
    "w.head()"
   ]
  },
  {
   "cell_type": "code",
   "execution_count": null,
   "id": "bc3a0611-e7e1-435c-aaa6-cf4843c85771",
   "metadata": {
    "tags": []
   },
   "outputs": [],
   "source": []
  },
  {
   "cell_type": "markdown",
   "id": "9b2da678-41b6-4528-97cc-83f1c3c49a41",
   "metadata": {},
   "source": [
    "计算参数$d_{ij}$"
   ]
  },
  {
   "cell_type": "code",
   "execution_count": 4,
   "id": "60e8d811-2044-4c39-8dd7-848c8240c0b3",
   "metadata": {
    "execution": {
     "iopub.execute_input": "2022-09-23T06:17:52.389208Z",
     "iopub.status.busy": "2022-09-23T06:17:52.389208Z",
     "iopub.status.idle": "2022-09-23T06:17:52.395192Z",
     "shell.execute_reply": "2022-09-23T06:17:52.395192Z",
     "shell.execute_reply.started": "2022-09-23T06:17:52.389208Z"
    },
    "tags": []
   },
   "outputs": [
    {
     "data": {
      "text/plain": [
       "20459.340377970904"
      ]
     },
     "execution_count": 4,
     "metadata": {},
     "output_type": "execute_result"
    }
   ],
   "source": [
    "# 计算两点间距离\n",
    "def cal_distance(p1, p2):\n",
    "    dis = great_circle(p1, p2).m\n",
    "    return dis\n",
    "\n",
    "p1 = [30.711826, 104.168465] \n",
    "p2 = [30.664789, 103.961616]\n",
    "cal_distance(p1, p2)"
   ]
  },
  {
   "cell_type": "code",
   "execution_count": 5,
   "id": "c1b3cac9-5597-4e87-9103-631aba7c4d09",
   "metadata": {
    "execution": {
     "iopub.execute_input": "2022-09-23T06:17:53.469858Z",
     "iopub.status.busy": "2022-09-23T06:17:53.469858Z",
     "iopub.status.idle": "2022-09-23T06:17:53.753124Z",
     "shell.execute_reply": "2022-09-23T06:17:53.753124Z",
     "shell.execute_reply.started": "2022-09-23T06:17:53.469858Z"
    },
    "tags": []
   },
   "outputs": [
    {
     "data": {
      "text/plain": [
       "[17355.71904935039,\n",
       " 3892.3573955943707,\n",
       " 18029.849691592917,\n",
       " 3750.281401231461,\n",
       " 14423.896337114571,\n",
       " 7959.5741662799255,\n",
       " 6396.714882871273,\n",
       " 15993.08734042201,\n",
       " 12254.940265311565,\n",
       " 9247.833596421204,\n",
       " 8183.33623609621,\n",
       " 15630.193194860009,\n",
       " 15520.815489619374,\n",
       " 9480.479171450594,\n",
       " 9442.122783136672,\n",
       " 9449.764548392186,\n",
       " 15284.126022009908,\n",
       " 5994.405597986007,\n",
       " 7349.731803998481,\n",
       " 15972.275380859035]"
      ]
     },
     "execution_count": 5,
     "metadata": {},
     "output_type": "execute_result"
    }
   ],
   "source": [
    "# 计算距离矩阵d\n",
    "depots = w[w.type=='depot']\n",
    "terminals = w[w.type == 'terminal'].copy()\n",
    "terminals['id'] = range(len(terminals))\n",
    "\n",
    "d = [] # 20 * 248\n",
    "\n",
    "for i, r1 in depots.iterrows():\n",
    "    one_row = [] # 1 * 248\n",
    "    p1 = [r1.lat, r1.lng]\n",
    "    for j, r2 in terminals.iterrows():\n",
    "        p2 = [r2.lat, r2.lng]\n",
    "        dis = cal_distance(p1, p2)\n",
    "        one_row.append(dis)\n",
    "        \n",
    "    d.append(one_row)\n",
    "    \n",
    "d[0][0:20]"
   ]
  },
  {
   "cell_type": "code",
   "execution_count": 8,
   "id": "57db06f0-92e0-4bdd-936c-10b595d5adf1",
   "metadata": {
    "execution": {
     "iopub.execute_input": "2022-09-23T06:27:50.290692Z",
     "iopub.status.busy": "2022-09-23T06:27:50.289694Z",
     "iopub.status.idle": "2022-09-23T06:27:50.297674Z",
     "shell.execute_reply": "2022-09-23T06:27:50.297674Z",
     "shell.execute_reply.started": "2022-09-23T06:27:50.290692Z"
    },
    "tags": []
   },
   "outputs": [],
   "source": [
    "import pickle\n",
    "\n",
    "with open('../data/parameter-dij.pkl', 'wb') as f:  # write binary\n",
    "    pickle.dump(d, f)"
   ]
  },
  {
   "cell_type": "code",
   "execution_count": null,
   "id": "566665fd-77aa-4b48-bec7-d970ae201393",
   "metadata": {
    "tags": []
   },
   "outputs": [],
   "source": []
  },
  {
   "cell_type": "code",
   "execution_count": null,
   "id": "8c76436e-e376-435a-863b-6e5895eee8d0",
   "metadata": {},
   "outputs": [],
   "source": []
  },
  {
   "cell_type": "code",
   "execution_count": null,
   "id": "9336a038-f724-4202-bf9e-8d8d261e181b",
   "metadata": {},
   "outputs": [],
   "source": []
  },
  {
   "cell_type": "code",
   "execution_count": null,
   "id": "381dfddc-34ba-40ce-bd5b-98cceca737b8",
   "metadata": {},
   "outputs": [],
   "source": []
  },
  {
   "cell_type": "code",
   "execution_count": null,
   "id": "731d2134-1705-47da-84d0-07920528c74d",
   "metadata": {},
   "outputs": [],
   "source": []
  }
 ],
 "metadata": {
  "kernelspec": {
   "display_name": "Python 3 (ipykernel)",
   "language": "python",
   "name": "python3"
  },
  "language_info": {
   "codemirror_mode": {
    "name": "ipython",
    "version": 3
   },
   "file_extension": ".py",
   "mimetype": "text/x-python",
   "name": "python",
   "nbconvert_exporter": "python",
   "pygments_lexer": "ipython3",
   "version": "3.9.12"
  },
  "widgets": {
   "application/vnd.jupyter.widget-state+json": {
    "state": {},
    "version_major": 2,
    "version_minor": 0
   }
  }
 },
 "nbformat": 4,
 "nbformat_minor": 5
}
