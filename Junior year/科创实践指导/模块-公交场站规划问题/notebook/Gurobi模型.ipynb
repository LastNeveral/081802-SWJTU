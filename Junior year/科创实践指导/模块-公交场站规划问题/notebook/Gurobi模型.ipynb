{
 "cells": [
  {
   "cell_type": "code",
   "execution_count": 23,
   "id": "f636a108-38a0-481b-9167-a9dfaccfee22",
   "metadata": {
    "execution": {
     "iopub.execute_input": "2022-09-23T06:34:39.662297Z",
     "iopub.status.busy": "2022-09-23T06:34:39.662297Z",
     "iopub.status.idle": "2022-09-23T06:34:39.673267Z",
     "shell.execute_reply": "2022-09-23T06:34:39.673267Z",
     "shell.execute_reply.started": "2022-09-23T06:34:39.662297Z"
    },
    "tags": []
   },
   "outputs": [],
   "source": [
    "import pandas as pd\n",
    "import pickle\n",
    "\n",
    "import gurobipy as gp\n",
    "from gurobipy import GRB, quicksum"
   ]
  },
  {
   "cell_type": "code",
   "execution_count": 5,
   "id": "fadee89c-228b-47a5-999a-2510e988539c",
   "metadata": {
    "execution": {
     "iopub.execute_input": "2022-09-23T06:23:13.589227Z",
     "iopub.status.busy": "2022-09-23T06:23:13.588230Z",
     "iopub.status.idle": "2022-09-23T06:23:13.604187Z",
     "shell.execute_reply": "2022-09-23T06:23:13.604187Z",
     "shell.execute_reply.started": "2022-09-23T06:23:13.589227Z"
    },
    "tags": []
   },
   "outputs": [
    {
     "data": {
      "text/html": [
       "<div>\n",
       "<style scoped>\n",
       "    .dataframe tbody tr th:only-of-type {\n",
       "        vertical-align: middle;\n",
       "    }\n",
       "\n",
       "    .dataframe tbody tr th {\n",
       "        vertical-align: top;\n",
       "    }\n",
       "\n",
       "    .dataframe thead th {\n",
       "        text-align: right;\n",
       "    }\n",
       "</style>\n",
       "<table border=\"1\" class=\"dataframe\">\n",
       "  <thead>\n",
       "    <tr style=\"text-align: right;\">\n",
       "      <th></th>\n",
       "      <th>line</th>\n",
       "      <th>lng</th>\n",
       "      <th>lat</th>\n",
       "      <th>type</th>\n",
       "      <th>id</th>\n",
       "    </tr>\n",
       "  </thead>\n",
       "  <tbody>\n",
       "    <tr>\n",
       "      <th>0</th>\n",
       "      <td>35路</td>\n",
       "      <td>103.976832</td>\n",
       "      <td>30.688767</td>\n",
       "      <td>depot</td>\n",
       "      <td>0</td>\n",
       "    </tr>\n",
       "    <tr>\n",
       "      <th>1</th>\n",
       "      <td>43路</td>\n",
       "      <td>104.063147</td>\n",
       "      <td>30.656359</td>\n",
       "      <td>depot</td>\n",
       "      <td>1</td>\n",
       "    </tr>\n",
       "  </tbody>\n",
       "</table>\n",
       "</div>"
      ],
      "text/plain": [
       "  line         lng        lat   type  id\n",
       "0  35路  103.976832  30.688767  depot   0\n",
       "1  43路  104.063147  30.656359  depot   1"
      ]
     },
     "execution_count": 5,
     "metadata": {},
     "output_type": "execute_result"
    }
   ],
   "source": [
    "w = pd.read_csv('../data/terminal-and-depots.csv')\n",
    "w.loc[w.type=='terminal', 'id'] = range(len(w[w.type=='terminal']))\n",
    "w.head(2)"
   ]
  },
  {
   "cell_type": "code",
   "execution_count": 9,
   "id": "79faf0a6-2992-43bf-84c9-f40c137c86fe",
   "metadata": {
    "execution": {
     "iopub.execute_input": "2022-09-23T06:25:22.095194Z",
     "iopub.status.busy": "2022-09-23T06:25:22.095194Z",
     "iopub.status.idle": "2022-09-23T06:25:22.124112Z",
     "shell.execute_reply": "2022-09-23T06:25:22.124112Z",
     "shell.execute_reply.started": "2022-09-23T06:25:22.095194Z"
    },
    "tags": []
   },
   "outputs": [
    {
     "data": {
      "text/plain": [
       "[0, 1, 2, 3, 4, 5, 6, 7, 8, 9, 10, 11, 12, 13, 14, 15, 16, 17, 18, 19]"
      ]
     },
     "execution_count": 9,
     "metadata": {},
     "output_type": "execute_result"
    }
   ],
   "source": [
    "terminal_df = w[w.type=='terminal']\n",
    "depot_df = w[w.type=='depot']\n",
    "\n",
    "terminals = [r.id for i, r in terminal_df.iterrows()]\n",
    "depots = [r.id for i, r in depot_df.iterrows()]\n",
    "\n",
    "depots"
   ]
  },
  {
   "cell_type": "code",
   "execution_count": 20,
   "id": "78025b46-1283-42dd-a59c-ba75dd6c37ae",
   "metadata": {
    "execution": {
     "iopub.execute_input": "2022-09-23T06:28:35.821455Z",
     "iopub.status.busy": "2022-09-23T06:28:35.821455Z",
     "iopub.status.idle": "2022-09-23T06:28:35.838411Z",
     "shell.execute_reply": "2022-09-23T06:28:35.838411Z",
     "shell.execute_reply.started": "2022-09-23T06:28:35.821455Z"
    },
    "tags": []
   },
   "outputs": [
    {
     "data": {
      "text/plain": [
       "[17355.71904935039,\n",
       " 3892.3573955943707,\n",
       " 18029.849691592917,\n",
       " 3750.281401231461,\n",
       " 14423.896337114571]"
      ]
     },
     "execution_count": 20,
     "metadata": {},
     "output_type": "execute_result"
    }
   ],
   "source": [
    "# 获取d_ij\n",
    "with open('../data/parameter-dij.pkl', 'rb') as f:  # write binary\n",
    "    d = pickle.load(f)\n",
    "d[0][0:5]"
   ]
  },
  {
   "cell_type": "code",
   "execution_count": 25,
   "id": "a2abdb61-ad55-49aa-bb24-d16e52afbd4f",
   "metadata": {
    "execution": {
     "iopub.execute_input": "2022-09-23T06:38:25.005651Z",
     "iopub.status.busy": "2022-09-23T06:38:25.005651Z",
     "iopub.status.idle": "2022-09-23T06:38:25.020613Z",
     "shell.execute_reply": "2022-09-23T06:38:25.020613Z",
     "shell.execute_reply.started": "2022-09-23T06:38:25.005651Z"
    },
    "tags": []
   },
   "outputs": [],
   "source": [
    "M = 5\n",
    "Nj = 2"
   ]
  },
  {
   "cell_type": "markdown",
   "id": "71b96447-a5bd-4572-ba57-7c5aebbe6c91",
   "metadata": {},
   "source": [
    "# Gurobi建模"
   ]
  },
  {
   "cell_type": "code",
   "execution_count": 26,
   "id": "d3726258-a411-4a69-ae6d-a7430ebd2553",
   "metadata": {
    "execution": {
     "iopub.execute_input": "2022-09-23T06:40:31.808439Z",
     "iopub.status.busy": "2022-09-23T06:40:31.808439Z",
     "iopub.status.idle": "2022-09-23T06:40:32.169955Z",
     "shell.execute_reply": "2022-09-23T06:40:32.169955Z",
     "shell.execute_reply.started": "2022-09-23T06:40:31.808439Z"
    },
    "tags": []
   },
   "outputs": [
    {
     "name": "stdout",
     "output_type": "stream",
     "text": [
      "Set parameter Username\n",
      "Academic license - for non-commercial use only - expires 2023-07-26\n",
      "Set parameter TimeLimit to value 3600\n",
      "No parameters matching 'Gap' found\n",
      "Gurobi Optimizer version 9.5.1 build v9.5.1rc2 (win64)\n",
      "Thread count: 8 physical cores, 16 logical processors, using up to 16 threads\n",
      "Optimize a model with 15129 rows, 9940 columns and 39700 nonzeros\n",
      "Model fingerprint: 0x208f19a3\n",
      "Variable types: 0 continuous, 9940 integer (9940 binary)\n",
      "Coefficient statistics:\n",
      "  Matrix range     [1e+00, 1e+00]\n",
      "  Objective range  [2e+00, 2e+05]\n",
      "  Bounds range     [1e+00, 1e+00]\n",
      "  RHS range        [1e+00, 5e+00]\n",
      "Found heuristic solution: objective 1.329409e+07\n",
      "Presolve removed 9920 rows and 4960 columns\n",
      "Presolve time: 0.04s\n",
      "Presolved: 5209 rows, 4980 columns, 14900 nonzeros\n",
      "Variable types: 0 continuous, 4980 integer (4980 binary)\n",
      "Found heuristic solution: objective 8315704.1033\n",
      "\n",
      "Root relaxation: objective 4.157040e+06, 1316 iterations, 0.03 seconds (0.04 work units)\n",
      "\n",
      "    Nodes    |    Current Node    |     Objective Bounds      |     Work\n",
      " Expl Unexpl |  Obj  Depth IntInf | Incumbent    BestBd   Gap | It/Node Time\n",
      "\n",
      "*    0     0               0    4157039.8335 4157039.83  0.00%     -    0s\n",
      "\n",
      "Explored 1 nodes (1316 simplex iterations) in 0.10 seconds (0.08 work units)\n",
      "Thread count was 16 (of 16 available processors)\n",
      "\n",
      "Solution count 3: 4.15704e+06 8.3157e+06 1.32941e+07 \n",
      "\n",
      "Optimal solution found (tolerance 1.00e-04)\n",
      "Best objective 4.157039833469e+06, best bound 4.157039833469e+06, gap 0.0000%\n"
     ]
    }
   ],
   "source": [
    "m = gp.Model()\n",
    "\n",
    "m.Params.Timelimit = 3600\n",
    "m.Params.Gap = 0\n",
    "\n",
    "x = m.addVars(depots, vtype=GRB.BINARY, name='x')\n",
    "y = m.addVars([(i,j) for i in depots for j in terminals], vtype=GRB.BINARY, name='y')\n",
    "z = m.addVars([(i,j) for i in depots for j in terminals], vtype=GRB.BINARY, name='z')\n",
    "\n",
    "m.addConstrs((z.sum('*', j)==1 for j in terminals))\n",
    "m.addConstr(x.sum()==M)\n",
    "m.addConstrs((z[i,j]<=x[i] for i in depots for j in terminals))\n",
    "m.addConstrs((z[i,j]<=y[i,j] for i in depots for j in terminals))\n",
    "m.addConstrs((z[i,j]>=x[i]+y[i,j]-1 for i in depots for j in terminals))\n",
    "\n",
    "m.setObjective(2*quicksum([z[i,j]*d[i][j]*Nj for i in depots for j in terminals]),\n",
    "              sense=GRB.MINIMIZE)\n",
    "\n",
    "m.optimize()"
   ]
  },
  {
   "cell_type": "code",
   "execution_count": 28,
   "id": "d6445a95-3d1f-430a-8d69-2b0721e62215",
   "metadata": {
    "execution": {
     "iopub.execute_input": "2022-09-23T06:41:41.312737Z",
     "iopub.status.busy": "2022-09-23T06:41:41.311740Z",
     "iopub.status.idle": "2022-09-23T06:41:41.323221Z",
     "shell.execute_reply": "2022-09-23T06:41:41.323221Z",
     "shell.execute_reply.started": "2022-09-23T06:41:41.312737Z"
    },
    "tags": []
   },
   "outputs": [
    {
     "data": {
      "text/plain": [
       "4157.039833469444"
      ]
     },
     "execution_count": 28,
     "metadata": {},
     "output_type": "execute_result"
    }
   ],
   "source": [
    "m.ObjVal / 1000.0"
   ]
  },
  {
   "cell_type": "markdown",
   "id": "0ddd03a1-6d16-41e9-89bc-cf28f52ed4b9",
   "metadata": {},
   "source": [
    "# 最优结果提取"
   ]
  },
  {
   "cell_type": "code",
   "execution_count": 35,
   "id": "5c45e774-3d44-4c7f-9549-cb6a48ea00fd",
   "metadata": {
    "execution": {
     "iopub.execute_input": "2022-09-23T06:55:10.332061Z",
     "iopub.status.busy": "2022-09-23T06:55:10.332061Z",
     "iopub.status.idle": "2022-09-23T06:55:10.340229Z",
     "shell.execute_reply": "2022-09-23T06:55:10.340229Z",
     "shell.execute_reply.started": "2022-09-23T06:55:10.332061Z"
    },
    "tags": []
   },
   "outputs": [
    {
     "data": {
      "text/plain": [
       "[(0, 1.0), (1, 1.0), (2, 1.0), (14, 1.0), (19, 1.0)]"
      ]
     },
     "execution_count": 35,
     "metadata": {},
     "output_type": "execute_result"
    }
   ],
   "source": [
    "selected_depots = [(i, m.getVarByName('x[{}]'.format(i)).x) for i in depots]\n",
    "selected_depots = [i for i in selected_depots if i[1]>0]\n",
    "selected_depots"
   ]
  },
  {
   "cell_type": "code",
   "execution_count": 39,
   "id": "b478bed5-17de-43eb-8e1d-3f7d8d1cce8c",
   "metadata": {
    "execution": {
     "iopub.execute_input": "2022-09-23T07:01:19.099125Z",
     "iopub.status.busy": "2022-09-23T07:01:19.099125Z",
     "iopub.status.idle": "2022-09-23T07:01:19.124058Z",
     "shell.execute_reply": "2022-09-23T07:01:19.124058Z",
     "shell.execute_reply.started": "2022-09-23T07:01:19.099125Z"
    },
    "tags": []
   },
   "outputs": [
    {
     "data": {
      "text/plain": [
       "[(0, 1, 1.0), (0, 3, 1.0), (0, 14, 1.0), (0, 17, 1.0), (0, 23, 1.0)]"
      ]
     },
     "execution_count": 39,
     "metadata": {},
     "output_type": "execute_result"
    }
   ],
   "source": [
    "terminal_assign = [(i, j, m.getVarByName('y[{},{}]'.format(i,j)).x) for i in depots for j in terminals]\n",
    "terminal_assign = [i for i in terminal_assign if i[2]>0]\n",
    "terminal_assign[0:5]"
   ]
  },
  {
   "cell_type": "code",
   "execution_count": null,
   "id": "3be3efa5-2f86-4b02-8d40-8dcf7b350a4f",
   "metadata": {},
   "outputs": [],
   "source": []
  },
  {
   "cell_type": "markdown",
   "id": "3deb81ed-9e19-45f4-b8ee-4ca9aceb5271",
   "metadata": {},
   "source": [
    "# 作业，将优化结果可视化"
   ]
  },
  {
   "cell_type": "code",
   "execution_count": null,
   "id": "8de23b0e-f219-41aa-a888-be50f346f3e4",
   "metadata": {},
   "outputs": [],
   "source": []
  },
  {
   "cell_type": "code",
   "execution_count": null,
   "id": "6cd96d7b-b9bb-4001-af8d-50474acd10a0",
   "metadata": {},
   "outputs": [],
   "source": []
  },
  {
   "cell_type": "code",
   "execution_count": null,
   "id": "e5128269-7b5f-4354-a60e-387265cb24da",
   "metadata": {},
   "outputs": [],
   "source": []
  },
  {
   "cell_type": "code",
   "execution_count": null,
   "id": "916f2ede-e275-48e9-aaaa-5f1e3bc27f73",
   "metadata": {},
   "outputs": [],
   "source": []
  },
  {
   "cell_type": "code",
   "execution_count": null,
   "id": "d436e09c-2b3b-4bb0-9ba3-2532563c4bf9",
   "metadata": {},
   "outputs": [],
   "source": []
  },
  {
   "cell_type": "code",
   "execution_count": null,
   "id": "f621151b-858c-4dd5-b8ef-ab250f184c69",
   "metadata": {},
   "outputs": [],
   "source": []
  },
  {
   "cell_type": "code",
   "execution_count": null,
   "id": "3b1c4c4b-d2cf-4c71-9b64-1cfb3dfd7c3e",
   "metadata": {},
   "outputs": [],
   "source": []
  }
 ],
 "metadata": {
  "kernelspec": {
   "display_name": "Python 3 (ipykernel)",
   "language": "python",
   "name": "python3"
  },
  "language_info": {
   "codemirror_mode": {
    "name": "ipython",
    "version": 3
   },
   "file_extension": ".py",
   "mimetype": "text/x-python",
   "name": "python",
   "nbconvert_exporter": "python",
   "pygments_lexer": "ipython3",
   "version": "3.9.12"
  }
 },
 "nbformat": 4,
 "nbformat_minor": 5
}
