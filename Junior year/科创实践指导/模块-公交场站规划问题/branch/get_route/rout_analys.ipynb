{
 "cells": [
  {
   "cell_type": "code",
   "execution_count": 1,
   "id": "e003e3fe",
   "metadata": {
    "execution": {
     "iopub.execute_input": "2022-09-11T13:21:32.903694Z",
     "iopub.status.busy": "2022-09-11T13:21:32.902696Z",
     "iopub.status.idle": "2022-09-11T13:21:33.762398Z",
     "shell.execute_reply": "2022-09-11T13:21:33.761548Z",
     "shell.execute_reply.started": "2022-09-11T13:21:32.903694Z"
    }
   },
   "outputs": [],
   "source": [
    "import pandas as pd\n",
    "from line_path import data\n",
    "import numpy as np\n",
    "import random"
   ]
  },
  {
   "cell_type": "code",
   "execution_count": 2,
   "id": "b3c0b754",
   "metadata": {
    "execution": {
     "iopub.execute_input": "2022-09-11T13:21:35.117469Z",
     "iopub.status.busy": "2022-09-11T13:21:35.117469Z",
     "iopub.status.idle": "2022-09-11T13:21:35.128439Z",
     "shell.execute_reply": "2022-09-11T13:21:35.128439Z",
     "shell.execute_reply.started": "2022-09-11T13:21:35.117469Z"
    }
   },
   "outputs": [],
   "source": [
    "line_info = []\n",
    "\n",
    "for line, points in data.items():\n",
    "    for points in points:\n",
    "        line_info.append([line,*points])"
   ]
  },
  {
   "cell_type": "code",
   "execution_count": 3,
   "id": "a5eadf2c",
   "metadata": {
    "execution": {
     "iopub.execute_input": "2022-09-11T13:21:37.429859Z",
     "iopub.status.busy": "2022-09-11T13:21:37.429859Z",
     "iopub.status.idle": "2022-09-11T13:21:37.450802Z",
     "shell.execute_reply": "2022-09-11T13:21:37.450802Z",
     "shell.execute_reply.started": "2022-09-11T13:21:37.429859Z"
    }
   },
   "outputs": [
    {
     "data": {
      "text/plain": [
       "[['150路', 104.132192, 30.711697],\n",
       " ['150路', 104.132648, 30.711576],\n",
       " ['150路', 104.132721, 30.711536],\n",
       " ['150路', 104.132778, 30.711493],\n",
       " ['150路', 104.132826, 30.711424]]"
      ]
     },
     "execution_count": 3,
     "metadata": {},
     "output_type": "execute_result"
    }
   ],
   "source": [
    "line_info[0:5]"
   ]
  },
  {
   "cell_type": "code",
   "execution_count": 4,
   "id": "15a2b59d",
   "metadata": {
    "execution": {
     "iopub.execute_input": "2022-09-11T13:21:39.456342Z",
     "iopub.status.busy": "2022-09-11T13:21:39.455344Z",
     "iopub.status.idle": "2022-09-11T13:21:39.481275Z",
     "shell.execute_reply": "2022-09-11T13:21:39.481275Z",
     "shell.execute_reply.started": "2022-09-11T13:21:39.456342Z"
    }
   },
   "outputs": [
    {
     "data": {
      "text/html": [
       "<div>\n",
       "<style scoped>\n",
       "    .dataframe tbody tr th:only-of-type {\n",
       "        vertical-align: middle;\n",
       "    }\n",
       "\n",
       "    .dataframe tbody tr th {\n",
       "        vertical-align: top;\n",
       "    }\n",
       "\n",
       "    .dataframe thead th {\n",
       "        text-align: right;\n",
       "    }\n",
       "</style>\n",
       "<table border=\"1\" class=\"dataframe\">\n",
       "  <thead>\n",
       "    <tr style=\"text-align: right;\">\n",
       "      <th></th>\n",
       "      <th>line</th>\n",
       "      <th>lng</th>\n",
       "      <th>lat</th>\n",
       "    </tr>\n",
       "  </thead>\n",
       "  <tbody>\n",
       "    <tr>\n",
       "      <th>0</th>\n",
       "      <td>150路</td>\n",
       "      <td>104.132192</td>\n",
       "      <td>30.711697</td>\n",
       "    </tr>\n",
       "    <tr>\n",
       "      <th>1</th>\n",
       "      <td>150路</td>\n",
       "      <td>104.132648</td>\n",
       "      <td>30.711576</td>\n",
       "    </tr>\n",
       "    <tr>\n",
       "      <th>2</th>\n",
       "      <td>150路</td>\n",
       "      <td>104.132721</td>\n",
       "      <td>30.711536</td>\n",
       "    </tr>\n",
       "    <tr>\n",
       "      <th>3</th>\n",
       "      <td>150路</td>\n",
       "      <td>104.132778</td>\n",
       "      <td>30.711493</td>\n",
       "    </tr>\n",
       "    <tr>\n",
       "      <th>4</th>\n",
       "      <td>150路</td>\n",
       "      <td>104.132826</td>\n",
       "      <td>30.711424</td>\n",
       "    </tr>\n",
       "  </tbody>\n",
       "</table>\n",
       "</div>"
      ],
      "text/plain": [
       "   line         lng        lat\n",
       "0  150路  104.132192  30.711697\n",
       "1  150路  104.132648  30.711576\n",
       "2  150路  104.132721  30.711536\n",
       "3  150路  104.132778  30.711493\n",
       "4  150路  104.132826  30.711424"
      ]
     },
     "execution_count": 4,
     "metadata": {},
     "output_type": "execute_result"
    }
   ],
   "source": [
    "s = pd.DataFrame(line_info,columns=['line','lng','lat'])\n",
    "s.head()"
   ]
  },
  {
   "cell_type": "code",
   "execution_count": 5,
   "id": "660e2d56",
   "metadata": {
    "execution": {
     "iopub.execute_input": "2022-09-11T13:21:41.275293Z",
     "iopub.status.busy": "2022-09-11T13:21:41.275293Z",
     "iopub.status.idle": "2022-09-11T13:21:41.290255Z",
     "shell.execute_reply": "2022-09-11T13:21:41.289256Z",
     "shell.execute_reply.started": "2022-09-11T13:21:41.275293Z"
    }
   },
   "outputs": [],
   "source": [
    "OD = []\n",
    "\n",
    "for line in data:\n",
    "    path = data[line]\n",
    "    start_lng, start_lat = path[0]\n",
    "    end_lng, end_lat = path[-1]\n",
    "    \n",
    "    OD.append([line,start_lng, start_lat,'O'])\n",
    "    OD.append([line,end_lng, end_lat,'D'])"
   ]
  },
  {
   "cell_type": "code",
   "execution_count": 6,
   "id": "a66ea067",
   "metadata": {
    "execution": {
     "iopub.execute_input": "2022-09-11T13:21:43.564576Z",
     "iopub.status.busy": "2022-09-11T13:21:43.563580Z",
     "iopub.status.idle": "2022-09-11T13:21:43.578539Z",
     "shell.execute_reply": "2022-09-11T13:21:43.577542Z",
     "shell.execute_reply.started": "2022-09-11T13:21:43.564576Z"
    }
   },
   "outputs": [
    {
     "data": {
      "text/plain": [
       "[['150路', 104.132192, 30.711697, 'O'],\n",
       " ['150路', 104.101897, 30.710647, 'D'],\n",
       " ['151路', 104.040253, 30.653238, 'O'],\n",
       " ['151路', 103.976888, 30.600972, 'D'],\n",
       " ['153路', 104.042038, 30.640364, 'O']]"
      ]
     },
     "execution_count": 6,
     "metadata": {},
     "output_type": "execute_result"
    }
   ],
   "source": [
    "OD[0:5]"
   ]
  },
  {
   "cell_type": "code",
   "execution_count": 7,
   "id": "a7815bc5",
   "metadata": {
    "execution": {
     "iopub.execute_input": "2022-09-11T13:21:45.253447Z",
     "iopub.status.busy": "2022-09-11T13:21:45.253447Z",
     "iopub.status.idle": "2022-09-11T13:21:45.267441Z",
     "shell.execute_reply": "2022-09-11T13:21:45.267441Z",
     "shell.execute_reply.started": "2022-09-11T13:21:45.253447Z"
    }
   },
   "outputs": [
    {
     "data": {
      "text/plain": [
       "[['194路', 104.030006, 30.615915, 'O'],\n",
       " ['259路', 104.103368, 30.547144, 'D'],\n",
       " ['247路', 104.078329, 30.616545, 'D'],\n",
       " ['173路', 103.920105, 30.802135, 'D'],\n",
       " ['208路', 103.980525, 30.612064, 'O']]"
      ]
     },
     "execution_count": 7,
     "metadata": {},
     "output_type": "execute_result"
    }
   ],
   "source": [
    "random.seed(3)\n",
    "depots = random.sample(OD,20)\n",
    "depots[0:5]"
   ]
  },
  {
   "cell_type": "code",
   "execution_count": 8,
   "id": "41d70608",
   "metadata": {
    "execution": {
     "iopub.execute_input": "2022-09-11T13:21:47.016946Z",
     "iopub.status.busy": "2022-09-11T13:21:47.016946Z",
     "iopub.status.idle": "2022-09-11T13:21:47.035892Z",
     "shell.execute_reply": "2022-09-11T13:21:47.034896Z",
     "shell.execute_reply.started": "2022-09-11T13:21:47.016946Z"
    }
   },
   "outputs": [
    {
     "data": {
      "text/html": [
       "<div>\n",
       "<style scoped>\n",
       "    .dataframe tbody tr th:only-of-type {\n",
       "        vertical-align: middle;\n",
       "    }\n",
       "\n",
       "    .dataframe tbody tr th {\n",
       "        vertical-align: top;\n",
       "    }\n",
       "\n",
       "    .dataframe thead th {\n",
       "        text-align: right;\n",
       "    }\n",
       "</style>\n",
       "<table border=\"1\" class=\"dataframe\">\n",
       "  <thead>\n",
       "    <tr style=\"text-align: right;\">\n",
       "      <th></th>\n",
       "      <th>line</th>\n",
       "      <th>lng</th>\n",
       "      <th>lat</th>\n",
       "      <th>type</th>\n",
       "      <th>id</th>\n",
       "    </tr>\n",
       "  </thead>\n",
       "  <tbody>\n",
       "    <tr>\n",
       "      <th>0</th>\n",
       "      <td>194路</td>\n",
       "      <td>104.030006</td>\n",
       "      <td>30.615915</td>\n",
       "      <td>depot</td>\n",
       "      <td>0</td>\n",
       "    </tr>\n",
       "    <tr>\n",
       "      <th>1</th>\n",
       "      <td>259路</td>\n",
       "      <td>104.103368</td>\n",
       "      <td>30.547144</td>\n",
       "      <td>depot</td>\n",
       "      <td>1</td>\n",
       "    </tr>\n",
       "    <tr>\n",
       "      <th>2</th>\n",
       "      <td>247路</td>\n",
       "      <td>104.078329</td>\n",
       "      <td>30.616545</td>\n",
       "      <td>depot</td>\n",
       "      <td>2</td>\n",
       "    </tr>\n",
       "    <tr>\n",
       "      <th>3</th>\n",
       "      <td>173路</td>\n",
       "      <td>103.920105</td>\n",
       "      <td>30.802135</td>\n",
       "      <td>depot</td>\n",
       "      <td>3</td>\n",
       "    </tr>\n",
       "    <tr>\n",
       "      <th>4</th>\n",
       "      <td>208路</td>\n",
       "      <td>103.980525</td>\n",
       "      <td>30.612064</td>\n",
       "      <td>depot</td>\n",
       "      <td>4</td>\n",
       "    </tr>\n",
       "  </tbody>\n",
       "</table>\n",
       "</div>"
      ],
      "text/plain": [
       "   line         lng        lat   type  id\n",
       "0  194路  104.030006  30.615915  depot   0\n",
       "1  259路  104.103368  30.547144  depot   1\n",
       "2  247路  104.078329  30.616545  depot   2\n",
       "3  173路  103.920105  30.802135  depot   3\n",
       "4  208路  103.980525  30.612064  depot   4"
      ]
     },
     "execution_count": 8,
     "metadata": {},
     "output_type": "execute_result"
    }
   ],
   "source": [
    "df1 = pd.DataFrame(OD, columns=['line','lng','lat','type'])\n",
    "df2 = pd.DataFrame(depots, columns=['line','lng','lat','type'])\n",
    "\n",
    "df2['type'] = 'depot'\n",
    "df = pd.concat([df2,df1])\n",
    "df['id'] = range(len(df))\n",
    "df.head()"
   ]
  },
  {
   "cell_type": "code",
   "execution_count": 9,
   "id": "6fd1a2a2",
   "metadata": {
    "execution": {
     "iopub.execute_input": "2022-09-11T13:21:50.026183Z",
     "iopub.status.busy": "2022-09-11T13:21:50.026183Z",
     "iopub.status.idle": "2022-09-11T13:21:50.091007Z",
     "shell.execute_reply": "2022-09-11T13:21:50.091007Z",
     "shell.execute_reply.started": "2022-09-11T13:21:50.026183Z"
    }
   },
   "outputs": [],
   "source": [
    "s.to_csv('..//data//line_path.csv',index=0)\n",
    "df.to_csv('..//data//terminal-and-depots.csv',index=0)"
   ]
  }
 ],
 "metadata": {
  "kernelspec": {
   "display_name": "Python 3 (ipykernel)",
   "language": "python",
   "name": "python3"
  },
  "language_info": {
   "codemirror_mode": {
    "name": "ipython",
    "version": 3
   },
   "file_extension": ".py",
   "mimetype": "text/x-python",
   "name": "python",
   "nbconvert_exporter": "python",
   "pygments_lexer": "ipython3",
   "version": "3.9.7"
  }
 },
 "nbformat": 4,
 "nbformat_minor": 5
}
