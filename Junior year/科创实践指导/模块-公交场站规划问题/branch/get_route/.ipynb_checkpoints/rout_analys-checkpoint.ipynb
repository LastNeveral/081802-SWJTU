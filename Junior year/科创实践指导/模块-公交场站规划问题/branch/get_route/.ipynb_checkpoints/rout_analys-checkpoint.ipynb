{
 "cells": [
  {
   "cell_type": "code",
   "execution_count": 2,
   "id": "20ee1024",
   "metadata": {
    "execution": {
     "iopub.execute_input": "2022-09-09T09:13:26.031765Z",
     "iopub.status.busy": "2022-09-09T09:13:26.031765Z",
     "iopub.status.idle": "2022-09-09T09:13:26.116635Z",
     "shell.execute_reply": "2022-09-09T09:13:26.115819Z",
     "shell.execute_reply.started": "2022-09-09T09:13:26.031765Z"
    }
   },
   "outputs": [],
   "source": [
    "import pandas as pd\n",
    "from line_path import data\n",
    "import numpy as np"
   ]
  },
  {
   "cell_type": "code",
   "execution_count": 4,
   "id": "4a0d3541",
   "metadata": {
    "execution": {
     "iopub.execute_input": "2022-09-09T09:16:49.461383Z",
     "iopub.status.busy": "2022-09-09T09:16:49.460386Z",
     "iopub.status.idle": "2022-09-09T09:16:49.481075Z",
     "shell.execute_reply": "2022-09-09T09:16:49.481075Z",
     "shell.execute_reply.started": "2022-09-09T09:16:49.461383Z"
    }
   },
   "outputs": [],
   "source": [
    "line_info = []\n",
    "\n",
    "for line, points in data.items():\n",
    "    for points in points:\n",
    "        line_info.append([line,*points])"
   ]
  },
  {
   "cell_type": "code",
   "execution_count": 7,
   "id": "8e86ec82",
   "metadata": {
    "execution": {
     "iopub.execute_input": "2022-09-09T09:17:07.880204Z",
     "iopub.status.busy": "2022-09-09T09:17:07.879206Z",
     "iopub.status.idle": "2022-09-09T09:17:07.902146Z",
     "shell.execute_reply": "2022-09-09T09:17:07.902146Z",
     "shell.execute_reply.started": "2022-09-09T09:17:07.880204Z"
    }
   },
   "outputs": [
    {
     "data": {
      "text/plain": [
       "[['160路', 104.001988, 30.582374],\n",
       " ['160路', 104.001793, 30.582326],\n",
       " ['160路', 104.001007, 30.582122],\n",
       " ['160路', 104.000621, 30.582023],\n",
       " ['160路', 103.999939, 30.581858]]"
      ]
     },
     "execution_count": 7,
     "metadata": {},
     "output_type": "execute_result"
    }
   ],
   "source": [
    "line_info[0:5]"
   ]
  },
  {
   "cell_type": "code",
   "execution_count": 8,
   "id": "9b7066bc",
   "metadata": {
    "execution": {
     "iopub.execute_input": "2022-09-09T09:21:37.690167Z",
     "iopub.status.busy": "2022-09-09T09:21:37.690167Z",
     "iopub.status.idle": "2022-09-09T09:21:37.697150Z",
     "shell.execute_reply": "2022-09-09T09:21:37.696183Z",
     "shell.execute_reply.started": "2022-09-09T09:21:37.690167Z"
    }
   },
   "outputs": [],
   "source": [
    "OD = []\n",
    "\n",
    "for line in data:\n",
    "    path = data[line]\n",
    "    start_lng, start_lat = path[0]\n",
    "    end_lng, end_lat = path[-1]\n",
    "    \n",
    "    OD.append([line,start_lng, start_lat,'O'])\n",
    "    OD.append([line,end_lng, end_lat,'D'])"
   ]
  },
  {
   "cell_type": "code",
   "execution_count": 9,
   "id": "e1a3e147",
   "metadata": {
    "execution": {
     "iopub.execute_input": "2022-09-09T09:21:56.642769Z",
     "iopub.status.busy": "2022-09-09T09:21:56.642769Z",
     "iopub.status.idle": "2022-09-09T09:21:56.650747Z",
     "shell.execute_reply": "2022-09-09T09:21:56.649750Z",
     "shell.execute_reply.started": "2022-09-09T09:21:56.642769Z"
    }
   },
   "outputs": [
    {
     "data": {
      "text/plain": [
       "[['160路', 104.001988, 30.582374, 'O'],\n",
       " ['160路', 103.982448, 30.598368, 'D'],\n",
       " ['153路', 104.042038, 30.640364, 'O'],\n",
       " ['153路', 104.075615, 30.591881, 'D'],\n",
       " ['151路', 104.040253, 30.653238, 'O']]"
      ]
     },
     "execution_count": 9,
     "metadata": {},
     "output_type": "execute_result"
    }
   ],
   "source": [
    "OD[0:5]"
   ]
  },
  {
   "cell_type": "code",
   "execution_count": null,
   "id": "d58c9e20",
   "metadata": {},
   "outputs": [],
   "source": []
  }
 ],
 "metadata": {
  "kernelspec": {
   "display_name": "Python 3 (ipykernel)",
   "language": "python",
   "name": "python3"
  },
  "language_info": {
   "codemirror_mode": {
    "name": "ipython",
    "version": 3
   },
   "file_extension": ".py",
   "mimetype": "text/x-python",
   "name": "python",
   "nbconvert_exporter": "python",
   "pygments_lexer": "ipython3",
   "version": "3.9.7"
  }
 },
 "nbformat": 4,
 "nbformat_minor": 5
}
