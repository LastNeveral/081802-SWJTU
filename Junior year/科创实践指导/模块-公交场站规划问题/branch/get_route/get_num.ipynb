{
 "cells": [
  {
   "cell_type": "code",
   "execution_count": 1,
   "id": "0493650b",
   "metadata": {
    "execution": {
     "iopub.execute_input": "2022-09-11T13:13:27.344344Z",
     "iopub.status.busy": "2022-09-11T13:13:27.344344Z",
     "iopub.status.idle": "2022-09-11T13:13:27.965682Z",
     "shell.execute_reply": "2022-09-11T13:13:27.964777Z",
     "shell.execute_reply.started": "2022-09-11T13:13:27.344344Z"
    }
   },
   "outputs": [],
   "source": [
    "import pandas as pd\n",
    "import numpy as np"
   ]
  },
  {
   "cell_type": "code",
   "execution_count": 2,
   "id": "0639c57e",
   "metadata": {
    "execution": {
     "iopub.execute_input": "2022-09-11T13:13:30.564731Z",
     "iopub.status.busy": "2022-09-11T13:13:30.564731Z",
     "iopub.status.idle": "2022-09-11T13:13:38.411806Z",
     "shell.execute_reply": "2022-09-11T13:13:38.410949Z",
     "shell.execute_reply.started": "2022-09-11T13:13:30.564731Z"
    }
   },
   "outputs": [],
   "source": [
    "data = pd.read_excel('..\\\\支线公交线路列表.xlsx')"
   ]
  },
  {
   "cell_type": "code",
   "execution_count": 3,
   "id": "bd85a1c0",
   "metadata": {
    "execution": {
     "iopub.execute_input": "2022-09-11T13:13:39.113145Z",
     "iopub.status.busy": "2022-09-11T13:13:39.113145Z",
     "iopub.status.idle": "2022-09-11T13:13:39.142067Z",
     "shell.execute_reply": "2022-09-11T13:13:39.141070Z",
     "shell.execute_reply.started": "2022-09-11T13:13:39.113145Z"
    }
   },
   "outputs": [
    {
     "data": {
      "text/html": [
       "<div>\n",
       "<style scoped>\n",
       "    .dataframe tbody tr th:only-of-type {\n",
       "        vertical-align: middle;\n",
       "    }\n",
       "\n",
       "    .dataframe tbody tr th {\n",
       "        vertical-align: top;\n",
       "    }\n",
       "\n",
       "    .dataframe thead th {\n",
       "        text-align: right;\n",
       "    }\n",
       "</style>\n",
       "<table border=\"1\" class=\"dataframe\">\n",
       "  <thead>\n",
       "    <tr style=\"text-align: right;\">\n",
       "      <th></th>\n",
       "      <th>线路编号</th>\n",
       "      <th>起讫站</th>\n",
       "      <th>运营公司</th>\n",
       "      <th>首班车时间</th>\n",
       "      <th>末班车时间</th>\n",
       "      <th>备注</th>\n",
       "    </tr>\n",
       "  </thead>\n",
       "  <tbody>\n",
       "    <tr>\n",
       "      <th>0</th>\n",
       "      <td>NaN</td>\n",
       "      <td>NaN</td>\n",
       "      <td>NaN</td>\n",
       "      <td>NaN</td>\n",
       "      <td>NaN</td>\n",
       "      <td>NaN</td>\n",
       "    </tr>\n",
       "    <tr>\n",
       "      <th>1</th>\n",
       "      <td>150</td>\n",
       "      <td>荆翠东路 ↔ 动物园公交站</td>\n",
       "      <td>成都公交集团北星公司</td>\n",
       "      <td>06:30:00</td>\n",
       "      <td>22:00:00</td>\n",
       "      <td>06:30-07:00次卡免费</td>\n",
       "    </tr>\n",
       "    <tr>\n",
       "      <th>2</th>\n",
       "      <td>151</td>\n",
       "      <td>西部鞋都 ↔ 百花中心站</td>\n",
       "      <td>成都公交集团运兴公司</td>\n",
       "      <td>06:30:00</td>\n",
       "      <td>20:30:00</td>\n",
       "      <td>06:30-07:00次卡免费</td>\n",
       "    </tr>\n",
       "    <tr>\n",
       "      <th>3</th>\n",
       "      <td>153</td>\n",
       "      <td>天长路中 ↔ 地铁高升桥站</td>\n",
       "      <td>成都公交集团星辰公司</td>\n",
       "      <td>06:30:00</td>\n",
       "      <td>22:00:00</td>\n",
       "      <td>06:30-07:00次卡免费</td>\n",
       "    </tr>\n",
       "    <tr>\n",
       "      <th>4</th>\n",
       "      <td>154</td>\n",
       "      <td>华兴街 ↔ 荷花池公交站</td>\n",
       "      <td>成都公交集团北星公司</td>\n",
       "      <td>07:30:00</td>\n",
       "      <td>20:20:00</td>\n",
       "      <td>NaN</td>\n",
       "    </tr>\n",
       "  </tbody>\n",
       "</table>\n",
       "</div>"
      ],
      "text/plain": [
       "  线路编号            起讫站        运营公司     首班车时间     末班车时间               备注\n",
       "0  NaN            NaN         NaN       NaN       NaN              NaN\n",
       "1  150  荆翠东路 ↔ 动物园公交站  成都公交集团北星公司  06:30:00  22:00:00  06:30-07:00次卡免费\n",
       "2  151   西部鞋都 ↔ 百花中心站  成都公交集团运兴公司  06:30:00  20:30:00  06:30-07:00次卡免费\n",
       "3  153  天长路中 ↔ 地铁高升桥站  成都公交集团星辰公司  06:30:00  22:00:00  06:30-07:00次卡免费\n",
       "4  154   华兴街 ↔ 荷花池公交站  成都公交集团北星公司  07:30:00  20:20:00              NaN"
      ]
     },
     "execution_count": 3,
     "metadata": {},
     "output_type": "execute_result"
    }
   ],
   "source": [
    "data.head()"
   ]
  },
  {
   "cell_type": "code",
   "execution_count": 6,
   "id": "227bfe73",
   "metadata": {
    "execution": {
     "iopub.execute_input": "2022-09-11T13:17:01.474393Z",
     "iopub.status.busy": "2022-09-11T13:17:01.474393Z",
     "iopub.status.idle": "2022-09-11T13:17:02.056841Z",
     "shell.execute_reply": "2022-09-11T13:17:02.055980Z",
     "shell.execute_reply.started": "2022-09-11T13:17:01.474393Z"
    }
   },
   "outputs": [
    {
     "name": "stdout",
     "output_type": "stream",
     "text": [
      "102\n"
     ]
    }
   ],
   "source": [
    "data = data.dropna(subset=['线路编号', '起讫站','运营公司','首班车时间','末班车时间'])\n",
    "print(len(data))"
   ]
  },
  {
   "cell_type": "code",
   "execution_count": 7,
   "id": "94641b3b",
   "metadata": {
    "execution": {
     "iopub.execute_input": "2022-09-11T13:17:04.551848Z",
     "iopub.status.busy": "2022-09-11T13:17:04.550852Z",
     "iopub.status.idle": "2022-09-11T13:17:04.562024Z",
     "shell.execute_reply": "2022-09-11T13:17:04.561116Z",
     "shell.execute_reply.started": "2022-09-11T13:17:04.551848Z"
    }
   },
   "outputs": [
    {
     "data": {
      "text/plain": [
       "array([150, 151, 153, 154, 155, '156A/B', 158, 159, 160, 161, 162, 163,\n",
       "       164, 165, 166, 168, 170, '171A/B', 172, 173, 176, 177, 178, 179,\n",
       "       180, 181, 182, 184, 185, 186, 187, 188, 193, 194, 195, '195A', 196,\n",
       "       198, '198A', 199, 200, 201, 202, 203, '204A', 204, 205, 206, 207,\n",
       "       208, 209, '210A/B', 211, 212, 214, 215, 222, 224, '226A/B', 227,\n",
       "       228, 229, 230, 231, 232, '235A/B', 236, 237, 238, 239, '240A/B',\n",
       "       241, 242, 243, 245, 246, 247, 248, 249, 254, 256, 257, 258, 259,\n",
       "       260, 261, 263, 264, '264A', 265, 266, 267, 268, 269, 272, 273, 274,\n",
       "       275, 276, 279, '279A', 297], dtype=object)"
      ]
     },
     "execution_count": 7,
     "metadata": {},
     "output_type": "execute_result"
    }
   ],
   "source": [
    "data['线路编号'].values"
   ]
  }
 ],
 "metadata": {
  "kernelspec": {
   "display_name": "Python 3 (ipykernel)",
   "language": "python",
   "name": "python3"
  },
  "language_info": {
   "codemirror_mode": {
    "name": "ipython",
    "version": 3
   },
   "file_extension": ".py",
   "mimetype": "text/x-python",
   "name": "python",
   "nbconvert_exporter": "python",
   "pygments_lexer": "ipython3",
   "version": "3.9.7"
  }
 },
 "nbformat": 4,
 "nbformat_minor": 5
}
